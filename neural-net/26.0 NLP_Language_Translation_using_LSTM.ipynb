{
  "nbformat": 4,
  "nbformat_minor": 0,
  "metadata": {
    "colab": {
      "provenance": []
    },
    "kernelspec": {
      "name": "python3",
      "display_name": "Python 3"
    },
    "language_info": {
      "name": "python"
    },
    "accelerator": "GPU",
    "gpuClass": "standard"
  },
  "cells": [
    {
      "cell_type": "markdown",
      "source": [
        "#<b>Machine translation based on LSTM"
      ],
      "metadata": {
        "id": "qlOkgMUVn8xU"
      }
    },
    {
      "cell_type": "markdown",
      "source": [
        "## **Context**\n",
        "Machine translation (MT) is the process of translating text in one language to another language with the use of software by incorporating both computational and linguistic knowledge.<br></br>  NMT is a recently formulated method for automatic translation with the help of deep neural networks.  NMT uses a single large neural network for training. This structure comprised of encoder and decoder networks where the encoder consumes the input sentences to produce a vector representation, and the decoder takes this vector and outputs the target language words.Generally, both encoder and decoder networks are designed using the recurrent neural networks (RNN) or long short-term memory (LSTM) or gated recurrent unit (GRU) or bidirectional RNN, which are the alternatives to RNN. Even though RNN, especially LSTM, is theoretically proven for handling long-term dependencies in the sentences<br></br>\n",
        "Here, in this case study we use a simple RNN model combined with lstm nodes for our translation task."
      ],
      "metadata": {
        "id": "uiafIOQqhROs"
      }
    },
    {
      "cell_type": "markdown",
      "source": [
        "## **Downloading the Required Libraries**"
      ],
      "metadata": {
        "id": "S0j-El_oiqyA"
      }
    },
    {
      "cell_type": "code",
      "execution_count": null,
      "metadata": {
        "id": "9o_Oh8hqXhtb"
      },
      "outputs": [],
      "source": [
        "import numpy as np\n",
        "import tensorflow as tf\n",
        "from tensorflow import keras"
      ]
    },
    {
      "cell_type": "markdown",
      "source": [
        "## **Downloading the Required Dataset**"
      ],
      "metadata": {
        "id": "WtknTPTfiztn"
      }
    },
    {
      "cell_type": "code",
      "source": [
        "!!curl -O http://www.manythings.org/anki/fra-eng.zip\n",
        "!!unzip fra-eng.zip"
      ],
      "metadata": {
        "colab": {
          "base_uri": "https://localhost:8080/"
        },
        "id": "WER-LjulXk5q",
        "outputId": "7f421849-f9ba-4206-dd08-feb28faf7c3f"
      },
      "execution_count": null,
      "outputs": [
        {
          "output_type": "execute_result",
          "data": {
            "text/plain": [
              "['Archive:  fra-eng.zip',\n",
              " 'replace _about.txt? [y]es, [n]o, [A]ll, [N]one, [r]ename: y',\n",
              " '  inflating: _about.txt              ',\n",
              " 'replace fra.txt? [y]es, [n]o, [A]ll, [N]one, [r]ename: n']"
            ]
          },
          "metadata": {},
          "execution_count": 35
        }
      ]
    },
    {
      "cell_type": "markdown",
      "source": [
        "## **Setting Up Hyperparameters**"
      ],
      "metadata": {
        "id": "PRjiv4XIkpfT"
      }
    },
    {
      "cell_type": "code",
      "source": [
        "batch_size = 64  # Batch size for training.\n",
        "epochs = 100  # Number of epochs to train for.\n",
        "latent_dim = 256  # Latent dimensionality of the encoding space.\n",
        "num_samples = 10000  # Number of samples to train on.\n",
        "# Path to the data txt file on disk.\n",
        "data_path = \"fra.txt\""
      ],
      "metadata": {
        "id": "e5D-PyfAXv8W"
      },
      "execution_count": null,
      "outputs": []
    },
    {
      "cell_type": "code",
      "source": [
        "# Vectorizing the data and storing them in lists\n",
        "input_texts = []\n",
        "target_texts = []\n",
        "\n",
        "\n",
        "# Sets for Creating vocabulary of Input Characters\n",
        "input_characters = set()\n",
        "target_characters = set()\n",
        "\n",
        "\n",
        "# Reading File with utf-8 encoding\n",
        "with open(data_path, \"r\", encoding=\"utf-8\") as f:\n",
        "    lines = f.read().split(\"\\n\")\n",
        "\n",
        "# Separating input and target texts and storing themin different lists.\n",
        "for line in lines[: min(num_samples, len(lines) - 1)]:\n",
        "    input_text, target_text, _ = line.split(\"\\t\")\n",
        "    # We use \"tab\" as the \"start sequence\" character\n",
        "    # for the targets, and \"\\n\" as \"end sequence\" character.\n",
        "    target_text = \"\\t\" + target_text + \"\\n\"\n",
        "    input_texts.append(input_text)\n",
        "    target_texts.append(target_text)\n",
        "\n",
        "    # Adding Unique Characters to the Input Characters array to create vocabulary\n",
        "    for char in input_text:\n",
        "        if char not in input_characters:\n",
        "            input_characters.add(char)\n",
        "    for char in target_text:\n",
        "        if char not in target_characters:\n",
        "            target_characters.add(char)"
      ],
      "metadata": {
        "id": "cHbjCFHKXyCT"
      },
      "execution_count": null,
      "outputs": []
    },
    {
      "cell_type": "code",
      "source": [
        "input_characters = sorted(list(input_characters))\n",
        "target_characters = sorted(list(target_characters))\n",
        "num_encoder_tokens = len(input_characters)\n",
        "num_decoder_tokens = len(target_characters)\n",
        "max_encoder_seq_length = max([len(txt) for txt in input_texts])\n",
        "max_decoder_seq_length = max([len(txt) for txt in target_texts])\n",
        "\n",
        "print(\"Number of samples:\", len(input_texts))\n",
        "print(\"Number of unique input tokens:\", num_encoder_tokens)\n",
        "print(\"Number of unique output tokens:\", num_decoder_tokens)\n",
        "print(\"Max sequence length for inputs:\", max_encoder_seq_length)\n",
        "print(\"Max sequence length for outputs:\", max_decoder_seq_length)"
      ],
      "metadata": {
        "colab": {
          "base_uri": "https://localhost:8080/"
        },
        "id": "EWhu7YRhX3_R",
        "outputId": "e37e3adb-9e18-4158-e57e-ff3903d3f55a"
      },
      "execution_count": null,
      "outputs": [
        {
          "output_type": "stream",
          "name": "stdout",
          "text": [
            "Number of samples: 10000\n",
            "Number of unique input tokens: 71\n",
            "Number of unique output tokens: 93\n",
            "Max sequence length for inputs: 15\n",
            "Max sequence length for outputs: 59\n"
          ]
        }
      ]
    },
    {
      "cell_type": "markdown",
      "source": [
        "## **Tokenizing and Vectorizing the Text**\n",
        "\n",
        "Here we are building a Character level translation tool. So each token of our Input text shall be a charaxter and each token of the target text will be a French character. We therefore convert the input data into a three dimensional array. The first dimension consists of number of English to French pairs, the second dimension consists of the length of each sentence. ( Here, we are taking the length of each sentence to be the length of the longest sentence in each of these languages, and for sentences whose lengths are smaller than the highest length, we are padding them with the ' ' token or a blank space token). The third dimension has a length equal to number of unique characters in that particular language, as this vector is a one-hot encoded vector for English and French alphabets."
      ],
      "metadata": {
        "id": "q3ChQggrkySu"
      }
    },
    {
      "cell_type": "code",
      "source": [
        "# Creating array of zeros with mentioned shape \n",
        "input_token_index = dict([(char, i) for i, char in enumerate(input_characters)])\n",
        "target_token_index = dict([(char, i) for i, char in enumerate(target_characters)])\n",
        "\n",
        "encoder_input_data = np.zeros(\n",
        "    (len(input_texts), max_encoder_seq_length, num_encoder_tokens), dtype=\"float32\"\n",
        ")\n",
        "decoder_input_data = np.zeros(\n",
        "    (len(input_texts), max_decoder_seq_length, num_decoder_tokens), dtype=\"float32\"\n",
        ")\n",
        "decoder_target_data = np.zeros(\n",
        "    (len(input_texts), max_decoder_seq_length, num_decoder_tokens), dtype=\"float32\"\n",
        ")\n",
        "\n",
        "\n",
        "\n",
        "# Populating the arrays \n",
        "for i, (input_text, target_text) in enumerate(zip(input_texts, target_texts)):\n",
        "    for t, char in enumerate(input_text):\n",
        "        encoder_input_data[i, t, input_token_index[char]] = 1.0\n",
        "    encoder_input_data[i, t + 1 :, input_token_index[\" \"]] = 1.0 # From (t + 1)th time step, all characters are padded with a blank space character\n",
        "    for t, char in enumerate(target_text):\n",
        "        # decoder_target_data is ahead of decoder_input_data by one timestep\n",
        "        decoder_input_data[i, t, target_token_index[char]] = 1.0\n",
        "        if t > 0:\n",
        "            # decoder_target_data will be ahead by one timestep\n",
        "            # and will not include the start character.\n",
        "            decoder_target_data[i, t - 1, target_token_index[char]] = 1.0\n",
        "    decoder_input_data[i, t + 1 :, target_token_index[\" \"]] = 1.0\n",
        "    decoder_target_data[i, t:, target_token_index[\" \"]] = 1.0"
      ],
      "metadata": {
        "id": "-nED5H4uht8C"
      },
      "execution_count": null,
      "outputs": []
    },
    {
      "cell_type": "markdown",
      "source": [
        "## **Encoder and Decoder Architecture**\n",
        "\n",
        "The Architecture has two units, the Encoder LSTM blocks and the Decoder LSTM blocks. \n",
        "\n",
        "Theoretically in a Sequence to Sequence architecture, the output of the Decoder at one time step is used as an input for the next decoder time step. But during training, we are using the Ground Truth value for the input to the next decoder time step, so that our model learns better. This is called Teacher forcing.\n",
        "\n",
        "We shall however change this in the inference or the testing stage, where we shall use the more traditional method of using the output of previous decoder time step as the current input to predict the output character."
      ],
      "metadata": {
        "id": "nUnKmDnAl7Jp"
      }
    },
    {
      "cell_type": "markdown",
      "source": [
        "## **Building the Model**"
      ],
      "metadata": {
        "id": "v31VewsonBlv"
      }
    },
    {
      "cell_type": "code",
      "source": [
        "# Define an input sequence and process it.\n",
        "encoder_inputs = keras.Input(shape=(None, num_encoder_tokens))\n",
        "encoder = keras.layers.LSTM(latent_dim, return_state=True)\n",
        "encoder_outputs, state_h, state_c = encoder(encoder_inputs)\n",
        "\n",
        "# We discard `encoder_outputs` and only keep the states.\n",
        "encoder_states = [state_h, state_c]\n",
        "\n",
        "# Set up the decoder, using `encoder_states` as initial state.\n",
        "decoder_inputs = keras.Input(shape=(None, num_decoder_tokens))\n",
        "\n",
        "# We set up our decoder to return full output sequences,\n",
        "# and to return internal states as well. We don't use the\n",
        "# return states in the training model, but we will use them in inference.\n",
        "decoder_lstm = keras.layers.LSTM(latent_dim, return_sequences=True, return_state=True)\n",
        "decoder_outputs, _, _ = decoder_lstm(decoder_inputs, initial_state=encoder_states)\n",
        "decoder_dense = keras.layers.Dense(num_decoder_tokens, activation=\"softmax\")\n",
        "decoder_outputs = decoder_dense(decoder_outputs)\n",
        "\n",
        "# Define the model that will turn\n",
        "# `encoder_input_data` & `decoder_input_data` into `decoder_target_data`\n",
        "model = keras.Model([encoder_inputs, decoder_inputs], decoder_outputs)\n"
      ],
      "metadata": {
        "id": "gcQCgVaZX9-r"
      },
      "execution_count": null,
      "outputs": []
    },
    {
      "cell_type": "code",
      "source": [
        " # plotting the model architecture\n",
        "from tensorflow.keras.utils import plot_model\n",
        "plot_model(model, to_file='model.png', show_shapes=True)"
      ],
      "metadata": {
        "id": "lhce6EbAq4sY",
        "outputId": "179e9d93-d49a-4f5e-da14-753e1e41617b",
        "colab": {
          "base_uri": "https://localhost:8080/",
          "height": 422
        }
      },
      "execution_count": null,
      "outputs": [
        {
          "output_type": "execute_result",
          "data": {
            "image/png": "[encoded data removed]",
            "text/plain": [
              "<IPython.core.display.Image object>"
            ]
          },
          "metadata": {},
          "execution_count": 36
        }
      ]
    },
    {
      "cell_type": "markdown",
      "source": [
        "## **Training the Model**"
      ],
      "metadata": {
        "id": "rSKRDE_NnGfn"
      }
    },
    {
      "cell_type": "code",
      "source": [
        "# Run training\n",
        "model.compile(optimizer='rmsprop', loss='categorical_crossentropy', metrics = [\"accuracy\"])\n",
        "model.fit([encoder_input_data, decoder_input_data], decoder_target_data,\n",
        "          batch_size=batch_size,\n",
        "          epochs=epochs,\n",
        "          validation_split=0.2)"
      ],
      "metadata": {
        "colab": {
          "base_uri": "https://localhost:8080/"
        },
        "id": "3V2Z8cfeYHcF",
        "outputId": "e4f36e21-830e-4c49-cfbe-24f10d71e7a9"
      },
      "execution_count": null,
      "outputs": [
        {
          "output_type": "stream",
          "name": "stdout",
          "text": [
            "Epoch 1/100\n",
            "125/125 [==============================] - 4s 18ms/step - loss: 0.3823 - accuracy: 0.8853 - val_loss: 0.4770 - val_accuracy: 0.8583\n",
            "Epoch 2/100\n",
            "125/125 [==============================] - 1s 12ms/step - loss: 0.3649 - accuracy: 0.8902 - val_loss: 0.4651 - val_accuracy: 0.8636\n",
            "Epoch 3/100\n",
            "125/125 [==============================] - 1s 12ms/step - loss: 0.3503 - accuracy: 0.8945 - val_loss: 0.4596 - val_accuracy: 0.8653\n",
            "Epoch 4/100\n",
            "125/125 [==============================] - 1s 12ms/step - loss: 0.3365 - accuracy: 0.8985 - val_loss: 0.4554 - val_accuracy: 0.8668\n",
            "Epoch 5/100\n",
            "125/125 [==============================] - 1s 11ms/step - loss: 0.3237 - accuracy: 0.9022 - val_loss: 0.4461 - val_accuracy: 0.8700\n",
            "Epoch 6/100\n",
            "125/125 [==============================] - 1s 12ms/step - loss: 0.3116 - accuracy: 0.9059 - val_loss: 0.4429 - val_accuracy: 0.8711\n",
            "Epoch 7/100\n",
            "125/125 [==============================] - 2s 12ms/step - loss: 0.3002 - accuracy: 0.9093 - val_loss: 0.4398 - val_accuracy: 0.8724\n",
            "Epoch 8/100\n",
            "125/125 [==============================] - 2s 13ms/step - loss: 0.2894 - accuracy: 0.9126 - val_loss: 0.4399 - val_accuracy: 0.8733\n",
            "Epoch 9/100\n",
            "125/125 [==============================] - 2s 12ms/step - loss: 0.2793 - accuracy: 0.9153 - val_loss: 0.4405 - val_accuracy: 0.8733\n",
            "Epoch 10/100\n",
            "125/125 [==============================] - 1s 11ms/step - loss: 0.2693 - accuracy: 0.9186 - val_loss: 0.4382 - val_accuracy: 0.8752\n",
            "Epoch 11/100\n",
            "125/125 [==============================] - 2s 14ms/step - loss: 0.2598 - accuracy: 0.9216 - val_loss: 0.4409 - val_accuracy: 0.8745\n",
            "Epoch 12/100\n",
            "125/125 [==============================] - 1s 12ms/step - loss: 0.2510 - accuracy: 0.9239 - val_loss: 0.4399 - val_accuracy: 0.8761\n",
            "Epoch 13/100\n",
            "125/125 [==============================] - 2s 12ms/step - loss: 0.2425 - accuracy: 0.9266 - val_loss: 0.4450 - val_accuracy: 0.8754\n",
            "Epoch 14/100\n",
            "125/125 [==============================] - 1s 12ms/step - loss: 0.2347 - accuracy: 0.9287 - val_loss: 0.4425 - val_accuracy: 0.8773\n",
            "Epoch 15/100\n",
            "125/125 [==============================] - 1s 12ms/step - loss: 0.2268 - accuracy: 0.9310 - val_loss: 0.4408 - val_accuracy: 0.8776\n",
            "Epoch 16/100\n",
            "125/125 [==============================] - 1s 12ms/step - loss: 0.2195 - accuracy: 0.9335 - val_loss: 0.4475 - val_accuracy: 0.8761\n",
            "Epoch 17/100\n",
            "125/125 [==============================] - 1s 11ms/step - loss: 0.2122 - accuracy: 0.9355 - val_loss: 0.4498 - val_accuracy: 0.8770\n",
            "Epoch 18/100\n",
            "125/125 [==============================] - 1s 11ms/step - loss: 0.2056 - accuracy: 0.9375 - val_loss: 0.4545 - val_accuracy: 0.8774\n",
            "Epoch 19/100\n",
            "125/125 [==============================] - 2s 13ms/step - loss: 0.1988 - accuracy: 0.9395 - val_loss: 0.4523 - val_accuracy: 0.8773\n",
            "Epoch 20/100\n",
            "125/125 [==============================] - 1s 11ms/step - loss: 0.1929 - accuracy: 0.9411 - val_loss: 0.4572 - val_accuracy: 0.8775\n",
            "Epoch 21/100\n",
            "125/125 [==============================] - 1s 12ms/step - loss: 0.1871 - accuracy: 0.9428 - val_loss: 0.4597 - val_accuracy: 0.8781\n",
            "Epoch 22/100\n",
            "125/125 [==============================] - 1s 11ms/step - loss: 0.1813 - accuracy: 0.9446 - val_loss: 0.4615 - val_accuracy: 0.8776\n",
            "Epoch 23/100\n",
            "125/125 [==============================] - 2s 12ms/step - loss: 0.1760 - accuracy: 0.9462 - val_loss: 0.4675 - val_accuracy: 0.8781\n",
            "Epoch 24/100\n",
            "125/125 [==============================] - 1s 12ms/step - loss: 0.1707 - accuracy: 0.9478 - val_loss: 0.4711 - val_accuracy: 0.8771\n",
            "Epoch 25/100\n",
            "125/125 [==============================] - 1s 12ms/step - loss: 0.1662 - accuracy: 0.9491 - val_loss: 0.4767 - val_accuracy: 0.8764\n",
            "Epoch 26/100\n",
            "125/125 [==============================] - 1s 12ms/step - loss: 0.1610 - accuracy: 0.9508 - val_loss: 0.4767 - val_accuracy: 0.8777\n",
            "Epoch 27/100\n",
            "125/125 [==============================] - 1s 12ms/step - loss: 0.1566 - accuracy: 0.9518 - val_loss: 0.4749 - val_accuracy: 0.8777\n",
            "Epoch 28/100\n",
            "125/125 [==============================] - 1s 11ms/step - loss: 0.1521 - accuracy: 0.9533 - val_loss: 0.4864 - val_accuracy: 0.8778\n",
            "Epoch 29/100\n",
            "125/125 [==============================] - 2s 12ms/step - loss: 0.1479 - accuracy: 0.9543 - val_loss: 0.4915 - val_accuracy: 0.8770\n",
            "Epoch 30/100\n",
            "125/125 [==============================] - 1s 12ms/step - loss: 0.1442 - accuracy: 0.9554 - val_loss: 0.4957 - val_accuracy: 0.8775\n",
            "Epoch 31/100\n",
            "125/125 [==============================] - 1s 12ms/step - loss: 0.1403 - accuracy: 0.9566 - val_loss: 0.5011 - val_accuracy: 0.8776\n",
            "Epoch 32/100\n",
            "125/125 [==============================] - 1s 11ms/step - loss: 0.1364 - accuracy: 0.9578 - val_loss: 0.5086 - val_accuracy: 0.8768\n",
            "Epoch 33/100\n",
            "125/125 [==============================] - 1s 12ms/step - loss: 0.1330 - accuracy: 0.9588 - val_loss: 0.5107 - val_accuracy: 0.8768\n",
            "Epoch 34/100\n",
            "125/125 [==============================] - 1s 12ms/step - loss: 0.1294 - accuracy: 0.9598 - val_loss: 0.5137 - val_accuracy: 0.8770\n",
            "Epoch 35/100\n",
            "125/125 [==============================] - 1s 12ms/step - loss: 0.1262 - accuracy: 0.9605 - val_loss: 0.5197 - val_accuracy: 0.8773\n",
            "Epoch 36/100\n",
            "125/125 [==============================] - 2s 16ms/step - loss: 0.1227 - accuracy: 0.9618 - val_loss: 0.5277 - val_accuracy: 0.8762\n",
            "Epoch 37/100\n",
            "125/125 [==============================] - 2s 14ms/step - loss: 0.1199 - accuracy: 0.9626 - val_loss: 0.5329 - val_accuracy: 0.8762\n",
            "Epoch 38/100\n",
            "125/125 [==============================] - 1s 12ms/step - loss: 0.1168 - accuracy: 0.9635 - val_loss: 0.5297 - val_accuracy: 0.8764\n",
            "Epoch 39/100\n",
            "125/125 [==============================] - 1s 12ms/step - loss: 0.1143 - accuracy: 0.9643 - val_loss: 0.5375 - val_accuracy: 0.8773\n",
            "Epoch 40/100\n",
            "125/125 [==============================] - 1s 12ms/step - loss: 0.1115 - accuracy: 0.9650 - val_loss: 0.5445 - val_accuracy: 0.8751\n",
            "Epoch 41/100\n",
            "125/125 [==============================] - 2s 14ms/step - loss: 0.1090 - accuracy: 0.9656 - val_loss: 0.5526 - val_accuracy: 0.8758\n",
            "Epoch 42/100\n",
            "125/125 [==============================] - 1s 12ms/step - loss: 0.1065 - accuracy: 0.9666 - val_loss: 0.5468 - val_accuracy: 0.8768\n",
            "Epoch 43/100\n",
            "125/125 [==============================] - 1s 12ms/step - loss: 0.1040 - accuracy: 0.9673 - val_loss: 0.5587 - val_accuracy: 0.8762\n",
            "Epoch 44/100\n",
            "125/125 [==============================] - 1s 12ms/step - loss: 0.1014 - accuracy: 0.9681 - val_loss: 0.5626 - val_accuracy: 0.8761\n",
            "Epoch 45/100\n",
            "125/125 [==============================] - 1s 12ms/step - loss: 0.0995 - accuracy: 0.9686 - val_loss: 0.5667 - val_accuracy: 0.8753\n",
            "Epoch 46/100\n",
            "125/125 [==============================] - 1s 12ms/step - loss: 0.0969 - accuracy: 0.9691 - val_loss: 0.5751 - val_accuracy: 0.8751\n",
            "Epoch 47/100\n",
            "125/125 [==============================] - 1s 12ms/step - loss: 0.0947 - accuracy: 0.9700 - val_loss: 0.5763 - val_accuracy: 0.8764\n",
            "Epoch 48/100\n",
            "125/125 [==============================] - 1s 12ms/step - loss: 0.0930 - accuracy: 0.9705 - val_loss: 0.5858 - val_accuracy: 0.8755\n",
            "Epoch 49/100\n",
            "125/125 [==============================] - 1s 11ms/step - loss: 0.0911 - accuracy: 0.9710 - val_loss: 0.5818 - val_accuracy: 0.8757\n",
            "Epoch 50/100\n",
            "125/125 [==============================] - 1s 12ms/step - loss: 0.0892 - accuracy: 0.9717 - val_loss: 0.5894 - val_accuracy: 0.8750\n",
            "Epoch 51/100\n",
            "125/125 [==============================] - 2s 12ms/step - loss: 0.0873 - accuracy: 0.9720 - val_loss: 0.6050 - val_accuracy: 0.8745\n",
            "Epoch 52/100\n",
            "125/125 [==============================] - 1s 12ms/step - loss: 0.0854 - accuracy: 0.9725 - val_loss: 0.5973 - val_accuracy: 0.8756\n",
            "Epoch 53/100\n",
            "125/125 [==============================] - 2s 13ms/step - loss: 0.0837 - accuracy: 0.9732 - val_loss: 0.6049 - val_accuracy: 0.8742\n",
            "Epoch 54/100\n",
            "125/125 [==============================] - 2s 12ms/step - loss: 0.0822 - accuracy: 0.9736 - val_loss: 0.6063 - val_accuracy: 0.8753\n",
            "Epoch 55/100\n",
            "125/125 [==============================] - 1s 11ms/step - loss: 0.0805 - accuracy: 0.9740 - val_loss: 0.6164 - val_accuracy: 0.8739\n",
            "Epoch 56/100\n",
            "125/125 [==============================] - 1s 12ms/step - loss: 0.0789 - accuracy: 0.9746 - val_loss: 0.6143 - val_accuracy: 0.8746\n",
            "Epoch 57/100\n",
            "125/125 [==============================] - 1s 12ms/step - loss: 0.0772 - accuracy: 0.9750 - val_loss: 0.6186 - val_accuracy: 0.8753\n",
            "Epoch 58/100\n",
            "125/125 [==============================] - 1s 12ms/step - loss: 0.0756 - accuracy: 0.9754 - val_loss: 0.6200 - val_accuracy: 0.8755\n",
            "Epoch 59/100\n",
            "125/125 [==============================] - 1s 12ms/step - loss: 0.0743 - accuracy: 0.9758 - val_loss: 0.6321 - val_accuracy: 0.8745\n",
            "Epoch 60/100\n",
            "125/125 [==============================] - 1s 12ms/step - loss: 0.0732 - accuracy: 0.9759 - val_loss: 0.6379 - val_accuracy: 0.8744\n",
            "Epoch 61/100\n",
            "125/125 [==============================] - 1s 12ms/step - loss: 0.0718 - accuracy: 0.9763 - val_loss: 0.6280 - val_accuracy: 0.8746\n",
            "Epoch 62/100\n",
            "125/125 [==============================] - 2s 12ms/step - loss: 0.0704 - accuracy: 0.9768 - val_loss: 0.6423 - val_accuracy: 0.8745\n",
            "Epoch 63/100\n",
            "125/125 [==============================] - 1s 12ms/step - loss: 0.0693 - accuracy: 0.9771 - val_loss: 0.6416 - val_accuracy: 0.8743\n",
            "Epoch 64/100\n",
            "125/125 [==============================] - 1s 12ms/step - loss: 0.0679 - accuracy: 0.9774 - val_loss: 0.6542 - val_accuracy: 0.8742\n",
            "Epoch 65/100\n",
            "125/125 [==============================] - 1s 12ms/step - loss: 0.0665 - accuracy: 0.9781 - val_loss: 0.6537 - val_accuracy: 0.8749\n",
            "Epoch 66/100\n",
            "125/125 [==============================] - 1s 12ms/step - loss: 0.0659 - accuracy: 0.9781 - val_loss: 0.6519 - val_accuracy: 0.8740\n",
            "Epoch 67/100\n",
            "125/125 [==============================] - 1s 12ms/step - loss: 0.0642 - accuracy: 0.9784 - val_loss: 0.6649 - val_accuracy: 0.8738\n",
            "Epoch 68/100\n",
            "125/125 [==============================] - 2s 12ms/step - loss: 0.0636 - accuracy: 0.9785 - val_loss: 0.6687 - val_accuracy: 0.8733\n",
            "Epoch 69/100\n",
            "125/125 [==============================] - 1s 12ms/step - loss: 0.0624 - accuracy: 0.9790 - val_loss: 0.6678 - val_accuracy: 0.8741\n",
            "Epoch 70/100\n",
            "125/125 [==============================] - 2s 12ms/step - loss: 0.0613 - accuracy: 0.9795 - val_loss: 0.6764 - val_accuracy: 0.8733\n",
            "Epoch 71/100\n",
            "125/125 [==============================] - 1s 12ms/step - loss: 0.0605 - accuracy: 0.9795 - val_loss: 0.6756 - val_accuracy: 0.8735\n",
            "Epoch 72/100\n",
            "125/125 [==============================] - 2s 12ms/step - loss: 0.0593 - accuracy: 0.9801 - val_loss: 0.6773 - val_accuracy: 0.8737\n",
            "Epoch 73/100\n",
            "125/125 [==============================] - 1s 11ms/step - loss: 0.0583 - accuracy: 0.9802 - val_loss: 0.6825 - val_accuracy: 0.8735\n",
            "Epoch 74/100\n",
            "125/125 [==============================] - 2s 12ms/step - loss: 0.0578 - accuracy: 0.9802 - val_loss: 0.6829 - val_accuracy: 0.8737\n",
            "Epoch 75/100\n",
            "125/125 [==============================] - 2s 13ms/step - loss: 0.0565 - accuracy: 0.9809 - val_loss: 0.6847 - val_accuracy: 0.8741\n",
            "Epoch 76/100\n",
            "125/125 [==============================] - 1s 12ms/step - loss: 0.0559 - accuracy: 0.9810 - val_loss: 0.6964 - val_accuracy: 0.8729\n",
            "Epoch 77/100\n",
            "125/125 [==============================] - 1s 12ms/step - loss: 0.0548 - accuracy: 0.9811 - val_loss: 0.6964 - val_accuracy: 0.8738\n",
            "Epoch 78/100\n",
            "125/125 [==============================] - 1s 12ms/step - loss: 0.0543 - accuracy: 0.9812 - val_loss: 0.6919 - val_accuracy: 0.8742\n",
            "Epoch 79/100\n",
            "125/125 [==============================] - 1s 12ms/step - loss: 0.0533 - accuracy: 0.9815 - val_loss: 0.7023 - val_accuracy: 0.8741\n",
            "Epoch 80/100\n",
            "125/125 [==============================] - 1s 12ms/step - loss: 0.0528 - accuracy: 0.9816 - val_loss: 0.7114 - val_accuracy: 0.8730\n",
            "Epoch 81/100\n",
            "125/125 [==============================] - 1s 11ms/step - loss: 0.0520 - accuracy: 0.9819 - val_loss: 0.7103 - val_accuracy: 0.8728\n",
            "Epoch 82/100\n",
            "125/125 [==============================] - 1s 12ms/step - loss: 0.0515 - accuracy: 0.9821 - val_loss: 0.7134 - val_accuracy: 0.8731\n",
            "Epoch 83/100\n",
            "125/125 [==============================] - 1s 12ms/step - loss: 0.0507 - accuracy: 0.9823 - val_loss: 0.7116 - val_accuracy: 0.8734\n",
            "Epoch 84/100\n",
            "125/125 [==============================] - 1s 12ms/step - loss: 0.0501 - accuracy: 0.9824 - val_loss: 0.7171 - val_accuracy: 0.8736\n",
            "Epoch 85/100\n",
            "125/125 [==============================] - 1s 12ms/step - loss: 0.0493 - accuracy: 0.9826 - val_loss: 0.7219 - val_accuracy: 0.8724\n",
            "Epoch 86/100\n",
            "125/125 [==============================] - 2s 12ms/step - loss: 0.0485 - accuracy: 0.9827 - val_loss: 0.7172 - val_accuracy: 0.8735\n",
            "Epoch 87/100\n",
            "125/125 [==============================] - 1s 12ms/step - loss: 0.0480 - accuracy: 0.9830 - val_loss: 0.7221 - val_accuracy: 0.8734\n",
            "Epoch 88/100\n",
            "125/125 [==============================] - 2s 13ms/step - loss: 0.0476 - accuracy: 0.9831 - val_loss: 0.7288 - val_accuracy: 0.8727\n",
            "Epoch 89/100\n",
            "125/125 [==============================] - 1s 12ms/step - loss: 0.0469 - accuracy: 0.9833 - val_loss: 0.7300 - val_accuracy: 0.8729\n",
            "Epoch 90/100\n",
            "125/125 [==============================] - 1s 12ms/step - loss: 0.0464 - accuracy: 0.9834 - val_loss: 0.7364 - val_accuracy: 0.8732\n",
            "Epoch 91/100\n",
            "125/125 [==============================] - 2s 13ms/step - loss: 0.0457 - accuracy: 0.9837 - val_loss: 0.7333 - val_accuracy: 0.8731\n",
            "Epoch 92/100\n",
            "125/125 [==============================] - 2s 12ms/step - loss: 0.0453 - accuracy: 0.9837 - val_loss: 0.7358 - val_accuracy: 0.8731\n",
            "Epoch 93/100\n",
            "125/125 [==============================] - 2s 12ms/step - loss: 0.0449 - accuracy: 0.9838 - val_loss: 0.7406 - val_accuracy: 0.8738\n",
            "Epoch 94/100\n",
            "125/125 [==============================] - 2s 12ms/step - loss: 0.0443 - accuracy: 0.9839 - val_loss: 0.7385 - val_accuracy: 0.8739\n",
            "Epoch 95/100\n",
            "125/125 [==============================] - 1s 12ms/step - loss: 0.0441 - accuracy: 0.9840 - val_loss: 0.7474 - val_accuracy: 0.8733\n",
            "Epoch 96/100\n",
            "125/125 [==============================] - 2s 12ms/step - loss: 0.0434 - accuracy: 0.9842 - val_loss: 0.7444 - val_accuracy: 0.8726\n",
            "Epoch 97/100\n",
            "125/125 [==============================] - 1s 12ms/step - loss: 0.0433 - accuracy: 0.9843 - val_loss: 0.7478 - val_accuracy: 0.8727\n",
            "Epoch 98/100\n",
            "125/125 [==============================] - 2s 12ms/step - loss: 0.0425 - accuracy: 0.9845 - val_loss: 0.7536 - val_accuracy: 0.8727\n",
            "Epoch 99/100\n",
            "125/125 [==============================] - 2s 13ms/step - loss: 0.0423 - accuracy: 0.9845 - val_loss: 0.7570 - val_accuracy: 0.8729\n",
            "Epoch 100/100\n",
            "125/125 [==============================] - 2s 12ms/step - loss: 0.0416 - accuracy: 0.9847 - val_loss: 0.7564 - val_accuracy: 0.8744\n"
          ]
        },
        {
          "output_type": "execute_result",
          "data": {
            "text/plain": [
              "<keras.callbacks.History at 0x7f8bce844820>"
            ]
          },
          "metadata": {},
          "execution_count": 24
        }
      ]
    },
    {
      "cell_type": "markdown",
      "source": [
        "## **Inference Stage**\n",
        "\n",
        "We have to manually perform inference because, our model had teacher forcing during Training. However, in the Inference Stage, we have to use the output of the previous timestep as the input for next timestep."
      ],
      "metadata": {
        "id": "lQz2tYKonUYw"
      }
    },
    {
      "cell_type": "code",
      "source": [
        "# Manually deriving the decoder states and decoder outputs so that we can reuse decoder outputs as inputs for next step\n",
        "encoder_model = Model(encoder_inputs, encoder_states)\n",
        "\n",
        "decoder_state_input_h = Input(shape=(latent_dim,))\n",
        "decoder_state_input_c = Input(shape=(latent_dim,))\n",
        "decoder_states_inputs = [decoder_state_input_h, decoder_state_input_c]\n",
        "decoder_outputs, state_h, state_c = decoder_lstm(\n",
        "    decoder_inputs, initial_state=decoder_states_inputs)\n",
        "decoder_states = [state_h, state_c]\n",
        "decoder_outputs = decoder_dense(decoder_outputs)\n",
        "decoder_model = Model(\n",
        "    [decoder_inputs] + decoder_states_inputs,\n",
        "    [decoder_outputs] + decoder_states)"
      ],
      "metadata": {
        "id": "JyDoUaEDdu6G"
      },
      "execution_count": null,
      "outputs": []
    },
    {
      "cell_type": "code",
      "source": [
        "# Mapping between integers or indexes and characters.\n",
        "reverse_input_char_index = dict((i, char) for char, i in input_token_index.items())\n",
        "reverse_target_char_index = dict((i, char) for char, i in target_token_index.items())"
      ],
      "metadata": {
        "id": "NxzscVGIjgqR"
      },
      "execution_count": null,
      "outputs": []
    },
    {
      "cell_type": "code",
      "source": [
        "# decoding the output sentence from output tokenized data\n",
        "def decode_sequence(input_seq):\n",
        "    # Encode the input as state vectors.\n",
        "    states_value = encoder_model.predict(input_seq)\n",
        "\n",
        "    # Generate empty target sequence of length 1.\n",
        "    target_seq = np.zeros((1, 1, num_decoder_tokens))\n",
        "    # Populate the firhttps://colab.research.google.com/drive/1POsKAPn78VkMMTseSTQm1w7a8RsrTa-W#scrollTo=_Az5ZhvbgHQyst character of target sequence with the start character.\n",
        "    target_seq[0, 0, target_token_index[\"\\t\"]] = 1.0\n",
        "\n",
        "    # Sampling loop for a batch of sequences\n",
        "    # (to simplify, here we assume a batch of size 1).\n",
        "    stop_condition = False\n",
        "    decoded_sentence = \"\"\n",
        "    while not stop_condition:\n",
        "        output_tokens, h, c = decoder_model.predict([target_seq] + states_value)\n",
        "\n",
        "        # Sample a token\n",
        "        sampled_token_index = np.argmax(output_tokens[0, -1, :])\n",
        "        sampled_char = reverse_target_char_index[sampled_token_index]\n",
        "        decoded_sentence += sampled_char\n",
        "\n",
        "        # Exit condition: either hit max length\n",
        "        # or find stop character.\n",
        "        if sampled_char == \"\\n\" or len(decoded_sentence) > max_decoder_seq_length:\n",
        "            stop_condition = True\n",
        "\n",
        "        # Update the target sequence (of length 1).\n",
        "        target_seq = np.zeros((1, 1, num_decoder_tokens))\n",
        "        target_seq[0, 0, sampled_token_index] = 1.0\n",
        "\n",
        "        # Update states\n",
        "        states_value = [h, c]\n",
        "    return decoded_sentence\n",
        "\n"
      ],
      "metadata": {
        "id": "_Az5ZhvbgHQy"
      },
      "execution_count": null,
      "outputs": []
    },
    {
      "cell_type": "markdown",
      "source": [
        "## **Testing our Model**"
      ],
      "metadata": {
        "id": "NJ75cDuhneT3"
      }
    },
    {
      "cell_type": "code",
      "source": [
        "for seq_index in range(20):\n",
        "    # Take one sequence (part of the training set)\n",
        "    # for trying out decoding.\n",
        "    input_seq = encoder_input_data[seq_index : seq_index + 1]\n",
        "    decoded_sentence = decode_sequence(input_seq)\n",
        "    print(\"-\")\n",
        "    print(\"Input sentence:\", input_texts[seq_index])\n",
        "    print(\"Decoded sentence:\", decoded_sentence)"
      ],
      "metadata": {
        "id": "PpwY48VqjD3c",
        "outputId": "45dafff1-9f29-4264-c8a2-ad2f4ed6711b",
        "colab": {
          "base_uri": "https://localhost:8080/"
        }
      },
      "execution_count": null,
      "outputs": [
        {
          "output_type": "stream",
          "name": "stdout",
          "text": [
            "1/1 [==============================] - 0s 15ms/step\n",
            "1/1 [==============================] - 0s 16ms/step\n",
            "1/1 [==============================] - 0s 14ms/step\n",
            "1/1 [==============================] - 0s 15ms/step\n",
            "1/1 [==============================] - 0s 16ms/step\n",
            "1/1 [==============================] - 0s 16ms/step\n",
            "-\n",
            "Input sentence: Go.\n",
            "Decoded sentence: Va !\n",
            "\n",
            "1/1 [==============================] - 0s 14ms/step\n",
            "1/1 [==============================] - 0s 15ms/step\n",
            "1/1 [==============================] - 0s 16ms/step\n",
            "1/1 [==============================] - 0s 17ms/step\n",
            "1/1 [==============================] - 0s 26ms/step\n",
            "1/1 [==============================] - 0s 14ms/step\n",
            "-\n",
            "Input sentence: Go.\n",
            "Decoded sentence: Va !\n",
            "\n",
            "1/1 [==============================] - 0s 15ms/step\n",
            "1/1 [==============================] - 0s 15ms/step\n",
            "1/1 [==============================] - 0s 14ms/step\n",
            "1/1 [==============================] - 0s 16ms/step\n",
            "1/1 [==============================] - 0s 16ms/step\n",
            "1/1 [==============================] - 0s 15ms/step\n",
            "-\n",
            "Input sentence: Go.\n",
            "Decoded sentence: Va !\n",
            "\n",
            "1/1 [==============================] - 0s 13ms/step\n",
            "1/1 [==============================] - 0s 16ms/step\n",
            "1/1 [==============================] - 0s 16ms/step\n",
            "1/1 [==============================] - 0s 14ms/step\n",
            "1/1 [==============================] - 0s 15ms/step\n",
            "1/1 [==============================] - 0s 16ms/step\n",
            "-\n",
            "Input sentence: Go.\n",
            "Decoded sentence: Va !\n",
            "\n",
            "1/1 [==============================] - 0s 15ms/step\n",
            "1/1 [==============================] - 0s 18ms/step\n",
            "1/1 [==============================] - 0s 15ms/step\n",
            "1/1 [==============================] - 0s 15ms/step\n",
            "1/1 [==============================] - 0s 19ms/step\n",
            "1/1 [==============================] - 0s 15ms/step\n",
            "1/1 [==============================] - 0s 17ms/step\n",
            "1/1 [==============================] - 0s 16ms/step\n",
            "1/1 [==============================] - 0s 14ms/step\n",
            "1/1 [==============================] - 0s 16ms/step\n",
            "1/1 [==============================] - 0s 15ms/step\n",
            "1/1 [==============================] - 0s 16ms/step\n",
            "1/1 [==============================] - 0s 14ms/step\n",
            "1/1 [==============================] - 0s 15ms/step\n",
            "-\n",
            "Input sentence: Hi.\n",
            "Decoded sentence: Salemenons !\n",
            "\n",
            "1/1 [==============================] - 0s 13ms/step\n",
            "1/1 [==============================] - 0s 15ms/step\n",
            "1/1 [==============================] - 0s 14ms/step\n",
            "1/1 [==============================] - 0s 14ms/step\n",
            "1/1 [==============================] - 0s 16ms/step\n",
            "1/1 [==============================] - 0s 14ms/step\n",
            "1/1 [==============================] - 0s 14ms/step\n",
            "1/1 [==============================] - 0s 14ms/step\n",
            "1/1 [==============================] - 0s 14ms/step\n",
            "1/1 [==============================] - 0s 15ms/step\n",
            "1/1 [==============================] - 0s 16ms/step\n",
            "1/1 [==============================] - 0s 19ms/step\n",
            "1/1 [==============================] - 0s 15ms/step\n",
            "1/1 [==============================] - 0s 15ms/step\n",
            "-\n",
            "Input sentence: Hi.\n",
            "Decoded sentence: Salemenons !\n",
            "\n",
            "1/1 [==============================] - 0s 15ms/step\n",
            "1/1 [==============================] - 0s 15ms/step\n",
            "1/1 [==============================] - 0s 15ms/step\n",
            "1/1 [==============================] - 0s 20ms/step\n",
            "1/1 [==============================] - 0s 14ms/step\n",
            "1/1 [==============================] - 0s 18ms/step\n",
            "1/1 [==============================] - 0s 14ms/step\n",
            "1/1 [==============================] - 0s 15ms/step\n",
            "1/1 [==============================] - 0s 17ms/step\n",
            "-\n",
            "Input sentence: Run!\n",
            "Decoded sentence: Fuyez !\n",
            "\n",
            "1/1 [==============================] - 0s 13ms/step\n",
            "1/1 [==============================] - 0s 14ms/step\n",
            "1/1 [==============================] - 0s 15ms/step\n",
            "1/1 [==============================] - 0s 16ms/step\n",
            "1/1 [==============================] - 0s 16ms/step\n",
            "1/1 [==============================] - 0s 14ms/step\n",
            "1/1 [==============================] - 0s 16ms/step\n",
            "1/1 [==============================] - 0s 16ms/step\n",
            "1/1 [==============================] - 0s 14ms/step\n",
            "-\n",
            "Input sentence: Run!\n",
            "Decoded sentence: Fuyez !\n",
            "\n",
            "1/1 [==============================] - 0s 13ms/step\n",
            "1/1 [==============================] - 0s 14ms/step\n",
            "1/1 [==============================] - 0s 14ms/step\n",
            "1/1 [==============================] - 0s 14ms/step\n",
            "1/1 [==============================] - 0s 15ms/step\n",
            "1/1 [==============================] - 0s 16ms/step\n",
            "1/1 [==============================] - 0s 17ms/step\n",
            "1/1 [==============================] - 0s 16ms/step\n",
            "1/1 [==============================] - 0s 16ms/step\n",
            "-\n",
            "Input sentence: Run!\n",
            "Decoded sentence: Fuyez !\n",
            "\n",
            "1/1 [==============================] - 0s 14ms/step\n",
            "1/1 [==============================] - 0s 17ms/step\n",
            "1/1 [==============================] - 0s 14ms/step\n",
            "1/1 [==============================] - 0s 15ms/step\n",
            "1/1 [==============================] - 0s 16ms/step\n",
            "1/1 [==============================] - 0s 19ms/step\n",
            "1/1 [==============================] - 0s 16ms/step\n",
            "1/1 [==============================] - 0s 19ms/step\n",
            "1/1 [==============================] - 0s 15ms/step\n",
            "-\n",
            "Input sentence: Run!\n",
            "Decoded sentence: Fuyez !\n",
            "\n",
            "1/1 [==============================] - 0s 18ms/step\n",
            "1/1 [==============================] - 0s 17ms/step\n",
            "1/1 [==============================] - 0s 15ms/step\n",
            "1/1 [==============================] - 0s 15ms/step\n",
            "1/1 [==============================] - 0s 14ms/step\n",
            "1/1 [==============================] - 0s 15ms/step\n",
            "1/1 [==============================] - 0s 14ms/step\n",
            "1/1 [==============================] - 0s 14ms/step\n",
            "1/1 [==============================] - 0s 15ms/step\n",
            "-\n",
            "Input sentence: Run!\n",
            "Decoded sentence: Fuyez !\n",
            "\n",
            "1/1 [==============================] - 0s 13ms/step\n",
            "1/1 [==============================] - 0s 16ms/step\n",
            "1/1 [==============================] - 0s 17ms/step\n",
            "1/1 [==============================] - 0s 14ms/step\n",
            "1/1 [==============================] - 0s 14ms/step\n",
            "1/1 [==============================] - 0s 16ms/step\n",
            "1/1 [==============================] - 0s 14ms/step\n",
            "1/1 [==============================] - 0s 14ms/step\n",
            "1/1 [==============================] - 0s 14ms/step\n",
            "-\n",
            "Input sentence: Run!\n",
            "Decoded sentence: Fuyez !\n",
            "\n",
            "1/1 [==============================] - 0s 14ms/step\n",
            "1/1 [==============================] - 0s 16ms/step\n",
            "1/1 [==============================] - 0s 13ms/step\n",
            "1/1 [==============================] - 0s 16ms/step\n",
            "1/1 [==============================] - 0s 15ms/step\n",
            "1/1 [==============================] - 0s 14ms/step\n",
            "1/1 [==============================] - 0s 16ms/step\n",
            "1/1 [==============================] - 0s 15ms/step\n",
            "1/1 [==============================] - 0s 14ms/step\n",
            "-\n",
            "Input sentence: Run!\n",
            "Decoded sentence: Fuyez !\n",
            "\n",
            "1/1 [==============================] - 0s 13ms/step\n",
            "1/1 [==============================] - 0s 16ms/step\n",
            "1/1 [==============================] - 0s 14ms/step\n",
            "1/1 [==============================] - 0s 14ms/step\n",
            "1/1 [==============================] - 0s 15ms/step\n",
            "1/1 [==============================] - 0s 15ms/step\n",
            "1/1 [==============================] - 0s 14ms/step\n",
            "1/1 [==============================] - 0s 14ms/step\n",
            "1/1 [==============================] - 0s 15ms/step\n",
            "-\n",
            "Input sentence: Run!\n",
            "Decoded sentence: Fuyez !\n",
            "\n",
            "1/1 [==============================] - 0s 18ms/step\n",
            "1/1 [==============================] - 0s 14ms/step\n",
            "1/1 [==============================] - 0s 14ms/step\n",
            "1/1 [==============================] - 0s 14ms/step\n",
            "1/1 [==============================] - 0s 16ms/step\n",
            "1/1 [==============================] - 0s 17ms/step\n",
            "1/1 [==============================] - 0s 17ms/step\n",
            "1/1 [==============================] - 0s 14ms/step\n",
            "1/1 [==============================] - 0s 16ms/step\n",
            "-\n",
            "Input sentence: Run.\n",
            "Decoded sentence: Fuyez !\n",
            "\n",
            "1/1 [==============================] - 0s 14ms/step\n",
            "1/1 [==============================] - 0s 15ms/step\n",
            "1/1 [==============================] - 0s 14ms/step\n",
            "1/1 [==============================] - 0s 15ms/step\n",
            "1/1 [==============================] - 0s 16ms/step\n",
            "1/1 [==============================] - 0s 15ms/step\n",
            "1/1 [==============================] - 0s 15ms/step\n",
            "1/1 [==============================] - 0s 16ms/step\n",
            "1/1 [==============================] - 0s 15ms/step\n",
            "-\n",
            "Input sentence: Run.\n",
            "Decoded sentence: Fuyez !\n",
            "\n",
            "1/1 [==============================] - 0s 13ms/step\n",
            "1/1 [==============================] - 0s 14ms/step\n",
            "1/1 [==============================] - 0s 16ms/step\n",
            "1/1 [==============================] - 0s 17ms/step\n",
            "1/1 [==============================] - 0s 18ms/step\n",
            "1/1 [==============================] - 0s 16ms/step\n",
            "1/1 [==============================] - 0s 20ms/step\n",
            "1/1 [==============================] - 0s 17ms/step\n",
            "1/1 [==============================] - 0s 20ms/step\n",
            "-\n",
            "Input sentence: Run.\n",
            "Decoded sentence: Fuyez !\n",
            "\n",
            "1/1 [==============================] - 0s 20ms/step\n",
            "1/1 [==============================] - 0s 17ms/step\n",
            "1/1 [==============================] - 0s 17ms/step\n",
            "1/1 [==============================] - 0s 16ms/step\n",
            "1/1 [==============================] - 0s 17ms/step\n",
            "1/1 [==============================] - 0s 14ms/step\n",
            "1/1 [==============================] - 0s 15ms/step\n",
            "1/1 [==============================] - 0s 14ms/step\n",
            "1/1 [==============================] - 0s 17ms/step\n",
            "-\n",
            "Input sentence: Run.\n",
            "Decoded sentence: Fuyez !\n",
            "\n",
            "1/1 [==============================] - 0s 15ms/step\n",
            "1/1 [==============================] - 0s 17ms/step\n",
            "1/1 [==============================] - 0s 16ms/step\n",
            "1/1 [==============================] - 0s 15ms/step\n",
            "1/1 [==============================] - 0s 15ms/step\n",
            "1/1 [==============================] - 0s 16ms/step\n",
            "1/1 [==============================] - 0s 16ms/step\n",
            "1/1 [==============================] - 0s 17ms/step\n",
            "1/1 [==============================] - 0s 17ms/step\n",
            "-\n",
            "Input sentence: Run.\n",
            "Decoded sentence: Fuyez !\n",
            "\n",
            "1/1 [==============================] - 0s 14ms/step\n",
            "1/1 [==============================] - 0s 16ms/step\n",
            "1/1 [==============================] - 0s 16ms/step\n",
            "1/1 [==============================] - 0s 15ms/step\n",
            "1/1 [==============================] - 0s 18ms/step\n",
            "1/1 [==============================] - 0s 14ms/step\n",
            "1/1 [==============================] - 0s 14ms/step\n",
            "1/1 [==============================] - 0s 14ms/step\n",
            "1/1 [==============================] - 0s 16ms/step\n",
            "-\n",
            "Input sentence: Run.\n",
            "Decoded sentence: Fuyez !\n",
            "\n"
          ]
        }
      ]
    },
    {
      "cell_type": "markdown",
      "source": [
        "## **Conclusion**\n",
        "\n",
        "- The model is trained on Character basis, therefore the model focuses more on the translatory accuracy of each words,\n",
        "- We can try testing our model over a different range of data. For that we shall need to change the sequence indexes in the iterator for generating these results."
      ],
      "metadata": {
        "id": "6ifRsTyxqAgF"
      }
    }
  ]
}