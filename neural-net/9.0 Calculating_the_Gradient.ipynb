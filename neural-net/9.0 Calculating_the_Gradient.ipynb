{
  "nbformat": 4,
  "nbformat_minor": 0,
  "metadata": {
    "colab": {
      "name": "Calculating the Gradient",
      "provenance": [],
      "collapsed_sections": []
    },
    "kernelspec": {
      "name": "python3",
      "display_name": "Python 3"
    },
    "language_info": {
      "name": "python"
    }
  },
  "cells": [
    {
      "cell_type": "markdown",
      "metadata": {
        "id": "FRbIcCiotoce"
      },
      "source": [
        "<a name=\"TF-KS\"></a>\n",
        "## **Calculating the Gradient**"
      ]
    },
    {
      "cell_type": "code",
      "metadata": {
        "colab": {
          "base_uri": "https://localhost:8080/",
          "height": 363
        },
        "id": "wLr9M2PxDIX8",
        "outputId": "dd72f4f0-95ff-4535-b892-44cbe353dbcc"
      },
      "source": [
        "import matplotlib.pyplot as plt\n",
        "import numpy as np\n",
        "import pandas as pd\n",
        "\n",
        "# Create DataFrame\n",
        "data = {'height':[80,79,85,90,95,75,80,90,81,85],\n",
        "        'weight':[183.5,180,185,190,194.5,177.5,181.5,189,184,188]}\n",
        "data = pd.DataFrame(data)\n",
        "\n",
        "x=data[\"height\"]\n",
        "y=data[\"weight\"]\n",
        "data"
      ],
      "execution_count": 16,
      "outputs": [
        {
          "output_type": "execute_result",
          "data": {
            "text/html": [
              "<div>\n",
              "<style scoped>\n",
              "    .dataframe tbody tr th:only-of-type {\n",
              "        vertical-align: middle;\n",
              "    }\n",
              "\n",
              "    .dataframe tbody tr th {\n",
              "        vertical-align: top;\n",
              "    }\n",
              "\n",
              "    .dataframe thead th {\n",
              "        text-align: right;\n",
              "    }\n",
              "</style>\n",
              "<table border=\"1\" class=\"dataframe\">\n",
              "  <thead>\n",
              "    <tr style=\"text-align: right;\">\n",
              "      <th></th>\n",
              "      <th>height</th>\n",
              "      <th>weight</th>\n",
              "    </tr>\n",
              "  </thead>\n",
              "  <tbody>\n",
              "    <tr>\n",
              "      <th>0</th>\n",
              "      <td>80</td>\n",
              "      <td>183.5</td>\n",
              "    </tr>\n",
              "    <tr>\n",
              "      <th>1</th>\n",
              "      <td>79</td>\n",
              "      <td>180.0</td>\n",
              "    </tr>\n",
              "    <tr>\n",
              "      <th>2</th>\n",
              "      <td>85</td>\n",
              "      <td>185.0</td>\n",
              "    </tr>\n",
              "    <tr>\n",
              "      <th>3</th>\n",
              "      <td>90</td>\n",
              "      <td>190.0</td>\n",
              "    </tr>\n",
              "    <tr>\n",
              "      <th>4</th>\n",
              "      <td>95</td>\n",
              "      <td>194.5</td>\n",
              "    </tr>\n",
              "    <tr>\n",
              "      <th>5</th>\n",
              "      <td>75</td>\n",
              "      <td>177.5</td>\n",
              "    </tr>\n",
              "    <tr>\n",
              "      <th>6</th>\n",
              "      <td>80</td>\n",
              "      <td>181.5</td>\n",
              "    </tr>\n",
              "    <tr>\n",
              "      <th>7</th>\n",
              "      <td>90</td>\n",
              "      <td>189.0</td>\n",
              "    </tr>\n",
              "    <tr>\n",
              "      <th>8</th>\n",
              "      <td>81</td>\n",
              "      <td>184.0</td>\n",
              "    </tr>\n",
              "    <tr>\n",
              "      <th>9</th>\n",
              "      <td>85</td>\n",
              "      <td>188.0</td>\n",
              "    </tr>\n",
              "  </tbody>\n",
              "</table>\n",
              "</div>"
            ],
            "text/plain": [
              "   height  weight\n",
              "0      80   183.5\n",
              "1      79   180.0\n",
              "2      85   185.0\n",
              "3      90   190.0\n",
              "4      95   194.5\n",
              "5      75   177.5\n",
              "6      80   181.5\n",
              "7      90   189.0\n",
              "8      81   184.0\n",
              "9      85   188.0"
            ]
          },
          "metadata": {},
          "execution_count": 16
        }
      ]
    },
    {
      "cell_type": "code",
      "metadata": {
        "colab": {
          "base_uri": "https://localhost:8080/",
          "height": 351
        },
        "id": "EU05DinJmyzU",
        "outputId": "fad28684-c900-4a3d-d5a5-0088423e35a7"
      },
      "source": [
        "plt.figure(figsize=(5, 5))\n",
        "plt.scatter(data['height'],data['weight'], c = '#323031')\n",
        "plt.xlabel('height')\n",
        "plt.ylabel('weight')"
      ],
      "execution_count": 17,
      "outputs": [
        {
          "output_type": "execute_result",
          "data": {
            "text/plain": [
              "Text(0, 0.5, 'weight')"
            ]
          },
          "metadata": {},
          "execution_count": 17
        },
        {
          "output_type": "display_data",
          "data": {
            "image/png": "[encoded data removed]",
            "text/plain": [
              "<Figure size 360x360 with 1 Axes>"
            ]
          },
          "metadata": {
            "needs_background": "light"
          }
        }
      ]
    },
    {
      "cell_type": "markdown",
      "metadata": {
        "id": "uobFTHj42Hva"
      },
      "source": [
        "<a href=\"https://ibb.co/JBswC9V\"><img src=\"https://i.ibb.co/BzC5w9b/upe.png\" alt=\"upe\" border=\"0\"></a>"
      ]
    },
    {
      "cell_type": "code",
      "metadata": {
        "colab": {
          "base_uri": "https://localhost:8080/"
        },
        "id": "pB4PeCVcKyGU",
        "outputId": "42db1992-5e08-4044-c4f8-8b9499852ca0"
      },
      "source": [
        "learning_rate=0.00001 #learning rate\n",
        "weight=0\n",
        "for i in range(len(x)):\n",
        "        \n",
        "    y_pred = weight * x[i]        \n",
        "    loss = (y_pred - y[i]) **2 \n",
        "                       # error\n",
        "    grad_weight= 2 * (y_pred - y[i]) * x[i]  # derevative \n",
        "\n",
        "    weight = weight - grad_weight * learning_rate # in sgd update takes place after every point\n",
        "    print('Step %d: Weight:%f Loss = %f' % (i+1, weight, loss))\n"
      ],
      "execution_count": 18,
      "outputs": [
        {
          "output_type": "stream",
          "name": "stdout",
          "text": [
            "Step 1: Weight:0.293600 Loss = 33672.250000\n",
            "Step 2: Weight:0.541353 Loss = 24587.996191\n",
            "Step 3: Weight:0.777627 Loss = 19316.832427\n",
            "Step 4: Weight:0.993652 Loss = 14403.249176\n",
            "Step 5: Weight:1.183848 Loss = 10020.627777\n",
            "Step 6: Weight:1.316915 Loss = 7869.717921\n",
            "Step 7: Weight:1.438750 Loss = 5798.338345\n",
            "Step 8: Weight:1.545872 Loss = 3541.741391\n",
            "Step 9: Weight:1.641103 Loss = 3455.599942\n",
            "Step 10: Weight:1.723563 Loss = 2352.856986\n"
          ]
        }
      ]
    },
    {
      "cell_type": "code",
      "metadata": {
        "colab": {
          "base_uri": "https://localhost:8080/"
        },
        "id": "_lphS49UK-ur",
        "outputId": "d67798eb-3233-41e7-825f-12e90b9fbc85"
      },
      "source": [
        "print(\"optimal weight value is\",weight) #optimal value of w"
      ],
      "execution_count": 19,
      "outputs": [
        {
          "output_type": "stream",
          "name": "stdout",
          "text": [
            "optimal weight value is 1.7235634939076874\n"
          ]
        }
      ]
    },
    {
      "cell_type": "code",
      "metadata": {
        "id": "3pkTmz3E15sE"
      },
      "source": [
        ""
      ],
      "execution_count": null,
      "outputs": []
    }
  ]
}