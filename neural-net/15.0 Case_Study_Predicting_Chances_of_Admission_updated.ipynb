{
  "cells": [
    {
      "cell_type": "markdown",
      "metadata": {
        "id": "IIfOydFLJIaI"
      },
      "source": [
        "# **Predicting Chances of Admission**\n",
        "\n",
        "--------------------\n",
        "## **Context**\n",
        "--------------------\n",
        "\n",
        "The world is developing rapidly and continuously looking for the best knowledge and experience among people. This motivates people all around the world to stand out in their jobs and look for higher degrees that can help them in improving their skills and knowledge. As a result, the number of students applying for Master's programs has increased substantially.\n",
        "\n",
        "The current admission dataset was created for the prediction of admissions into the University of California, Los Angeles (UCLA). It was built to help students in shortlisting universities based on their profiles. The predicted output gives them a fair idea about their chances of getting accepted.\n",
        "\n",
        "----------------------\n",
        "## **Objective**\n",
        "----------------------\n",
        "\n",
        "We need to build a classification model using neural networks to predict a student's chances of admission into UCLA.\n",
        "\n",
        "------------------------------\n",
        "## **Data Dictionary**\n",
        "------------------------------\n",
        "\n",
        "The dataset contains several features which are considered important during the application for Masters Programs.\n",
        "The features included are: \n",
        "\n",
        "- **GRE Scores:** (out of 340)\n",
        "\n",
        "- **TOEFL Scores:** (out of 120)\n",
        "\n",
        "- **University Rating:**  It indicates the Bachelor University ranking (out of 5)\n",
        "\n",
        "- **Statement of Purpose Strength:** (out of 5)\n",
        "\n",
        "- **Letter of Recommendation Strength:** (out of 5)\n",
        "\n",
        "- **Undergraduate GPA:** (out of 10)\n",
        "\n",
        "- **Research Experience:** (either 0 or 1)\n",
        "\n",
        "- **Chance of Admit:** (ranging from 0 to 1)"
      ]
    },
    {
      "cell_type": "markdown",
      "metadata": {
        "id": "RUNw9Lh-mZHQ"
      },
      "source": [
        "## **Loading the libraries and the dataset**"
      ]
    },
    {
      "cell_type": "markdown",
      "metadata": {
        "id": "Ycku3MMOwTGZ"
      },
      "source": [
        "We will be using **Google Colab** to run this notebook. \n",
        "\n",
        "First, let's **import the data** so that Colab can access the dataset. One way to load the data in Colab is by uploading the dataset directly in the notebook. The following code does just that.\n",
        "Once you run the cell, it would ask you to choose the file from your local system."
      ]
    },
    {
      "cell_type": "code",
      "execution_count": null,
      "metadata": {
        "colab": {
          "base_uri": "https://localhost:8080/",
          "height": 73
        },
        "id": "wxUDP72g1N96",
        "outputId": "ddefcbdf-1365-49ec-92a7-fbec37369428"
      },
      "outputs": [
        {
          "output_type": "display_data",
          "data": {
            "text/plain": [
              "<IPython.core.display.HTML object>"
            ],
            "text/html": [
              "\n",
              "     <input type=\"file\" id=\"files-798b9da2-620f-4518-8873-aa29a3b22c05\" name=\"files[]\" multiple disabled\n",
              "        style=\"border:none\" />\n",
              "     <output id=\"result-798b9da2-620f-4518-8873-aa29a3b22c05\">\n",
              "      Upload widget is only available when the cell has been executed in the\n",
              "      current browser session. Please rerun this cell to enable.\n",
              "      </output>\n",
              "      <script>// Copyright 2017 Google LLC\n",
              "//\n",
              "// Licensed under the Apache License, Version 2.0 (the \"License\");\n",
              "// you may not use this file except in compliance with the License.\n",
              "// You may obtain a copy of the License at\n",
              "//\n",
              "//      http://www.apache.org/licenses/LICENSE-2.0\n",
              "//\n",
              "// Unless required by applicable law or agreed to in writing, software\n",
              "// distributed under the License is distributed on an \"AS IS\" BASIS,\n",
              "// WITHOUT WARRANTIES OR CONDITIONS OF ANY KIND, either express or implied.\n",
              "// See the License for the specific language governing permissions and\n",
              "// limitations under the License.\n",
              "\n",
              "/**\n",
              " * @fileoverview Helpers for google.colab Python module.\n",
              " */\n",
              "(function(scope) {\n",
              "function span(text, styleAttributes = {}) {\n",
              "  const element = document.createElement('span');\n",
              "  element.textContent = text;\n",
              "  for (const key of Object.keys(styleAttributes)) {\n",
              "    element.style[key] = styleAttributes[key];\n",
              "  }\n",
              "  return element;\n",
              "}\n",
              "\n",
              "// Max number of bytes which will be uploaded at a time.\n",
              "const MAX_PAYLOAD_SIZE = 100 * 1024;\n",
              "\n",
              "function _uploadFiles(inputId, outputId) {\n",
              "  const steps = uploadFilesStep(inputId, outputId);\n",
              "  const outputElement = document.getElementById(outputId);\n",
              "  // Cache steps on the outputElement to make it available for the next call\n",
              "  // to uploadFilesContinue from Python.\n",
              "  outputElement.steps = steps;\n",
              "\n",
              "  return _uploadFilesContinue(outputId);\n",
              "}\n",
              "\n",
              "// This is roughly an async generator (not supported in the browser yet),\n",
              "// where there are multiple asynchronous steps and the Python side is going\n",
              "// to poll for completion of each step.\n",
              "// This uses a Promise to block the python side on completion of each step,\n",
              "// then passes the result of the previous step as the input to the next step.\n",
              "function _uploadFilesContinue(outputId) {\n",
              "  const outputElement = document.getElementById(outputId);\n",
              "  const steps = outputElement.steps;\n",
              "\n",
              "  const next = steps.next(outputElement.lastPromiseValue);\n",
              "  return Promise.resolve(next.value.promise).then((value) => {\n",
              "    // Cache the last promise value to make it available to the next\n",
              "    // step of the generator.\n",
              "    outputElement.lastPromiseValue = value;\n",
              "    return next.value.response;\n",
              "  });\n",
              "}\n",
              "\n",
              "/**\n",
              " * Generator function which is called between each async step of the upload\n",
              " * process.\n",
              " * @param {string} inputId Element ID of the input file picker element.\n",
              " * @param {string} outputId Element ID of the output display.\n",
              " * @return {!Iterable<!Object>} Iterable of next steps.\n",
              " */\n",
              "function* uploadFilesStep(inputId, outputId) {\n",
              "  const inputElement = document.getElementById(inputId);\n",
              "  inputElement.disabled = false;\n",
              "\n",
              "  const outputElement = document.getElementById(outputId);\n",
              "  outputElement.innerHTML = '';\n",
              "\n",
              "  const pickedPromise = new Promise((resolve) => {\n",
              "    inputElement.addEventListener('change', (e) => {\n",
              "      resolve(e.target.files);\n",
              "    });\n",
              "  });\n",
              "\n",
              "  const cancel = document.createElement('button');\n",
              "  inputElement.parentElement.appendChild(cancel);\n",
              "  cancel.textContent = 'Cancel upload';\n",
              "  const cancelPromise = new Promise((resolve) => {\n",
              "    cancel.onclick = () => {\n",
              "      resolve(null);\n",
              "    };\n",
              "  });\n",
              "\n",
              "  // Wait for the user to pick the files.\n",
              "  const files = yield {\n",
              "    promise: Promise.race([pickedPromise, cancelPromise]),\n",
              "    response: {\n",
              "      action: 'starting',\n",
              "    }\n",
              "  };\n",
              "\n",
              "  cancel.remove();\n",
              "\n",
              "  // Disable the input element since further picks are not allowed.\n",
              "  inputElement.disabled = true;\n",
              "\n",
              "  if (!files) {\n",
              "    return {\n",
              "      response: {\n",
              "        action: 'complete',\n",
              "      }\n",
              "    };\n",
              "  }\n",
              "\n",
              "  for (const file of files) {\n",
              "    const li = document.createElement('li');\n",
              "    li.append(span(file.name, {fontWeight: 'bold'}));\n",
              "    li.append(span(\n",
              "        `(${file.type || 'n/a'}) - ${file.size} bytes, ` +\n",
              "        `last modified: ${\n",
              "            file.lastModifiedDate ? file.lastModifiedDate.toLocaleDateString() :\n",
              "                                    'n/a'} - `));\n",
              "    const percent = span('0% done');\n",
              "    li.appendChild(percent);\n",
              "\n",
              "    outputElement.appendChild(li);\n",
              "\n",
              "    const fileDataPromise = new Promise((resolve) => {\n",
              "      const reader = new FileReader();\n",
              "      reader.onload = (e) => {\n",
              "        resolve(e.target.result);\n",
              "      };\n",
              "      reader.readAsArrayBuffer(file);\n",
              "    });\n",
              "    // Wait for the data to be ready.\n",
              "    let fileData = yield {\n",
              "      promise: fileDataPromise,\n",
              "      response: {\n",
              "        action: 'continue',\n",
              "      }\n",
              "    };\n",
              "\n",
              "    // Use a chunked sending to avoid message size limits. See b/62115660.\n",
              "    let position = 0;\n",
              "    do {\n",
              "      const length = Math.min(fileData.byteLength - position, MAX_PAYLOAD_SIZE);\n",
              "      const chunk = new Uint8Array(fileData, position, length);\n",
              "      position += length;\n",
              "\n",
              "      const base64 = btoa(String.fromCharCode.apply(null, chunk));\n",
              "      yield {\n",
              "        response: {\n",
              "          action: 'append',\n",
              "          file: file.name,\n",
              "          data: base64,\n",
              "        },\n",
              "      };\n",
              "\n",
              "      let percentDone = fileData.byteLength === 0 ?\n",
              "          100 :\n",
              "          Math.round((position / fileData.byteLength) * 100);\n",
              "      percent.textContent = `${percentDone}% done`;\n",
              "\n",
              "    } while (position < fileData.byteLength);\n",
              "  }\n",
              "\n",
              "  // All done.\n",
              "  yield {\n",
              "    response: {\n",
              "      action: 'complete',\n",
              "    }\n",
              "  };\n",
              "}\n",
              "\n",
              "scope.google = scope.google || {};\n",
              "scope.google.colab = scope.google.colab || {};\n",
              "scope.google.colab._files = {\n",
              "  _uploadFiles,\n",
              "  _uploadFilesContinue,\n",
              "};\n",
              "})(self);\n",
              "</script> "
            ]
          },
          "metadata": {}
        },
        {
          "output_type": "stream",
          "name": "stdout",
          "text": [
            "Saving Admission_Predict.csv to Admission_Predict.csv\n"
          ]
        }
      ],
      "source": [
        "from google.colab import files\n",
        "\n",
        "uploaded = files.upload()"
      ]
    },
    {
      "cell_type": "code",
      "execution_count": null,
      "metadata": {
        "id": "CK_nbUDBmX2E"
      },
      "outputs": [],
      "source": [
        "import numpy as np\n",
        "import pandas as pd\n",
        "import matplotlib.pyplot as plt\n",
        "import seaborn as sns\n",
        "\n",
        "from sklearn.model_selection import train_test_split\n",
        "from sklearn.preprocessing import MinMaxScaler\n",
        "\n",
        "import tensorflow as tf\n",
        "from tensorflow.keras.models import Sequential\n",
        "from tensorflow.keras.layers import Dense, Dropout, Activation"
      ]
    },
    {
      "cell_type": "markdown",
      "metadata": {
        "id": "F6lw4gHtxYfK"
      },
      "source": [
        "Now, let's load the data using the read_csv() function. One small change from Jupyter here is that the path of the file might be a bit different. \n",
        "To get the path of the data file, follow the below steps:\n",
        "- To go the panel on the left-hand side and click on the folder icon at the bottom\n",
        "- Move the cursor on the file name\n",
        "- Click on the three dots and select the option \"Copy path\""
      ]
    },
    {
      "cell_type": "code",
      "execution_count": null,
      "metadata": {
        "colab": {
          "base_uri": "https://localhost:8080/",
          "height": 206
        },
        "id": "cF6d_Z6B2CpB",
        "outputId": "2740d3f2-6665-4e46-8625-3aaf3805c158"
      },
      "outputs": [
        {
          "output_type": "execute_result",
          "data": {
            "text/plain": [
              "   Serial No.  GRE Score  TOEFL Score  University Rating  SOP  LOR   CGPA  \\\n",
              "0           1        337          118                  4  4.5   4.5  9.65   \n",
              "1           2        324          107                  4  4.0   4.5  8.87   \n",
              "2           3        316          104                  3  3.0   3.5  8.00   \n",
              "3           4        322          110                  3  3.5   2.5  8.67   \n",
              "4           5        314          103                  2  2.0   3.0  8.21   \n",
              "\n",
              "   Research  Chance of Admit   \n",
              "0         1              0.92  \n",
              "1         1              0.76  \n",
              "2         1              0.72  \n",
              "3         1              0.80  \n",
              "4         0              0.65  "
            ],
            "text/html": [
              "\n",
              "  <div id=\"df-ad29484a-0fbc-46ba-b8d6-6b742a6cafa3\">\n",
              "    <div class=\"colab-df-container\">\n",
              "      <div>\n",
              "<style scoped>\n",
              "    .dataframe tbody tr th:only-of-type {\n",
              "        vertical-align: middle;\n",
              "    }\n",
              "\n",
              "    .dataframe tbody tr th {\n",
              "        vertical-align: top;\n",
              "    }\n",
              "\n",
              "    .dataframe thead th {\n",
              "        text-align: right;\n",
              "    }\n",
              "</style>\n",
              "<table border=\"1\" class=\"dataframe\">\n",
              "  <thead>\n",
              "    <tr style=\"text-align: right;\">\n",
              "      <th></th>\n",
              "      <th>Serial No.</th>\n",
              "      <th>GRE Score</th>\n",
              "      <th>TOEFL Score</th>\n",
              "      <th>University Rating</th>\n",
              "      <th>SOP</th>\n",
              "      <th>LOR</th>\n",
              "      <th>CGPA</th>\n",
              "      <th>Research</th>\n",
              "      <th>Chance of Admit</th>\n",
              "    </tr>\n",
              "  </thead>\n",
              "  <tbody>\n",
              "    <tr>\n",
              "      <th>0</th>\n",
              "      <td>1</td>\n",
              "      <td>337</td>\n",
              "      <td>118</td>\n",
              "      <td>4</td>\n",
              "      <td>4.5</td>\n",
              "      <td>4.5</td>\n",
              "      <td>9.65</td>\n",
              "      <td>1</td>\n",
              "      <td>0.92</td>\n",
              "    </tr>\n",
              "    <tr>\n",
              "      <th>1</th>\n",
              "      <td>2</td>\n",
              "      <td>324</td>\n",
              "      <td>107</td>\n",
              "      <td>4</td>\n",
              "      <td>4.0</td>\n",
              "      <td>4.5</td>\n",
              "      <td>8.87</td>\n",
              "      <td>1</td>\n",
              "      <td>0.76</td>\n",
              "    </tr>\n",
              "    <tr>\n",
              "      <th>2</th>\n",
              "      <td>3</td>\n",
              "      <td>316</td>\n",
              "      <td>104</td>\n",
              "      <td>3</td>\n",
              "      <td>3.0</td>\n",
              "      <td>3.5</td>\n",
              "      <td>8.00</td>\n",
              "      <td>1</td>\n",
              "      <td>0.72</td>\n",
              "    </tr>\n",
              "    <tr>\n",
              "      <th>3</th>\n",
              "      <td>4</td>\n",
              "      <td>322</td>\n",
              "      <td>110</td>\n",
              "      <td>3</td>\n",
              "      <td>3.5</td>\n",
              "      <td>2.5</td>\n",
              "      <td>8.67</td>\n",
              "      <td>1</td>\n",
              "      <td>0.80</td>\n",
              "    </tr>\n",
              "    <tr>\n",
              "      <th>4</th>\n",
              "      <td>5</td>\n",
              "      <td>314</td>\n",
              "      <td>103</td>\n",
              "      <td>2</td>\n",
              "      <td>2.0</td>\n",
              "      <td>3.0</td>\n",
              "      <td>8.21</td>\n",
              "      <td>0</td>\n",
              "      <td>0.65</td>\n",
              "    </tr>\n",
              "  </tbody>\n",
              "</table>\n",
              "</div>\n",
              "      <button class=\"colab-df-convert\" onclick=\"convertToInteractive('df-ad29484a-0fbc-46ba-b8d6-6b742a6cafa3')\"\n",
              "              title=\"Convert this dataframe to an interactive table.\"\n",
              "              style=\"display:none;\">\n",
              "        \n",
              "  <svg xmlns=\"http://www.w3.org/2000/svg\" height=\"24px\"viewBox=\"0 0 24 24\"\n",
              "       width=\"24px\">\n",
              "    <path d=\"M0 0h24v24H0V0z\" fill=\"none\"/>\n",
              "    <path d=\"M18.56 5.44l.94 2.06.94-2.06 2.06-.94-2.06-.94-.94-2.06-.94 2.06-2.06.94zm-11 1L8.5 8.5l.94-2.06 2.06-.94-2.06-.94L8.5 2.5l-.94 2.06-2.06.94zm10 10l.94 2.06.94-2.06 2.06-.94-2.06-.94-.94-2.06-.94 2.06-2.06.94z\"/><path d=\"M17.41 7.96l-1.37-1.37c-.4-.4-.92-.59-1.43-.59-.52 0-1.04.2-1.43.59L10.3 9.45l-7.72 7.72c-.78.78-.78 2.05 0 2.83L4 21.41c.39.39.9.59 1.41.59.51 0 1.02-.2 1.41-.59l7.78-7.78 2.81-2.81c.8-.78.8-2.07 0-2.86zM5.41 20L4 18.59l7.72-7.72 1.47 1.35L5.41 20z\"/>\n",
              "  </svg>\n",
              "      </button>\n",
              "      \n",
              "  <style>\n",
              "    .colab-df-container {\n",
              "      display:flex;\n",
              "      flex-wrap:wrap;\n",
              "      gap: 12px;\n",
              "    }\n",
              "\n",
              "    .colab-df-convert {\n",
              "      background-color: #E8F0FE;\n",
              "      border: none;\n",
              "      border-radius: 50%;\n",
              "      cursor: pointer;\n",
              "      display: none;\n",
              "      fill: #1967D2;\n",
              "      height: 32px;\n",
              "      padding: 0 0 0 0;\n",
              "      width: 32px;\n",
              "    }\n",
              "\n",
              "    .colab-df-convert:hover {\n",
              "      background-color: #E2EBFA;\n",
              "      box-shadow: 0px 1px 2px rgba(60, 64, 67, 0.3), 0px 1px 3px 1px rgba(60, 64, 67, 0.15);\n",
              "      fill: #174EA6;\n",
              "    }\n",
              "\n",
              "    [theme=dark] .colab-df-convert {\n",
              "      background-color: #3B4455;\n",
              "      fill: #D2E3FC;\n",
              "    }\n",
              "\n",
              "    [theme=dark] .colab-df-convert:hover {\n",
              "      background-color: #434B5C;\n",
              "      box-shadow: 0px 1px 3px 1px rgba(0, 0, 0, 0.15);\n",
              "      filter: drop-shadow(0px 1px 2px rgba(0, 0, 0, 0.3));\n",
              "      fill: #FFFFFF;\n",
              "    }\n",
              "  </style>\n",
              "\n",
              "      <script>\n",
              "        const buttonEl =\n",
              "          document.querySelector('#df-ad29484a-0fbc-46ba-b8d6-6b742a6cafa3 button.colab-df-convert');\n",
              "        buttonEl.style.display =\n",
              "          google.colab.kernel.accessAllowed ? 'block' : 'none';\n",
              "\n",
              "        async function convertToInteractive(key) {\n",
              "          const element = document.querySelector('#df-ad29484a-0fbc-46ba-b8d6-6b742a6cafa3');\n",
              "          const dataTable =\n",
              "            await google.colab.kernel.invokeFunction('convertToInteractive',\n",
              "                                                     [key], {});\n",
              "          if (!dataTable) return;\n",
              "\n",
              "          const docLinkHtml = 'Like what you see? Visit the ' +\n",
              "            '<a target=\"_blank\" href=https://colab.research.google.com/notebooks/data_table.ipynb>data table notebook</a>'\n",
              "            + ' to learn more about interactive tables.';\n",
              "          element.innerHTML = '';\n",
              "          dataTable['output_type'] = 'display_data';\n",
              "          await google.colab.output.renderOutput(dataTable, element);\n",
              "          const docLink = document.createElement('div');\n",
              "          docLink.innerHTML = docLinkHtml;\n",
              "          element.appendChild(docLink);\n",
              "        }\n",
              "      </script>\n",
              "    </div>\n",
              "  </div>\n",
              "  "
            ]
          },
          "metadata": {},
          "execution_count": 3
        }
      ],
      "source": [
        "# Importing the dataset\n",
        "data = pd.read_csv('/content/Admission_Predict.csv')\n",
        "\n",
        "# Check the top five records of the data\n",
        "data.head()"
      ]
    },
    {
      "cell_type": "markdown",
      "metadata": {
        "id": "yVsWWzVw2brU"
      },
      "source": [
        "**Observations:**\n",
        "\n",
        "- In the above dataset, the target variable is **Chance of Admit**.\n",
        "- To make this a classification task, let's convert the target variable into a categorical variable by using a threshold of 80%.\n",
        "- We are assuming that if **Chance of Admit** is more than 80% then **Admit** would be 1 (i.e. yes), otherwise, it would be 0 (i.e. no)."
      ]
    },
    {
      "cell_type": "code",
      "execution_count": null,
      "metadata": {
        "id": "HLxtOrbw2ZLS"
      },
      "outputs": [],
      "source": [
        "# Converting the target variable into a categorical variable\n",
        "\n",
        "data['Admit'] = data['Chance of Admit '].apply(lambda x: 1 if x > 0.8 else 0)"
      ]
    },
    {
      "cell_type": "markdown",
      "metadata": {
        "id": "CY4KERF63aAY"
      },
      "source": [
        "Now that we have created a new target variable, we can remove the column - **Chance of Admit** from the dataset. We can also remove the column - **Serial No.** as it would not add any value to our analysis."
      ]
    },
    {
      "cell_type": "code",
      "execution_count": null,
      "metadata": {
        "colab": {
          "base_uri": "https://localhost:8080/",
          "height": 206
        },
        "id": "XGCid1us3jRJ",
        "outputId": "abdb4ceb-d946-4b8b-cab2-ff54c5c4e9b5"
      },
      "outputs": [
        {
          "output_type": "execute_result",
          "data": {
            "text/plain": [
              "   GRE Score  TOEFL Score  University Rating  SOP  LOR   CGPA  Research  Admit\n",
              "0        337          118                  4  4.5   4.5  9.65         1      1\n",
              "1        324          107                  4  4.0   4.5  8.87         1      0\n",
              "2        316          104                  3  3.0   3.5  8.00         1      0\n",
              "3        322          110                  3  3.5   2.5  8.67         1      0\n",
              "4        314          103                  2  2.0   3.0  8.21         0      0"
            ],
            "text/html": [
              "\n",
              "  <div id=\"df-0348644b-f37f-4638-8d3a-7fddbe06f07a\">\n",
              "    <div class=\"colab-df-container\">\n",
              "      <div>\n",
              "<style scoped>\n",
              "    .dataframe tbody tr th:only-of-type {\n",
              "        vertical-align: middle;\n",
              "    }\n",
              "\n",
              "    .dataframe tbody tr th {\n",
              "        vertical-align: top;\n",
              "    }\n",
              "\n",
              "    .dataframe thead th {\n",
              "        text-align: right;\n",
              "    }\n",
              "</style>\n",
              "<table border=\"1\" class=\"dataframe\">\n",
              "  <thead>\n",
              "    <tr style=\"text-align: right;\">\n",
              "      <th></th>\n",
              "      <th>GRE Score</th>\n",
              "      <th>TOEFL Score</th>\n",
              "      <th>University Rating</th>\n",
              "      <th>SOP</th>\n",
              "      <th>LOR</th>\n",
              "      <th>CGPA</th>\n",
              "      <th>Research</th>\n",
              "      <th>Admit</th>\n",
              "    </tr>\n",
              "  </thead>\n",
              "  <tbody>\n",
              "    <tr>\n",
              "      <th>0</th>\n",
              "      <td>337</td>\n",
              "      <td>118</td>\n",
              "      <td>4</td>\n",
              "      <td>4.5</td>\n",
              "      <td>4.5</td>\n",
              "      <td>9.65</td>\n",
              "      <td>1</td>\n",
              "      <td>1</td>\n",
              "    </tr>\n",
              "    <tr>\n",
              "      <th>1</th>\n",
              "      <td>324</td>\n",
              "      <td>107</td>\n",
              "      <td>4</td>\n",
              "      <td>4.0</td>\n",
              "      <td>4.5</td>\n",
              "      <td>8.87</td>\n",
              "      <td>1</td>\n",
              "      <td>0</td>\n",
              "    </tr>\n",
              "    <tr>\n",
              "      <th>2</th>\n",
              "      <td>316</td>\n",
              "      <td>104</td>\n",
              "      <td>3</td>\n",
              "      <td>3.0</td>\n",
              "      <td>3.5</td>\n",
              "      <td>8.00</td>\n",
              "      <td>1</td>\n",
              "      <td>0</td>\n",
              "    </tr>\n",
              "    <tr>\n",
              "      <th>3</th>\n",
              "      <td>322</td>\n",
              "      <td>110</td>\n",
              "      <td>3</td>\n",
              "      <td>3.5</td>\n",
              "      <td>2.5</td>\n",
              "      <td>8.67</td>\n",
              "      <td>1</td>\n",
              "      <td>0</td>\n",
              "    </tr>\n",
              "    <tr>\n",
              "      <th>4</th>\n",
              "      <td>314</td>\n",
              "      <td>103</td>\n",
              "      <td>2</td>\n",
              "      <td>2.0</td>\n",
              "      <td>3.0</td>\n",
              "      <td>8.21</td>\n",
              "      <td>0</td>\n",
              "      <td>0</td>\n",
              "    </tr>\n",
              "  </tbody>\n",
              "</table>\n",
              "</div>\n",
              "      <button class=\"colab-df-convert\" onclick=\"convertToInteractive('df-0348644b-f37f-4638-8d3a-7fddbe06f07a')\"\n",
              "              title=\"Convert this dataframe to an interactive table.\"\n",
              "              style=\"display:none;\">\n",
              "        \n",
              "  <svg xmlns=\"http://www.w3.org/2000/svg\" height=\"24px\"viewBox=\"0 0 24 24\"\n",
              "       width=\"24px\">\n",
              "    <path d=\"M0 0h24v24H0V0z\" fill=\"none\"/>\n",
              "    <path d=\"M18.56 5.44l.94 2.06.94-2.06 2.06-.94-2.06-.94-.94-2.06-.94 2.06-2.06.94zm-11 1L8.5 8.5l.94-2.06 2.06-.94-2.06-.94L8.5 2.5l-.94 2.06-2.06.94zm10 10l.94 2.06.94-2.06 2.06-.94-2.06-.94-.94-2.06-.94 2.06-2.06.94z\"/><path d=\"M17.41 7.96l-1.37-1.37c-.4-.4-.92-.59-1.43-.59-.52 0-1.04.2-1.43.59L10.3 9.45l-7.72 7.72c-.78.78-.78 2.05 0 2.83L4 21.41c.39.39.9.59 1.41.59.51 0 1.02-.2 1.41-.59l7.78-7.78 2.81-2.81c.8-.78.8-2.07 0-2.86zM5.41 20L4 18.59l7.72-7.72 1.47 1.35L5.41 20z\"/>\n",
              "  </svg>\n",
              "      </button>\n",
              "      \n",
              "  <style>\n",
              "    .colab-df-container {\n",
              "      display:flex;\n",
              "      flex-wrap:wrap;\n",
              "      gap: 12px;\n",
              "    }\n",
              "\n",
              "    .colab-df-convert {\n",
              "      background-color: #E8F0FE;\n",
              "      border: none;\n",
              "      border-radius: 50%;\n",
              "      cursor: pointer;\n",
              "      display: none;\n",
              "      fill: #1967D2;\n",
              "      height: 32px;\n",
              "      padding: 0 0 0 0;\n",
              "      width: 32px;\n",
              "    }\n",
              "\n",
              "    .colab-df-convert:hover {\n",
              "      background-color: #E2EBFA;\n",
              "      box-shadow: 0px 1px 2px rgba(60, 64, 67, 0.3), 0px 1px 3px 1px rgba(60, 64, 67, 0.15);\n",
              "      fill: #174EA6;\n",
              "    }\n",
              "\n",
              "    [theme=dark] .colab-df-convert {\n",
              "      background-color: #3B4455;\n",
              "      fill: #D2E3FC;\n",
              "    }\n",
              "\n",
              "    [theme=dark] .colab-df-convert:hover {\n",
              "      background-color: #434B5C;\n",
              "      box-shadow: 0px 1px 3px 1px rgba(0, 0, 0, 0.15);\n",
              "      filter: drop-shadow(0px 1px 2px rgba(0, 0, 0, 0.3));\n",
              "      fill: #FFFFFF;\n",
              "    }\n",
              "  </style>\n",
              "\n",
              "      <script>\n",
              "        const buttonEl =\n",
              "          document.querySelector('#df-0348644b-f37f-4638-8d3a-7fddbe06f07a button.colab-df-convert');\n",
              "        buttonEl.style.display =\n",
              "          google.colab.kernel.accessAllowed ? 'block' : 'none';\n",
              "\n",
              "        async function convertToInteractive(key) {\n",
              "          const element = document.querySelector('#df-0348644b-f37f-4638-8d3a-7fddbe06f07a');\n",
              "          const dataTable =\n",
              "            await google.colab.kernel.invokeFunction('convertToInteractive',\n",
              "                                                     [key], {});\n",
              "          if (!dataTable) return;\n",
              "\n",
              "          const docLinkHtml = 'Like what you see? Visit the ' +\n",
              "            '<a target=\"_blank\" href=https://colab.research.google.com/notebooks/data_table.ipynb>data table notebook</a>'\n",
              "            + ' to learn more about interactive tables.';\n",
              "          element.innerHTML = '';\n",
              "          dataTable['output_type'] = 'display_data';\n",
              "          await google.colab.output.renderOutput(dataTable, element);\n",
              "          const docLink = document.createElement('div');\n",
              "          docLink.innerHTML = docLinkHtml;\n",
              "          element.appendChild(docLink);\n",
              "        }\n",
              "      </script>\n",
              "    </div>\n",
              "  </div>\n",
              "  "
            ]
          },
          "metadata": {},
          "execution_count": 5
        }
      ],
      "source": [
        "# Dropping columns\n",
        "data = data.drop(['Serial No.', 'Chance of Admit '], axis=1)\n",
        "data.head()"
      ]
    },
    {
      "cell_type": "markdown",
      "source": [
        "## **Exploratory Data Analysis**"
      ],
      "metadata": {
        "id": "x5hMhtRugy5K"
      }
    },
    {
      "cell_type": "markdown",
      "metadata": {
        "id": "VxPbTdpkC-ax"
      },
      "source": [
        "**Let's check the info of the data**"
      ]
    },
    {
      "cell_type": "code",
      "execution_count": null,
      "metadata": {
        "colab": {
          "base_uri": "https://localhost:8080/"
        },
        "id": "Y5wPX0lb3wRU",
        "outputId": "ff67418c-d042-4cd5-9c12-1df91d6ab605"
      },
      "outputs": [
        {
          "output_type": "stream",
          "name": "stdout",
          "text": [
            "<class 'pandas.core.frame.DataFrame'>\n",
            "RangeIndex: 500 entries, 0 to 499\n",
            "Data columns (total 8 columns):\n",
            " #   Column             Non-Null Count  Dtype  \n",
            "---  ------             --------------  -----  \n",
            " 0   GRE Score          500 non-null    int64  \n",
            " 1   TOEFL Score        500 non-null    int64  \n",
            " 2   University Rating  500 non-null    int64  \n",
            " 3   SOP                500 non-null    float64\n",
            " 4   LOR                500 non-null    float64\n",
            " 5   CGPA               500 non-null    float64\n",
            " 6   Research           500 non-null    int64  \n",
            " 7   Admit              500 non-null    int64  \n",
            "dtypes: float64(3), int64(5)\n",
            "memory usage: 31.4 KB\n"
          ]
        }
      ],
      "source": [
        "# Let's check the info of the data\n",
        "data.info()"
      ]
    },
    {
      "cell_type": "markdown",
      "metadata": {
        "id": "cBQS9b56DC2_"
      },
      "source": [
        "**Observations:**\n",
        "\n",
        "- There are **500 observations and 8 columns** in the data.\n",
        "- All the columns are of **numeric data** type.\n",
        "- There are **no missing values** in the data."
      ]
    },
    {
      "cell_type": "markdown",
      "source": [
        "### **Summary Statistics**"
      ],
      "metadata": {
        "id": "kd8maHDRg423"
      }
    },
    {
      "cell_type": "code",
      "execution_count": null,
      "metadata": {
        "colab": {
          "base_uri": "https://localhost:8080/",
          "height": 300
        },
        "id": "WpdM4iC0DwPJ",
        "outputId": "e1f65ffd-a370-4ea2-ce28-312998bdfd84"
      },
      "outputs": [
        {
          "output_type": "execute_result",
          "data": {
            "text/plain": [
              "                   count       mean        std    min       25%     50%  \\\n",
              "GRE Score          500.0  316.47200  11.295148  290.0  308.0000  317.00   \n",
              "TOEFL Score        500.0  107.19200   6.081868   92.0  103.0000  107.00   \n",
              "University Rating  500.0    3.11400   1.143512    1.0    2.0000    3.00   \n",
              "SOP                500.0    3.37400   0.991004    1.0    2.5000    3.50   \n",
              "LOR                500.0    3.48400   0.925450    1.0    3.0000    3.50   \n",
              "CGPA               500.0    8.57644   0.604813    6.8    8.1275    8.56   \n",
              "Research           500.0    0.56000   0.496884    0.0    0.0000    1.00   \n",
              "Admit              500.0    0.28400   0.451388    0.0    0.0000    0.00   \n",
              "\n",
              "                      75%     max  \n",
              "GRE Score          325.00  340.00  \n",
              "TOEFL Score        112.00  120.00  \n",
              "University Rating    4.00    5.00  \n",
              "SOP                  4.00    5.00  \n",
              "LOR                  4.00    5.00  \n",
              "CGPA                 9.04    9.92  \n",
              "Research             1.00    1.00  \n",
              "Admit                1.00    1.00  "
            ],
            "text/html": [
              "\n",
              "  <div id=\"df-f4cde593-7193-4881-bcbb-3a80bcb08ebe\">\n",
              "    <div class=\"colab-df-container\">\n",
              "      <div>\n",
              "<style scoped>\n",
              "    .dataframe tbody tr th:only-of-type {\n",
              "        vertical-align: middle;\n",
              "    }\n",
              "\n",
              "    .dataframe tbody tr th {\n",
              "        vertical-align: top;\n",
              "    }\n",
              "\n",
              "    .dataframe thead th {\n",
              "        text-align: right;\n",
              "    }\n",
              "</style>\n",
              "<table border=\"1\" class=\"dataframe\">\n",
              "  <thead>\n",
              "    <tr style=\"text-align: right;\">\n",
              "      <th></th>\n",
              "      <th>count</th>\n",
              "      <th>mean</th>\n",
              "      <th>std</th>\n",
              "      <th>min</th>\n",
              "      <th>25%</th>\n",
              "      <th>50%</th>\n",
              "      <th>75%</th>\n",
              "      <th>max</th>\n",
              "    </tr>\n",
              "  </thead>\n",
              "  <tbody>\n",
              "    <tr>\n",
              "      <th>GRE Score</th>\n",
              "      <td>500.0</td>\n",
              "      <td>316.47200</td>\n",
              "      <td>11.295148</td>\n",
              "      <td>290.0</td>\n",
              "      <td>308.0000</td>\n",
              "      <td>317.00</td>\n",
              "      <td>325.00</td>\n",
              "      <td>340.00</td>\n",
              "    </tr>\n",
              "    <tr>\n",
              "      <th>TOEFL Score</th>\n",
              "      <td>500.0</td>\n",
              "      <td>107.19200</td>\n",
              "      <td>6.081868</td>\n",
              "      <td>92.0</td>\n",
              "      <td>103.0000</td>\n",
              "      <td>107.00</td>\n",
              "      <td>112.00</td>\n",
              "      <td>120.00</td>\n",
              "    </tr>\n",
              "    <tr>\n",
              "      <th>University Rating</th>\n",
              "      <td>500.0</td>\n",
              "      <td>3.11400</td>\n",
              "      <td>1.143512</td>\n",
              "      <td>1.0</td>\n",
              "      <td>2.0000</td>\n",
              "      <td>3.00</td>\n",
              "      <td>4.00</td>\n",
              "      <td>5.00</td>\n",
              "    </tr>\n",
              "    <tr>\n",
              "      <th>SOP</th>\n",
              "      <td>500.0</td>\n",
              "      <td>3.37400</td>\n",
              "      <td>0.991004</td>\n",
              "      <td>1.0</td>\n",
              "      <td>2.5000</td>\n",
              "      <td>3.50</td>\n",
              "      <td>4.00</td>\n",
              "      <td>5.00</td>\n",
              "    </tr>\n",
              "    <tr>\n",
              "      <th>LOR</th>\n",
              "      <td>500.0</td>\n",
              "      <td>3.48400</td>\n",
              "      <td>0.925450</td>\n",
              "      <td>1.0</td>\n",
              "      <td>3.0000</td>\n",
              "      <td>3.50</td>\n",
              "      <td>4.00</td>\n",
              "      <td>5.00</td>\n",
              "    </tr>\n",
              "    <tr>\n",
              "      <th>CGPA</th>\n",
              "      <td>500.0</td>\n",
              "      <td>8.57644</td>\n",
              "      <td>0.604813</td>\n",
              "      <td>6.8</td>\n",
              "      <td>8.1275</td>\n",
              "      <td>8.56</td>\n",
              "      <td>9.04</td>\n",
              "      <td>9.92</td>\n",
              "    </tr>\n",
              "    <tr>\n",
              "      <th>Research</th>\n",
              "      <td>500.0</td>\n",
              "      <td>0.56000</td>\n",
              "      <td>0.496884</td>\n",
              "      <td>0.0</td>\n",
              "      <td>0.0000</td>\n",
              "      <td>1.00</td>\n",
              "      <td>1.00</td>\n",
              "      <td>1.00</td>\n",
              "    </tr>\n",
              "    <tr>\n",
              "      <th>Admit</th>\n",
              "      <td>500.0</td>\n",
              "      <td>0.28400</td>\n",
              "      <td>0.451388</td>\n",
              "      <td>0.0</td>\n",
              "      <td>0.0000</td>\n",
              "      <td>0.00</td>\n",
              "      <td>1.00</td>\n",
              "      <td>1.00</td>\n",
              "    </tr>\n",
              "  </tbody>\n",
              "</table>\n",
              "</div>\n",
              "      <button class=\"colab-df-convert\" onclick=\"convertToInteractive('df-f4cde593-7193-4881-bcbb-3a80bcb08ebe')\"\n",
              "              title=\"Convert this dataframe to an interactive table.\"\n",
              "              style=\"display:none;\">\n",
              "        \n",
              "  <svg xmlns=\"http://www.w3.org/2000/svg\" height=\"24px\"viewBox=\"0 0 24 24\"\n",
              "       width=\"24px\">\n",
              "    <path d=\"M0 0h24v24H0V0z\" fill=\"none\"/>\n",
              "    <path d=\"M18.56 5.44l.94 2.06.94-2.06 2.06-.94-2.06-.94-.94-2.06-.94 2.06-2.06.94zm-11 1L8.5 8.5l.94-2.06 2.06-.94-2.06-.94L8.5 2.5l-.94 2.06-2.06.94zm10 10l.94 2.06.94-2.06 2.06-.94-2.06-.94-.94-2.06-.94 2.06-2.06.94z\"/><path d=\"M17.41 7.96l-1.37-1.37c-.4-.4-.92-.59-1.43-.59-.52 0-1.04.2-1.43.59L10.3 9.45l-7.72 7.72c-.78.78-.78 2.05 0 2.83L4 21.41c.39.39.9.59 1.41.59.51 0 1.02-.2 1.41-.59l7.78-7.78 2.81-2.81c.8-.78.8-2.07 0-2.86zM5.41 20L4 18.59l7.72-7.72 1.47 1.35L5.41 20z\"/>\n",
              "  </svg>\n",
              "      </button>\n",
              "      \n",
              "  <style>\n",
              "    .colab-df-container {\n",
              "      display:flex;\n",
              "      flex-wrap:wrap;\n",
              "      gap: 12px;\n",
              "    }\n",
              "\n",
              "    .colab-df-convert {\n",
              "      background-color: #E8F0FE;\n",
              "      border: none;\n",
              "      border-radius: 50%;\n",
              "      cursor: pointer;\n",
              "      display: none;\n",
              "      fill: #1967D2;\n",
              "      height: 32px;\n",
              "      padding: 0 0 0 0;\n",
              "      width: 32px;\n",
              "    }\n",
              "\n",
              "    .colab-df-convert:hover {\n",
              "      background-color: #E2EBFA;\n",
              "      box-shadow: 0px 1px 2px rgba(60, 64, 67, 0.3), 0px 1px 3px 1px rgba(60, 64, 67, 0.15);\n",
              "      fill: #174EA6;\n",
              "    }\n",
              "\n",
              "    [theme=dark] .colab-df-convert {\n",
              "      background-color: #3B4455;\n",
              "      fill: #D2E3FC;\n",
              "    }\n",
              "\n",
              "    [theme=dark] .colab-df-convert:hover {\n",
              "      background-color: #434B5C;\n",
              "      box-shadow: 0px 1px 3px 1px rgba(0, 0, 0, 0.15);\n",
              "      filter: drop-shadow(0px 1px 2px rgba(0, 0, 0, 0.3));\n",
              "      fill: #FFFFFF;\n",
              "    }\n",
              "  </style>\n",
              "\n",
              "      <script>\n",
              "        const buttonEl =\n",
              "          document.querySelector('#df-f4cde593-7193-4881-bcbb-3a80bcb08ebe button.colab-df-convert');\n",
              "        buttonEl.style.display =\n",
              "          google.colab.kernel.accessAllowed ? 'block' : 'none';\n",
              "\n",
              "        async function convertToInteractive(key) {\n",
              "          const element = document.querySelector('#df-f4cde593-7193-4881-bcbb-3a80bcb08ebe');\n",
              "          const dataTable =\n",
              "            await google.colab.kernel.invokeFunction('convertToInteractive',\n",
              "                                                     [key], {});\n",
              "          if (!dataTable) return;\n",
              "\n",
              "          const docLinkHtml = 'Like what you see? Visit the ' +\n",
              "            '<a target=\"_blank\" href=https://colab.research.google.com/notebooks/data_table.ipynb>data table notebook</a>'\n",
              "            + ' to learn more about interactive tables.';\n",
              "          element.innerHTML = '';\n",
              "          dataTable['output_type'] = 'display_data';\n",
              "          await google.colab.output.renderOutput(dataTable, element);\n",
              "          const docLink = document.createElement('div');\n",
              "          docLink.innerHTML = docLinkHtml;\n",
              "          element.appendChild(docLink);\n",
              "        }\n",
              "      </script>\n",
              "    </div>\n",
              "  </div>\n",
              "  "
            ]
          },
          "metadata": {},
          "execution_count": 7
        }
      ],
      "source": [
        "# Let's check the summary statistics of the data\n",
        "data.describe().T"
      ]
    },
    {
      "cell_type": "markdown",
      "metadata": {
        "id": "Dwro2RclD222"
      },
      "source": [
        "**Observations:**\n",
        "\n",
        "- The average GRE score of students applying for UCLA is ~316 out of 340. Some students scored full marks on GRE. \n",
        "-  The average TOEFL score of students applying for UCLA is ~107 out of 120. Some students scored full marks on TOEFL.\n",
        "- There are students with all kinds of ratings for bachelor's University, SOP, and LOR - ratings ranging from 1 to 5.\n",
        "-  The average CGPA of students applying for UCLA is 8.57.\n",
        "- Majority of students (~56%) have research experience.\n",
        "- As per our assumption, on average 28.4% of students would get admission to UCLA."
      ]
    },
    {
      "cell_type": "markdown",
      "metadata": {
        "id": "fhotGVGD4hgT"
      },
      "source": [
        "### **Let's visualize the dataset to see some patterns**"
      ]
    },
    {
      "cell_type": "code",
      "execution_count": null,
      "metadata": {
        "colab": {
          "base_uri": "https://localhost:8080/",
          "height": 497
        },
        "id": "vwTqs3205Zk6",
        "outputId": "fd3dc9ca-d979-4e16-8625-9f1fd2b1e939"
      },
      "outputs": [
        {
          "output_type": "display_data",
          "data": {
            "text/plain": [
              "<Figure size 1080x576 with 1 Axes>"
            ],
            "image/png": "[encoded data removed]"
          },
          "metadata": {
            "needs_background": "light"
          }
        }
      ],
      "source": [
        "plt.figure(figsize=(15,8))\n",
        "sns.scatterplot(data=data, \n",
        "           x='GRE Score', \n",
        "           y='TOEFL Score', \n",
        "           hue='Admit',\n",
        "           size='SOP');"
      ]
    },
    {
      "cell_type": "markdown",
      "metadata": {
        "id": "csxwJUu4Kmj4"
      },
      "source": [
        "**Observations:** \n",
        "\n",
        "- There is a linear relationship between GRE and TOEFL scores. This implies that students scoring high one of them would score high in the other as well.\n",
        "- With the increase in GRE and TOEFL scores, the strength of SOP increases. \n",
        "- We can see a distinction between students who were admitted (denoted by orange) vs those who were not admitted (denoted by blue). We can see that majority of students who were admitted have GRE score greater than 320, TOEFL score greater than 105, and SOP of 4 or higher."
      ]
    },
    {
      "cell_type": "code",
      "execution_count": null,
      "metadata": {
        "colab": {
          "base_uri": "https://localhost:8080/",
          "height": 458
        },
        "id": "cEOrIzXp4m4L",
        "outputId": "fdc530b3-7732-4e8a-f91d-ec9a670521fc"
      },
      "outputs": [
        {
          "output_type": "display_data",
          "data": {
            "text/plain": [
              "<Figure size 720x504 with 1 Axes>"
            ],
            "image/png": "[encoded data removed]"
          },
          "metadata": {
            "needs_background": "light"
          }
        }
      ],
      "source": [
        "plt.figure(figsize=(10,7))\n",
        "sns.boxplot(data=data,\n",
        "             x='University Rating', \n",
        "             y='CGPA',\n",
        "             hue='Admit')\n",
        "plt.title('Relationship between different University Rating and CGPA')\n",
        "plt.show()"
      ]
    },
    {
      "cell_type": "markdown",
      "metadata": {
        "id": "qphs_7DPMb05"
      },
      "source": [
        "**Observations:** \n",
        "\n",
        "- We can see that, with increasing university ratings, the CGPA is also increasing, and also the chances of getting admitted to UCLA have increased.\n",
        "- The CGPA of students getting admission to UCLA is higher as compared to students not getting admission to UCLA which makes sense."
      ]
    },
    {
      "cell_type": "markdown",
      "metadata": {
        "id": "ZZP_r2sD7B0P"
      },
      "source": [
        "## **Data Preparation**"
      ]
    },
    {
      "cell_type": "markdown",
      "metadata": {
        "id": "5N2uA8r4MwX6"
      },
      "source": [
        "This dataset contains both numerical and categorical variables. We need to treat them first before we pass them onto the neural network. We will perform the below pre-processing steps: \n",
        "*   One hot encoding of categorical variables\n",
        "*   Scaling numerical variables\n",
        "\n",
        "An important point to remember: Before we scale numerical variables, we would first split the dataset into train and test datasets and perform scaling separately. Otherwise, we would be leaking information from the test data to the train data and the resulting model might give a false sense of good performance. This is known as **data leakage** which we would like to avoid."
      ]
    },
    {
      "cell_type": "markdown",
      "metadata": {
        "id": "M3O6DOWXOWkn"
      },
      "source": [
        "Now, let's split the dataset into train and test datasets. To do that, we would be extracting all the **independent variables** and save them into a variable **features**. And the target variable **Admit** would be saved into a variable **target**. These two variables will be used to split the parent dataset into train and test datasets."
      ]
    },
    {
      "cell_type": "code",
      "execution_count": null,
      "metadata": {
        "id": "7MQ2juQB8IuT"
      },
      "outputs": [],
      "source": [
        "features = data.drop(['Admit'], axis=1)\n",
        "\n",
        "target = data['Admit']"
      ]
    },
    {
      "cell_type": "markdown",
      "metadata": {
        "id": "NuYQ0t2WcBLG"
      },
      "source": [
        "The size of the dataset is small and the Keras implementation provides an argument for selecting some percentage of training data as validation data to check the accuracy of the model. Therefore, we will split the data into an 80:20 ratio."
      ]
    },
    {
      "cell_type": "code",
      "execution_count": null,
      "metadata": {
        "id": "I8fE8aF_7hJY"
      },
      "outputs": [],
      "source": [
        "# Splitting the dataset into train and test data\n",
        "X_train, X_test, y_train, y_test =  train_test_split(features, target, test_size=0.2, random_state=42)"
      ]
    },
    {
      "cell_type": "markdown",
      "metadata": {
        "id": "U883DzGZOwpp"
      },
      "source": [
        "Now, we will perform scaling on the numerical variables separately for train and test sets. We will perform **fit** and **transform** on the train data and then only we will perform **transform** on the test data. "
      ]
    },
    {
      "cell_type": "code",
      "execution_count": null,
      "metadata": {
        "id": "mVdTFnkb8dfQ"
      },
      "outputs": [],
      "source": [
        "scaler = MinMaxScaler()\n",
        "\n",
        "# Here, we are passing all the features (numerical and categorical), that's okay as min-max scaler will not change values of categorical variables\n",
        "X_train_normalized = scaler.fit_transform(X_train)"
      ]
    },
    {
      "cell_type": "code",
      "execution_count": null,
      "metadata": {
        "id": "2VLYxAVu953T"
      },
      "outputs": [],
      "source": [
        "X_test_normalized = scaler.transform(X_test)"
      ]
    },
    {
      "cell_type": "markdown",
      "metadata": {
        "id": "X7VT_t5f9bwR"
      },
      "source": [
        "## **Model Building**"
      ]
    },
    {
      "cell_type": "markdown",
      "metadata": {
        "id": "hbltijMlPVVP"
      },
      "source": [
        "In neural networks, there are so many hyper-parameters that you can play around with and tune the network to get the best results. Some of them are - \n",
        "\n",
        "\n",
        "\n",
        "1.   Number of hidden layers\n",
        "2.   Number of neurons in each hidden layer\n",
        "3.   Activation functions in hidden layers\n",
        "4.   Optimizers\n",
        "5.   Random initialization of weights and biases\n",
        "6.   Batch size\n",
        "7.   Learning rate\n",
        "8.   Early stopping\n",
        "9.   L1 and L2 Regularization\n",
        "10.  Dropout\n",
        "11.  Momentum\n",
        "\n",
        "and so on..."
      ]
    },
    {
      "cell_type": "markdown",
      "metadata": {
        "id": "9YFaopNE_lpw"
      },
      "source": [
        "First, let's set the seed for random number generators in NumPy, Python, and TensorFlow to be able to reproduce the same results everytime we run the code."
      ]
    },
    {
      "cell_type": "code",
      "execution_count": null,
      "metadata": {
        "id": "VTVs7lmH_hXx"
      },
      "outputs": [],
      "source": [
        "# Fixing the seed for random number generators\n",
        "np.random.seed(42)\n",
        "\n",
        "import random\n",
        "random.seed(42)\n",
        "\n",
        "tf.random.set_seed(42)"
      ]
    },
    {
      "cell_type": "markdown",
      "metadata": {
        "id": "tLsxcmgPQ_cG"
      },
      "source": [
        "**Let's build a feed forward neural network with 2 hidden layers and the output layer.**"
      ]
    },
    {
      "cell_type": "code",
      "execution_count": null,
      "metadata": {
        "id": "ytCsjy93BKbK"
      },
      "outputs": [],
      "source": [
        "# We will be adding the layers sequentially\n",
        "model_1 = Sequential()\n",
        "\n",
        "# First hidden layer with 128 neurons and relu activation function, the input shape tuple denotes number of independent variables\n",
        "model_1.add(Dense(128, activation='relu', input_shape=(7,)))\n",
        "\n",
        "# We will be switching 20% of neurons off randomly at each iteration to avoid overfitting\n",
        "model_1.add(Dropout(0.2))\n",
        "\n",
        "# Second hidden layer with 64 neurons and relu activation function\n",
        "model_1.add(Dense(64, activation='relu'))\n",
        "\n",
        "# We will be switching 10% of neurons off randomly at each iteration to avoid overfitting\n",
        "model_1.add(Dropout(0.1))\n",
        "\n",
        "# Output layer with only one neuron and sigmoid as activation function will give the probability of students getting admitted into UCLA  \n",
        "model_1.add(Dense(1, activation='sigmoid'))"
      ]
    },
    {
      "cell_type": "markdown",
      "metadata": {
        "id": "FvBhQn8ZR_HW"
      },
      "source": [
        "Once we are done with the model architecture, we need to compile the model, where we need to provide the loss function that we want to optimize, the optimization algorithm, and the evaluation metric that we are interested in to evaluate the model."
      ]
    },
    {
      "cell_type": "markdown",
      "metadata": {
        "id": "GAP99treSW_4"
      },
      "source": [
        "Since this is a binary classification task, we will be minimizing the **binary_crossentropy** and we can choose one optimizer out of \n",
        "1.   SGD\n",
        "2.   RMSprop\n",
        "3.   Adam\n",
        "4.   Adadelta\n",
        "5.   Adagrad\n",
        "6.   Adamax\n",
        "7.   Nadam\n",
        "8.   Ftrl\n",
        "\n",
        "This is a hyper-parameter. You can play around with these optimizers to check which one performs better with a particular data.\n",
        "\n",
        "For now, let's try **adamax** optimizer with **accuracy** as the metric and see the model's summary."
      ]
    },
    {
      "cell_type": "code",
      "execution_count": null,
      "metadata": {
        "colab": {
          "base_uri": "https://localhost:8080/"
        },
        "id": "2REFSaSx9RBi",
        "outputId": "f33edb14-aab3-4600-afce-2f5bb9de79f1"
      },
      "outputs": [
        {
          "output_type": "stream",
          "name": "stdout",
          "text": [
            "Model: \"sequential\"\n",
            "_________________________________________________________________\n",
            " Layer (type)                Output Shape              Param #   \n",
            "=================================================================\n",
            " dense (Dense)               (None, 128)               1024      \n",
            "                                                                 \n",
            " dropout (Dropout)           (None, 128)               0         \n",
            "                                                                 \n",
            " dense_1 (Dense)             (None, 64)                8256      \n",
            "                                                                 \n",
            " dropout_1 (Dropout)         (None, 64)                0         \n",
            "                                                                 \n",
            " dense_2 (Dense)             (None, 1)                 65        \n",
            "                                                                 \n",
            "=================================================================\n",
            "Total params: 9,345\n",
            "Trainable params: 9,345\n",
            "Non-trainable params: 0\n",
            "_________________________________________________________________\n"
          ]
        }
      ],
      "source": [
        "model_1.compile(loss = 'binary_crossentropy', optimizer='adamax', metrics=['accuracy'])\n",
        "\n",
        "model_1.summary()"
      ]
    },
    {
      "cell_type": "markdown",
      "metadata": {
        "id": "C7W9EYZnTP1P"
      },
      "source": [
        "From the above summary, we can see that this architecture will train a total of **9,857** parameters i.e. weights and biases in the network."
      ]
    },
    {
      "cell_type": "markdown",
      "metadata": {
        "id": "4N6XAn6mA_BD"
      },
      "source": [
        "### **Training the model**"
      ]
    },
    {
      "cell_type": "markdown",
      "metadata": {
        "id": "hmZ5ZSIlUSVH"
      },
      "source": [
        "Let's now train the model using the below piece of code. We will keep the 10% of the training data for validation."
      ]
    },
    {
      "cell_type": "code",
      "execution_count": null,
      "metadata": {
        "colab": {
          "base_uri": "https://localhost:8080/"
        },
        "id": "hkeCQ_K99nob",
        "outputId": "ab9084dd-4d9d-4325-95c5-1392f717b8b8"
      },
      "outputs": [
        {
          "output_type": "stream",
          "name": "stdout",
          "text": [
            "Epoch 1/150\n",
            "12/12 - 4s - loss: 0.6673 - accuracy: 0.7250 - val_loss: 0.7286 - val_accuracy: 0.5750 - 4s/epoch - 343ms/step\n",
            "Epoch 2/150\n",
            "12/12 - 0s - loss: 0.6471 - accuracy: 0.7278 - val_loss: 0.7256 - val_accuracy: 0.5750 - 86ms/epoch - 7ms/step\n",
            "Epoch 3/150\n",
            "12/12 - 0s - loss: 0.6348 - accuracy: 0.7278 - val_loss: 0.7179 - val_accuracy: 0.5750 - 74ms/epoch - 6ms/step\n",
            "Epoch 4/150\n",
            "12/12 - 0s - loss: 0.6195 - accuracy: 0.7278 - val_loss: 0.6950 - val_accuracy: 0.5750 - 50ms/epoch - 4ms/step\n",
            "Epoch 5/150\n",
            "12/12 - 0s - loss: 0.6028 - accuracy: 0.7278 - val_loss: 0.6717 - val_accuracy: 0.5750 - 47ms/epoch - 4ms/step\n",
            "Epoch 6/150\n",
            "12/12 - 0s - loss: 0.5843 - accuracy: 0.7278 - val_loss: 0.6590 - val_accuracy: 0.5750 - 49ms/epoch - 4ms/step\n",
            "Epoch 7/150\n",
            "12/12 - 0s - loss: 0.5683 - accuracy: 0.7306 - val_loss: 0.6287 - val_accuracy: 0.5750 - 46ms/epoch - 4ms/step\n",
            "Epoch 8/150\n",
            "12/12 - 0s - loss: 0.5462 - accuracy: 0.7333 - val_loss: 0.6108 - val_accuracy: 0.5750 - 50ms/epoch - 4ms/step\n",
            "Epoch 9/150\n",
            "12/12 - 0s - loss: 0.5291 - accuracy: 0.7389 - val_loss: 0.5909 - val_accuracy: 0.5750 - 48ms/epoch - 4ms/step\n",
            "Epoch 10/150\n",
            "12/12 - 0s - loss: 0.5090 - accuracy: 0.7444 - val_loss: 0.5695 - val_accuracy: 0.6750 - 64ms/epoch - 5ms/step\n",
            "Epoch 11/150\n",
            "12/12 - 0s - loss: 0.4856 - accuracy: 0.8000 - val_loss: 0.5488 - val_accuracy: 0.7500 - 80ms/epoch - 7ms/step\n",
            "Epoch 12/150\n",
            "12/12 - 0s - loss: 0.4649 - accuracy: 0.8083 - val_loss: 0.5406 - val_accuracy: 0.7500 - 118ms/epoch - 10ms/step\n",
            "Epoch 13/150\n",
            "12/12 - 0s - loss: 0.4502 - accuracy: 0.8278 - val_loss: 0.5172 - val_accuracy: 0.9000 - 139ms/epoch - 12ms/step\n",
            "Epoch 14/150\n",
            "12/12 - 0s - loss: 0.4376 - accuracy: 0.8417 - val_loss: 0.4965 - val_accuracy: 0.9250 - 134ms/epoch - 11ms/step\n",
            "Epoch 15/150\n",
            "12/12 - 0s - loss: 0.4251 - accuracy: 0.8444 - val_loss: 0.4907 - val_accuracy: 0.9250 - 120ms/epoch - 10ms/step\n",
            "Epoch 16/150\n",
            "12/12 - 0s - loss: 0.4107 - accuracy: 0.8417 - val_loss: 0.4663 - val_accuracy: 0.9250 - 90ms/epoch - 7ms/step\n",
            "Epoch 17/150\n",
            "12/12 - 0s - loss: 0.3963 - accuracy: 0.8694 - val_loss: 0.4427 - val_accuracy: 0.9250 - 81ms/epoch - 7ms/step\n",
            "Epoch 18/150\n",
            "12/12 - 0s - loss: 0.3840 - accuracy: 0.8889 - val_loss: 0.4400 - val_accuracy: 0.9250 - 91ms/epoch - 8ms/step\n",
            "Epoch 19/150\n",
            "12/12 - 0s - loss: 0.3778 - accuracy: 0.8861 - val_loss: 0.4272 - val_accuracy: 0.9250 - 66ms/epoch - 5ms/step\n",
            "Epoch 20/150\n",
            "12/12 - 0s - loss: 0.3689 - accuracy: 0.8833 - val_loss: 0.4156 - val_accuracy: 0.9250 - 48ms/epoch - 4ms/step\n",
            "Epoch 21/150\n",
            "12/12 - 0s - loss: 0.3566 - accuracy: 0.8944 - val_loss: 0.4067 - val_accuracy: 0.9250 - 53ms/epoch - 4ms/step\n",
            "Epoch 22/150\n",
            "12/12 - 0s - loss: 0.3428 - accuracy: 0.8944 - val_loss: 0.3862 - val_accuracy: 0.9000 - 48ms/epoch - 4ms/step\n",
            "Epoch 23/150\n",
            "12/12 - 0s - loss: 0.3390 - accuracy: 0.8917 - val_loss: 0.3771 - val_accuracy: 0.9000 - 63ms/epoch - 5ms/step\n",
            "Epoch 24/150\n",
            "12/12 - 0s - loss: 0.3326 - accuracy: 0.8889 - val_loss: 0.3694 - val_accuracy: 0.9000 - 47ms/epoch - 4ms/step\n",
            "Epoch 25/150\n",
            "12/12 - 0s - loss: 0.3257 - accuracy: 0.8944 - val_loss: 0.3609 - val_accuracy: 0.9000 - 55ms/epoch - 5ms/step\n",
            "Epoch 26/150\n",
            "12/12 - 0s - loss: 0.3133 - accuracy: 0.8889 - val_loss: 0.3545 - val_accuracy: 0.9250 - 49ms/epoch - 4ms/step\n",
            "Epoch 27/150\n",
            "12/12 - 0s - loss: 0.3045 - accuracy: 0.9028 - val_loss: 0.3415 - val_accuracy: 0.9000 - 156ms/epoch - 13ms/step\n",
            "Epoch 28/150\n",
            "12/12 - 0s - loss: 0.3012 - accuracy: 0.8944 - val_loss: 0.3492 - val_accuracy: 0.9250 - 133ms/epoch - 11ms/step\n",
            "Epoch 29/150\n",
            "12/12 - 0s - loss: 0.2995 - accuracy: 0.8861 - val_loss: 0.3412 - val_accuracy: 0.9250 - 97ms/epoch - 8ms/step\n",
            "Epoch 30/150\n",
            "12/12 - 0s - loss: 0.2945 - accuracy: 0.8917 - val_loss: 0.3222 - val_accuracy: 0.9000 - 113ms/epoch - 9ms/step\n",
            "Epoch 31/150\n",
            "12/12 - 0s - loss: 0.2837 - accuracy: 0.9083 - val_loss: 0.3221 - val_accuracy: 0.9000 - 110ms/epoch - 9ms/step\n",
            "Epoch 32/150\n",
            "12/12 - 0s - loss: 0.2806 - accuracy: 0.9028 - val_loss: 0.3162 - val_accuracy: 0.9250 - 94ms/epoch - 8ms/step\n",
            "Epoch 33/150\n",
            "12/12 - 0s - loss: 0.2813 - accuracy: 0.9000 - val_loss: 0.3091 - val_accuracy: 0.9000 - 49ms/epoch - 4ms/step\n",
            "Epoch 34/150\n",
            "12/12 - 0s - loss: 0.2695 - accuracy: 0.9083 - val_loss: 0.3082 - val_accuracy: 0.9250 - 55ms/epoch - 5ms/step\n",
            "Epoch 35/150\n",
            "12/12 - 0s - loss: 0.2771 - accuracy: 0.9111 - val_loss: 0.3005 - val_accuracy: 0.9250 - 49ms/epoch - 4ms/step\n",
            "Epoch 36/150\n",
            "12/12 - 0s - loss: 0.2614 - accuracy: 0.9028 - val_loss: 0.2926 - val_accuracy: 0.9000 - 48ms/epoch - 4ms/step\n",
            "Epoch 37/150\n",
            "12/12 - 0s - loss: 0.2663 - accuracy: 0.9028 - val_loss: 0.2856 - val_accuracy: 0.9000 - 49ms/epoch - 4ms/step\n",
            "Epoch 38/150\n",
            "12/12 - 0s - loss: 0.2589 - accuracy: 0.9028 - val_loss: 0.2865 - val_accuracy: 0.9250 - 50ms/epoch - 4ms/step\n",
            "Epoch 39/150\n",
            "12/12 - 0s - loss: 0.2748 - accuracy: 0.8944 - val_loss: 0.2834 - val_accuracy: 0.9250 - 49ms/epoch - 4ms/step\n",
            "Epoch 40/150\n",
            "12/12 - 0s - loss: 0.2560 - accuracy: 0.9000 - val_loss: 0.2720 - val_accuracy: 0.9000 - 49ms/epoch - 4ms/step\n",
            "Epoch 41/150\n",
            "12/12 - 0s - loss: 0.2600 - accuracy: 0.9000 - val_loss: 0.2845 - val_accuracy: 0.9250 - 52ms/epoch - 4ms/step\n",
            "Epoch 42/150\n",
            "12/12 - 0s - loss: 0.2455 - accuracy: 0.8972 - val_loss: 0.2733 - val_accuracy: 0.9000 - 63ms/epoch - 5ms/step\n",
            "Epoch 43/150\n",
            "12/12 - 0s - loss: 0.2474 - accuracy: 0.9028 - val_loss: 0.2856 - val_accuracy: 0.9250 - 47ms/epoch - 4ms/step\n",
            "Epoch 44/150\n",
            "12/12 - 0s - loss: 0.2428 - accuracy: 0.9000 - val_loss: 0.2805 - val_accuracy: 0.9250 - 48ms/epoch - 4ms/step\n",
            "Epoch 45/150\n",
            "12/12 - 0s - loss: 0.2526 - accuracy: 0.8972 - val_loss: 0.2712 - val_accuracy: 0.9000 - 49ms/epoch - 4ms/step\n",
            "Epoch 46/150\n",
            "12/12 - 0s - loss: 0.2433 - accuracy: 0.9111 - val_loss: 0.2703 - val_accuracy: 0.9000 - 47ms/epoch - 4ms/step\n",
            "Epoch 47/150\n",
            "12/12 - 0s - loss: 0.2441 - accuracy: 0.9056 - val_loss: 0.2682 - val_accuracy: 0.9250 - 46ms/epoch - 4ms/step\n",
            "Epoch 48/150\n",
            "12/12 - 0s - loss: 0.2399 - accuracy: 0.9056 - val_loss: 0.2628 - val_accuracy: 0.9000 - 46ms/epoch - 4ms/step\n",
            "Epoch 49/150\n",
            "12/12 - 0s - loss: 0.2378 - accuracy: 0.9028 - val_loss: 0.2655 - val_accuracy: 0.9250 - 47ms/epoch - 4ms/step\n",
            "Epoch 50/150\n",
            "12/12 - 0s - loss: 0.2454 - accuracy: 0.9000 - val_loss: 0.2613 - val_accuracy: 0.9000 - 49ms/epoch - 4ms/step\n",
            "Epoch 51/150\n",
            "12/12 - 0s - loss: 0.2264 - accuracy: 0.9167 - val_loss: 0.2602 - val_accuracy: 0.9000 - 46ms/epoch - 4ms/step\n",
            "Epoch 52/150\n",
            "12/12 - 0s - loss: 0.2236 - accuracy: 0.9111 - val_loss: 0.2602 - val_accuracy: 0.9000 - 49ms/epoch - 4ms/step\n",
            "Epoch 53/150\n",
            "12/12 - 0s - loss: 0.2339 - accuracy: 0.9056 - val_loss: 0.2579 - val_accuracy: 0.9000 - 56ms/epoch - 5ms/step\n",
            "Epoch 54/150\n",
            "12/12 - 0s - loss: 0.2224 - accuracy: 0.9083 - val_loss: 0.2520 - val_accuracy: 0.9000 - 46ms/epoch - 4ms/step\n",
            "Epoch 55/150\n",
            "12/12 - 0s - loss: 0.2242 - accuracy: 0.9056 - val_loss: 0.2483 - val_accuracy: 0.9000 - 45ms/epoch - 4ms/step\n",
            "Epoch 56/150\n",
            "12/12 - 0s - loss: 0.2383 - accuracy: 0.9056 - val_loss: 0.2464 - val_accuracy: 0.9000 - 47ms/epoch - 4ms/step\n",
            "Epoch 57/150\n",
            "12/12 - 0s - loss: 0.2116 - accuracy: 0.9278 - val_loss: 0.2444 - val_accuracy: 0.9000 - 49ms/epoch - 4ms/step\n",
            "Epoch 58/150\n",
            "12/12 - 0s - loss: 0.2323 - accuracy: 0.9000 - val_loss: 0.2438 - val_accuracy: 0.9000 - 46ms/epoch - 4ms/step\n",
            "Epoch 59/150\n",
            "12/12 - 0s - loss: 0.2215 - accuracy: 0.9111 - val_loss: 0.2401 - val_accuracy: 0.9000 - 52ms/epoch - 4ms/step\n",
            "Epoch 60/150\n",
            "12/12 - 0s - loss: 0.2047 - accuracy: 0.9278 - val_loss: 0.2392 - val_accuracy: 0.9000 - 52ms/epoch - 4ms/step\n",
            "Epoch 61/150\n",
            "12/12 - 0s - loss: 0.2260 - accuracy: 0.9167 - val_loss: 0.2486 - val_accuracy: 0.9250 - 65ms/epoch - 5ms/step\n",
            "Epoch 62/150\n",
            "12/12 - 0s - loss: 0.2108 - accuracy: 0.9194 - val_loss: 0.2489 - val_accuracy: 0.9250 - 47ms/epoch - 4ms/step\n",
            "Epoch 63/150\n",
            "12/12 - 0s - loss: 0.2341 - accuracy: 0.9028 - val_loss: 0.2397 - val_accuracy: 0.9000 - 47ms/epoch - 4ms/step\n",
            "Epoch 64/150\n",
            "12/12 - 0s - loss: 0.2190 - accuracy: 0.9083 - val_loss: 0.2385 - val_accuracy: 0.9000 - 49ms/epoch - 4ms/step\n",
            "Epoch 65/150\n",
            "12/12 - 0s - loss: 0.2267 - accuracy: 0.9056 - val_loss: 0.2436 - val_accuracy: 0.9000 - 49ms/epoch - 4ms/step\n",
            "Epoch 66/150\n",
            "12/12 - 0s - loss: 0.2205 - accuracy: 0.9000 - val_loss: 0.2473 - val_accuracy: 0.9250 - 49ms/epoch - 4ms/step\n",
            "Epoch 67/150\n",
            "12/12 - 0s - loss: 0.2221 - accuracy: 0.9111 - val_loss: 0.2352 - val_accuracy: 0.9000 - 48ms/epoch - 4ms/step\n",
            "Epoch 68/150\n",
            "12/12 - 0s - loss: 0.2149 - accuracy: 0.9111 - val_loss: 0.2348 - val_accuracy: 0.9000 - 49ms/epoch - 4ms/step\n",
            "Epoch 69/150\n",
            "12/12 - 0s - loss: 0.2091 - accuracy: 0.9167 - val_loss: 0.2381 - val_accuracy: 0.9000 - 51ms/epoch - 4ms/step\n",
            "Epoch 70/150\n",
            "12/12 - 0s - loss: 0.2037 - accuracy: 0.9139 - val_loss: 0.2390 - val_accuracy: 0.9000 - 45ms/epoch - 4ms/step\n",
            "Epoch 71/150\n",
            "12/12 - 0s - loss: 0.1996 - accuracy: 0.9278 - val_loss: 0.2503 - val_accuracy: 0.9250 - 51ms/epoch - 4ms/step\n",
            "Epoch 72/150\n",
            "12/12 - 0s - loss: 0.2088 - accuracy: 0.9111 - val_loss: 0.2346 - val_accuracy: 0.9000 - 47ms/epoch - 4ms/step\n",
            "Epoch 73/150\n",
            "12/12 - 0s - loss: 0.2053 - accuracy: 0.9167 - val_loss: 0.2369 - val_accuracy: 0.9000 - 48ms/epoch - 4ms/step\n",
            "Epoch 74/150\n",
            "12/12 - 0s - loss: 0.2091 - accuracy: 0.9028 - val_loss: 0.2389 - val_accuracy: 0.9000 - 46ms/epoch - 4ms/step\n",
            "Epoch 75/150\n",
            "12/12 - 0s - loss: 0.2134 - accuracy: 0.9194 - val_loss: 0.2393 - val_accuracy: 0.9000 - 47ms/epoch - 4ms/step\n",
            "Epoch 76/150\n",
            "12/12 - 0s - loss: 0.2071 - accuracy: 0.9167 - val_loss: 0.2417 - val_accuracy: 0.9000 - 56ms/epoch - 5ms/step\n",
            "Epoch 77/150\n",
            "12/12 - 0s - loss: 0.2051 - accuracy: 0.9111 - val_loss: 0.2358 - val_accuracy: 0.9000 - 51ms/epoch - 4ms/step\n",
            "Epoch 78/150\n",
            "12/12 - 0s - loss: 0.2194 - accuracy: 0.9056 - val_loss: 0.2326 - val_accuracy: 0.9000 - 49ms/epoch - 4ms/step\n",
            "Epoch 79/150\n",
            "12/12 - 0s - loss: 0.2108 - accuracy: 0.9028 - val_loss: 0.2396 - val_accuracy: 0.9000 - 48ms/epoch - 4ms/step\n",
            "Epoch 80/150\n",
            "12/12 - 0s - loss: 0.2177 - accuracy: 0.9056 - val_loss: 0.2299 - val_accuracy: 0.9000 - 46ms/epoch - 4ms/step\n",
            "Epoch 81/150\n",
            "12/12 - 0s - loss: 0.2060 - accuracy: 0.9194 - val_loss: 0.2281 - val_accuracy: 0.9000 - 45ms/epoch - 4ms/step\n",
            "Epoch 82/150\n",
            "12/12 - 0s - loss: 0.1968 - accuracy: 0.9222 - val_loss: 0.2385 - val_accuracy: 0.9250 - 64ms/epoch - 5ms/step\n",
            "Epoch 83/150\n",
            "12/12 - 0s - loss: 0.1968 - accuracy: 0.9194 - val_loss: 0.2348 - val_accuracy: 0.9000 - 48ms/epoch - 4ms/step\n",
            "Epoch 84/150\n",
            "12/12 - 0s - loss: 0.1955 - accuracy: 0.9222 - val_loss: 0.2272 - val_accuracy: 0.9000 - 46ms/epoch - 4ms/step\n",
            "Epoch 85/150\n",
            "12/12 - 0s - loss: 0.2159 - accuracy: 0.9194 - val_loss: 0.2335 - val_accuracy: 0.9000 - 47ms/epoch - 4ms/step\n",
            "Epoch 86/150\n",
            "12/12 - 0s - loss: 0.1948 - accuracy: 0.9278 - val_loss: 0.2298 - val_accuracy: 0.9000 - 63ms/epoch - 5ms/step\n",
            "Epoch 87/150\n",
            "12/12 - 0s - loss: 0.2119 - accuracy: 0.9083 - val_loss: 0.2319 - val_accuracy: 0.9000 - 64ms/epoch - 5ms/step\n",
            "Epoch 88/150\n",
            "12/12 - 0s - loss: 0.1945 - accuracy: 0.9167 - val_loss: 0.2371 - val_accuracy: 0.9000 - 72ms/epoch - 6ms/step\n",
            "Epoch 89/150\n",
            "12/12 - 0s - loss: 0.1973 - accuracy: 0.9222 - val_loss: 0.2371 - val_accuracy: 0.9000 - 75ms/epoch - 6ms/step\n",
            "Epoch 90/150\n",
            "12/12 - 0s - loss: 0.2039 - accuracy: 0.9167 - val_loss: 0.2308 - val_accuracy: 0.9000 - 48ms/epoch - 4ms/step\n",
            "Epoch 91/150\n",
            "12/12 - 0s - loss: 0.1962 - accuracy: 0.9139 - val_loss: 0.2359 - val_accuracy: 0.9000 - 48ms/epoch - 4ms/step\n",
            "Epoch 92/150\n",
            "12/12 - 0s - loss: 0.2120 - accuracy: 0.9139 - val_loss: 0.2339 - val_accuracy: 0.9000 - 49ms/epoch - 4ms/step\n",
            "Epoch 93/150\n",
            "12/12 - 0s - loss: 0.1962 - accuracy: 0.9083 - val_loss: 0.2355 - val_accuracy: 0.9000 - 51ms/epoch - 4ms/step\n",
            "Epoch 94/150\n",
            "12/12 - 0s - loss: 0.2040 - accuracy: 0.8944 - val_loss: 0.2396 - val_accuracy: 0.9000 - 65ms/epoch - 5ms/step\n",
            "Epoch 95/150\n",
            "12/12 - 0s - loss: 0.2050 - accuracy: 0.9167 - val_loss: 0.2350 - val_accuracy: 0.9000 - 50ms/epoch - 4ms/step\n",
            "Epoch 96/150\n",
            "12/12 - 0s - loss: 0.2158 - accuracy: 0.9250 - val_loss: 0.2323 - val_accuracy: 0.9000 - 53ms/epoch - 4ms/step\n",
            "Epoch 97/150\n",
            "12/12 - 0s - loss: 0.1839 - accuracy: 0.9139 - val_loss: 0.2313 - val_accuracy: 0.9000 - 52ms/epoch - 4ms/step\n",
            "Epoch 98/150\n",
            "12/12 - 0s - loss: 0.1966 - accuracy: 0.9056 - val_loss: 0.2352 - val_accuracy: 0.9000 - 47ms/epoch - 4ms/step\n",
            "Epoch 99/150\n",
            "12/12 - 0s - loss: 0.2034 - accuracy: 0.9083 - val_loss: 0.2284 - val_accuracy: 0.9000 - 52ms/epoch - 4ms/step\n",
            "Epoch 100/150\n",
            "12/12 - 0s - loss: 0.1955 - accuracy: 0.9167 - val_loss: 0.2279 - val_accuracy: 0.9000 - 49ms/epoch - 4ms/step\n",
            "Epoch 101/150\n",
            "12/12 - 0s - loss: 0.2002 - accuracy: 0.9111 - val_loss: 0.2303 - val_accuracy: 0.9000 - 47ms/epoch - 4ms/step\n",
            "Epoch 102/150\n",
            "12/12 - 0s - loss: 0.2002 - accuracy: 0.9139 - val_loss: 0.2357 - val_accuracy: 0.9000 - 47ms/epoch - 4ms/step\n",
            "Epoch 103/150\n",
            "12/12 - 0s - loss: 0.1976 - accuracy: 0.9056 - val_loss: 0.2273 - val_accuracy: 0.9000 - 48ms/epoch - 4ms/step\n",
            "Epoch 104/150\n",
            "12/12 - 0s - loss: 0.1857 - accuracy: 0.9222 - val_loss: 0.2330 - val_accuracy: 0.9000 - 50ms/epoch - 4ms/step\n",
            "Epoch 105/150\n",
            "12/12 - 0s - loss: 0.1903 - accuracy: 0.9111 - val_loss: 0.2407 - val_accuracy: 0.9000 - 48ms/epoch - 4ms/step\n",
            "Epoch 106/150\n",
            "12/12 - 0s - loss: 0.2061 - accuracy: 0.9167 - val_loss: 0.2322 - val_accuracy: 0.9000 - 48ms/epoch - 4ms/step\n",
            "Epoch 107/150\n",
            "12/12 - 0s - loss: 0.1941 - accuracy: 0.9111 - val_loss: 0.2362 - val_accuracy: 0.9000 - 60ms/epoch - 5ms/step\n",
            "Epoch 108/150\n",
            "12/12 - 0s - loss: 0.1985 - accuracy: 0.9111 - val_loss: 0.2307 - val_accuracy: 0.9000 - 47ms/epoch - 4ms/step\n",
            "Epoch 109/150\n",
            "12/12 - 0s - loss: 0.2018 - accuracy: 0.9083 - val_loss: 0.2257 - val_accuracy: 0.9000 - 51ms/epoch - 4ms/step\n",
            "Epoch 110/150\n",
            "12/12 - 0s - loss: 0.1935 - accuracy: 0.9083 - val_loss: 0.2369 - val_accuracy: 0.9000 - 54ms/epoch - 4ms/step\n",
            "Epoch 111/150\n",
            "12/12 - 0s - loss: 0.1796 - accuracy: 0.9111 - val_loss: 0.2333 - val_accuracy: 0.9000 - 47ms/epoch - 4ms/step\n",
            "Epoch 112/150\n",
            "12/12 - 0s - loss: 0.1979 - accuracy: 0.9194 - val_loss: 0.2288 - val_accuracy: 0.9000 - 46ms/epoch - 4ms/step\n",
            "Epoch 113/150\n",
            "12/12 - 0s - loss: 0.1937 - accuracy: 0.9250 - val_loss: 0.2342 - val_accuracy: 0.9000 - 45ms/epoch - 4ms/step\n",
            "Epoch 114/150\n",
            "12/12 - 0s - loss: 0.1807 - accuracy: 0.9278 - val_loss: 0.2424 - val_accuracy: 0.9000 - 48ms/epoch - 4ms/step\n",
            "Epoch 115/150\n",
            "12/12 - 0s - loss: 0.1834 - accuracy: 0.9222 - val_loss: 0.2368 - val_accuracy: 0.9000 - 50ms/epoch - 4ms/step\n",
            "Epoch 116/150\n",
            "12/12 - 0s - loss: 0.1674 - accuracy: 0.9250 - val_loss: 0.2325 - val_accuracy: 0.9000 - 49ms/epoch - 4ms/step\n",
            "Epoch 117/150\n",
            "12/12 - 0s - loss: 0.1869 - accuracy: 0.9222 - val_loss: 0.2324 - val_accuracy: 0.9000 - 48ms/epoch - 4ms/step\n",
            "Epoch 118/150\n",
            "12/12 - 0s - loss: 0.1932 - accuracy: 0.9083 - val_loss: 0.2384 - val_accuracy: 0.9000 - 46ms/epoch - 4ms/step\n",
            "Epoch 119/150\n",
            "12/12 - 0s - loss: 0.1899 - accuracy: 0.9194 - val_loss: 0.2392 - val_accuracy: 0.9000 - 46ms/epoch - 4ms/step\n",
            "Epoch 120/150\n",
            "12/12 - 0s - loss: 0.1951 - accuracy: 0.9028 - val_loss: 0.2334 - val_accuracy: 0.9000 - 46ms/epoch - 4ms/step\n",
            "Epoch 121/150\n",
            "12/12 - 0s - loss: 0.2012 - accuracy: 0.9139 - val_loss: 0.2301 - val_accuracy: 0.9000 - 48ms/epoch - 4ms/step\n",
            "Epoch 122/150\n",
            "12/12 - 0s - loss: 0.1879 - accuracy: 0.9194 - val_loss: 0.2397 - val_accuracy: 0.9000 - 46ms/epoch - 4ms/step\n",
            "Epoch 123/150\n",
            "12/12 - 0s - loss: 0.1935 - accuracy: 0.9139 - val_loss: 0.2281 - val_accuracy: 0.9000 - 46ms/epoch - 4ms/step\n",
            "Epoch 124/150\n",
            "12/12 - 0s - loss: 0.1989 - accuracy: 0.9167 - val_loss: 0.2247 - val_accuracy: 0.9000 - 45ms/epoch - 4ms/step\n",
            "Epoch 125/150\n",
            "12/12 - 0s - loss: 0.1803 - accuracy: 0.9250 - val_loss: 0.2285 - val_accuracy: 0.9000 - 47ms/epoch - 4ms/step\n",
            "Epoch 126/150\n",
            "12/12 - 0s - loss: 0.1948 - accuracy: 0.9111 - val_loss: 0.2362 - val_accuracy: 0.9000 - 76ms/epoch - 6ms/step\n",
            "Epoch 127/150\n",
            "12/12 - 0s - loss: 0.1888 - accuracy: 0.9222 - val_loss: 0.2314 - val_accuracy: 0.9000 - 51ms/epoch - 4ms/step\n",
            "Epoch 128/150\n",
            "12/12 - 0s - loss: 0.1928 - accuracy: 0.9083 - val_loss: 0.2349 - val_accuracy: 0.9000 - 48ms/epoch - 4ms/step\n",
            "Epoch 129/150\n",
            "12/12 - 0s - loss: 0.1845 - accuracy: 0.9222 - val_loss: 0.2304 - val_accuracy: 0.9000 - 49ms/epoch - 4ms/step\n",
            "Epoch 130/150\n",
            "12/12 - 0s - loss: 0.1780 - accuracy: 0.9167 - val_loss: 0.2365 - val_accuracy: 0.9000 - 46ms/epoch - 4ms/step\n",
            "Epoch 131/150\n",
            "12/12 - 0s - loss: 0.1826 - accuracy: 0.9222 - val_loss: 0.2379 - val_accuracy: 0.9000 - 49ms/epoch - 4ms/step\n",
            "Epoch 132/150\n",
            "12/12 - 0s - loss: 0.1723 - accuracy: 0.9139 - val_loss: 0.2363 - val_accuracy: 0.9000 - 48ms/epoch - 4ms/step\n",
            "Epoch 133/150\n",
            "12/12 - 0s - loss: 0.1823 - accuracy: 0.9222 - val_loss: 0.2286 - val_accuracy: 0.9000 - 51ms/epoch - 4ms/step\n",
            "Epoch 134/150\n",
            "12/12 - 0s - loss: 0.1748 - accuracy: 0.9222 - val_loss: 0.2320 - val_accuracy: 0.9000 - 48ms/epoch - 4ms/step\n",
            "Epoch 135/150\n",
            "12/12 - 0s - loss: 0.1829 - accuracy: 0.9250 - val_loss: 0.2338 - val_accuracy: 0.9000 - 47ms/epoch - 4ms/step\n",
            "Epoch 136/150\n",
            "12/12 - 0s - loss: 0.1839 - accuracy: 0.9333 - val_loss: 0.2395 - val_accuracy: 0.9000 - 49ms/epoch - 4ms/step\n",
            "Epoch 137/150\n",
            "12/12 - 0s - loss: 0.1823 - accuracy: 0.9194 - val_loss: 0.2368 - val_accuracy: 0.9000 - 47ms/epoch - 4ms/step\n",
            "Epoch 138/150\n",
            "12/12 - 0s - loss: 0.1796 - accuracy: 0.9333 - val_loss: 0.2356 - val_accuracy: 0.9000 - 48ms/epoch - 4ms/step\n",
            "Epoch 139/150\n",
            "12/12 - 0s - loss: 0.1968 - accuracy: 0.9083 - val_loss: 0.2308 - val_accuracy: 0.9000 - 48ms/epoch - 4ms/step\n",
            "Epoch 140/150\n",
            "12/12 - 0s - loss: 0.1755 - accuracy: 0.9417 - val_loss: 0.2410 - val_accuracy: 0.9000 - 47ms/epoch - 4ms/step\n",
            "Epoch 141/150\n",
            "12/12 - 0s - loss: 0.1843 - accuracy: 0.9139 - val_loss: 0.2316 - val_accuracy: 0.9000 - 48ms/epoch - 4ms/step\n",
            "Epoch 142/150\n",
            "12/12 - 0s - loss: 0.1769 - accuracy: 0.9194 - val_loss: 0.2329 - val_accuracy: 0.9000 - 48ms/epoch - 4ms/step\n",
            "Epoch 143/150\n",
            "12/12 - 0s - loss: 0.1967 - accuracy: 0.9194 - val_loss: 0.2416 - val_accuracy: 0.9000 - 51ms/epoch - 4ms/step\n",
            "Epoch 144/150\n",
            "12/12 - 0s - loss: 0.1790 - accuracy: 0.9278 - val_loss: 0.2384 - val_accuracy: 0.9000 - 50ms/epoch - 4ms/step\n",
            "Epoch 145/150\n",
            "12/12 - 0s - loss: 0.1706 - accuracy: 0.9139 - val_loss: 0.2319 - val_accuracy: 0.9000 - 55ms/epoch - 5ms/step\n",
            "Epoch 146/150\n",
            "12/12 - 0s - loss: 0.1772 - accuracy: 0.9194 - val_loss: 0.2434 - val_accuracy: 0.9000 - 49ms/epoch - 4ms/step\n",
            "Epoch 147/150\n",
            "12/12 - 0s - loss: 0.1833 - accuracy: 0.9167 - val_loss: 0.2380 - val_accuracy: 0.9000 - 50ms/epoch - 4ms/step\n",
            "Epoch 148/150\n",
            "12/12 - 0s - loss: 0.1968 - accuracy: 0.9139 - val_loss: 0.2377 - val_accuracy: 0.9000 - 47ms/epoch - 4ms/step\n",
            "Epoch 149/150\n",
            "12/12 - 0s - loss: 0.1935 - accuracy: 0.9167 - val_loss: 0.2423 - val_accuracy: 0.9000 - 67ms/epoch - 6ms/step\n",
            "Epoch 150/150\n",
            "12/12 - 0s - loss: 0.1680 - accuracy: 0.9361 - val_loss: 0.2365 - val_accuracy: 0.9000 - 49ms/epoch - 4ms/step\n"
          ]
        }
      ],
      "source": [
        "history_1 = model_1.fit(X_train_normalized, \n",
        "                    y_train,\n",
        "                    validation_split=0.1, \n",
        "                    epochs=150, \n",
        "                    verbose=2)"
      ]
    },
    {
      "cell_type": "markdown",
      "metadata": {
        "id": "EFMmpLAuBC4n"
      },
      "source": [
        "### **Plotting Accuracy vs Epoch Curve**"
      ]
    },
    {
      "cell_type": "code",
      "execution_count": null,
      "metadata": {
        "colab": {
          "base_uri": "https://localhost:8080/",
          "height": 295
        },
        "id": "oe8CUImT-8xf",
        "outputId": "dc3a7310-7b1b-421f-e545-9dfe78e374fc"
      },
      "outputs": [
        {
          "output_type": "display_data",
          "data": {
            "text/plain": [
              "<Figure size 432x288 with 1 Axes>"
            ],
            "image/png": "[encoded data removed]"
          },
          "metadata": {
            "needs_background": "light"
          }
        }
      ],
      "source": [
        "plt.plot(history_1.history['accuracy'])\n",
        "plt.plot(history_1.history['val_accuracy'])\n",
        "plt.title('Accuracy vs Epochs')\n",
        "plt.ylabel('Accuracy')\n",
        "plt.xlabel('Epoch')\n",
        "plt.legend(['Train', 'Validation'], loc='lower right')\n",
        "plt.show()"
      ]
    },
    {
      "cell_type": "markdown",
      "metadata": {
        "id": "K8cyNSpIjURF"
      },
      "source": [
        "**Observations:**\n",
        "\n",
        "- The training accuracy is fluctuating but overall it is increasing with the increase in the epochs.\n",
        "- The validation accuracy is constant between ~80 to 150 epochs.\n",
        "- The model is giving good accuracy. After 150 epochs, the accuracy of the model on the training data is about 93% and the validation accuracy is 90%.\n",
        "- The validation accuracy is closer to the training accuracy. This indicates that the model is giving a generalized performance."
      ]
    },
    {
      "cell_type": "markdown",
      "metadata": {
        "id": "e3lV6QFMVqQh"
      },
      "source": [
        "Let's try to increase the model complexity by tuning some of the hyper-parameters mentioned earlier and check if we can improve the model performance. Out of all the options we have, let's try to change the number of hidden layers, the number of neurons in each hidden layer, the activation function in the hidden layer, and the optimizer from **adamax** to **adam**. Also, we have observed that validation accuracy became constant after some epochs, let's try less number of epochs which would also reduce the computation time. "
      ]
    },
    {
      "cell_type": "markdown",
      "metadata": {
        "id": "TcLYYkZo6PaW"
      },
      "source": [
        "First, we need to clear the previous model's history from the session. In Keras, we need special command to clear the model's history otherwise the previous model history remains in the backend.\n",
        "Also, let's fix the seed again after clearing the backend."
      ]
    },
    {
      "cell_type": "code",
      "execution_count": null,
      "metadata": {
        "id": "_GQu0Mv56_IH"
      },
      "outputs": [],
      "source": [
        "# Clearing backend\n",
        "from tensorflow.keras import backend\n",
        "backend.clear_session()"
      ]
    },
    {
      "cell_type": "code",
      "execution_count": null,
      "metadata": {
        "id": "7PIxvVI0LqbV"
      },
      "outputs": [],
      "source": [
        "# Fixing the seed for random number generators\n",
        "np.random.seed(42)\n",
        "\n",
        "import random\n",
        "random.seed(42)\n",
        "\n",
        "tf.random.set_seed(42)"
      ]
    },
    {
      "cell_type": "code",
      "execution_count": null,
      "metadata": {
        "id": "S23oRyS2XJZW"
      },
      "outputs": [],
      "source": [
        "model_2 = Sequential()\n",
        "model_2.add(Dense(128, activation='tanh', input_shape=(7,)))\n",
        "model_2.add(Dropout(0.1))\n",
        "model_2.add(Dense(64, activation='tanh'))\n",
        "model_2.add(Dropout(0.1))\n",
        "model_2.add(Dense(32, activation='tanh'))\n",
        "model_2.add(Dense(1, activation='sigmoid'))"
      ]
    },
    {
      "cell_type": "code",
      "execution_count": null,
      "metadata": {
        "colab": {
          "base_uri": "https://localhost:8080/"
        },
        "id": "DT1QFebrV9ZC",
        "outputId": "2a86a95d-2b77-4cb1-a8fa-455c45f7d11b"
      },
      "outputs": [
        {
          "output_type": "stream",
          "name": "stdout",
          "text": [
            "Model: \"sequential\"\n",
            "_________________________________________________________________\n",
            " Layer (type)                Output Shape              Param #   \n",
            "=================================================================\n",
            " dense (Dense)               (None, 128)               1024      \n",
            "                                                                 \n",
            " dropout (Dropout)           (None, 128)               0         \n",
            "                                                                 \n",
            " dense_1 (Dense)             (None, 64)                8256      \n",
            "                                                                 \n",
            " dropout_1 (Dropout)         (None, 64)                0         \n",
            "                                                                 \n",
            " dense_2 (Dense)             (None, 32)                2080      \n",
            "                                                                 \n",
            " dense_3 (Dense)             (None, 1)                 33        \n",
            "                                                                 \n",
            "=================================================================\n",
            "Total params: 11,393\n",
            "Trainable params: 11,393\n",
            "Non-trainable params: 0\n",
            "_________________________________________________________________\n"
          ]
        }
      ],
      "source": [
        "model_2.compile(loss = 'binary_crossentropy', optimizer='adam', metrics=['accuracy'])\n",
        "model_2.summary()"
      ]
    },
    {
      "cell_type": "code",
      "execution_count": null,
      "metadata": {
        "colab": {
          "base_uri": "https://localhost:8080/"
        },
        "id": "d0mHas6KV9f9",
        "outputId": "759ba542-fc93-4a84-aadf-1f569757001b"
      },
      "outputs": [
        {
          "output_type": "stream",
          "name": "stdout",
          "text": [
            "Epoch 1/100\n",
            "12/12 - 1s - loss: 0.6485 - accuracy: 0.7139 - val_loss: 0.7087 - val_accuracy: 0.5500 - 692ms/epoch - 58ms/step\n",
            "Epoch 2/100\n",
            "12/12 - 0s - loss: 0.5760 - accuracy: 0.7167 - val_loss: 0.6759 - val_accuracy: 0.5250 - 47ms/epoch - 4ms/step\n",
            "Epoch 3/100\n",
            "12/12 - 0s - loss: 0.5257 - accuracy: 0.6972 - val_loss: 0.6083 - val_accuracy: 0.5500 - 56ms/epoch - 5ms/step\n",
            "Epoch 4/100\n",
            "12/12 - 0s - loss: 0.4879 - accuracy: 0.7417 - val_loss: 0.5568 - val_accuracy: 0.8000 - 46ms/epoch - 4ms/step\n",
            "Epoch 5/100\n",
            "12/12 - 0s - loss: 0.4445 - accuracy: 0.7944 - val_loss: 0.5106 - val_accuracy: 0.8750 - 47ms/epoch - 4ms/step\n",
            "Epoch 6/100\n",
            "12/12 - 0s - loss: 0.4130 - accuracy: 0.8278 - val_loss: 0.4369 - val_accuracy: 0.8000 - 67ms/epoch - 6ms/step\n",
            "Epoch 7/100\n",
            "12/12 - 0s - loss: 0.3738 - accuracy: 0.8500 - val_loss: 0.4603 - val_accuracy: 0.8500 - 50ms/epoch - 4ms/step\n",
            "Epoch 8/100\n",
            "12/12 - 0s - loss: 0.3443 - accuracy: 0.8778 - val_loss: 0.3709 - val_accuracy: 0.9250 - 48ms/epoch - 4ms/step\n",
            "Epoch 9/100\n",
            "12/12 - 0s - loss: 0.3208 - accuracy: 0.8722 - val_loss: 0.3153 - val_accuracy: 0.9000 - 49ms/epoch - 4ms/step\n",
            "Epoch 10/100\n",
            "12/12 - 0s - loss: 0.2864 - accuracy: 0.8944 - val_loss: 0.2893 - val_accuracy: 0.9250 - 48ms/epoch - 4ms/step\n",
            "Epoch 11/100\n",
            "12/12 - 0s - loss: 0.2609 - accuracy: 0.9000 - val_loss: 0.3963 - val_accuracy: 0.8500 - 53ms/epoch - 4ms/step\n",
            "Epoch 12/100\n",
            "12/12 - 0s - loss: 0.2691 - accuracy: 0.8778 - val_loss: 0.2662 - val_accuracy: 0.9250 - 48ms/epoch - 4ms/step\n",
            "Epoch 13/100\n",
            "12/12 - 0s - loss: 0.2376 - accuracy: 0.9111 - val_loss: 0.2769 - val_accuracy: 0.9250 - 49ms/epoch - 4ms/step\n",
            "Epoch 14/100\n",
            "12/12 - 0s - loss: 0.2303 - accuracy: 0.9000 - val_loss: 0.3734 - val_accuracy: 0.8750 - 64ms/epoch - 5ms/step\n",
            "Epoch 15/100\n",
            "12/12 - 0s - loss: 0.2513 - accuracy: 0.8972 - val_loss: 0.2422 - val_accuracy: 0.9000 - 52ms/epoch - 4ms/step\n",
            "Epoch 16/100\n",
            "12/12 - 0s - loss: 0.2244 - accuracy: 0.9028 - val_loss: 0.2421 - val_accuracy: 0.9250 - 52ms/epoch - 4ms/step\n",
            "Epoch 17/100\n",
            "12/12 - 0s - loss: 0.2322 - accuracy: 0.9056 - val_loss: 0.2688 - val_accuracy: 0.9250 - 49ms/epoch - 4ms/step\n",
            "Epoch 18/100\n",
            "12/12 - 0s - loss: 0.2136 - accuracy: 0.9083 - val_loss: 0.2329 - val_accuracy: 0.9250 - 49ms/epoch - 4ms/step\n",
            "Epoch 19/100\n",
            "12/12 - 0s - loss: 0.2035 - accuracy: 0.9000 - val_loss: 0.2450 - val_accuracy: 0.9000 - 54ms/epoch - 4ms/step\n",
            "Epoch 20/100\n",
            "12/12 - 0s - loss: 0.1878 - accuracy: 0.9194 - val_loss: 0.2578 - val_accuracy: 0.9250 - 49ms/epoch - 4ms/step\n",
            "Epoch 21/100\n",
            "12/12 - 0s - loss: 0.2062 - accuracy: 0.9000 - val_loss: 0.2407 - val_accuracy: 0.9250 - 57ms/epoch - 5ms/step\n",
            "Epoch 22/100\n",
            "12/12 - 0s - loss: 0.1906 - accuracy: 0.9167 - val_loss: 0.2350 - val_accuracy: 0.9500 - 46ms/epoch - 4ms/step\n",
            "Epoch 23/100\n",
            "12/12 - 0s - loss: 0.1958 - accuracy: 0.9056 - val_loss: 0.2551 - val_accuracy: 0.9250 - 50ms/epoch - 4ms/step\n",
            "Epoch 24/100\n",
            "12/12 - 0s - loss: 0.2022 - accuracy: 0.9056 - val_loss: 0.2827 - val_accuracy: 0.9250 - 52ms/epoch - 4ms/step\n",
            "Epoch 25/100\n",
            "12/12 - 0s - loss: 0.1955 - accuracy: 0.9139 - val_loss: 0.2423 - val_accuracy: 0.9250 - 47ms/epoch - 4ms/step\n",
            "Epoch 26/100\n",
            "12/12 - 0s - loss: 0.2020 - accuracy: 0.9194 - val_loss: 0.2371 - val_accuracy: 0.9250 - 48ms/epoch - 4ms/step\n",
            "Epoch 27/100\n",
            "12/12 - 0s - loss: 0.1885 - accuracy: 0.9167 - val_loss: 0.2599 - val_accuracy: 0.9250 - 51ms/epoch - 4ms/step\n",
            "Epoch 28/100\n",
            "12/12 - 0s - loss: 0.1821 - accuracy: 0.9111 - val_loss: 0.2411 - val_accuracy: 0.9250 - 65ms/epoch - 5ms/step\n",
            "Epoch 29/100\n",
            "12/12 - 0s - loss: 0.2002 - accuracy: 0.9056 - val_loss: 0.2515 - val_accuracy: 0.9250 - 47ms/epoch - 4ms/step\n",
            "Epoch 30/100\n",
            "12/12 - 0s - loss: 0.2147 - accuracy: 0.8889 - val_loss: 0.2723 - val_accuracy: 0.9250 - 48ms/epoch - 4ms/step\n",
            "Epoch 31/100\n",
            "12/12 - 0s - loss: 0.1791 - accuracy: 0.9250 - val_loss: 0.2647 - val_accuracy: 0.9000 - 48ms/epoch - 4ms/step\n",
            "Epoch 32/100\n",
            "12/12 - 0s - loss: 0.1862 - accuracy: 0.9194 - val_loss: 0.2379 - val_accuracy: 0.9250 - 55ms/epoch - 5ms/step\n",
            "Epoch 33/100\n",
            "12/12 - 0s - loss: 0.1902 - accuracy: 0.9194 - val_loss: 0.2562 - val_accuracy: 0.9000 - 48ms/epoch - 4ms/step\n",
            "Epoch 34/100\n",
            "12/12 - 0s - loss: 0.1766 - accuracy: 0.9250 - val_loss: 0.2629 - val_accuracy: 0.9250 - 48ms/epoch - 4ms/step\n",
            "Epoch 35/100\n",
            "12/12 - 0s - loss: 0.1824 - accuracy: 0.9222 - val_loss: 0.2462 - val_accuracy: 0.9250 - 49ms/epoch - 4ms/step\n",
            "Epoch 36/100\n",
            "12/12 - 0s - loss: 0.1984 - accuracy: 0.9139 - val_loss: 0.2576 - val_accuracy: 0.9000 - 48ms/epoch - 4ms/step\n",
            "Epoch 37/100\n",
            "12/12 - 0s - loss: 0.1677 - accuracy: 0.9250 - val_loss: 0.2434 - val_accuracy: 0.9250 - 49ms/epoch - 4ms/step\n",
            "Epoch 38/100\n",
            "12/12 - 0s - loss: 0.1789 - accuracy: 0.9139 - val_loss: 0.2450 - val_accuracy: 0.9250 - 50ms/epoch - 4ms/step\n",
            "Epoch 39/100\n",
            "12/12 - 0s - loss: 0.1878 - accuracy: 0.9167 - val_loss: 0.2351 - val_accuracy: 0.9500 - 56ms/epoch - 5ms/step\n",
            "Epoch 40/100\n",
            "12/12 - 0s - loss: 0.1629 - accuracy: 0.9278 - val_loss: 0.2966 - val_accuracy: 0.9250 - 51ms/epoch - 4ms/step\n",
            "Epoch 41/100\n",
            "12/12 - 0s - loss: 0.1847 - accuracy: 0.9250 - val_loss: 0.2394 - val_accuracy: 0.9500 - 51ms/epoch - 4ms/step\n",
            "Epoch 42/100\n",
            "12/12 - 0s - loss: 0.1651 - accuracy: 0.9250 - val_loss: 0.2556 - val_accuracy: 0.9000 - 53ms/epoch - 4ms/step\n",
            "Epoch 43/100\n",
            "12/12 - 0s - loss: 0.1697 - accuracy: 0.9167 - val_loss: 0.2489 - val_accuracy: 0.9000 - 54ms/epoch - 5ms/step\n",
            "Epoch 44/100\n",
            "12/12 - 0s - loss: 0.1699 - accuracy: 0.9250 - val_loss: 0.2380 - val_accuracy: 0.9500 - 49ms/epoch - 4ms/step\n",
            "Epoch 45/100\n",
            "12/12 - 0s - loss: 0.1855 - accuracy: 0.9222 - val_loss: 0.2402 - val_accuracy: 0.9250 - 48ms/epoch - 4ms/step\n",
            "Epoch 46/100\n",
            "12/12 - 0s - loss: 0.1730 - accuracy: 0.9167 - val_loss: 0.2412 - val_accuracy: 0.9250 - 48ms/epoch - 4ms/step\n",
            "Epoch 47/100\n",
            "12/12 - 0s - loss: 0.1736 - accuracy: 0.9139 - val_loss: 0.2496 - val_accuracy: 0.9000 - 49ms/epoch - 4ms/step\n",
            "Epoch 48/100\n",
            "12/12 - 0s - loss: 0.1679 - accuracy: 0.9222 - val_loss: 0.2485 - val_accuracy: 0.9000 - 49ms/epoch - 4ms/step\n",
            "Epoch 49/100\n",
            "12/12 - 0s - loss: 0.1794 - accuracy: 0.9306 - val_loss: 0.2394 - val_accuracy: 0.9250 - 48ms/epoch - 4ms/step\n",
            "Epoch 50/100\n",
            "12/12 - 0s - loss: 0.1678 - accuracy: 0.9250 - val_loss: 0.2625 - val_accuracy: 0.9000 - 51ms/epoch - 4ms/step\n",
            "Epoch 51/100\n",
            "12/12 - 0s - loss: 0.1630 - accuracy: 0.9167 - val_loss: 0.2494 - val_accuracy: 0.9500 - 49ms/epoch - 4ms/step\n",
            "Epoch 52/100\n",
            "12/12 - 0s - loss: 0.1691 - accuracy: 0.9250 - val_loss: 0.2515 - val_accuracy: 0.9000 - 49ms/epoch - 4ms/step\n",
            "Epoch 53/100\n",
            "12/12 - 0s - loss: 0.1686 - accuracy: 0.9139 - val_loss: 0.2884 - val_accuracy: 0.9250 - 48ms/epoch - 4ms/step\n",
            "Epoch 54/100\n",
            "12/12 - 0s - loss: 0.1977 - accuracy: 0.9139 - val_loss: 0.2513 - val_accuracy: 0.9250 - 54ms/epoch - 4ms/step\n",
            "Epoch 55/100\n",
            "12/12 - 0s - loss: 0.1787 - accuracy: 0.9194 - val_loss: 0.2503 - val_accuracy: 0.9250 - 48ms/epoch - 4ms/step\n",
            "Epoch 56/100\n",
            "12/12 - 0s - loss: 0.1874 - accuracy: 0.9056 - val_loss: 0.2590 - val_accuracy: 0.9250 - 49ms/epoch - 4ms/step\n",
            "Epoch 57/100\n",
            "12/12 - 0s - loss: 0.1630 - accuracy: 0.9222 - val_loss: 0.2377 - val_accuracy: 0.9500 - 54ms/epoch - 5ms/step\n",
            "Epoch 58/100\n",
            "12/12 - 0s - loss: 0.1638 - accuracy: 0.9222 - val_loss: 0.2377 - val_accuracy: 0.9500 - 58ms/epoch - 5ms/step\n",
            "Epoch 59/100\n",
            "12/12 - 0s - loss: 0.1963 - accuracy: 0.9083 - val_loss: 0.2673 - val_accuracy: 0.9250 - 49ms/epoch - 4ms/step\n",
            "Epoch 60/100\n",
            "12/12 - 0s - loss: 0.1891 - accuracy: 0.9222 - val_loss: 0.2462 - val_accuracy: 0.9000 - 49ms/epoch - 4ms/step\n",
            "Epoch 61/100\n",
            "12/12 - 0s - loss: 0.1632 - accuracy: 0.9361 - val_loss: 0.2429 - val_accuracy: 0.9250 - 48ms/epoch - 4ms/step\n",
            "Epoch 62/100\n",
            "12/12 - 0s - loss: 0.1596 - accuracy: 0.9333 - val_loss: 0.2512 - val_accuracy: 0.9000 - 49ms/epoch - 4ms/step\n",
            "Epoch 63/100\n",
            "12/12 - 0s - loss: 0.1658 - accuracy: 0.9250 - val_loss: 0.2383 - val_accuracy: 0.9250 - 47ms/epoch - 4ms/step\n",
            "Epoch 64/100\n",
            "12/12 - 0s - loss: 0.1745 - accuracy: 0.9111 - val_loss: 0.2533 - val_accuracy: 0.9250 - 48ms/epoch - 4ms/step\n",
            "Epoch 65/100\n",
            "12/12 - 0s - loss: 0.1729 - accuracy: 0.9194 - val_loss: 0.2599 - val_accuracy: 0.9250 - 53ms/epoch - 4ms/step\n",
            "Epoch 66/100\n",
            "12/12 - 0s - loss: 0.1845 - accuracy: 0.9139 - val_loss: 0.2388 - val_accuracy: 0.9500 - 49ms/epoch - 4ms/step\n",
            "Epoch 67/100\n",
            "12/12 - 0s - loss: 0.1874 - accuracy: 0.9111 - val_loss: 0.2632 - val_accuracy: 0.9250 - 48ms/epoch - 4ms/step\n",
            "Epoch 68/100\n",
            "12/12 - 0s - loss: 0.1864 - accuracy: 0.9194 - val_loss: 0.2838 - val_accuracy: 0.9250 - 49ms/epoch - 4ms/step\n",
            "Epoch 69/100\n",
            "12/12 - 0s - loss: 0.1742 - accuracy: 0.9222 - val_loss: 0.2447 - val_accuracy: 0.9250 - 53ms/epoch - 4ms/step\n",
            "Epoch 70/100\n",
            "12/12 - 0s - loss: 0.1632 - accuracy: 0.9222 - val_loss: 0.2581 - val_accuracy: 0.9000 - 46ms/epoch - 4ms/step\n",
            "Epoch 71/100\n",
            "12/12 - 0s - loss: 0.1703 - accuracy: 0.9306 - val_loss: 0.2451 - val_accuracy: 0.9500 - 48ms/epoch - 4ms/step\n",
            "Epoch 72/100\n",
            "12/12 - 0s - loss: 0.1747 - accuracy: 0.9111 - val_loss: 0.2911 - val_accuracy: 0.9250 - 48ms/epoch - 4ms/step\n",
            "Epoch 73/100\n",
            "12/12 - 0s - loss: 0.1595 - accuracy: 0.9278 - val_loss: 0.2359 - val_accuracy: 0.9500 - 47ms/epoch - 4ms/step\n",
            "Epoch 74/100\n",
            "12/12 - 0s - loss: 0.1716 - accuracy: 0.9222 - val_loss: 0.2719 - val_accuracy: 0.9250 - 50ms/epoch - 4ms/step\n",
            "Epoch 75/100\n",
            "12/12 - 0s - loss: 0.1723 - accuracy: 0.9194 - val_loss: 0.2461 - val_accuracy: 0.9250 - 51ms/epoch - 4ms/step\n",
            "Epoch 76/100\n",
            "12/12 - 0s - loss: 0.1624 - accuracy: 0.9194 - val_loss: 0.2409 - val_accuracy: 0.9250 - 60ms/epoch - 5ms/step\n",
            "Epoch 77/100\n",
            "12/12 - 0s - loss: 0.1599 - accuracy: 0.9222 - val_loss: 0.2412 - val_accuracy: 0.9250 - 49ms/epoch - 4ms/step\n",
            "Epoch 78/100\n",
            "12/12 - 0s - loss: 0.1546 - accuracy: 0.9333 - val_loss: 0.2535 - val_accuracy: 0.9250 - 53ms/epoch - 4ms/step\n",
            "Epoch 79/100\n",
            "12/12 - 0s - loss: 0.1533 - accuracy: 0.9278 - val_loss: 0.2481 - val_accuracy: 0.9250 - 47ms/epoch - 4ms/step\n",
            "Epoch 80/100\n",
            "12/12 - 0s - loss: 0.1888 - accuracy: 0.9194 - val_loss: 0.2834 - val_accuracy: 0.9250 - 48ms/epoch - 4ms/step\n",
            "Epoch 81/100\n",
            "12/12 - 0s - loss: 0.1661 - accuracy: 0.9333 - val_loss: 0.2314 - val_accuracy: 0.9250 - 48ms/epoch - 4ms/step\n",
            "Epoch 82/100\n",
            "12/12 - 0s - loss: 0.1656 - accuracy: 0.9222 - val_loss: 0.2364 - val_accuracy: 0.9250 - 48ms/epoch - 4ms/step\n",
            "Epoch 83/100\n",
            "12/12 - 0s - loss: 0.1613 - accuracy: 0.9306 - val_loss: 0.2612 - val_accuracy: 0.9250 - 48ms/epoch - 4ms/step\n",
            "Epoch 84/100\n",
            "12/12 - 0s - loss: 0.1583 - accuracy: 0.9250 - val_loss: 0.2403 - val_accuracy: 0.9250 - 47ms/epoch - 4ms/step\n",
            "Epoch 85/100\n",
            "12/12 - 0s - loss: 0.1564 - accuracy: 0.9389 - val_loss: 0.2611 - val_accuracy: 0.9250 - 47ms/epoch - 4ms/step\n",
            "Epoch 86/100\n",
            "12/12 - 0s - loss: 0.1727 - accuracy: 0.9194 - val_loss: 0.2528 - val_accuracy: 0.9250 - 48ms/epoch - 4ms/step\n",
            "Epoch 87/100\n",
            "12/12 - 0s - loss: 0.1591 - accuracy: 0.9250 - val_loss: 0.2622 - val_accuracy: 0.9250 - 72ms/epoch - 6ms/step\n",
            "Epoch 88/100\n",
            "12/12 - 0s - loss: 0.1856 - accuracy: 0.9056 - val_loss: 0.2371 - val_accuracy: 0.9250 - 49ms/epoch - 4ms/step\n",
            "Epoch 89/100\n",
            "12/12 - 0s - loss: 0.1502 - accuracy: 0.9333 - val_loss: 0.2498 - val_accuracy: 0.9250 - 48ms/epoch - 4ms/step\n",
            "Epoch 90/100\n",
            "12/12 - 0s - loss: 0.1757 - accuracy: 0.9139 - val_loss: 0.2581 - val_accuracy: 0.9250 - 47ms/epoch - 4ms/step\n",
            "Epoch 91/100\n",
            "12/12 - 0s - loss: 0.1595 - accuracy: 0.9278 - val_loss: 0.2535 - val_accuracy: 0.9000 - 48ms/epoch - 4ms/step\n",
            "Epoch 92/100\n",
            "12/12 - 0s - loss: 0.1671 - accuracy: 0.9250 - val_loss: 0.2561 - val_accuracy: 0.9250 - 48ms/epoch - 4ms/step\n",
            "Epoch 93/100\n",
            "12/12 - 0s - loss: 0.1684 - accuracy: 0.9167 - val_loss: 0.2411 - val_accuracy: 0.9250 - 50ms/epoch - 4ms/step\n",
            "Epoch 94/100\n",
            "12/12 - 0s - loss: 0.1696 - accuracy: 0.9250 - val_loss: 0.2564 - val_accuracy: 0.9000 - 48ms/epoch - 4ms/step\n",
            "Epoch 95/100\n",
            "12/12 - 0s - loss: 0.1572 - accuracy: 0.9250 - val_loss: 0.2426 - val_accuracy: 0.9250 - 57ms/epoch - 5ms/step\n",
            "Epoch 96/100\n",
            "12/12 - 0s - loss: 0.1669 - accuracy: 0.9278 - val_loss: 0.2459 - val_accuracy: 0.9250 - 55ms/epoch - 5ms/step\n",
            "Epoch 97/100\n",
            "12/12 - 0s - loss: 0.1644 - accuracy: 0.9306 - val_loss: 0.2745 - val_accuracy: 0.9250 - 54ms/epoch - 4ms/step\n",
            "Epoch 98/100\n",
            "12/12 - 0s - loss: 0.1641 - accuracy: 0.9194 - val_loss: 0.2393 - val_accuracy: 0.9500 - 66ms/epoch - 6ms/step\n",
            "Epoch 99/100\n",
            "12/12 - 0s - loss: 0.1793 - accuracy: 0.9056 - val_loss: 0.2817 - val_accuracy: 0.9250 - 64ms/epoch - 5ms/step\n",
            "Epoch 100/100\n",
            "12/12 - 0s - loss: 0.1538 - accuracy: 0.9306 - val_loss: 0.2406 - val_accuracy: 0.9500 - 49ms/epoch - 4ms/step\n"
          ]
        }
      ],
      "source": [
        "history_2 = model_2.fit(X_train_normalized, \n",
        "                    y_train, \n",
        "                    validation_split=0.1, \n",
        "                    epochs=100, \n",
        "                    verbose=2)"
      ]
    },
    {
      "cell_type": "code",
      "execution_count": null,
      "metadata": {
        "colab": {
          "base_uri": "https://localhost:8080/",
          "height": 295
        },
        "id": "i96cw1viV9om",
        "outputId": "9a42a705-5e24-4c30-8cc0-d1f4e89a6d46"
      },
      "outputs": [
        {
          "output_type": "display_data",
          "data": {
            "text/plain": [
              "<Figure size 432x288 with 1 Axes>"
            ],
            "image/png": "[encoded data removed]"
          },
          "metadata": {
            "needs_background": "light"
          }
        }
      ],
      "source": [
        "plt.plot(history_2.history['accuracy'])\n",
        "plt.plot(history_2.history['val_accuracy'])\n",
        "plt.title('Accuracy vs Epochs')\n",
        "plt.ylabel('Accuracy')\n",
        "plt.xlabel('Epoch')\n",
        "plt.legend(['Train', 'Validation'], loc='lower right')\n",
        "plt.show()"
      ]
    },
    {
      "cell_type": "markdown",
      "metadata": {
        "id": "Iu0UbJjKAi8z"
      },
      "source": [
        "**Observations:** \n",
        "\n",
        "- We are able to slightly improve the model performance on the training data but the validation accuracy has increased by 5%.\n",
        "- The validation accuracy is higher than the training accuracy. This might due to the small size of the validation set and the model is able is to correctly classify the data points in the validation set."
      ]
    },
    {
      "cell_type": "markdown",
      "metadata": {
        "id": "TLXYwazvu0jQ"
      },
      "source": [
        "**Let's try to further tune some of the hyper-parameters and check if we can improve the model performance.**\n",
        "\n",
        "We will use learning_rate = 0.001 for the optimizer in the training process and increase the model complexity by further increasing the number of layers, the number of nodes in each layer, and the epochs."
      ]
    },
    {
      "cell_type": "code",
      "execution_count": null,
      "metadata": {
        "id": "N7aNw91z_wgD"
      },
      "outputs": [],
      "source": [
        "# Clearing the backend\n",
        "from tensorflow.keras import backend\n",
        "backend.clear_session()"
      ]
    },
    {
      "cell_type": "code",
      "execution_count": null,
      "metadata": {
        "id": "1HMdf0uSO3uw"
      },
      "outputs": [],
      "source": [
        "# Fixing the seed for random number generators\n",
        "np.random.seed(42)\n",
        "\n",
        "import random\n",
        "random.seed(42)\n",
        "\n",
        "tf.random.set_seed(42)"
      ]
    },
    {
      "cell_type": "code",
      "execution_count": null,
      "metadata": {
        "id": "xRpBpRf_vXJO"
      },
      "outputs": [],
      "source": [
        "model_3 = Sequential()\n",
        "model_3.add(Dense(256, activation='tanh', input_shape=(7,)))\n",
        "model_3.add(Dropout(0.1))\n",
        "model_3.add(Dense(128, activation='tanh'))\n",
        "model_3.add(Dropout(0.1))\n",
        "model_3.add(Dense(64, activation='tanh'))\n",
        "model_3.add(Dropout(0.1))\n",
        "model_3.add(Dense(32, activation='tanh'))\n",
        "model_3.add(Dense(1, activation='sigmoid'))"
      ]
    },
    {
      "cell_type": "code",
      "execution_count": null,
      "metadata": {
        "colab": {
          "base_uri": "https://localhost:8080/"
        },
        "id": "_kUFccLDy48t",
        "outputId": "cf86a6f3-4d70-4b15-af68-26058e5886ea"
      },
      "outputs": [
        {
          "output_type": "stream",
          "name": "stdout",
          "text": [
            "Model: \"sequential\"\n",
            "_________________________________________________________________\n",
            " Layer (type)                Output Shape              Param #   \n",
            "=================================================================\n",
            " dense (Dense)               (None, 256)               2048      \n",
            "                                                                 \n",
            " dropout (Dropout)           (None, 256)               0         \n",
            "                                                                 \n",
            " dense_1 (Dense)             (None, 128)               32896     \n",
            "                                                                 \n",
            " dropout_1 (Dropout)         (None, 128)               0         \n",
            "                                                                 \n",
            " dense_2 (Dense)             (None, 64)                8256      \n",
            "                                                                 \n",
            " dropout_2 (Dropout)         (None, 64)                0         \n",
            "                                                                 \n",
            " dense_3 (Dense)             (None, 32)                2080      \n",
            "                                                                 \n",
            " dense_4 (Dense)             (None, 1)                 33        \n",
            "                                                                 \n",
            "=================================================================\n",
            "Total params: 45,313\n",
            "Trainable params: 45,313\n",
            "Non-trainable params: 0\n",
            "_________________________________________________________________\n"
          ]
        }
      ],
      "source": [
        "model_3.compile(loss = 'binary_crossentropy', optimizer=tf.keras.optimizers.Adam(learning_rate=0.001), metrics=['accuracy'])\n",
        "model_3.summary()"
      ]
    },
    {
      "cell_type": "markdown",
      "metadata": {
        "id": "8LBADqBprJ7J"
      },
      "source": [
        "- Notice that the number of trainable parameters has increased substantially as compared to previous models."
      ]
    },
    {
      "cell_type": "code",
      "execution_count": null,
      "metadata": {
        "colab": {
          "base_uri": "https://localhost:8080/"
        },
        "id": "OLN7jZWmy_fb",
        "outputId": "8e519360-3516-4ea3-cd34-497295fbb5b5"
      },
      "outputs": [
        {
          "output_type": "stream",
          "name": "stdout",
          "text": [
            "Epoch 1/200\n",
            "12/12 - 1s - loss: 0.6521 - accuracy: 0.6861 - val_loss: 0.6402 - val_accuracy: 0.5250 - 693ms/epoch - 58ms/step\n",
            "Epoch 2/200\n",
            "12/12 - 0s - loss: 0.5411 - accuracy: 0.7250 - val_loss: 0.6076 - val_accuracy: 0.5750 - 68ms/epoch - 6ms/step\n",
            "Epoch 3/200\n",
            "12/12 - 0s - loss: 0.4780 - accuracy: 0.7417 - val_loss: 0.5336 - val_accuracy: 0.8000 - 52ms/epoch - 4ms/step\n",
            "Epoch 4/200\n",
            "12/12 - 0s - loss: 0.4397 - accuracy: 0.7889 - val_loss: 0.4739 - val_accuracy: 0.8250 - 50ms/epoch - 4ms/step\n",
            "Epoch 5/200\n",
            "12/12 - 0s - loss: 0.4037 - accuracy: 0.8194 - val_loss: 0.4045 - val_accuracy: 0.8500 - 57ms/epoch - 5ms/step\n",
            "Epoch 6/200\n",
            "12/12 - 0s - loss: 0.3744 - accuracy: 0.8222 - val_loss: 0.3624 - val_accuracy: 0.8750 - 59ms/epoch - 5ms/step\n",
            "Epoch 7/200\n",
            "12/12 - 0s - loss: 0.3248 - accuracy: 0.8528 - val_loss: 0.3273 - val_accuracy: 0.9250 - 49ms/epoch - 4ms/step\n",
            "Epoch 8/200\n",
            "12/12 - 0s - loss: 0.2847 - accuracy: 0.8750 - val_loss: 0.3111 - val_accuracy: 0.9250 - 65ms/epoch - 5ms/step\n",
            "Epoch 9/200\n",
            "12/12 - 0s - loss: 0.2598 - accuracy: 0.8944 - val_loss: 0.3293 - val_accuracy: 0.9250 - 49ms/epoch - 4ms/step\n",
            "Epoch 10/200\n",
            "12/12 - 0s - loss: 0.2535 - accuracy: 0.8778 - val_loss: 0.2424 - val_accuracy: 0.9000 - 52ms/epoch - 4ms/step\n",
            "Epoch 11/200\n",
            "12/12 - 0s - loss: 0.2515 - accuracy: 0.8833 - val_loss: 0.2622 - val_accuracy: 0.9250 - 50ms/epoch - 4ms/step\n",
            "Epoch 12/200\n",
            "12/12 - 0s - loss: 0.2072 - accuracy: 0.9083 - val_loss: 0.2458 - val_accuracy: 0.9250 - 49ms/epoch - 4ms/step\n",
            "Epoch 13/200\n",
            "12/12 - 0s - loss: 0.2188 - accuracy: 0.8917 - val_loss: 0.2574 - val_accuracy: 0.9000 - 52ms/epoch - 4ms/step\n",
            "Epoch 14/200\n",
            "12/12 - 0s - loss: 0.1990 - accuracy: 0.9194 - val_loss: 0.3772 - val_accuracy: 0.9000 - 50ms/epoch - 4ms/step\n",
            "Epoch 15/200\n",
            "12/12 - 0s - loss: 0.2214 - accuracy: 0.9000 - val_loss: 0.3065 - val_accuracy: 0.9250 - 66ms/epoch - 6ms/step\n",
            "Epoch 16/200\n",
            "12/12 - 0s - loss: 0.1995 - accuracy: 0.9250 - val_loss: 0.2398 - val_accuracy: 0.9500 - 48ms/epoch - 4ms/step\n",
            "Epoch 17/200\n",
            "12/12 - 0s - loss: 0.1989 - accuracy: 0.9222 - val_loss: 0.2332 - val_accuracy: 0.9250 - 55ms/epoch - 5ms/step\n",
            "Epoch 18/200\n",
            "12/12 - 0s - loss: 0.2333 - accuracy: 0.9306 - val_loss: 0.2546 - val_accuracy: 0.9250 - 51ms/epoch - 4ms/step\n",
            "Epoch 19/200\n",
            "12/12 - 0s - loss: 0.2013 - accuracy: 0.9000 - val_loss: 0.2577 - val_accuracy: 0.9250 - 51ms/epoch - 4ms/step\n",
            "Epoch 20/200\n",
            "12/12 - 0s - loss: 0.1985 - accuracy: 0.9167 - val_loss: 0.2401 - val_accuracy: 0.9500 - 50ms/epoch - 4ms/step\n",
            "Epoch 21/200\n",
            "12/12 - 0s - loss: 0.2001 - accuracy: 0.9028 - val_loss: 0.2438 - val_accuracy: 0.9250 - 54ms/epoch - 5ms/step\n",
            "Epoch 22/200\n",
            "12/12 - 0s - loss: 0.1763 - accuracy: 0.9139 - val_loss: 0.2366 - val_accuracy: 0.9500 - 53ms/epoch - 4ms/step\n",
            "Epoch 23/200\n",
            "12/12 - 0s - loss: 0.1690 - accuracy: 0.9278 - val_loss: 0.2364 - val_accuracy: 0.9500 - 76ms/epoch - 6ms/step\n",
            "Epoch 24/200\n",
            "12/12 - 0s - loss: 0.2076 - accuracy: 0.9000 - val_loss: 0.2916 - val_accuracy: 0.9250 - 50ms/epoch - 4ms/step\n",
            "Epoch 25/200\n",
            "12/12 - 0s - loss: 0.1996 - accuracy: 0.9167 - val_loss: 0.2784 - val_accuracy: 0.9250 - 66ms/epoch - 5ms/step\n",
            "Epoch 26/200\n",
            "12/12 - 0s - loss: 0.1938 - accuracy: 0.9278 - val_loss: 0.2458 - val_accuracy: 0.9250 - 49ms/epoch - 4ms/step\n",
            "Epoch 27/200\n",
            "12/12 - 0s - loss: 0.1655 - accuracy: 0.9250 - val_loss: 0.2587 - val_accuracy: 0.9250 - 49ms/epoch - 4ms/step\n",
            "Epoch 28/200\n",
            "12/12 - 0s - loss: 0.1939 - accuracy: 0.9111 - val_loss: 0.2408 - val_accuracy: 0.9250 - 50ms/epoch - 4ms/step\n",
            "Epoch 29/200\n",
            "12/12 - 0s - loss: 0.2596 - accuracy: 0.8944 - val_loss: 0.2774 - val_accuracy: 0.9250 - 52ms/epoch - 4ms/step\n",
            "Epoch 30/200\n",
            "12/12 - 0s - loss: 0.2000 - accuracy: 0.9111 - val_loss: 0.2485 - val_accuracy: 0.9250 - 55ms/epoch - 5ms/step\n",
            "Epoch 31/200\n",
            "12/12 - 0s - loss: 0.1717 - accuracy: 0.9361 - val_loss: 0.2797 - val_accuracy: 0.9250 - 51ms/epoch - 4ms/step\n",
            "Epoch 32/200\n",
            "12/12 - 0s - loss: 0.2006 - accuracy: 0.9111 - val_loss: 0.2421 - val_accuracy: 0.9500 - 54ms/epoch - 5ms/step\n",
            "Epoch 33/200\n",
            "12/12 - 0s - loss: 0.1709 - accuracy: 0.9250 - val_loss: 0.2546 - val_accuracy: 0.9000 - 51ms/epoch - 4ms/step\n",
            "Epoch 34/200\n",
            "12/12 - 0s - loss: 0.1648 - accuracy: 0.9222 - val_loss: 0.2553 - val_accuracy: 0.9250 - 51ms/epoch - 4ms/step\n",
            "Epoch 35/200\n",
            "12/12 - 0s - loss: 0.1832 - accuracy: 0.9222 - val_loss: 0.2401 - val_accuracy: 0.9500 - 73ms/epoch - 6ms/step\n",
            "Epoch 36/200\n",
            "12/12 - 0s - loss: 0.1895 - accuracy: 0.9222 - val_loss: 0.2538 - val_accuracy: 0.9500 - 56ms/epoch - 5ms/step\n",
            "Epoch 37/200\n",
            "12/12 - 0s - loss: 0.1764 - accuracy: 0.9278 - val_loss: 0.2475 - val_accuracy: 0.9500 - 57ms/epoch - 5ms/step\n",
            "Epoch 38/200\n",
            "12/12 - 0s - loss: 0.1839 - accuracy: 0.9139 - val_loss: 0.2452 - val_accuracy: 0.9250 - 58ms/epoch - 5ms/step\n",
            "Epoch 39/200\n",
            "12/12 - 0s - loss: 0.1643 - accuracy: 0.9250 - val_loss: 0.2363 - val_accuracy: 0.9250 - 66ms/epoch - 5ms/step\n",
            "Epoch 40/200\n",
            "12/12 - 0s - loss: 0.1803 - accuracy: 0.9194 - val_loss: 0.3246 - val_accuracy: 0.9250 - 64ms/epoch - 5ms/step\n",
            "Epoch 41/200\n",
            "12/12 - 0s - loss: 0.1932 - accuracy: 0.9222 - val_loss: 0.2375 - val_accuracy: 0.9500 - 53ms/epoch - 4ms/step\n",
            "Epoch 42/200\n",
            "12/12 - 0s - loss: 0.1663 - accuracy: 0.9278 - val_loss: 0.2537 - val_accuracy: 0.9250 - 53ms/epoch - 4ms/step\n",
            "Epoch 43/200\n",
            "12/12 - 0s - loss: 0.1699 - accuracy: 0.9194 - val_loss: 0.2704 - val_accuracy: 0.9250 - 69ms/epoch - 6ms/step\n",
            "Epoch 44/200\n",
            "12/12 - 0s - loss: 0.1606 - accuracy: 0.9333 - val_loss: 0.2350 - val_accuracy: 0.9500 - 53ms/epoch - 4ms/step\n",
            "Epoch 45/200\n",
            "12/12 - 0s - loss: 0.1719 - accuracy: 0.9222 - val_loss: 0.2442 - val_accuracy: 0.9250 - 68ms/epoch - 6ms/step\n",
            "Epoch 46/200\n",
            "12/12 - 0s - loss: 0.1761 - accuracy: 0.9111 - val_loss: 0.2455 - val_accuracy: 0.9500 - 55ms/epoch - 5ms/step\n",
            "Epoch 47/200\n",
            "12/12 - 0s - loss: 0.1706 - accuracy: 0.9167 - val_loss: 0.2467 - val_accuracy: 0.9500 - 51ms/epoch - 4ms/step\n",
            "Epoch 48/200\n",
            "12/12 - 0s - loss: 0.1665 - accuracy: 0.9361 - val_loss: 0.2546 - val_accuracy: 0.9250 - 51ms/epoch - 4ms/step\n",
            "Epoch 49/200\n",
            "12/12 - 0s - loss: 0.1708 - accuracy: 0.9250 - val_loss: 0.2415 - val_accuracy: 0.9500 - 51ms/epoch - 4ms/step\n",
            "Epoch 50/200\n",
            "12/12 - 0s - loss: 0.1661 - accuracy: 0.9278 - val_loss: 0.2736 - val_accuracy: 0.9250 - 51ms/epoch - 4ms/step\n",
            "Epoch 51/200\n",
            "12/12 - 0s - loss: 0.1660 - accuracy: 0.9250 - val_loss: 0.2487 - val_accuracy: 0.9250 - 55ms/epoch - 5ms/step\n",
            "Epoch 52/200\n",
            "12/12 - 0s - loss: 0.1573 - accuracy: 0.9222 - val_loss: 0.2470 - val_accuracy: 0.9250 - 56ms/epoch - 5ms/step\n",
            "Epoch 53/200\n",
            "12/12 - 0s - loss: 0.1502 - accuracy: 0.9306 - val_loss: 0.2671 - val_accuracy: 0.9250 - 52ms/epoch - 4ms/step\n",
            "Epoch 54/200\n",
            "12/12 - 0s - loss: 0.1904 - accuracy: 0.9167 - val_loss: 0.2427 - val_accuracy: 0.9500 - 54ms/epoch - 5ms/step\n",
            "Epoch 55/200\n",
            "12/12 - 0s - loss: 0.1874 - accuracy: 0.9167 - val_loss: 0.2396 - val_accuracy: 0.9250 - 57ms/epoch - 5ms/step\n",
            "Epoch 56/200\n",
            "12/12 - 0s - loss: 0.1652 - accuracy: 0.9083 - val_loss: 0.2559 - val_accuracy: 0.9000 - 56ms/epoch - 5ms/step\n",
            "Epoch 57/200\n",
            "12/12 - 0s - loss: 0.1586 - accuracy: 0.9194 - val_loss: 0.2688 - val_accuracy: 0.9250 - 68ms/epoch - 6ms/step\n",
            "Epoch 58/200\n",
            "12/12 - 0s - loss: 0.1625 - accuracy: 0.9333 - val_loss: 0.2423 - val_accuracy: 0.9250 - 68ms/epoch - 6ms/step\n",
            "Epoch 59/200\n",
            "12/12 - 0s - loss: 0.2196 - accuracy: 0.8944 - val_loss: 0.3140 - val_accuracy: 0.9250 - 55ms/epoch - 5ms/step\n",
            "Epoch 60/200\n",
            "12/12 - 0s - loss: 0.1789 - accuracy: 0.9361 - val_loss: 0.2585 - val_accuracy: 0.9000 - 57ms/epoch - 5ms/step\n",
            "Epoch 61/200\n",
            "12/12 - 0s - loss: 0.1588 - accuracy: 0.9333 - val_loss: 0.2478 - val_accuracy: 0.9250 - 52ms/epoch - 4ms/step\n",
            "Epoch 62/200\n",
            "12/12 - 0s - loss: 0.1588 - accuracy: 0.9250 - val_loss: 0.2492 - val_accuracy: 0.9250 - 51ms/epoch - 4ms/step\n",
            "Epoch 63/200\n",
            "12/12 - 0s - loss: 0.1668 - accuracy: 0.9306 - val_loss: 0.2340 - val_accuracy: 0.9250 - 51ms/epoch - 4ms/step\n",
            "Epoch 64/200\n",
            "12/12 - 0s - loss: 0.1658 - accuracy: 0.9333 - val_loss: 0.2499 - val_accuracy: 0.9500 - 54ms/epoch - 5ms/step\n",
            "Epoch 65/200\n",
            "12/12 - 0s - loss: 0.1594 - accuracy: 0.9167 - val_loss: 0.2639 - val_accuracy: 0.9250 - 51ms/epoch - 4ms/step\n",
            "Epoch 66/200\n",
            "12/12 - 0s - loss: 0.1829 - accuracy: 0.9167 - val_loss: 0.2700 - val_accuracy: 0.9250 - 50ms/epoch - 4ms/step\n",
            "Epoch 67/200\n",
            "12/12 - 0s - loss: 0.2345 - accuracy: 0.8833 - val_loss: 0.3043 - val_accuracy: 0.9250 - 54ms/epoch - 5ms/step\n",
            "Epoch 68/200\n",
            "12/12 - 0s - loss: 0.2027 - accuracy: 0.9083 - val_loss: 0.2691 - val_accuracy: 0.9250 - 54ms/epoch - 4ms/step\n",
            "Epoch 69/200\n",
            "12/12 - 0s - loss: 0.1621 - accuracy: 0.9333 - val_loss: 0.2359 - val_accuracy: 0.9250 - 54ms/epoch - 4ms/step\n",
            "Epoch 70/200\n",
            "12/12 - 0s - loss: 0.1474 - accuracy: 0.9361 - val_loss: 0.2497 - val_accuracy: 0.9250 - 53ms/epoch - 4ms/step\n",
            "Epoch 71/200\n",
            "12/12 - 0s - loss: 0.1568 - accuracy: 0.9361 - val_loss: 0.2444 - val_accuracy: 0.9500 - 77ms/epoch - 6ms/step\n",
            "Epoch 72/200\n",
            "12/12 - 0s - loss: 0.1739 - accuracy: 0.9139 - val_loss: 0.3005 - val_accuracy: 0.9250 - 63ms/epoch - 5ms/step\n",
            "Epoch 73/200\n",
            "12/12 - 0s - loss: 0.1561 - accuracy: 0.9250 - val_loss: 0.2430 - val_accuracy: 0.9250 - 55ms/epoch - 5ms/step\n",
            "Epoch 74/200\n",
            "12/12 - 0s - loss: 0.1559 - accuracy: 0.9361 - val_loss: 0.2705 - val_accuracy: 0.9250 - 54ms/epoch - 4ms/step\n",
            "Epoch 75/200\n",
            "12/12 - 0s - loss: 0.1718 - accuracy: 0.9333 - val_loss: 0.2440 - val_accuracy: 0.9500 - 51ms/epoch - 4ms/step\n",
            "Epoch 76/200\n",
            "12/12 - 0s - loss: 0.1554 - accuracy: 0.9306 - val_loss: 0.2406 - val_accuracy: 0.9500 - 51ms/epoch - 4ms/step\n",
            "Epoch 77/200\n",
            "12/12 - 0s - loss: 0.1441 - accuracy: 0.9361 - val_loss: 0.2510 - val_accuracy: 0.9250 - 51ms/epoch - 4ms/step\n",
            "Epoch 78/200\n",
            "12/12 - 0s - loss: 0.1551 - accuracy: 0.9278 - val_loss: 0.2506 - val_accuracy: 0.9500 - 52ms/epoch - 4ms/step\n",
            "Epoch 79/200\n",
            "12/12 - 0s - loss: 0.1566 - accuracy: 0.9389 - val_loss: 0.2497 - val_accuracy: 0.9500 - 54ms/epoch - 4ms/step\n",
            "Epoch 80/200\n",
            "12/12 - 0s - loss: 0.1836 - accuracy: 0.9222 - val_loss: 0.2649 - val_accuracy: 0.9250 - 49ms/epoch - 4ms/step\n",
            "Epoch 81/200\n",
            "12/12 - 0s - loss: 0.1582 - accuracy: 0.9278 - val_loss: 0.2330 - val_accuracy: 0.9500 - 53ms/epoch - 4ms/step\n",
            "Epoch 82/200\n",
            "12/12 - 0s - loss: 0.1600 - accuracy: 0.9333 - val_loss: 0.2318 - val_accuracy: 0.9000 - 55ms/epoch - 5ms/step\n",
            "Epoch 83/200\n",
            "12/12 - 0s - loss: 0.1612 - accuracy: 0.9306 - val_loss: 0.2411 - val_accuracy: 0.9250 - 51ms/epoch - 4ms/step\n",
            "Epoch 84/200\n",
            "12/12 - 0s - loss: 0.1561 - accuracy: 0.9306 - val_loss: 0.2637 - val_accuracy: 0.9250 - 52ms/epoch - 4ms/step\n",
            "Epoch 85/200\n",
            "12/12 - 0s - loss: 0.1649 - accuracy: 0.9167 - val_loss: 0.2632 - val_accuracy: 0.9250 - 70ms/epoch - 6ms/step\n",
            "Epoch 86/200\n",
            "12/12 - 0s - loss: 0.1530 - accuracy: 0.9361 - val_loss: 0.2495 - val_accuracy: 0.9250 - 51ms/epoch - 4ms/step\n",
            "Epoch 87/200\n",
            "12/12 - 0s - loss: 0.1645 - accuracy: 0.9361 - val_loss: 0.2758 - val_accuracy: 0.9250 - 69ms/epoch - 6ms/step\n",
            "Epoch 88/200\n",
            "12/12 - 0s - loss: 0.2023 - accuracy: 0.9056 - val_loss: 0.2339 - val_accuracy: 0.9500 - 55ms/epoch - 5ms/step\n",
            "Epoch 89/200\n",
            "12/12 - 0s - loss: 0.1463 - accuracy: 0.9389 - val_loss: 0.2527 - val_accuracy: 0.9250 - 78ms/epoch - 6ms/step\n",
            "Epoch 90/200\n",
            "12/12 - 0s - loss: 0.1485 - accuracy: 0.9333 - val_loss: 0.2384 - val_accuracy: 0.9500 - 52ms/epoch - 4ms/step\n",
            "Epoch 91/200\n",
            "12/12 - 0s - loss: 0.1619 - accuracy: 0.9278 - val_loss: 0.2519 - val_accuracy: 0.9250 - 52ms/epoch - 4ms/step\n",
            "Epoch 92/200\n",
            "12/12 - 0s - loss: 0.1482 - accuracy: 0.9389 - val_loss: 0.2359 - val_accuracy: 0.9500 - 73ms/epoch - 6ms/step\n",
            "Epoch 93/200\n",
            "12/12 - 0s - loss: 0.1508 - accuracy: 0.9250 - val_loss: 0.2502 - val_accuracy: 0.9500 - 57ms/epoch - 5ms/step\n",
            "Epoch 94/200\n",
            "12/12 - 0s - loss: 0.1538 - accuracy: 0.9389 - val_loss: 0.2641 - val_accuracy: 0.9250 - 52ms/epoch - 4ms/step\n",
            "Epoch 95/200\n",
            "12/12 - 0s - loss: 0.1669 - accuracy: 0.9333 - val_loss: 0.2408 - val_accuracy: 0.9500 - 51ms/epoch - 4ms/step\n",
            "Epoch 96/200\n",
            "12/12 - 0s - loss: 0.1697 - accuracy: 0.9167 - val_loss: 0.2457 - val_accuracy: 0.9000 - 67ms/epoch - 6ms/step\n",
            "Epoch 97/200\n",
            "12/12 - 0s - loss: 0.1569 - accuracy: 0.9389 - val_loss: 0.2449 - val_accuracy: 0.9500 - 56ms/epoch - 5ms/step\n",
            "Epoch 98/200\n",
            "12/12 - 0s - loss: 0.1494 - accuracy: 0.9278 - val_loss: 0.2392 - val_accuracy: 0.9500 - 50ms/epoch - 4ms/step\n",
            "Epoch 99/200\n",
            "12/12 - 0s - loss: 0.1651 - accuracy: 0.9222 - val_loss: 0.2747 - val_accuracy: 0.9250 - 55ms/epoch - 5ms/step\n",
            "Epoch 100/200\n",
            "12/12 - 0s - loss: 0.1440 - accuracy: 0.9361 - val_loss: 0.2550 - val_accuracy: 0.9500 - 56ms/epoch - 5ms/step\n",
            "Epoch 101/200\n",
            "12/12 - 0s - loss: 0.1449 - accuracy: 0.9361 - val_loss: 0.2492 - val_accuracy: 0.9500 - 51ms/epoch - 4ms/step\n",
            "Epoch 102/200\n",
            "12/12 - 0s - loss: 0.1535 - accuracy: 0.9389 - val_loss: 0.2418 - val_accuracy: 0.9500 - 49ms/epoch - 4ms/step\n",
            "Epoch 103/200\n",
            "12/12 - 0s - loss: 0.1407 - accuracy: 0.9361 - val_loss: 0.3063 - val_accuracy: 0.9250 - 53ms/epoch - 4ms/step\n",
            "Epoch 104/200\n",
            "12/12 - 0s - loss: 0.1752 - accuracy: 0.9222 - val_loss: 0.2625 - val_accuracy: 0.9250 - 54ms/epoch - 5ms/step\n",
            "Epoch 105/200\n",
            "12/12 - 0s - loss: 0.1550 - accuracy: 0.9361 - val_loss: 0.2560 - val_accuracy: 0.9500 - 61ms/epoch - 5ms/step\n",
            "Epoch 106/200\n",
            "12/12 - 0s - loss: 0.1589 - accuracy: 0.9306 - val_loss: 0.2424 - val_accuracy: 0.9500 - 50ms/epoch - 4ms/step\n",
            "Epoch 107/200\n",
            "12/12 - 0s - loss: 0.1578 - accuracy: 0.9250 - val_loss: 0.2381 - val_accuracy: 0.9500 - 53ms/epoch - 4ms/step\n",
            "Epoch 108/200\n",
            "12/12 - 0s - loss: 0.1542 - accuracy: 0.9306 - val_loss: 0.2686 - val_accuracy: 0.9250 - 52ms/epoch - 4ms/step\n",
            "Epoch 109/200\n",
            "12/12 - 0s - loss: 0.1591 - accuracy: 0.9306 - val_loss: 0.2578 - val_accuracy: 0.9500 - 53ms/epoch - 4ms/step\n",
            "Epoch 110/200\n",
            "12/12 - 0s - loss: 0.1483 - accuracy: 0.9250 - val_loss: 0.2502 - val_accuracy: 0.9250 - 55ms/epoch - 5ms/step\n",
            "Epoch 111/200\n",
            "12/12 - 0s - loss: 0.1910 - accuracy: 0.9139 - val_loss: 0.3169 - val_accuracy: 0.9250 - 54ms/epoch - 4ms/step\n",
            "Epoch 112/200\n",
            "12/12 - 0s - loss: 0.1672 - accuracy: 0.9194 - val_loss: 0.2487 - val_accuracy: 0.9250 - 53ms/epoch - 4ms/step\n",
            "Epoch 113/200\n",
            "12/12 - 0s - loss: 0.1591 - accuracy: 0.9361 - val_loss: 0.2460 - val_accuracy: 0.9500 - 56ms/epoch - 5ms/step\n",
            "Epoch 114/200\n",
            "12/12 - 0s - loss: 0.1462 - accuracy: 0.9361 - val_loss: 0.2497 - val_accuracy: 0.9500 - 51ms/epoch - 4ms/step\n",
            "Epoch 115/200\n",
            "12/12 - 0s - loss: 0.1431 - accuracy: 0.9333 - val_loss: 0.2416 - val_accuracy: 0.9250 - 51ms/epoch - 4ms/step\n",
            "Epoch 116/200\n",
            "12/12 - 0s - loss: 0.1587 - accuracy: 0.9333 - val_loss: 0.2409 - val_accuracy: 0.9500 - 52ms/epoch - 4ms/step\n",
            "Epoch 117/200\n",
            "12/12 - 0s - loss: 0.1576 - accuracy: 0.9361 - val_loss: 0.2690 - val_accuracy: 0.9250 - 68ms/epoch - 6ms/step\n",
            "Epoch 118/200\n",
            "12/12 - 0s - loss: 0.1574 - accuracy: 0.9333 - val_loss: 0.2545 - val_accuracy: 0.9500 - 69ms/epoch - 6ms/step\n",
            "Epoch 119/200\n",
            "12/12 - 0s - loss: 0.1550 - accuracy: 0.9333 - val_loss: 0.2509 - val_accuracy: 0.9500 - 52ms/epoch - 4ms/step\n",
            "Epoch 120/200\n",
            "12/12 - 0s - loss: 0.1487 - accuracy: 0.9389 - val_loss: 0.2662 - val_accuracy: 0.9250 - 78ms/epoch - 6ms/step\n",
            "Epoch 121/200\n",
            "12/12 - 0s - loss: 0.1494 - accuracy: 0.9389 - val_loss: 0.2486 - val_accuracy: 0.9500 - 53ms/epoch - 4ms/step\n",
            "Epoch 122/200\n",
            "12/12 - 0s - loss: 0.1435 - accuracy: 0.9389 - val_loss: 0.2471 - val_accuracy: 0.9500 - 59ms/epoch - 5ms/step\n",
            "Epoch 123/200\n",
            "12/12 - 0s - loss: 0.1395 - accuracy: 0.9278 - val_loss: 0.2519 - val_accuracy: 0.9500 - 54ms/epoch - 4ms/step\n",
            "Epoch 124/200\n",
            "12/12 - 0s - loss: 0.1534 - accuracy: 0.9222 - val_loss: 0.2515 - val_accuracy: 0.9500 - 57ms/epoch - 5ms/step\n",
            "Epoch 125/200\n",
            "12/12 - 0s - loss: 0.1482 - accuracy: 0.9361 - val_loss: 0.2719 - val_accuracy: 0.9250 - 55ms/epoch - 5ms/step\n",
            "Epoch 126/200\n",
            "12/12 - 0s - loss: 0.1585 - accuracy: 0.9417 - val_loss: 0.2437 - val_accuracy: 0.9500 - 68ms/epoch - 6ms/step\n",
            "Epoch 127/200\n",
            "12/12 - 0s - loss: 0.1439 - accuracy: 0.9250 - val_loss: 0.2811 - val_accuracy: 0.9250 - 52ms/epoch - 4ms/step\n",
            "Epoch 128/200\n",
            "12/12 - 0s - loss: 0.1457 - accuracy: 0.9306 - val_loss: 0.2504 - val_accuracy: 0.9250 - 51ms/epoch - 4ms/step\n",
            "Epoch 129/200\n",
            "12/12 - 0s - loss: 0.1614 - accuracy: 0.9361 - val_loss: 0.2595 - val_accuracy: 0.9500 - 55ms/epoch - 5ms/step\n",
            "Epoch 130/200\n",
            "12/12 - 0s - loss: 0.1398 - accuracy: 0.9500 - val_loss: 0.2545 - val_accuracy: 0.9500 - 55ms/epoch - 5ms/step\n",
            "Epoch 131/200\n",
            "12/12 - 0s - loss: 0.1542 - accuracy: 0.9306 - val_loss: 0.2604 - val_accuracy: 0.9500 - 52ms/epoch - 4ms/step\n",
            "Epoch 132/200\n",
            "12/12 - 0s - loss: 0.1551 - accuracy: 0.9361 - val_loss: 0.2606 - val_accuracy: 0.9250 - 53ms/epoch - 4ms/step\n",
            "Epoch 133/200\n",
            "12/12 - 0s - loss: 0.1392 - accuracy: 0.9389 - val_loss: 0.2744 - val_accuracy: 0.9500 - 54ms/epoch - 4ms/step\n",
            "Epoch 134/200\n",
            "12/12 - 0s - loss: 0.1537 - accuracy: 0.9361 - val_loss: 0.2614 - val_accuracy: 0.9250 - 53ms/epoch - 4ms/step\n",
            "Epoch 135/200\n",
            "12/12 - 0s - loss: 0.1468 - accuracy: 0.9333 - val_loss: 0.3005 - val_accuracy: 0.9250 - 53ms/epoch - 4ms/step\n",
            "Epoch 136/200\n",
            "12/12 - 0s - loss: 0.1589 - accuracy: 0.9167 - val_loss: 0.2566 - val_accuracy: 0.9500 - 64ms/epoch - 5ms/step\n",
            "Epoch 137/200\n",
            "12/12 - 0s - loss: 0.1503 - accuracy: 0.9361 - val_loss: 0.2653 - val_accuracy: 0.9500 - 53ms/epoch - 4ms/step\n",
            "Epoch 138/200\n",
            "12/12 - 0s - loss: 0.1369 - accuracy: 0.9389 - val_loss: 0.2620 - val_accuracy: 0.9500 - 55ms/epoch - 5ms/step\n",
            "Epoch 139/200\n",
            "12/12 - 0s - loss: 0.1432 - accuracy: 0.9306 - val_loss: 0.3037 - val_accuracy: 0.9250 - 55ms/epoch - 5ms/step\n",
            "Epoch 140/200\n",
            "12/12 - 0s - loss: 0.1703 - accuracy: 0.9333 - val_loss: 0.2650 - val_accuracy: 0.9250 - 52ms/epoch - 4ms/step\n",
            "Epoch 141/200\n",
            "12/12 - 0s - loss: 0.1525 - accuracy: 0.9389 - val_loss: 0.2780 - val_accuracy: 0.9250 - 51ms/epoch - 4ms/step\n",
            "Epoch 142/200\n",
            "12/12 - 0s - loss: 0.1450 - accuracy: 0.9444 - val_loss: 0.2868 - val_accuracy: 0.9250 - 56ms/epoch - 5ms/step\n",
            "Epoch 143/200\n",
            "12/12 - 0s - loss: 0.1835 - accuracy: 0.9167 - val_loss: 0.2571 - val_accuracy: 0.9250 - 52ms/epoch - 4ms/step\n",
            "Epoch 144/200\n",
            "12/12 - 0s - loss: 0.1617 - accuracy: 0.9389 - val_loss: 0.2977 - val_accuracy: 0.9250 - 49ms/epoch - 4ms/step\n",
            "Epoch 145/200\n",
            "12/12 - 0s - loss: 0.1443 - accuracy: 0.9417 - val_loss: 0.2632 - val_accuracy: 0.9500 - 51ms/epoch - 4ms/step\n",
            "Epoch 146/200\n",
            "12/12 - 0s - loss: 0.1775 - accuracy: 0.9250 - val_loss: 0.2645 - val_accuracy: 0.9250 - 52ms/epoch - 4ms/step\n",
            "Epoch 147/200\n",
            "12/12 - 0s - loss: 0.1763 - accuracy: 0.9194 - val_loss: 0.3122 - val_accuracy: 0.9250 - 51ms/epoch - 4ms/step\n",
            "Epoch 148/200\n",
            "12/12 - 0s - loss: 0.1468 - accuracy: 0.9278 - val_loss: 0.2615 - val_accuracy: 0.9250 - 51ms/epoch - 4ms/step\n",
            "Epoch 149/200\n",
            "12/12 - 0s - loss: 0.1567 - accuracy: 0.9194 - val_loss: 0.2682 - val_accuracy: 0.9500 - 62ms/epoch - 5ms/step\n",
            "Epoch 150/200\n",
            "12/12 - 0s - loss: 0.1396 - accuracy: 0.9444 - val_loss: 0.2633 - val_accuracy: 0.9500 - 54ms/epoch - 4ms/step\n",
            "Epoch 151/200\n",
            "12/12 - 0s - loss: 0.1380 - accuracy: 0.9444 - val_loss: 0.2665 - val_accuracy: 0.9500 - 61ms/epoch - 5ms/step\n",
            "Epoch 152/200\n",
            "12/12 - 0s - loss: 0.1458 - accuracy: 0.9333 - val_loss: 0.2615 - val_accuracy: 0.9500 - 54ms/epoch - 4ms/step\n",
            "Epoch 153/200\n",
            "12/12 - 0s - loss: 0.1518 - accuracy: 0.9389 - val_loss: 0.2665 - val_accuracy: 0.9500 - 54ms/epoch - 4ms/step\n",
            "Epoch 154/200\n",
            "12/12 - 0s - loss: 0.1630 - accuracy: 0.9222 - val_loss: 0.2615 - val_accuracy: 0.9500 - 52ms/epoch - 4ms/step\n",
            "Epoch 155/200\n",
            "12/12 - 0s - loss: 0.1661 - accuracy: 0.9278 - val_loss: 0.2814 - val_accuracy: 0.9250 - 52ms/epoch - 4ms/step\n",
            "Epoch 156/200\n",
            "12/12 - 0s - loss: 0.1439 - accuracy: 0.9417 - val_loss: 0.2584 - val_accuracy: 0.9500 - 68ms/epoch - 6ms/step\n",
            "Epoch 157/200\n",
            "12/12 - 0s - loss: 0.1439 - accuracy: 0.9417 - val_loss: 0.2745 - val_accuracy: 0.9250 - 52ms/epoch - 4ms/step\n",
            "Epoch 158/200\n",
            "12/12 - 0s - loss: 0.1552 - accuracy: 0.9389 - val_loss: 0.2532 - val_accuracy: 0.9250 - 55ms/epoch - 5ms/step\n",
            "Epoch 159/200\n",
            "12/12 - 0s - loss: 0.1507 - accuracy: 0.9306 - val_loss: 0.2507 - val_accuracy: 0.9500 - 54ms/epoch - 5ms/step\n",
            "Epoch 160/200\n",
            "12/12 - 0s - loss: 0.1463 - accuracy: 0.9306 - val_loss: 0.2774 - val_accuracy: 0.9250 - 55ms/epoch - 5ms/step\n",
            "Epoch 161/200\n",
            "12/12 - 0s - loss: 0.1525 - accuracy: 0.9389 - val_loss: 0.2452 - val_accuracy: 0.9500 - 54ms/epoch - 4ms/step\n",
            "Epoch 162/200\n",
            "12/12 - 0s - loss: 0.1391 - accuracy: 0.9333 - val_loss: 0.2490 - val_accuracy: 0.9500 - 53ms/epoch - 4ms/step\n",
            "Epoch 163/200\n",
            "12/12 - 0s - loss: 0.1412 - accuracy: 0.9389 - val_loss: 0.2511 - val_accuracy: 0.9500 - 57ms/epoch - 5ms/step\n",
            "Epoch 164/200\n",
            "12/12 - 0s - loss: 0.1481 - accuracy: 0.9417 - val_loss: 0.2525 - val_accuracy: 0.9500 - 54ms/epoch - 5ms/step\n",
            "Epoch 165/200\n",
            "12/12 - 0s - loss: 0.1440 - accuracy: 0.9389 - val_loss: 0.2457 - val_accuracy: 0.9500 - 59ms/epoch - 5ms/step\n",
            "Epoch 166/200\n",
            "12/12 - 0s - loss: 0.1488 - accuracy: 0.9278 - val_loss: 0.3059 - val_accuracy: 0.9250 - 55ms/epoch - 5ms/step\n",
            "Epoch 167/200\n",
            "12/12 - 0s - loss: 0.1830 - accuracy: 0.9194 - val_loss: 0.2410 - val_accuracy: 0.9500 - 53ms/epoch - 4ms/step\n",
            "Epoch 168/200\n",
            "12/12 - 0s - loss: 0.1450 - accuracy: 0.9278 - val_loss: 0.2386 - val_accuracy: 0.9500 - 53ms/epoch - 4ms/step\n",
            "Epoch 169/200\n",
            "12/12 - 0s - loss: 0.1439 - accuracy: 0.9306 - val_loss: 0.2487 - val_accuracy: 0.9500 - 57ms/epoch - 5ms/step\n",
            "Epoch 170/200\n",
            "12/12 - 0s - loss: 0.1331 - accuracy: 0.9278 - val_loss: 0.2362 - val_accuracy: 0.9500 - 55ms/epoch - 5ms/step\n",
            "Epoch 171/200\n",
            "12/12 - 0s - loss: 0.1377 - accuracy: 0.9361 - val_loss: 0.2609 - val_accuracy: 0.9500 - 52ms/epoch - 4ms/step\n",
            "Epoch 172/200\n",
            "12/12 - 0s - loss: 0.1285 - accuracy: 0.9389 - val_loss: 0.2483 - val_accuracy: 0.9250 - 56ms/epoch - 5ms/step\n",
            "Epoch 173/200\n",
            "12/12 - 0s - loss: 0.1558 - accuracy: 0.9250 - val_loss: 0.2597 - val_accuracy: 0.9500 - 71ms/epoch - 6ms/step\n",
            "Epoch 174/200\n",
            "12/12 - 0s - loss: 0.1372 - accuracy: 0.9417 - val_loss: 0.2479 - val_accuracy: 0.9500 - 72ms/epoch - 6ms/step\n",
            "Epoch 175/200\n",
            "12/12 - 0s - loss: 0.1317 - accuracy: 0.9417 - val_loss: 0.2520 - val_accuracy: 0.9500 - 52ms/epoch - 4ms/step\n",
            "Epoch 176/200\n",
            "12/12 - 0s - loss: 0.1408 - accuracy: 0.9389 - val_loss: 0.2542 - val_accuracy: 0.9500 - 54ms/epoch - 5ms/step\n",
            "Epoch 177/200\n",
            "12/12 - 0s - loss: 0.1435 - accuracy: 0.9278 - val_loss: 0.2497 - val_accuracy: 0.9500 - 70ms/epoch - 6ms/step\n",
            "Epoch 178/200\n",
            "12/12 - 0s - loss: 0.1472 - accuracy: 0.9389 - val_loss: 0.2506 - val_accuracy: 0.9500 - 53ms/epoch - 4ms/step\n",
            "Epoch 179/200\n",
            "12/12 - 0s - loss: 0.1773 - accuracy: 0.9222 - val_loss: 0.3307 - val_accuracy: 0.9250 - 54ms/epoch - 4ms/step\n",
            "Epoch 180/200\n",
            "12/12 - 0s - loss: 0.1600 - accuracy: 0.9250 - val_loss: 0.2492 - val_accuracy: 0.9000 - 54ms/epoch - 4ms/step\n",
            "Epoch 181/200\n",
            "12/12 - 0s - loss: 0.1613 - accuracy: 0.9222 - val_loss: 0.2396 - val_accuracy: 0.9500 - 55ms/epoch - 5ms/step\n",
            "Epoch 182/200\n",
            "12/12 - 0s - loss: 0.1408 - accuracy: 0.9306 - val_loss: 0.3051 - val_accuracy: 0.9250 - 69ms/epoch - 6ms/step\n",
            "Epoch 183/200\n",
            "12/12 - 0s - loss: 0.1571 - accuracy: 0.9333 - val_loss: 0.2353 - val_accuracy: 0.9250 - 52ms/epoch - 4ms/step\n",
            "Epoch 184/200\n",
            "12/12 - 0s - loss: 0.1737 - accuracy: 0.9306 - val_loss: 0.3125 - val_accuracy: 0.9250 - 55ms/epoch - 5ms/step\n",
            "Epoch 185/200\n",
            "12/12 - 0s - loss: 0.1642 - accuracy: 0.9194 - val_loss: 0.2330 - val_accuracy: 0.9250 - 55ms/epoch - 5ms/step\n",
            "Epoch 186/200\n",
            "12/12 - 0s - loss: 0.1520 - accuracy: 0.9361 - val_loss: 0.2318 - val_accuracy: 0.9500 - 54ms/epoch - 4ms/step\n",
            "Epoch 187/200\n",
            "12/12 - 0s - loss: 0.1273 - accuracy: 0.9417 - val_loss: 0.2528 - val_accuracy: 0.9250 - 51ms/epoch - 4ms/step\n",
            "Epoch 188/200\n",
            "12/12 - 0s - loss: 0.1399 - accuracy: 0.9361 - val_loss: 0.2392 - val_accuracy: 0.9500 - 58ms/epoch - 5ms/step\n",
            "Epoch 189/200\n",
            "12/12 - 0s - loss: 0.1374 - accuracy: 0.9361 - val_loss: 0.2432 - val_accuracy: 0.9500 - 53ms/epoch - 4ms/step\n",
            "Epoch 190/200\n",
            "12/12 - 0s - loss: 0.1391 - accuracy: 0.9444 - val_loss: 0.2526 - val_accuracy: 0.9250 - 52ms/epoch - 4ms/step\n",
            "Epoch 191/200\n",
            "12/12 - 0s - loss: 0.1368 - accuracy: 0.9389 - val_loss: 0.2483 - val_accuracy: 0.9500 - 55ms/epoch - 5ms/step\n",
            "Epoch 192/200\n",
            "12/12 - 0s - loss: 0.1378 - accuracy: 0.9389 - val_loss: 0.2599 - val_accuracy: 0.9250 - 54ms/epoch - 4ms/step\n",
            "Epoch 193/200\n",
            "12/12 - 0s - loss: 0.1455 - accuracy: 0.9361 - val_loss: 0.2521 - val_accuracy: 0.9500 - 52ms/epoch - 4ms/step\n",
            "Epoch 194/200\n",
            "12/12 - 0s - loss: 0.1459 - accuracy: 0.9306 - val_loss: 0.2880 - val_accuracy: 0.9250 - 71ms/epoch - 6ms/step\n",
            "Epoch 195/200\n",
            "12/12 - 0s - loss: 0.1409 - accuracy: 0.9389 - val_loss: 0.2542 - val_accuracy: 0.9500 - 53ms/epoch - 4ms/step\n",
            "Epoch 196/200\n",
            "12/12 - 0s - loss: 0.1511 - accuracy: 0.9417 - val_loss: 0.2288 - val_accuracy: 0.9500 - 53ms/epoch - 4ms/step\n",
            "Epoch 197/200\n",
            "12/12 - 0s - loss: 0.1445 - accuracy: 0.9361 - val_loss: 0.2928 - val_accuracy: 0.9250 - 51ms/epoch - 4ms/step\n",
            "Epoch 198/200\n",
            "12/12 - 0s - loss: 0.1680 - accuracy: 0.9250 - val_loss: 0.2379 - val_accuracy: 0.9500 - 52ms/epoch - 4ms/step\n",
            "Epoch 199/200\n",
            "12/12 - 0s - loss: 0.1423 - accuracy: 0.9389 - val_loss: 0.2352 - val_accuracy: 0.9250 - 52ms/epoch - 4ms/step\n",
            "Epoch 200/200\n",
            "12/12 - 0s - loss: 0.1306 - accuracy: 0.9417 - val_loss: 0.2690 - val_accuracy: 0.9250 - 53ms/epoch - 4ms/step\n"
          ]
        }
      ],
      "source": [
        "history_3 = model_3.fit(X_train_normalized, \n",
        "                    y_train, \n",
        "                    validation_split=0.1, \n",
        "                    epochs=200,\n",
        "                    verbose=2)"
      ]
    },
    {
      "cell_type": "code",
      "execution_count": null,
      "metadata": {
        "colab": {
          "base_uri": "https://localhost:8080/",
          "height": 295
        },
        "id": "zBvMtn6VzFDJ",
        "outputId": "b2759cba-bba3-4b56-eb4c-8896b4781c14"
      },
      "outputs": [
        {
          "output_type": "display_data",
          "data": {
            "text/plain": [
              "<Figure size 432x288 with 1 Axes>"
            ],
            "image/png": "[encoded data removed]"
          },
          "metadata": {
            "needs_background": "light"
          }
        }
      ],
      "source": [
        "plt.plot(history_3.history['accuracy'])\n",
        "plt.plot(history_3.history['val_accuracy'])\n",
        "plt.title('Accuracy vs Epochs')\n",
        "plt.ylabel('Accuracy')\n",
        "plt.xlabel('Epoch')\n",
        "plt.legend(['Train', 'Validation'], loc='lower right')\n",
        "plt.show()"
      ]
    },
    {
      "cell_type": "markdown",
      "metadata": {
        "id": "-xfRck7yrbX5"
      },
      "source": [
        "**Observations:**\n",
        "\n",
        "- This model is giving a generalized performance with 94% accuracy on the train data.\n",
        "- One reason for the algorithm not being able to reach higher than 95% even for training data might be due to the optimizer being stuck at some local minima.\n",
        "- One way to resolve that is to further tune the model with some other hyper-parameters.\n",
        "- Among all three models, model 3 has given the best performance. Let's check its performance on the test data."
      ]
    },
    {
      "cell_type": "markdown",
      "metadata": {
        "id": "iSpvgJ_ZPP0f"
      },
      "source": [
        "### **Model evaluation on the test data**"
      ]
    },
    {
      "cell_type": "code",
      "execution_count": null,
      "metadata": {
        "colab": {
          "base_uri": "https://localhost:8080/"
        },
        "id": "VNs-4a67SXNT",
        "outputId": "fa289926-e5a3-49c5-ee2e-146e57aacd21"
      },
      "outputs": [
        {
          "output_type": "stream",
          "name": "stdout",
          "text": [
            "4/4 [==============================] - 0s 3ms/step - loss: 0.1059 - accuracy: 0.9600\n"
          ]
        }
      ],
      "source": [
        "model_3.evaluate(X_test_normalized, y_test, verbose = 1)\n",
        "test_pred = np.round(model_3.predict(X_test_normalized))"
      ]
    },
    {
      "cell_type": "markdown",
      "metadata": {
        "id": "RldGhjVdxHCx"
      },
      "source": [
        "The test accuracy is coming out to be 96% which implies that our model is able to replicate the performance from the train and validation data on the test (unseen) data."
      ]
    },
    {
      "cell_type": "code",
      "execution_count": null,
      "metadata": {
        "colab": {
          "base_uri": "https://localhost:8080/",
          "height": 490
        },
        "id": "y5fWdjHHPTZh",
        "outputId": "093a1fb2-4c1c-4ba6-aa2e-f82eb34ab4e4"
      },
      "outputs": [
        {
          "output_type": "stream",
          "name": "stdout",
          "text": [
            "              precision    recall  f1-score   support\n",
            "\n",
            "           0       0.96      0.99      0.97        73\n",
            "           1       0.96      0.89      0.92        27\n",
            "\n",
            "    accuracy                           0.96       100\n",
            "   macro avg       0.96      0.94      0.95       100\n",
            "weighted avg       0.96      0.96      0.96       100\n",
            "\n"
          ]
        },
        {
          "output_type": "display_data",
          "data": {
            "text/plain": [
              "<Figure size 576x360 with 2 Axes>"
            ],
            "image/png": "[encoded data removed]"
          },
          "metadata": {
            "needs_background": "light"
          }
        }
      ],
      "source": [
        "from sklearn.metrics import classification_report\n",
        "from sklearn.metrics import confusion_matrix\n",
        "\n",
        "print(classification_report(y_test, test_pred))\n",
        "cm = confusion_matrix(y_test, test_pred)\n",
        "plt.figure(figsize=(8,5))\n",
        "sns.heatmap(cm, annot=True,  fmt='.0f',xticklabels=['Not Admitted', 'Admitted'], yticklabels=['Not Admitted', 'Admitted'])\n",
        "plt.ylabel('Actual')\n",
        "plt.xlabel('Predicted')\n",
        "plt.show()"
      ]
    },
    {
      "cell_type": "markdown",
      "metadata": {
        "id": "uk_tuE7LxGC3"
      },
      "source": [
        "**Observations:**\n",
        "\n",
        "- The confusion matrix shows that the model can identify the majority of students who would get admission and who won't get admission to UCLA.\n",
        "- The classification report shows that all the metrics except recall for class 1 are above 90%, which is good."
      ]
    },
    {
      "cell_type": "markdown",
      "metadata": {
        "id": "1bVzop-DYYmv"
      },
      "source": [
        "## **Conclusion:**"
      ]
    },
    {
      "cell_type": "markdown",
      "metadata": {
        "id": "PiMgKE2xYbCW"
      },
      "source": [
        "In this case study, \n",
        "- We have learned how to build a feed-forward neural network for a classification task using Keras. \n",
        "- We have seen different hyper-parameters and how they affect the network. \n",
        "- We also learned about the accuracy vs. epoch curve and how it aids in understanding how the model learns weights.\n",
        "- We were able to get the test accuracy of 96% using the final model.\n",
        "- Interested learners can further analyze the misclassified points and see if there is a pattern or if they were outliers that our model could not identify.\n",
        "- We would highly recommend you to play around with the other hyper-parameters and see for yourself how it affects your model."
      ]
    }
  ],
  "metadata": {
    "accelerator": "GPU",
    "colab": {
      "collapsed_sections": [],
      "provenance": []
    },
    "kernelspec": {
      "display_name": "Python 3",
      "language": "python",
      "name": "python3"
    },
    "language_info": {
      "codemirror_mode": {
        "name": "ipython",
        "version": 3
      },
      "file_extension": ".py",
      "mimetype": "text/x-python",
      "name": "python",
      "nbconvert_exporter": "python",
      "pygments_lexer": "ipython3",
      "version": "3.8.3"
    }
  },
  "nbformat": 4,
  "nbformat_minor": 0
}