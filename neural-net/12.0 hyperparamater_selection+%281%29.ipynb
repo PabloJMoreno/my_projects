{
  "nbformat": 4,
  "nbformat_minor": 0,
  "metadata": {
    "colab": {
      "name": "hyperparamater_selection_2.ipynb",
      "provenance": [],
      "collapsed_sections": []
    },
    "kernelspec": {
      "name": "python3",
      "display_name": "Python 3"
    },
    "language_info": {
      "name": "python"
    },
    "accelerator": "GPU"
  },
  "cells": [
    {
      "cell_type": "markdown",
      "metadata": {
        "id": "FRbIcCiotoce"
      },
      "source": [
        "<a name=\"TF-KS\"></a>\n",
        "## **Hyperparameter Selection**"
      ]
    },
    {
      "cell_type": "markdown",
      "metadata": {
        "id": "dXGcc1OtBa63"
      },
      "source": [
        "Table of contents:\n",
        "- [Learning Curve](#Loss-plot)\n",
        "- [Hyperparameter Tuning](#Tuning)"
      ]
    },
    {
      "cell_type": "code",
      "metadata": {
        "id": "Dcy-aryLxrCj"
      },
      "source": [
        "#import numpy as np\n",
        "import pandas as pd\n",
        "\n",
        "import tensorflow as tf\n",
        "from tensorflow.keras.layers import Dense, Input, InputLayer\n",
        "from tensorflow.keras.optimizers import Adam \n",
        "\n",
        "#from tensorflow.keras import initializers\n",
        "\n",
        "from sklearn.metrics import accuracy_score#confusion_matrix, \n",
        "#import seaborn as sns\n",
        "import matplotlib.pyplot as plt  \n",
        "\n",
        "from sklearn.model_selection import GridSearchCV\n",
        "#from keras.models import Sequential\n",
        "#from keras.layers import Dense\n",
        "from keras.wrappers.scikit_learn import KerasClassifier"
      ],
      "execution_count": 1,
      "outputs": []
    },
    {
      "cell_type": "markdown",
      "metadata": {
        "id": "mR78a4QIbEow"
      },
      "source": [
        "<a name=\"Dataset\"></a>\n",
        "## **Dataset**\n"
      ]
    },
    {
      "cell_type": "code",
      "metadata": {
        "colab": {
          "base_uri": "https://localhost:8080/"
        },
        "id": "tVe2wKVGSwIV",
        "outputId": "a0e32d8f-cff7-4843-c9bd-6af63a04a253"
      },
      "source": [
        "from google.colab import drive\n",
        "drive.mount('/content/drive/')"
      ],
      "execution_count": 2,
      "outputs": [
        {
          "output_type": "stream",
          "name": "stdout",
          "text": [
            "Mounted at /content/drive/\n"
          ]
        }
      ]
    },
    {
      "cell_type": "code",
      "metadata": {
        "colab": {
          "base_uri": "https://localhost:8080/",
          "height": 205
        },
        "id": "59_A44_uS6PP",
        "outputId": "8aef66d1-22d3-49f8-eabe-cc510785aaa3"
      },
      "source": [
        "import pandas as pd\n",
        "data = pd.read_csv(\"/content/drive/My Drive/auto-mpg.csv\", na_values='?', usecols=[\"MPG\",\"Cylinders\",\"Displacement\",\"Horsepower\",\"Weight\",\"Acceleration\",\"Model Year\"])\n",
        "data = data.dropna()\n",
        "data.head()"
      ],
      "execution_count": 3,
      "outputs": [
        {
          "output_type": "execute_result",
          "data": {
            "text/html": [
              "<div>\n",
              "<style scoped>\n",
              "    .dataframe tbody tr th:only-of-type {\n",
              "        vertical-align: middle;\n",
              "    }\n",
              "\n",
              "    .dataframe tbody tr th {\n",
              "        vertical-align: top;\n",
              "    }\n",
              "\n",
              "    .dataframe thead th {\n",
              "        text-align: right;\n",
              "    }\n",
              "</style>\n",
              "<table border=\"1\" class=\"dataframe\">\n",
              "  <thead>\n",
              "    <tr style=\"text-align: right;\">\n",
              "      <th></th>\n",
              "      <th>MPG</th>\n",
              "      <th>Cylinders</th>\n",
              "      <th>Displacement</th>\n",
              "      <th>Horsepower</th>\n",
              "      <th>Weight</th>\n",
              "      <th>Acceleration</th>\n",
              "      <th>Model Year</th>\n",
              "    </tr>\n",
              "  </thead>\n",
              "  <tbody>\n",
              "    <tr>\n",
              "      <th>0</th>\n",
              "      <td>18.0</td>\n",
              "      <td>8</td>\n",
              "      <td>307.0</td>\n",
              "      <td>130.0</td>\n",
              "      <td>3504</td>\n",
              "      <td>12.0</td>\n",
              "      <td>70</td>\n",
              "    </tr>\n",
              "    <tr>\n",
              "      <th>1</th>\n",
              "      <td>15.0</td>\n",
              "      <td>8</td>\n",
              "      <td>350.0</td>\n",
              "      <td>165.0</td>\n",
              "      <td>3693</td>\n",
              "      <td>11.5</td>\n",
              "      <td>70</td>\n",
              "    </tr>\n",
              "    <tr>\n",
              "      <th>2</th>\n",
              "      <td>18.0</td>\n",
              "      <td>8</td>\n",
              "      <td>318.0</td>\n",
              "      <td>150.0</td>\n",
              "      <td>3436</td>\n",
              "      <td>11.0</td>\n",
              "      <td>70</td>\n",
              "    </tr>\n",
              "    <tr>\n",
              "      <th>3</th>\n",
              "      <td>16.0</td>\n",
              "      <td>8</td>\n",
              "      <td>304.0</td>\n",
              "      <td>150.0</td>\n",
              "      <td>3433</td>\n",
              "      <td>12.0</td>\n",
              "      <td>70</td>\n",
              "    </tr>\n",
              "    <tr>\n",
              "      <th>4</th>\n",
              "      <td>17.0</td>\n",
              "      <td>8</td>\n",
              "      <td>302.0</td>\n",
              "      <td>140.0</td>\n",
              "      <td>3449</td>\n",
              "      <td>10.5</td>\n",
              "      <td>70</td>\n",
              "    </tr>\n",
              "  </tbody>\n",
              "</table>\n",
              "</div>"
            ],
            "text/plain": [
              "    MPG  Cylinders  Displacement  Horsepower  Weight  Acceleration  Model Year\n",
              "0  18.0          8         307.0       130.0    3504          12.0          70\n",
              "1  15.0          8         350.0       165.0    3693          11.5          70\n",
              "2  18.0          8         318.0       150.0    3436          11.0          70\n",
              "3  16.0          8         304.0       150.0    3433          12.0          70\n",
              "4  17.0          8         302.0       140.0    3449          10.5          70"
            ]
          },
          "metadata": {},
          "execution_count": 3
        }
      ]
    },
    {
      "cell_type": "code",
      "metadata": {
        "colab": {
          "base_uri": "https://localhost:8080/"
        },
        "id": "ZK4MsOdEaih_",
        "outputId": "2eb03b1f-d23b-4e5c-e160-fb428a5e6bf7"
      },
      "source": [
        "data.shape"
      ],
      "execution_count": 4,
      "outputs": [
        {
          "output_type": "execute_result",
          "data": {
            "text/plain": [
              "(392, 7)"
            ]
          },
          "metadata": {},
          "execution_count": 4
        }
      ]
    },
    {
      "cell_type": "code",
      "metadata": {
        "id": "EzhIT6VBLMOc"
      },
      "source": [
        "from sklearn.model_selection import train_test_split\n",
        "X_train, X_test, y_train, y_test = train_test_split(data.drop('MPG', axis=1), data['MPG'], test_size=0.3, random_state=42)"
      ],
      "execution_count": 5,
      "outputs": []
    },
    {
      "cell_type": "code",
      "metadata": {
        "id": "SkeUqEPIfLmw"
      },
      "source": [
        "X_test, X_val, y_test, y_val = train_test_split(X_test, y_test, test_size = 0.5)"
      ],
      "execution_count": 6,
      "outputs": []
    },
    {
      "cell_type": "code",
      "metadata": {
        "id": "pcvklOjkAVJs"
      },
      "source": [
        "#Z-score Normalizing\n",
        "from sklearn import preprocessing\n",
        "X_train = preprocessing.scale(X_train)\n",
        "X_val = preprocessing.scale(X_val)\n",
        "X_test = preprocessing.scale(X_test)"
      ],
      "execution_count": 7,
      "outputs": []
    },
    {
      "cell_type": "markdown",
      "metadata": {
        "id": "qbwcucURbJRM"
      },
      "source": [
        "<a name=\"Loss-plot\"></a>\n",
        "## **Learning Curve**\n"
      ]
    },
    {
      "cell_type": "code",
      "metadata": {
        "id": "Mv6zdwwf04s2"
      },
      "source": [
        "model = tf.keras.Sequential()\n",
        "model.add(InputLayer(input_shape=X_train.shape[1]))\n",
        "model.add(Dense(4, activation = 'relu')) # kernel_initializer= initializers.glorot_uniform(seed=42)\n",
        "model.add(Dense(2, activation = 'relu')) # 64, kernel_initializer= initializers.glorot_uniform(seed=42)\n",
        "model.add(Dense(1, activation='relu'))"
      ],
      "execution_count": 8,
      "outputs": []
    },
    {
      "cell_type": "code",
      "metadata": {
        "id": "DMOOF_LV-kuH"
      },
      "source": [
        "model.compile(loss=\"mean_absolute_error\") "
      ],
      "execution_count": 9,
      "outputs": []
    },
    {
      "cell_type": "code",
      "metadata": {
        "colab": {
          "base_uri": "https://localhost:8080/"
        },
        "id": "AedK9hZm-knD",
        "outputId": "1a9903da-62cf-487f-a5f1-cc691b3644d6"
      },
      "source": [
        "history = model.fit(X_train, y_train, epochs=20, validation_data=(X_val,y_val))"
      ],
      "execution_count": 10,
      "outputs": [
        {
          "output_type": "stream",
          "name": "stdout",
          "text": [
            "Epoch 1/20\n",
            "9/9 [==============================] - 3s 24ms/step - loss: 23.5815 - val_loss: 22.8628\n",
            "Epoch 2/20\n",
            "9/9 [==============================] - 0s 6ms/step - loss: 23.5601 - val_loss: 22.8466\n",
            "Epoch 3/20\n",
            "9/9 [==============================] - 0s 6ms/step - loss: 23.5424 - val_loss: 22.8301\n",
            "Epoch 4/20\n",
            "9/9 [==============================] - 0s 6ms/step - loss: 23.5234 - val_loss: 22.8134\n",
            "Epoch 5/20\n",
            "9/9 [==============================] - 0s 6ms/step - loss: 23.5034 - val_loss: 22.7945\n",
            "Epoch 6/20\n",
            "9/9 [==============================] - 0s 6ms/step - loss: 23.4819 - val_loss: 22.7753\n",
            "Epoch 7/20\n",
            "9/9 [==============================] - 0s 6ms/step - loss: 23.4609 - val_loss: 22.7547\n",
            "Epoch 8/20\n",
            "9/9 [==============================] - 0s 6ms/step - loss: 23.4368 - val_loss: 22.7299\n",
            "Epoch 9/20\n",
            "9/9 [==============================] - 0s 6ms/step - loss: 23.4109 - val_loss: 22.7044\n",
            "Epoch 10/20\n",
            "9/9 [==============================] - 0s 6ms/step - loss: 23.3860 - val_loss: 22.6805\n",
            "Epoch 11/20\n",
            "9/9 [==============================] - 0s 6ms/step - loss: 23.3611 - val_loss: 22.6556\n",
            "Epoch 12/20\n",
            "9/9 [==============================] - 0s 6ms/step - loss: 23.3353 - val_loss: 22.6285\n",
            "Epoch 13/20\n",
            "9/9 [==============================] - 0s 6ms/step - loss: 23.3082 - val_loss: 22.6031\n",
            "Epoch 14/20\n",
            "9/9 [==============================] - 0s 6ms/step - loss: 23.2795 - val_loss: 22.5729\n",
            "Epoch 15/20\n",
            "9/9 [==============================] - 0s 6ms/step - loss: 23.2486 - val_loss: 22.5399\n",
            "Epoch 16/20\n",
            "9/9 [==============================] - 0s 6ms/step - loss: 23.2167 - val_loss: 22.5083\n",
            "Epoch 17/20\n",
            "9/9 [==============================] - 0s 6ms/step - loss: 23.1826 - val_loss: 22.4750\n",
            "Epoch 18/20\n",
            "9/9 [==============================] - 0s 6ms/step - loss: 23.1467 - val_loss: 22.4416\n",
            "Epoch 19/20\n",
            "9/9 [==============================] - 0s 6ms/step - loss: 23.1092 - val_loss: 22.4075\n",
            "Epoch 20/20\n",
            "9/9 [==============================] - 0s 5ms/step - loss: 23.0704 - val_loss: 22.3727\n"
          ]
        }
      ]
    },
    {
      "cell_type": "code",
      "metadata": {
        "colab": {
          "base_uri": "https://localhost:8080/",
          "height": 279
        },
        "id": "5cBFvBVicCp_",
        "outputId": "7f63cb37-c9e2-4a8f-851f-a53b2b77854a"
      },
      "source": [
        "# plot training history\n",
        "plt.plot(history.history['loss'], label='train')\n",
        "plt.plot(history.history['val_loss'], label='validate')\n",
        "plt.xlabel(\"epochs\")\n",
        "plt.ylabel(\"Loss\")\n",
        "plt.legend()\n",
        "plt.show()"
      ],
      "execution_count": 11,
      "outputs": [
        {
          "output_type": "display_data",
          "data": {
            "image/png": "[encoded data removed]",
            "text/plain": [
              "<Figure size 432x288 with 1 Axes>"
            ]
          },
          "metadata": {
            "needs_background": "light"
          }
        }
      ]
    },
    {
      "cell_type": "code",
      "metadata": {
        "colab": {
          "base_uri": "https://localhost:8080/"
        },
        "id": "RdhNDOhfGsjR",
        "outputId": "03596c9e-2036-4160-bb34-89a9160607f7"
      },
      "source": [
        "# Accuracy (Root Mean Squared Error)\n",
        "y_pred = model.predict(X_test)\n",
        "from sklearn.metrics import mean_squared_error\n",
        "mean_squared_error(y_test, y_pred, squared=False)"
      ],
      "execution_count": 12,
      "outputs": [
        {
          "output_type": "execute_result",
          "data": {
            "text/plain": [
              "23.91705274234213"
            ]
          },
          "metadata": {},
          "execution_count": 12
        }
      ]
    },
    {
      "cell_type": "markdown",
      "metadata": {
        "id": "VYFViN_2aJVr"
      },
      "source": [
        "<a name=\"Tuning\"></a>\n",
        "<h1> Hyperparameter Tuning </h1>\n",
        "<a href=\"https://imgbb.com/\"><img src=\"https://i.ibb.co/W3WZC8d/tune.png\" alt=\"tune\" border=\"0\"></a>"
      ]
    },
    {
      "cell_type": "code",
      "metadata": {
        "id": "clxJlJM2no6m"
      },
      "source": [
        "# Function to create model, required for KerasClassifier\n",
        "def create_model(learn_rate=0.01, neurons_1=1, neurons_2=1):\n",
        "  # create model\n",
        "  model = tf.keras.Sequential()\n",
        "  model.add(InputLayer(input_shape=X_train.shape[1]))\n",
        "  model.add(Dense(neurons_1, activation = 'relu'))\n",
        "  model.add(Dense(neurons_2, activation = 'relu'))\n",
        "  model.add(Dense(1, activation='relu'))\n",
        "\n",
        "\t# Compile model\n",
        "  optimizer = Adam(learning_rate=learn_rate)\n",
        "  model.compile(loss='mean_absolute_error', optimizer= optimizer, metrics=['accuracy'])\n",
        "  return model"
      ],
      "execution_count": 13,
      "outputs": []
    },
    {
      "cell_type": "code",
      "metadata": {
        "id": "ijZzSZRCno3W"
      },
      "source": [
        "# Wrap model so it can be used by scikit-learn\n",
        "neural_network = KerasClassifier(build_fn=create_model)"
      ],
      "execution_count": 14,
      "outputs": []
    },
    {
      "cell_type": "code",
      "metadata": {
        "colab": {
          "base_uri": "https://localhost:8080/"
        },
        "id": "oBVgR1jFuvvc",
        "outputId": "d04b4527-b7f7-4711-d30d-f136e747b01d"
      },
      "source": [
        "# define the grid search parameters\n",
        "hyperparameters = dict(learn_rate = [0.001, 0.01], \n",
        "                       neurons_1=[4, 32],\n",
        "                       neurons_2=[2, 16]) \n",
        "hyperparameters "
      ],
      "execution_count": 15,
      "outputs": [
        {
          "output_type": "execute_result",
          "data": {
            "text/plain": [
              "{'learn_rate': [0.001, 0.01], 'neurons_1': [4, 32], 'neurons_2': [2, 16]}"
            ]
          },
          "metadata": {},
          "execution_count": 15
        }
      ]
    },
    {
      "cell_type": "code",
      "metadata": {
        "id": "6MdSbL4HcziG",
        "colab": {
          "base_uri": "https://localhost:8080/"
        },
        "outputId": "603aef8d-57b2-454e-bc46-47c334f59291"
      },
      "source": [
        "# Conduct Grid Search\n",
        "\n",
        "# Create grid search\n",
        "grid = GridSearchCV(estimator=neural_network, param_grid=hyperparameters, n_jobs=-1, cv=5)\n",
        "\n",
        "# Fit grid search\n",
        "grid_result = grid.fit(X_train, y_train)"
      ],
      "execution_count": 16,
      "outputs": [
        {
          "output_type": "stream",
          "name": "stdout",
          "text": [
            "9/9 [==============================] - 0s 4ms/step - loss: 37.6971 - accuracy: 0.0036\n"
          ]
        }
      ]
    },
    {
      "cell_type": "code",
      "metadata": {
        "colab": {
          "base_uri": "https://localhost:8080/"
        },
        "id": "e5vFmvGScrh6",
        "outputId": "a7d09353-4a22-42cf-c7db-d001963332c9"
      },
      "source": [
        "# Find best model's hyperparameters\n",
        "means = grid_result.cv_results_['mean_test_score']\n",
        "stds = grid_result.cv_results_['std_test_score']\n",
        "params = grid_result.cv_results_['params']\n",
        "\n",
        "for mean, stdev, param in zip(means, stds, params):\n",
        "    print(\"%f (%f) with: %r\" % (mean, stdev, param))\n",
        "\n",
        "print(\"\\nBest: %f using %s\" % (grid_result.best_score_, grid_result.best_params_))"
      ],
      "execution_count": 17,
      "outputs": [
        {
          "output_type": "stream",
          "name": "stdout",
          "text": [
            "0.007273 (0.008907) with: {'learn_rate': 0.001, 'neurons_1': 4, 'neurons_2': 2}\n",
            "0.007273 (0.008907) with: {'learn_rate': 0.001, 'neurons_1': 4, 'neurons_2': 16}\n",
            "0.003636 (0.007273) with: {'learn_rate': 0.001, 'neurons_1': 32, 'neurons_2': 2}\n",
            "0.007273 (0.008907) with: {'learn_rate': 0.001, 'neurons_1': 32, 'neurons_2': 16}\n",
            "0.007273 (0.008907) with: {'learn_rate': 0.01, 'neurons_1': 4, 'neurons_2': 2}\n",
            "0.003636 (0.007273) with: {'learn_rate': 0.01, 'neurons_1': 4, 'neurons_2': 16}\n",
            "0.000000 (0.000000) with: {'learn_rate': 0.01, 'neurons_1': 32, 'neurons_2': 2}\n",
            "0.003636 (0.007273) with: {'learn_rate': 0.01, 'neurons_1': 32, 'neurons_2': 16}\n",
            "\n",
            "Best: 0.007273 using {'learn_rate': 0.001, 'neurons_1': 4, 'neurons_2': 2}\n"
          ]
        }
      ]
    },
    {
      "cell_type": "markdown",
      "metadata": {
        "id": "bot1SFcx4Pjb"
      },
      "source": [
        "<a name=\"Final\"></a>\n",
        "## **Create final model** "
      ]
    },
    {
      "cell_type": "code",
      "metadata": {
        "colab": {
          "base_uri": "https://localhost:8080/"
        },
        "id": "2xUQ7uiIMium",
        "outputId": "a0498d6a-0f71-4d15-bb9c-15983d93a3da"
      },
      "source": [
        "# create model\n",
        "model = tf.keras.Sequential()\n",
        "model.add(InputLayer(input_shape=X_train.shape[1]))\n",
        "model.add(Dense(grid_result.best_params_['neurons_1'], activation = 'relu'))\n",
        "model.add(Dense(grid_result.best_params_['neurons_2'], activation = 'relu'))\n",
        "model.add(Dense(1, activation='relu'))\n",
        "\n",
        "# Compile model\n",
        "optimizer = Adam(learning_rate=grid_result.best_params_['learn_rate'])\n",
        "model.compile(loss='mean_absolute_error', optimizer='adam', metrics=['accuracy'])\n",
        "history = model.fit(X_train, y_train, epochs = 100, verbose = 1, validation_data=(X_val,y_val)) # batch_size = grid_result.best_params_['batch_size']"
      ],
      "execution_count": 18,
      "outputs": [
        {
          "output_type": "stream",
          "name": "stdout",
          "text": [
            "Epoch 1/100\n",
            "9/9 [==============================] - 1s 30ms/step - loss: 23.3361 - accuracy: 0.0000e+00 - val_loss: 22.5680 - val_accuracy: 0.0000e+00\n",
            "Epoch 2/100\n",
            "9/9 [==============================] - 0s 7ms/step - loss: 23.2945 - accuracy: 0.0000e+00 - val_loss: 22.5226 - val_accuracy: 0.0000e+00\n",
            "Epoch 3/100\n",
            "9/9 [==============================] - 0s 7ms/step - loss: 23.2488 - accuracy: 0.0000e+00 - val_loss: 22.4701 - val_accuracy: 0.0000e+00\n",
            "Epoch 4/100\n",
            "9/9 [==============================] - 0s 6ms/step - loss: 23.1963 - accuracy: 0.0000e+00 - val_loss: 22.4107 - val_accuracy: 0.0000e+00\n",
            "Epoch 5/100\n",
            "9/9 [==============================] - 0s 6ms/step - loss: 23.1379 - accuracy: 0.0000e+00 - val_loss: 22.3483 - val_accuracy: 0.0000e+00\n",
            "Epoch 6/100\n",
            "9/9 [==============================] - 0s 6ms/step - loss: 23.0758 - accuracy: 0.0000e+00 - val_loss: 22.2838 - val_accuracy: 0.0000e+00\n",
            "Epoch 7/100\n",
            "9/9 [==============================] - 0s 6ms/step - loss: 23.0108 - accuracy: 0.0000e+00 - val_loss: 22.2168 - val_accuracy: 0.0000e+00\n",
            "Epoch 8/100\n",
            "9/9 [==============================] - 0s 6ms/step - loss: 22.9432 - accuracy: 0.0000e+00 - val_loss: 22.1470 - val_accuracy: 0.0000e+00\n",
            "Epoch 9/100\n",
            "9/9 [==============================] - 0s 6ms/step - loss: 22.8732 - accuracy: 0.0000e+00 - val_loss: 22.0731 - val_accuracy: 0.0000e+00\n",
            "Epoch 10/100\n",
            "9/9 [==============================] - 0s 7ms/step - loss: 22.7985 - accuracy: 0.0000e+00 - val_loss: 21.9963 - val_accuracy: 0.0000e+00\n",
            "Epoch 11/100\n",
            "9/9 [==============================] - 0s 7ms/step - loss: 22.7212 - accuracy: 0.0000e+00 - val_loss: 21.9147 - val_accuracy: 0.0000e+00\n",
            "Epoch 12/100\n",
            "9/9 [==============================] - 0s 8ms/step - loss: 22.6388 - accuracy: 0.0000e+00 - val_loss: 21.8294 - val_accuracy: 0.0000e+00\n",
            "Epoch 13/100\n",
            "9/9 [==============================] - 0s 6ms/step - loss: 22.5520 - accuracy: 0.0000e+00 - val_loss: 21.7395 - val_accuracy: 0.0000e+00\n",
            "Epoch 14/100\n",
            "9/9 [==============================] - 0s 6ms/step - loss: 22.4600 - accuracy: 0.0000e+00 - val_loss: 21.6439 - val_accuracy: 0.0000e+00\n",
            "Epoch 15/100\n",
            "9/9 [==============================] - 0s 6ms/step - loss: 22.3620 - accuracy: 0.0000e+00 - val_loss: 21.5419 - val_accuracy: 0.0000e+00\n",
            "Epoch 16/100\n",
            "9/9 [==============================] - 0s 6ms/step - loss: 22.2577 - accuracy: 0.0000e+00 - val_loss: 21.4339 - val_accuracy: 0.0000e+00\n",
            "Epoch 17/100\n",
            "9/9 [==============================] - 0s 6ms/step - loss: 22.1476 - accuracy: 0.0000e+00 - val_loss: 21.3191 - val_accuracy: 0.0000e+00\n",
            "Epoch 18/100\n",
            "9/9 [==============================] - 0s 6ms/step - loss: 22.0294 - accuracy: 0.0000e+00 - val_loss: 21.1975 - val_accuracy: 0.0000e+00\n",
            "Epoch 19/100\n",
            "9/9 [==============================] - 0s 6ms/step - loss: 21.9023 - accuracy: 0.0000e+00 - val_loss: 21.0698 - val_accuracy: 0.0000e+00\n",
            "Epoch 20/100\n",
            "9/9 [==============================] - 0s 6ms/step - loss: 21.7698 - accuracy: 0.0000e+00 - val_loss: 20.9325 - val_accuracy: 0.0000e+00\n",
            "Epoch 21/100\n",
            "9/9 [==============================] - 0s 8ms/step - loss: 21.6262 - accuracy: 0.0000e+00 - val_loss: 20.7874 - val_accuracy: 0.0000e+00\n",
            "Epoch 22/100\n",
            "9/9 [==============================] - 0s 9ms/step - loss: 21.4739 - accuracy: 0.0000e+00 - val_loss: 20.6325 - val_accuracy: 0.0000e+00\n",
            "Epoch 23/100\n",
            "9/9 [==============================] - 0s 6ms/step - loss: 21.3112 - accuracy: 0.0000e+00 - val_loss: 20.4693 - val_accuracy: 0.0000e+00\n",
            "Epoch 24/100\n",
            "9/9 [==============================] - 0s 7ms/step - loss: 21.1415 - accuracy: 0.0000e+00 - val_loss: 20.2941 - val_accuracy: 0.0000e+00\n",
            "Epoch 25/100\n",
            "9/9 [==============================] - 0s 6ms/step - loss: 20.9602 - accuracy: 0.0000e+00 - val_loss: 20.1092 - val_accuracy: 0.0000e+00\n",
            "Epoch 26/100\n",
            "9/9 [==============================] - 0s 6ms/step - loss: 20.7676 - accuracy: 0.0000e+00 - val_loss: 19.9134 - val_accuracy: 0.0000e+00\n",
            "Epoch 27/100\n",
            "9/9 [==============================] - 0s 6ms/step - loss: 20.5637 - accuracy: 0.0000e+00 - val_loss: 19.7047 - val_accuracy: 0.0000e+00\n",
            "Epoch 28/100\n",
            "9/9 [==============================] - 0s 7ms/step - loss: 20.3492 - accuracy: 0.0000e+00 - val_loss: 19.4837 - val_accuracy: 0.0000e+00\n",
            "Epoch 29/100\n",
            "9/9 [==============================] - 0s 6ms/step - loss: 20.1182 - accuracy: 0.0000e+00 - val_loss: 19.2531 - val_accuracy: 0.0000e+00\n",
            "Epoch 30/100\n",
            "9/9 [==============================] - 0s 7ms/step - loss: 19.8793 - accuracy: 0.0000e+00 - val_loss: 19.0071 - val_accuracy: 0.0000e+00\n",
            "Epoch 31/100\n",
            "9/9 [==============================] - 0s 7ms/step - loss: 19.6224 - accuracy: 0.0000e+00 - val_loss: 18.7463 - val_accuracy: 0.0000e+00\n",
            "Epoch 32/100\n",
            "9/9 [==============================] - 0s 10ms/step - loss: 19.3494 - accuracy: 0.0000e+00 - val_loss: 18.4711 - val_accuracy: 0.0000e+00\n",
            "Epoch 33/100\n",
            "9/9 [==============================] - 0s 6ms/step - loss: 19.0620 - accuracy: 0.0000e+00 - val_loss: 18.1799 - val_accuracy: 0.0000e+00\n",
            "Epoch 34/100\n",
            "9/9 [==============================] - 0s 7ms/step - loss: 18.7568 - accuracy: 0.0000e+00 - val_loss: 17.8712 - val_accuracy: 0.0000e+00\n",
            "Epoch 35/100\n",
            "9/9 [==============================] - 0s 6ms/step - loss: 18.4339 - accuracy: 0.0000e+00 - val_loss: 17.5442 - val_accuracy: 0.0000e+00\n",
            "Epoch 36/100\n",
            "9/9 [==============================] - 0s 6ms/step - loss: 18.0927 - accuracy: 0.0000e+00 - val_loss: 17.1990 - val_accuracy: 0.0000e+00\n",
            "Epoch 37/100\n",
            "9/9 [==============================] - 0s 6ms/step - loss: 17.7281 - accuracy: 0.0000e+00 - val_loss: 16.8661 - val_accuracy: 0.0000e+00\n",
            "Epoch 38/100\n",
            "9/9 [==============================] - 0s 6ms/step - loss: 17.3511 - accuracy: 0.0000e+00 - val_loss: 16.5429 - val_accuracy: 0.0000e+00\n",
            "Epoch 39/100\n",
            "9/9 [==============================] - 0s 8ms/step - loss: 16.9553 - accuracy: 0.0000e+00 - val_loss: 16.2063 - val_accuracy: 0.0000e+00\n",
            "Epoch 40/100\n",
            "9/9 [==============================] - 0s 6ms/step - loss: 16.5396 - accuracy: 0.0000e+00 - val_loss: 15.8588 - val_accuracy: 0.0000e+00\n",
            "Epoch 41/100\n",
            "9/9 [==============================] - 0s 6ms/step - loss: 16.1407 - accuracy: 0.0000e+00 - val_loss: 15.5519 - val_accuracy: 0.0000e+00\n",
            "Epoch 42/100\n",
            "9/9 [==============================] - 0s 6ms/step - loss: 15.7503 - accuracy: 0.0000e+00 - val_loss: 15.2686 - val_accuracy: 0.0000e+00\n",
            "Epoch 43/100\n",
            "9/9 [==============================] - 0s 6ms/step - loss: 15.4058 - accuracy: 0.0000e+00 - val_loss: 15.0055 - val_accuracy: 0.0000e+00\n",
            "Epoch 44/100\n",
            "9/9 [==============================] - 0s 7ms/step - loss: 15.0522 - accuracy: 0.0000e+00 - val_loss: 14.7541 - val_accuracy: 0.0000e+00\n",
            "Epoch 45/100\n",
            "9/9 [==============================] - 0s 6ms/step - loss: 14.7229 - accuracy: 0.0000e+00 - val_loss: 14.4945 - val_accuracy: 0.0000e+00\n",
            "Epoch 46/100\n",
            "9/9 [==============================] - 0s 6ms/step - loss: 14.4012 - accuracy: 0.0000e+00 - val_loss: 14.2268 - val_accuracy: 0.0000e+00\n",
            "Epoch 47/100\n",
            "9/9 [==============================] - 0s 6ms/step - loss: 14.0776 - accuracy: 0.0000e+00 - val_loss: 13.9463 - val_accuracy: 0.0000e+00\n",
            "Epoch 48/100\n",
            "9/9 [==============================] - 0s 6ms/step - loss: 13.7655 - accuracy: 0.0000e+00 - val_loss: 13.6636 - val_accuracy: 0.0000e+00\n",
            "Epoch 49/100\n",
            "9/9 [==============================] - 0s 6ms/step - loss: 13.4654 - accuracy: 0.0000e+00 - val_loss: 13.3724 - val_accuracy: 0.0000e+00\n",
            "Epoch 50/100\n",
            "9/9 [==============================] - 0s 6ms/step - loss: 13.1420 - accuracy: 0.0000e+00 - val_loss: 13.0845 - val_accuracy: 0.0000e+00\n",
            "Epoch 51/100\n",
            "9/9 [==============================] - 0s 6ms/step - loss: 12.8499 - accuracy: 0.0000e+00 - val_loss: 12.7777 - val_accuracy: 0.0000e+00\n",
            "Epoch 52/100\n",
            "9/9 [==============================] - 0s 6ms/step - loss: 12.5286 - accuracy: 0.0000e+00 - val_loss: 12.4730 - val_accuracy: 0.0000e+00\n",
            "Epoch 53/100\n",
            "9/9 [==============================] - 0s 6ms/step - loss: 12.2093 - accuracy: 0.0000e+00 - val_loss: 12.1634 - val_accuracy: 0.0000e+00\n",
            "Epoch 54/100\n",
            "9/9 [==============================] - 0s 5ms/step - loss: 11.8989 - accuracy: 0.0000e+00 - val_loss: 11.8328 - val_accuracy: 0.0000e+00\n",
            "Epoch 55/100\n",
            "9/9 [==============================] - 0s 6ms/step - loss: 11.5722 - accuracy: 0.0000e+00 - val_loss: 11.5054 - val_accuracy: 0.0000e+00\n",
            "Epoch 56/100\n",
            "9/9 [==============================] - 0s 6ms/step - loss: 11.2564 - accuracy: 0.0000e+00 - val_loss: 11.1774 - val_accuracy: 0.0000e+00\n",
            "Epoch 57/100\n",
            "9/9 [==============================] - 0s 6ms/step - loss: 10.9255 - accuracy: 0.0000e+00 - val_loss: 10.8635 - val_accuracy: 0.0000e+00\n",
            "Epoch 58/100\n",
            "9/9 [==============================] - 0s 6ms/step - loss: 10.5925 - accuracy: 0.0000e+00 - val_loss: 10.5500 - val_accuracy: 0.0000e+00\n",
            "Epoch 59/100\n",
            "9/9 [==============================] - 0s 6ms/step - loss: 10.2723 - accuracy: 0.0000e+00 - val_loss: 10.2640 - val_accuracy: 0.0000e+00\n",
            "Epoch 60/100\n",
            "9/9 [==============================] - 0s 6ms/step - loss: 9.9441 - accuracy: 0.0000e+00 - val_loss: 9.9869 - val_accuracy: 0.0000e+00\n",
            "Epoch 61/100\n",
            "9/9 [==============================] - 0s 7ms/step - loss: 9.6215 - accuracy: 0.0000e+00 - val_loss: 9.7022 - val_accuracy: 0.0000e+00\n",
            "Epoch 62/100\n",
            "9/9 [==============================] - 0s 6ms/step - loss: 9.2980 - accuracy: 0.0000e+00 - val_loss: 9.4147 - val_accuracy: 0.0000e+00\n",
            "Epoch 63/100\n",
            "9/9 [==============================] - 0s 6ms/step - loss: 8.9589 - accuracy: 0.0000e+00 - val_loss: 9.1430 - val_accuracy: 0.0000e+00\n",
            "Epoch 64/100\n",
            "9/9 [==============================] - 0s 7ms/step - loss: 8.6451 - accuracy: 0.0000e+00 - val_loss: 8.8604 - val_accuracy: 0.0000e+00\n",
            "Epoch 65/100\n",
            "9/9 [==============================] - 0s 6ms/step - loss: 8.3185 - accuracy: 0.0000e+00 - val_loss: 8.5791 - val_accuracy: 0.0000e+00\n",
            "Epoch 66/100\n",
            "9/9 [==============================] - 0s 6ms/step - loss: 8.0000 - accuracy: 0.0000e+00 - val_loss: 8.2950 - val_accuracy: 0.0000e+00\n",
            "Epoch 67/100\n",
            "9/9 [==============================] - 0s 6ms/step - loss: 7.6935 - accuracy: 0.0000e+00 - val_loss: 8.0429 - val_accuracy: 0.0000e+00\n",
            "Epoch 68/100\n",
            "9/9 [==============================] - 0s 6ms/step - loss: 7.4079 - accuracy: 0.0000e+00 - val_loss: 7.8209 - val_accuracy: 0.0000e+00\n",
            "Epoch 69/100\n",
            "9/9 [==============================] - 0s 6ms/step - loss: 7.1530 - accuracy: 0.0000e+00 - val_loss: 7.6212 - val_accuracy: 0.0000e+00\n",
            "Epoch 70/100\n",
            "9/9 [==============================] - 0s 6ms/step - loss: 6.9374 - accuracy: 0.0000e+00 - val_loss: 7.4309 - val_accuracy: 0.0000e+00\n",
            "Epoch 71/100\n",
            "9/9 [==============================] - 0s 6ms/step - loss: 6.7419 - accuracy: 0.0000e+00 - val_loss: 7.2392 - val_accuracy: 0.0000e+00\n",
            "Epoch 72/100\n",
            "9/9 [==============================] - 0s 6ms/step - loss: 6.5622 - accuracy: 0.0000e+00 - val_loss: 7.0499 - val_accuracy: 0.0000e+00\n",
            "Epoch 73/100\n",
            "9/9 [==============================] - 0s 7ms/step - loss: 6.4016 - accuracy: 0.0000e+00 - val_loss: 6.8856 - val_accuracy: 0.0000e+00\n",
            "Epoch 74/100\n",
            "9/9 [==============================] - 0s 7ms/step - loss: 6.2796 - accuracy: 0.0000e+00 - val_loss: 6.7370 - val_accuracy: 0.0000e+00\n",
            "Epoch 75/100\n",
            "9/9 [==============================] - 0s 6ms/step - loss: 6.1624 - accuracy: 0.0000e+00 - val_loss: 6.6073 - val_accuracy: 0.0000e+00\n",
            "Epoch 76/100\n",
            "9/9 [==============================] - 0s 6ms/step - loss: 6.0763 - accuracy: 0.0000e+00 - val_loss: 6.4778 - val_accuracy: 0.0000e+00\n",
            "Epoch 77/100\n",
            "9/9 [==============================] - 0s 7ms/step - loss: 5.9849 - accuracy: 0.0000e+00 - val_loss: 6.3680 - val_accuracy: 0.0000e+00\n",
            "Epoch 78/100\n",
            "9/9 [==============================] - 0s 6ms/step - loss: 5.8956 - accuracy: 0.0000e+00 - val_loss: 6.2715 - val_accuracy: 0.0000e+00\n",
            "Epoch 79/100\n",
            "9/9 [==============================] - 0s 6ms/step - loss: 5.8131 - accuracy: 0.0000e+00 - val_loss: 6.1542 - val_accuracy: 0.0000e+00\n",
            "Epoch 80/100\n",
            "9/9 [==============================] - 0s 6ms/step - loss: 5.7312 - accuracy: 0.0000e+00 - val_loss: 6.0518 - val_accuracy: 0.0000e+00\n",
            "Epoch 81/100\n",
            "9/9 [==============================] - 0s 6ms/step - loss: 5.6537 - accuracy: 0.0000e+00 - val_loss: 5.9719 - val_accuracy: 0.0000e+00\n",
            "Epoch 82/100\n",
            "9/9 [==============================] - 0s 6ms/step - loss: 5.5943 - accuracy: 0.0000e+00 - val_loss: 5.9039 - val_accuracy: 0.0000e+00\n",
            "Epoch 83/100\n",
            "9/9 [==============================] - 0s 7ms/step - loss: 5.5397 - accuracy: 0.0000e+00 - val_loss: 5.8457 - val_accuracy: 0.0000e+00\n",
            "Epoch 84/100\n",
            "9/9 [==============================] - 0s 6ms/step - loss: 5.4914 - accuracy: 0.0000e+00 - val_loss: 5.7939 - val_accuracy: 0.0000e+00\n",
            "Epoch 85/100\n",
            "9/9 [==============================] - 0s 7ms/step - loss: 5.4414 - accuracy: 0.0000e+00 - val_loss: 5.7426 - val_accuracy: 0.0000e+00\n",
            "Epoch 86/100\n",
            "9/9 [==============================] - 0s 6ms/step - loss: 5.3956 - accuracy: 0.0000e+00 - val_loss: 5.6927 - val_accuracy: 0.0000e+00\n",
            "Epoch 87/100\n",
            "9/9 [==============================] - 0s 7ms/step - loss: 5.3485 - accuracy: 0.0000e+00 - val_loss: 5.6411 - val_accuracy: 0.0000e+00\n",
            "Epoch 88/100\n",
            "9/9 [==============================] - 0s 6ms/step - loss: 5.3016 - accuracy: 0.0000e+00 - val_loss: 5.5888 - val_accuracy: 0.0000e+00\n",
            "Epoch 89/100\n",
            "9/9 [==============================] - 0s 6ms/step - loss: 5.2549 - accuracy: 0.0000e+00 - val_loss: 5.5313 - val_accuracy: 0.0000e+00\n",
            "Epoch 90/100\n",
            "9/9 [==============================] - 0s 7ms/step - loss: 5.2082 - accuracy: 0.0000e+00 - val_loss: 5.4786 - val_accuracy: 0.0000e+00\n",
            "Epoch 91/100\n",
            "9/9 [==============================] - 0s 6ms/step - loss: 5.1585 - accuracy: 0.0000e+00 - val_loss: 5.4247 - val_accuracy: 0.0000e+00\n",
            "Epoch 92/100\n",
            "9/9 [==============================] - 0s 7ms/step - loss: 5.1126 - accuracy: 0.0000e+00 - val_loss: 5.3683 - val_accuracy: 0.0000e+00\n",
            "Epoch 93/100\n",
            "9/9 [==============================] - 0s 6ms/step - loss: 5.0647 - accuracy: 0.0000e+00 - val_loss: 5.3111 - val_accuracy: 0.0000e+00\n",
            "Epoch 94/100\n",
            "9/9 [==============================] - 0s 7ms/step - loss: 5.0185 - accuracy: 0.0000e+00 - val_loss: 5.2503 - val_accuracy: 0.0000e+00\n",
            "Epoch 95/100\n",
            "9/9 [==============================] - 0s 6ms/step - loss: 4.9682 - accuracy: 0.0000e+00 - val_loss: 5.1938 - val_accuracy: 0.0000e+00\n",
            "Epoch 96/100\n",
            "9/9 [==============================] - 0s 7ms/step - loss: 4.9249 - accuracy: 0.0000e+00 - val_loss: 5.1385 - val_accuracy: 0.0000e+00\n",
            "Epoch 97/100\n",
            "9/9 [==============================] - 0s 6ms/step - loss: 4.8743 - accuracy: 0.0000e+00 - val_loss: 5.0786 - val_accuracy: 0.0000e+00\n",
            "Epoch 98/100\n",
            "9/9 [==============================] - 0s 8ms/step - loss: 4.8293 - accuracy: 0.0000e+00 - val_loss: 5.0271 - val_accuracy: 0.0000e+00\n",
            "Epoch 99/100\n",
            "9/9 [==============================] - 0s 8ms/step - loss: 4.7836 - accuracy: 0.0000e+00 - val_loss: 4.9742 - val_accuracy: 0.0000e+00\n",
            "Epoch 100/100\n",
            "9/9 [==============================] - 0s 8ms/step - loss: 4.7391 - accuracy: 0.0000e+00 - val_loss: 4.9220 - val_accuracy: 0.0000e+00\n"
          ]
        }
      ]
    },
    {
      "cell_type": "code",
      "metadata": {
        "colab": {
          "base_uri": "https://localhost:8080/"
        },
        "id": "wTIw6GGSRWRT",
        "outputId": "f601384d-1583-483a-8fe4-9ff2e9bd9d56"
      },
      "source": [
        "# Accuracy (Root Mean Squared Error)\n",
        "y_pred = model.predict(X_test)\n",
        "from sklearn.metrics import mean_squared_error\n",
        "mean_squared_error(y_test, y_pred, squared=False)"
      ],
      "execution_count": 19,
      "outputs": [
        {
          "output_type": "execute_result",
          "data": {
            "text/plain": [
              "6.001753373402742"
            ]
          },
          "metadata": {},
          "execution_count": 19
        }
      ]
    },
    {
      "cell_type": "code",
      "metadata": {
        "id": "utMnBQYMB6ns"
      },
      "source": [
        ""
      ],
      "execution_count": null,
      "outputs": []
    }
  ]
}