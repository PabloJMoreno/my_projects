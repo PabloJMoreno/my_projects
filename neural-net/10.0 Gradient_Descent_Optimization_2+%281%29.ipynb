{
  "nbformat": 4,
  "nbformat_minor": 0,
  "metadata": {
    "colab": {
      "name": "Gradient Descent Optimization 2.ipynb",
      "provenance": [],
      "collapsed_sections": []
    },
    "kernelspec": {
      "name": "python3",
      "display_name": "Python 3"
    },
    "language_info": {
      "name": "python"
    },
    "accelerator": "GPU"
  },
  "cells": [
    {
      "cell_type": "markdown",
      "metadata": {
        "id": "FRbIcCiotoce"
      },
      "source": [
        "<a name=\"TF-KS\"></a>\n",
        "## **Gradient Descent Optimization**"
      ]
    },
    {
      "cell_type": "code",
      "metadata": {
        "id": "Dcy-aryLxrCj"
      },
      "source": [
        "import pandas as pd\n",
        "from tensorflow.keras.optimizers import Adam\n",
        "import tensorflow as tf\n",
        "from tensorflow.keras.layers import Dense, Input, InputLayer\n",
        "from sklearn.metrics import confusion_matrix,accuracy_score\n",
        "import seaborn as sns\n",
        "import matplotlib.pyplot as plt  "
      ],
      "execution_count": 5,
      "outputs": []
    },
    {
      "cell_type": "markdown",
      "metadata": {
        "id": "mR78a4QIbEow"
      },
      "source": [
        "<a name=\"Dataset\"></a>\n",
        "## **Dataset**\n"
      ]
    },
    {
      "cell_type": "markdown",
      "metadata": {
        "id": "SGHwaOOxQXJe"
      },
      "source": [
        "<h4>Used Cars</h4>\n",
        "<p><img alt=\"Colaboratory logo\" height=\"55px\" src=\"https://upload.wikimedia.org/wikipedia/commons/thumb/9/99/GAZ-24_Volga.svg/640px-GAZ-24_Volga.svg.png\" align=\"left\" hspace=\"10px\" vspace=\"0px\"></p>\n"
      ]
    },
    {
      "cell_type": "code",
      "metadata": {
        "id": "tVe2wKVGSwIV",
        "colab": {
          "base_uri": "https://localhost:8080/"
        },
        "outputId": "97927e66-c097-4b86-bf35-65ecc39e9d9b"
      },
      "source": [
        "from google.colab import drive\n",
        "drive.mount('/content/drive/')"
      ],
      "execution_count": 6,
      "outputs": [
        {
          "output_type": "stream",
          "name": "stdout",
          "text": [
            "Drive already mounted at /content/drive/; to attempt to forcibly remount, call drive.mount(\"/content/drive/\", force_remount=True).\n"
          ]
        }
      ]
    },
    {
      "cell_type": "code",
      "metadata": {
        "id": "59_A44_uS6PP",
        "colab": {
          "base_uri": "https://localhost:8080/",
          "height": 203
        },
        "outputId": "157d254f-21fc-43d0-bfa5-7232d018d767"
      },
      "source": [
        "import pandas as pd\n",
        "data = pd.read_csv(\"/content/drive/My Drive/usedcars.csv\")\n",
        "data.head()"
      ],
      "execution_count": 7,
      "outputs": [
        {
          "output_type": "execute_result",
          "data": {
            "text/html": [
              "<div>\n",
              "<style scoped>\n",
              "    .dataframe tbody tr th:only-of-type {\n",
              "        vertical-align: middle;\n",
              "    }\n",
              "\n",
              "    .dataframe tbody tr th {\n",
              "        vertical-align: top;\n",
              "    }\n",
              "\n",
              "    .dataframe thead th {\n",
              "        text-align: right;\n",
              "    }\n",
              "</style>\n",
              "<table border=\"1\" class=\"dataframe\">\n",
              "  <thead>\n",
              "    <tr style=\"text-align: right;\">\n",
              "      <th></th>\n",
              "      <th>year</th>\n",
              "      <th>model</th>\n",
              "      <th>price</th>\n",
              "      <th>mileage</th>\n",
              "      <th>color</th>\n",
              "      <th>transmission</th>\n",
              "    </tr>\n",
              "  </thead>\n",
              "  <tbody>\n",
              "    <tr>\n",
              "      <th>0</th>\n",
              "      <td>2011</td>\n",
              "      <td>SEL</td>\n",
              "      <td>21992</td>\n",
              "      <td>7413</td>\n",
              "      <td>Yellow</td>\n",
              "      <td>AUTO</td>\n",
              "    </tr>\n",
              "    <tr>\n",
              "      <th>1</th>\n",
              "      <td>2011</td>\n",
              "      <td>SEL</td>\n",
              "      <td>20995</td>\n",
              "      <td>10926</td>\n",
              "      <td>Gray</td>\n",
              "      <td>AUTO</td>\n",
              "    </tr>\n",
              "    <tr>\n",
              "      <th>2</th>\n",
              "      <td>2011</td>\n",
              "      <td>SEL</td>\n",
              "      <td>19995</td>\n",
              "      <td>7351</td>\n",
              "      <td>Silver</td>\n",
              "      <td>AUTO</td>\n",
              "    </tr>\n",
              "    <tr>\n",
              "      <th>3</th>\n",
              "      <td>2011</td>\n",
              "      <td>SEL</td>\n",
              "      <td>17809</td>\n",
              "      <td>11613</td>\n",
              "      <td>Gray</td>\n",
              "      <td>AUTO</td>\n",
              "    </tr>\n",
              "    <tr>\n",
              "      <th>4</th>\n",
              "      <td>2012</td>\n",
              "      <td>SE</td>\n",
              "      <td>17500</td>\n",
              "      <td>8367</td>\n",
              "      <td>White</td>\n",
              "      <td>AUTO</td>\n",
              "    </tr>\n",
              "  </tbody>\n",
              "</table>\n",
              "</div>"
            ],
            "text/plain": [
              "   year model  price  mileage   color transmission\n",
              "0  2011   SEL  21992     7413  Yellow         AUTO\n",
              "1  2011   SEL  20995    10926    Gray         AUTO\n",
              "2  2011   SEL  19995     7351  Silver         AUTO\n",
              "3  2011   SEL  17809    11613    Gray         AUTO\n",
              "4  2012    SE  17500     8367   White         AUTO"
            ]
          },
          "metadata": {},
          "execution_count": 7
        }
      ]
    },
    {
      "cell_type": "code",
      "metadata": {
        "id": "cP6VGG1G4UGC"
      },
      "source": [
        "data"
      ],
      "execution_count": null,
      "outputs": []
    },
    {
      "cell_type": "markdown",
      "metadata": {
        "id": "HJVpGzk4sXdk"
      },
      "source": [
        "<a class=\"anchor\" id=\"first-bullet\"></a>\n",
        "<img src=\"https://i.ibb.co/nzdQxG1/car.png\" alt=\"Drawing\" style=\"width: 600px;\"/>"
      ]
    },
    {
      "cell_type": "code",
      "metadata": {
        "id": "68O06m1Xsdj0"
      },
      "source": [
        "#One-hot encode\n",
        "data = pd.get_dummies(data)"
      ],
      "execution_count": 8,
      "outputs": []
    },
    {
      "cell_type": "code",
      "metadata": {
        "id": "P4KNnVVKsk_1"
      },
      "source": [
        "from sklearn.model_selection import train_test_split\n",
        "X_train, X_test, y_train, y_test = train_test_split(data.loc[:, data.columns != 'price'], data['price'], test_size=0.2, random_state=1)"
      ],
      "execution_count": 9,
      "outputs": []
    },
    {
      "cell_type": "markdown",
      "metadata": {
        "id": "qbwcucURbJRM"
      },
      "source": [
        "<a name=\"Training\"></a>\n",
        "## **Training**\n"
      ]
    },
    {
      "cell_type": "code",
      "metadata": {
        "id": "Mv6zdwwf04s2"
      },
      "source": [
        "import tensorflow as tf\n",
        "from tensorflow.keras.layers import Dense, Input, InputLayer\n",
        "from tensorflow.keras import layers\n",
        "\n",
        "model1 = tf.keras.Sequential()\n",
        "model1.add(InputLayer(input_shape=X_train.shape[1]))\n",
        "model1.add(layers.BatchNormalization())\n",
        "model1.add(Dense(64, activation = 'relu'))\n",
        "model1.add(Dense(64, activation = 'relu'))\n",
        "model1.add(Dense(1, activation='relu'))"
      ],
      "execution_count": 10,
      "outputs": []
    },
    {
      "cell_type": "markdown",
      "metadata": {
        "id": "AIUPUBGN-ip0"
      },
      "source": [
        "# Defaults"
      ]
    },
    {
      "cell_type": "code",
      "metadata": {
        "id": "DMOOF_LV-kuH"
      },
      "source": [
        "model1.compile(loss=\"mean_squared_error\") "
      ],
      "execution_count": 11,
      "outputs": []
    },
    {
      "cell_type": "code",
      "metadata": {
        "id": "AedK9hZm-knD",
        "colab": {
          "base_uri": "https://localhost:8080/"
        },
        "outputId": "322c3590-4d0a-41f5-e1a4-2d64ddb59511"
      },
      "source": [
        "model1.fit(X_train, y_train)"
      ],
      "execution_count": 12,
      "outputs": [
        {
          "output_type": "stream",
          "name": "stdout",
          "text": [
            "4/4 [==============================] - 1s 7ms/step - loss: 176737024.0000\n"
          ]
        },
        {
          "output_type": "execute_result",
          "data": {
            "text/plain": [
              "<keras.callbacks.History at 0x7fb7f02d3ed0>"
            ]
          },
          "metadata": {},
          "execution_count": 12
        }
      ]
    },
    {
      "cell_type": "code",
      "metadata": {
        "id": "kupFbQeDtnuK"
      },
      "source": [
        "y_pred = model1.predict(X_test)"
      ],
      "execution_count": 13,
      "outputs": []
    },
    {
      "cell_type": "code",
      "metadata": {
        "colab": {
          "base_uri": "https://localhost:8080/"
        },
        "id": "54hiknCNtX-7",
        "outputId": "03db3f96-1f3d-4fe3-a902-c97def1ec212"
      },
      "source": [
        "# Accuracy (Root Mean Squared Error)\n",
        "from sklearn.metrics import mean_squared_error\n",
        "mean_squared_error(y_test, y_pred, squared=False)"
      ],
      "execution_count": 14,
      "outputs": [
        {
          "output_type": "execute_result",
          "data": {
            "text/plain": [
              "13003.598212120085"
            ]
          },
          "metadata": {},
          "execution_count": 14
        }
      ]
    },
    {
      "cell_type": "markdown",
      "metadata": {
        "id": "LVDPPIE2_eTg"
      },
      "source": [
        "# Optimized"
      ]
    },
    {
      "cell_type": "code",
      "metadata": {
        "id": "b79iE0tw_gWr"
      },
      "source": [
        "from tensorflow.keras.optimizers import Adam\n",
        "\n",
        "model2 = tf.keras.Sequential()\n",
        "model2.add(InputLayer(input_shape=X_train.shape[1]))\n",
        "model2.add(layers.BatchNormalization())\n",
        "model2.add(Dense(64, activation = 'relu'))\n",
        "model2.add(Dense(64, activation = 'relu'))\n",
        "model2.add(Dense(1, activation='relu'))"
      ],
      "execution_count": 15,
      "outputs": []
    },
    {
      "cell_type": "code",
      "metadata": {
        "id": "EP4p3VhW_gQt"
      },
      "source": [
        "model2.compile(optimizer = Adam(learning_rate=0.001), loss=\"mean_squared_error\") "
      ],
      "execution_count": 16,
      "outputs": []
    },
    {
      "cell_type": "code",
      "metadata": {
        "id": "3iYcdk30_gHZ",
        "colab": {
          "base_uri": "https://localhost:8080/"
        },
        "outputId": "9c112f54-0f23-4758-83ae-994c9fa18ece"
      },
      "source": [
        "history2 = model2.fit(X_train, y_train, epochs = 15, batch_size=16)"
      ],
      "execution_count": 17,
      "outputs": [
        {
          "output_type": "stream",
          "name": "stdout",
          "text": [
            "Epoch 1/15\n",
            "8/8 [==============================] - 1s 4ms/step - loss: 176734320.0000\n",
            "Epoch 2/15\n",
            "8/8 [==============================] - 0s 3ms/step - loss: 176711056.0000\n",
            "Epoch 3/15\n",
            "8/8 [==============================] - 0s 3ms/step - loss: 176684336.0000\n",
            "Epoch 4/15\n",
            "8/8 [==============================] - 0s 3ms/step - loss: 176648128.0000\n",
            "Epoch 5/15\n",
            "8/8 [==============================] - 0s 4ms/step - loss: 176605216.0000\n",
            "Epoch 6/15\n",
            "8/8 [==============================] - 0s 3ms/step - loss: 176547616.0000\n",
            "Epoch 7/15\n",
            "8/8 [==============================] - 0s 5ms/step - loss: 176469776.0000\n",
            "Epoch 8/15\n",
            "8/8 [==============================] - 0s 4ms/step - loss: 176376048.0000\n",
            "Epoch 9/15\n",
            "8/8 [==============================] - 0s 3ms/step - loss: 176247968.0000\n",
            "Epoch 10/15\n",
            "8/8 [==============================] - 0s 3ms/step - loss: 176091648.0000\n",
            "Epoch 11/15\n",
            "8/8 [==============================] - 0s 5ms/step - loss: 175892576.0000\n",
            "Epoch 12/15\n",
            "8/8 [==============================] - 0s 5ms/step - loss: 175649600.0000\n",
            "Epoch 13/15\n",
            "8/8 [==============================] - 0s 4ms/step - loss: 175356864.0000\n",
            "Epoch 14/15\n",
            "8/8 [==============================] - 0s 5ms/step - loss: 174990144.0000\n",
            "Epoch 15/15\n",
            "8/8 [==============================] - 0s 4ms/step - loss: 174490528.0000\n"
          ]
        }
      ]
    },
    {
      "cell_type": "code",
      "metadata": {
        "colab": {
          "base_uri": "https://localhost:8080/"
        },
        "id": "etoe4twetvSP",
        "outputId": "901d85fe-8df3-49f7-8319-449e8e54d6dd"
      },
      "source": [
        "y_pred = model2.predict(X_test)\n",
        "\n",
        "# Accuracy (Root Mean Squared Error)\n",
        "from sklearn.metrics import mean_squared_error\n",
        "mean_squared_error(y_test, y_pred, squared=False)"
      ],
      "execution_count": 18,
      "outputs": [
        {
          "output_type": "execute_result",
          "data": {
            "text/plain": [
              "5782.680720976995"
            ]
          },
          "metadata": {},
          "execution_count": 18
        }
      ]
    },
    {
      "cell_type": "code",
      "metadata": {
        "id": "JxpMp4ksDIoP"
      },
      "source": [
        ""
      ],
      "execution_count": null,
      "outputs": []
    }
  ]
}