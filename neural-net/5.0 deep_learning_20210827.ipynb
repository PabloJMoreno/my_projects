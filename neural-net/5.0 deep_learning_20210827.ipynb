{
  "nbformat": 4,
  "nbformat_minor": 0,
  "metadata": {
    "colab": {
      "name": "deep_learning_20210827.ipynb",
      "provenance": [],
      "collapsed_sections": []
    },
    "kernelspec": {
      "name": "python3",
      "display_name": "Python 3"
    },
    "language_info": {
      "name": "python"
    },
    "accelerator": "GPU"
  },
  "cells": [
    {
      "cell_type": "markdown",
      "metadata": {
        "id": "2mVv7fsv-38a"
      },
      "source": [
        "## **Deep Learning**\n"
      ]
    },
    {
      "cell_type": "markdown",
      "metadata": {
        "id": "v2FBjRMcN5O4"
      },
      "source": [
        "## Table of Contents:\n",
        "* [Dataset](#data)\n",
        "* [Training (0 hidden layers)](#zero)\n",
        "* [Training (1 hidden layer)](#one)\n",
        "* [Training (2 hidden layers)](#two)\n",
        "* [Training (3 hidden layers)](#three)\n"
      ]
    },
    {
      "cell_type": "code",
      "metadata": {
        "colab": {
          "base_uri": "https://localhost:8080/"
        },
        "id": "c36LtnDC_4_P",
        "outputId": "76e1e58d-a19e-4c7c-d495-babf40513306"
      },
      "source": [
        "import tensorflow as tf\n",
        "print(tf.__version__)"
      ],
      "execution_count": null,
      "outputs": [
        {
          "output_type": "stream",
          "name": "stdout",
          "text": [
            "2.6.0\n"
          ]
        }
      ]
    },
    {
      "cell_type": "markdown",
      "metadata": {
        "id": "LinRYkydAocE"
      },
      "source": [
        "<a name=\"data\"></a>\n",
        "## Dataset"
      ]
    },
    {
      "cell_type": "code",
      "metadata": {
        "colab": {
          "base_uri": "https://localhost:8080/"
        },
        "id": "xSwnCq34Byu1",
        "outputId": "68a58bff-0e19-4b73-d9cb-7a40cf9546fe"
      },
      "source": [
        "from google.colab import drive\n",
        "drive.mount('/content/drive/')"
      ],
      "execution_count": null,
      "outputs": [
        {
          "output_type": "stream",
          "name": "stdout",
          "text": [
            "Drive already mounted at /content/drive/; to attempt to forcibly remount, call drive.mount(\"/content/drive/\", force_remount=True).\n"
          ]
        }
      ]
    },
    {
      "cell_type": "code",
      "metadata": {
        "colab": {
          "base_uri": "https://localhost:8080/",
          "height": 206
        },
        "id": "o040SBcTB8OR",
        "outputId": "388a314e-06f5-4fdd-af47-dd0f5465444c"
      },
      "source": [
        "import pandas as pd\n",
        "data = pd.read_csv(\"/content/drive/My Drive/auto-mpg.csv\", na_values='?', usecols=[\"Horsepower\",\"MPG\"])\n",
        "data = data.dropna()\n",
        "data.head()"
      ],
      "execution_count": null,
      "outputs": [
        {
          "output_type": "execute_result",
          "data": {
            "text/html": [
              "<div>\n",
              "<style scoped>\n",
              "    .dataframe tbody tr th:only-of-type {\n",
              "        vertical-align: middle;\n",
              "    }\n",
              "\n",
              "    .dataframe tbody tr th {\n",
              "        vertical-align: top;\n",
              "    }\n",
              "\n",
              "    .dataframe thead th {\n",
              "        text-align: right;\n",
              "    }\n",
              "</style>\n",
              "<table border=\"1\" class=\"dataframe\">\n",
              "  <thead>\n",
              "    <tr style=\"text-align: right;\">\n",
              "      <th></th>\n",
              "      <th>MPG</th>\n",
              "      <th>Horsepower</th>\n",
              "    </tr>\n",
              "  </thead>\n",
              "  <tbody>\n",
              "    <tr>\n",
              "      <th>0</th>\n",
              "      <td>18.0</td>\n",
              "      <td>130.0</td>\n",
              "    </tr>\n",
              "    <tr>\n",
              "      <th>1</th>\n",
              "      <td>15.0</td>\n",
              "      <td>165.0</td>\n",
              "    </tr>\n",
              "    <tr>\n",
              "      <th>2</th>\n",
              "      <td>18.0</td>\n",
              "      <td>150.0</td>\n",
              "    </tr>\n",
              "    <tr>\n",
              "      <th>3</th>\n",
              "      <td>16.0</td>\n",
              "      <td>150.0</td>\n",
              "    </tr>\n",
              "    <tr>\n",
              "      <th>4</th>\n",
              "      <td>17.0</td>\n",
              "      <td>140.0</td>\n",
              "    </tr>\n",
              "  </tbody>\n",
              "</table>\n",
              "</div>"
            ],
            "text/plain": [
              "    MPG  Horsepower\n",
              "0  18.0       130.0\n",
              "1  15.0       165.0\n",
              "2  18.0       150.0\n",
              "3  16.0       150.0\n",
              "4  17.0       140.0"
            ]
          },
          "metadata": {},
          "execution_count": 29
        }
      ]
    },
    {
      "cell_type": "code",
      "metadata": {
        "colab": {
          "base_uri": "https://localhost:8080/",
          "height": 301
        },
        "id": "5_2M8ccPN0Hn",
        "outputId": "3a37e512-ccb8-41ad-b6f8-fd518ff644b9"
      },
      "source": [
        "import matplotlib.pyplot as plt\n",
        "\n",
        "plt.scatter(data['Horsepower'],data['MPG'], label='Data')\n",
        "plt.xlabel('Horsepower')\n",
        "plt.ylabel('MPG')\n",
        "plt.xlim(0, 250)\n",
        "plt.ylim(0, 50)"
      ],
      "execution_count": null,
      "outputs": [
        {
          "output_type": "execute_result",
          "data": {
            "text/plain": [
              "(0.0, 50.0)"
            ]
          },
          "metadata": {},
          "execution_count": 30
        },
        {
          "output_type": "display_data",
          "data": {
            "image/png": "[encoded data removed]",
            "text/plain": [
              "<Figure size 432x288 with 1 Axes>"
            ]
          },
          "metadata": {
            "needs_background": "light"
          }
        }
      ]
    },
    {
      "cell_type": "code",
      "metadata": {
        "id": "N510UalSCbDp"
      },
      "source": [
        "from sklearn.model_selection import train_test_split\n",
        "X_train, X_test, y_train, y_test = train_test_split(data['Horsepower'], data['MPG'], test_size=0.3, random_state=42)"
      ],
      "execution_count": null,
      "outputs": []
    },
    {
      "cell_type": "markdown",
      "metadata": {
        "id": "haWmmbyfCk5r"
      },
      "source": [
        "<a name=\"no\"></a>\n",
        "## Training (0 hidden layers)\n"
      ]
    },
    {
      "cell_type": "code",
      "metadata": {
        "id": "WI_pEkk3C0sf"
      },
      "source": [
        "from tensorflow.keras.layers import Dense, Input, InputLayer\n",
        "from tensorflow.keras import layers\n",
        "\n",
        "model0 = tf.keras.Sequential()\n",
        "model0.add(layers.BatchNormalization())\n",
        "model0.add(InputLayer(input_shape=1))\n",
        "model0.add(Dense(1))"
      ],
      "execution_count": null,
      "outputs": []
    },
    {
      "cell_type": "code",
      "metadata": {
        "id": "4UK6Rj5dDXsL"
      },
      "source": [
        "model0.compile(loss='mean_absolute_error', optimizer=tf.optimizers.Adam(learning_rate=0.1))"
      ],
      "execution_count": null,
      "outputs": []
    },
    {
      "cell_type": "code",
      "metadata": {
        "colab": {
          "base_uri": "https://localhost:8080/"
        },
        "id": "FlZ4xm-MDkRW",
        "outputId": "89f08a3b-bb7c-4813-93fe-3a3fd03e0cb8"
      },
      "source": [
        "model0.fit(X_train, y_train, epochs=100,verbose=0,validation_split = 0.2)"
      ],
      "execution_count": null,
      "outputs": [
        {
          "output_type": "execute_result",
          "data": {
            "text/plain": [
              "<keras.callbacks.History at 0x7fda33a66910>"
            ]
          },
          "metadata": {},
          "execution_count": 34
        }
      ]
    },
    {
      "cell_type": "code",
      "metadata": {
        "colab": {
          "base_uri": "https://localhost:8080/",
          "height": 297
        },
        "id": "uWKmE9dURzHk",
        "outputId": "262ca498-5179-40d4-93f0-fd015366be7c"
      },
      "source": [
        "x = tf.linspace(0.0, 250, 251)\n",
        "y = model0.predict(x)\n",
        "\n",
        "plt.scatter(X_train, y_train, label='Data')\n",
        "plt.plot(x, y, color='k', label='Predictions')\n",
        "plt.xlabel('Horsepower')\n",
        "plt.ylabel('MPG')\n",
        "plt.legend()"
      ],
      "execution_count": null,
      "outputs": [
        {
          "output_type": "execute_result",
          "data": {
            "text/plain": [
              "<matplotlib.legend.Legend at 0x7fda3309ce50>"
            ]
          },
          "metadata": {},
          "execution_count": 35
        },
        {
          "output_type": "display_data",
          "data": {
            "image/png": "[encoded data removed]",
            "text/plain": [
              "<Figure size 432x288 with 1 Axes>"
            ]
          },
          "metadata": {
            "needs_background": "light"
          }
        }
      ]
    },
    {
      "cell_type": "code",
      "metadata": {
        "colab": {
          "base_uri": "https://localhost:8080/"
        },
        "id": "-5bdOJknn5cG",
        "outputId": "9bb18484-9b0b-4ce3-8eab-a0ea0fdd2d6d"
      },
      "source": [
        "# Accuracy (Root Mean Squared Error)\n",
        "y_pred = model0.predict(X_test)\n",
        "from sklearn.metrics import mean_squared_error\n",
        "mean_squared_error(y_test, y_pred, squared=False)"
      ],
      "execution_count": null,
      "outputs": [
        {
          "output_type": "execute_result",
          "data": {
            "text/plain": [
              "4.808648834067366"
            ]
          },
          "metadata": {},
          "execution_count": 36
        }
      ]
    },
    {
      "cell_type": "markdown",
      "metadata": {
        "id": "UvRl-tyeSdhY"
      },
      "source": [
        "<a name=\"one\"></a>\n",
        "## Training (1 hidden layer)"
      ]
    },
    {
      "cell_type": "code",
      "metadata": {
        "id": "EIsDB7nqSFcm"
      },
      "source": [
        "model1 = tf.keras.Sequential()\n",
        "model1.add(layers.BatchNormalization())\n",
        "model1.add(InputLayer(input_shape=1))\n",
        "model1.add(Dense(64, activation = 'relu'))\n",
        "model1.add(Dense(1))"
      ],
      "execution_count": null,
      "outputs": []
    },
    {
      "cell_type": "code",
      "metadata": {
        "id": "Af87ks3PTStt"
      },
      "source": [
        "model1.compile(loss='mean_absolute_error', optimizer=tf.optimizers.Adam(learning_rate=0.001))"
      ],
      "execution_count": null,
      "outputs": []
    },
    {
      "cell_type": "code",
      "metadata": {
        "colab": {
          "base_uri": "https://localhost:8080/"
        },
        "id": "I-37-XdcTX5X",
        "outputId": "e41b4bfd-fe34-45c7-ece6-0c88611402b5"
      },
      "source": [
        "model1.fit(X_train, y_train,validation_split=0.2,verbose=0, epochs=100)"
      ],
      "execution_count": null,
      "outputs": [
        {
          "output_type": "execute_result",
          "data": {
            "text/plain": [
              "<keras.callbacks.History at 0x7fda32fb98d0>"
            ]
          },
          "metadata": {},
          "execution_count": 39
        }
      ]
    },
    {
      "cell_type": "code",
      "metadata": {
        "colab": {
          "base_uri": "https://localhost:8080/",
          "height": 297
        },
        "id": "-4gnWZZuSFkI",
        "outputId": "a313816e-1da6-404f-c095-1ddebb44835d"
      },
      "source": [
        "x = tf.linspace(0.0, 250, 251)\n",
        "y = model1.predict(x)\n",
        "\n",
        "plt.scatter(X_train, y_train, label='Data')\n",
        "plt.plot(x, y, color='k', label='Predictions')\n",
        "plt.xlabel('Horsepower')\n",
        "plt.ylabel('MPG')\n",
        "plt.legend()"
      ],
      "execution_count": null,
      "outputs": [
        {
          "output_type": "execute_result",
          "data": {
            "text/plain": [
              "<matplotlib.legend.Legend at 0x7fda32e6d510>"
            ]
          },
          "metadata": {},
          "execution_count": 40
        },
        {
          "output_type": "display_data",
          "data": {
            "image/png": "[encoded data removed]",
            "text/plain": [
              "<Figure size 432x288 with 1 Axes>"
            ]
          },
          "metadata": {
            "needs_background": "light"
          }
        }
      ]
    },
    {
      "cell_type": "code",
      "metadata": {
        "colab": {
          "base_uri": "https://localhost:8080/"
        },
        "id": "kreboYldcHE7",
        "outputId": "3187ed9a-315a-4e4a-a33b-f905e7be9ca4"
      },
      "source": [
        "# Accuracy (Root Mean Squared Error)\n",
        "y_pred = model1.predict(X_test)\n",
        "from sklearn.metrics import mean_squared_error\n",
        "mean_squared_error(y_test, y_pred, squared=False)"
      ],
      "execution_count": null,
      "outputs": [
        {
          "output_type": "execute_result",
          "data": {
            "text/plain": [
              "4.667432826616143"
            ]
          },
          "metadata": {},
          "execution_count": 41
        }
      ]
    },
    {
      "cell_type": "markdown",
      "metadata": {
        "id": "EN2QPSkZbPTD"
      },
      "source": [
        "<a name=\"two\"></a>\n",
        "## Training (2 hidden layers)\n",
        "\n"
      ]
    },
    {
      "cell_type": "code",
      "metadata": {
        "id": "6ybwQQVCbOOK"
      },
      "source": [
        "model2 = tf.keras.Sequential()\n",
        "model2.add(layers.BatchNormalization())\n",
        "model2.add(InputLayer(input_shape=1))\n",
        "model2.add(Dense(64, activation = 'relu'))\n",
        "model2.add(Dense(64, activation = 'relu'))\n",
        "model2.add(Dense(1))"
      ],
      "execution_count": null,
      "outputs": []
    },
    {
      "cell_type": "code",
      "metadata": {
        "id": "_P_yYMpSbOOa"
      },
      "source": [
        "model2.compile(loss='mean_absolute_error', optimizer=tf.optimizers.Adam(learning_rate=0.001))"
      ],
      "execution_count": null,
      "outputs": []
    },
    {
      "cell_type": "code",
      "metadata": {
        "colab": {
          "base_uri": "https://localhost:8080/"
        },
        "id": "VJT1ntxvbOOd",
        "outputId": "269f38d5-740d-4892-b3be-4591a3c1d281"
      },
      "source": [
        "model2.fit(X_train, y_train,validation_split=0.2,verbose=0, epochs=100)"
      ],
      "execution_count": null,
      "outputs": [
        {
          "output_type": "execute_result",
          "data": {
            "text/plain": [
              "<keras.callbacks.History at 0x7fda32dbab90>"
            ]
          },
          "metadata": {},
          "execution_count": 44
        }
      ]
    },
    {
      "cell_type": "code",
      "metadata": {
        "colab": {
          "base_uri": "https://localhost:8080/",
          "height": 297
        },
        "id": "oVIX4hqFbOOe",
        "outputId": "0fe2377c-05e9-4476-9785-5d2c6c87a662"
      },
      "source": [
        "x = tf.linspace(0.0, 250, 251)\n",
        "y = model2.predict(x)\n",
        "\n",
        "plt.scatter(X_train, y_train, label='Data')\n",
        "plt.plot(x, y, color='k', label='Predictions')\n",
        "plt.xlabel('Horsepower')\n",
        "plt.ylabel('MPG')\n",
        "plt.legend()"
      ],
      "execution_count": null,
      "outputs": [
        {
          "output_type": "execute_result",
          "data": {
            "text/plain": [
              "<matplotlib.legend.Legend at 0x7fda32bfac90>"
            ]
          },
          "metadata": {},
          "execution_count": 45
        },
        {
          "output_type": "display_data",
          "data": {
            "image/png": "[encoded data removed]",
            "text/plain": [
              "<Figure size 432x288 with 1 Axes>"
            ]
          },
          "metadata": {
            "needs_background": "light"
          }
        }
      ]
    },
    {
      "cell_type": "code",
      "metadata": {
        "colab": {
          "base_uri": "https://localhost:8080/"
        },
        "id": "uqq4_z5cbkvU",
        "outputId": "8d796ddb-36b5-40a6-9816-a9f4a9e24294"
      },
      "source": [
        "# Accuracy (Root Mean Squared Error)\n",
        "y_pred = model2.predict(X_test)\n",
        "from sklearn.metrics import mean_squared_error\n",
        "mean_squared_error(y_test, y_pred, squared=False)"
      ],
      "execution_count": null,
      "outputs": [
        {
          "output_type": "execute_result",
          "data": {
            "text/plain": [
              "4.455380587264339"
            ]
          },
          "metadata": {},
          "execution_count": 46
        }
      ]
    },
    {
      "cell_type": "markdown",
      "metadata": {
        "id": "rU182IAiPEES"
      },
      "source": [
        "<a name=\"three\"></a>\n",
        "## Training (3 hidden layers)\n",
        "\n"
      ]
    },
    {
      "cell_type": "code",
      "metadata": {
        "id": "cHEW1z3ZPEEv"
      },
      "source": [
        "model3 = tf.keras.Sequential()\n",
        "model3.add(layers.BatchNormalization())\n",
        "model3.add(InputLayer(input_shape=1))\n",
        "model3.add(Dense(64, activation = 'relu'))\n",
        "model3.add(Dense(64, activation = 'relu'))\n",
        "model3.add(Dense(64, activation = 'relu'))\n",
        "model3.add(Dense(1))"
      ],
      "execution_count": null,
      "outputs": []
    },
    {
      "cell_type": "code",
      "metadata": {
        "id": "SJvrSirKPEEw"
      },
      "source": [
        "model3.compile(loss='mean_absolute_error', optimizer=tf.optimizers.Adam(learning_rate=0.001))"
      ],
      "execution_count": null,
      "outputs": []
    },
    {
      "cell_type": "code",
      "metadata": {
        "colab": {
          "base_uri": "https://localhost:8080/"
        },
        "id": "fe3ZF3BWPEEw",
        "outputId": "076981c5-0269-4d16-e4a6-7244ec0ab7bf"
      },
      "source": [
        "model3.fit(X_train, y_train,validation_split=0.2,verbose=0, epochs=100)"
      ],
      "execution_count": null,
      "outputs": [
        {
          "output_type": "execute_result",
          "data": {
            "text/plain": [
              "<keras.callbacks.History at 0x7fda32bdb490>"
            ]
          },
          "metadata": {},
          "execution_count": 49
        }
      ]
    },
    {
      "cell_type": "code",
      "metadata": {
        "colab": {
          "base_uri": "https://localhost:8080/",
          "height": 297
        },
        "id": "UOoswn0uPEEw",
        "outputId": "9c9dc907-d959-4ea5-ee62-75aa7a4ceb71"
      },
      "source": [
        "x = tf.linspace(0.0, 250, 251)\n",
        "y = model3.predict(x)\n",
        "\n",
        "plt.scatter(X_train, y_train, label='Data')\n",
        "plt.plot(x, y, color='k', label='Predictions')\n",
        "plt.xlabel('Horsepower')\n",
        "plt.ylabel('MPG')\n",
        "plt.legend()"
      ],
      "execution_count": null,
      "outputs": [
        {
          "output_type": "execute_result",
          "data": {
            "text/plain": [
              "<matplotlib.legend.Legend at 0x7fdab0248bd0>"
            ]
          },
          "metadata": {},
          "execution_count": 50
        },
        {
          "output_type": "display_data",
          "data": {
            "image/png": "[encoded data removed]",
            "text/plain": [
              "<Figure size 432x288 with 1 Axes>"
            ]
          },
          "metadata": {
            "needs_background": "light"
          }
        }
      ]
    },
    {
      "cell_type": "code",
      "metadata": {
        "colab": {
          "base_uri": "https://localhost:8080/"
        },
        "id": "7xhwsFb7PEEw",
        "outputId": "36c0d5b0-69c1-4c5f-b5e6-f85a939f40ea"
      },
      "source": [
        "# Accuracy (Root Mean Squared Error)\n",
        "y_pred = model3.predict(X_test)\n",
        "from sklearn.metrics import mean_squared_error\n",
        "mean_squared_error(y_test, y_pred, squared=False)"
      ],
      "execution_count": null,
      "outputs": [
        {
          "output_type": "execute_result",
          "data": {
            "text/plain": [
              "4.491841473471832"
            ]
          },
          "metadata": {},
          "execution_count": 51
        }
      ]
    },
    {
      "cell_type": "code",
      "metadata": {
        "id": "gkfdF6HamLki"
      },
      "source": [
        ""
      ],
      "execution_count": null,
      "outputs": []
    }
  ]
}