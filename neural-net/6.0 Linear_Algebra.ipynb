{
  "nbformat": 4,
  "nbformat_minor": 0,
  "metadata": {
    "colab": {
      "name": "Linear Algebra",
      "provenance": []
    },
    "kernelspec": {
      "name": "python3",
      "display_name": "Python 3"
    },
    "language_info": {
      "name": "python"
    }
  },
  "cells": [
    {
      "cell_type": "markdown",
      "metadata": {
        "id": "-pljgSBoJzEH"
      },
      "source": [
        "<p><img alt=\"Colaboratory logo\" height=\"200px\" src=\"https://i.ibb.co/WkGZKhF/book.png\" align=\"left\" hspace=\"10px\" vspace=\"0px\"></p>"
      ]
    },
    {
      "cell_type": "markdown",
      "metadata": {
        "id": "FUd6nYwLJwy2"
      },
      "source": [
        "## Table of Contents:\n",
        "* [Matrix Addition](#add)\n",
        "* [Matrix Subtraction](#sub)\n",
        "* [Matrix Multiplication](#mult)\n",
        "* [Matrix Division](#div)\n",
        "* [Transpose of a Matrix](#tra)\n",
        "* [Inverse of a Matrix](#tra)\n",
        "* [Trace of a Matrix](#trac)\n",
        "* [Determinant of a Matrix](#det)\n",
        "* [Eigenvector and Eigenvalue](#eig)\n",
        "* [Deep Learning](#dee)\n"
      ]
    },
    {
      "cell_type": "code",
      "metadata": {
        "id": "ASbv6T6D1ocp"
      },
      "source": [
        "import numpy as np"
      ],
      "execution_count": 33,
      "outputs": []
    },
    {
      "cell_type": "markdown",
      "metadata": {
        "id": "mlIEJ_bVOXIY"
      },
      "source": [
        "<a href=\"https://imgbb.com/\"><img src=\"https://i.ibb.co/8mxZyhw/mat.png\" alt=\"mat\" border=\"0\"></a><br /><a target='_blank' href='https://imgbb.com/'>"
      ]
    },
    {
      "cell_type": "markdown",
      "metadata": {
        "id": "G0rKSnh8OlF4"
      },
      "source": [
        "<a name=\"add\"></a>\n",
        "Matrix addition"
      ]
    },
    {
      "cell_type": "code",
      "metadata": {
        "colab": {
          "base_uri": "https://localhost:8080/"
        },
        "id": "lgMcSnQy3Etu",
        "outputId": "a154ebf0-a03f-4683-888b-94dd2a0a8776"
      },
      "source": [
        "A = np.array([[1, 2], \n",
        "              [3, 4]])\n",
        "print(A)"
      ],
      "execution_count": 34,
      "outputs": [
        {
          "output_type": "stream",
          "name": "stdout",
          "text": [
            "[[1 2]\n",
            " [3 4]]\n"
          ]
        }
      ]
    },
    {
      "cell_type": "code",
      "metadata": {
        "colab": {
          "base_uri": "https://localhost:8080/"
        },
        "id": "hF0eZYH93D8X",
        "outputId": "c20dc80d-d757-4e2f-d3af-8b30f33bc5db"
      },
      "source": [
        "B = np.array([[5, 6], \n",
        "              [7, 8]])\n",
        "print(B)"
      ],
      "execution_count": 35,
      "outputs": [
        {
          "output_type": "stream",
          "name": "stdout",
          "text": [
            "[[5 6]\n",
            " [7 8]]\n"
          ]
        }
      ]
    },
    {
      "cell_type": "code",
      "metadata": {
        "colab": {
          "base_uri": "https://localhost:8080/"
        },
        "id": "0ejSfJ0dLoLD",
        "outputId": "bb2f6201-6135-4ba4-98a1-6c94958255a6"
      },
      "source": [
        "A + B"
      ],
      "execution_count": 36,
      "outputs": [
        {
          "output_type": "execute_result",
          "data": {
            "text/plain": [
              "array([[ 6,  8],\n",
              "       [10, 12]])"
            ]
          },
          "metadata": {},
          "execution_count": 36
        }
      ]
    },
    {
      "cell_type": "markdown",
      "metadata": {
        "id": "FhslJBVCOnXa"
      },
      "source": [
        "<a name=\"sub\"></a>\n",
        "Matrix subtraction"
      ]
    },
    {
      "cell_type": "code",
      "metadata": {
        "colab": {
          "base_uri": "https://localhost:8080/"
        },
        "id": "ff7yHcCIO1EA",
        "outputId": "8bac69bb-7d56-4168-ada2-a28e68c45834"
      },
      "source": [
        "A-B"
      ],
      "execution_count": 37,
      "outputs": [
        {
          "output_type": "execute_result",
          "data": {
            "text/plain": [
              "array([[-4, -4],\n",
              "       [-4, -4]])"
            ]
          },
          "metadata": {},
          "execution_count": 37
        }
      ]
    },
    {
      "cell_type": "markdown",
      "metadata": {
        "id": "egTrduDYPUdL"
      },
      "source": [
        "<a name=\"mult\"></a>\n",
        "Matrix Multiplication (Hadamard Product)\n",
        "\n",
        "\n",
        "\n",
        "\n"
      ]
    },
    {
      "cell_type": "code",
      "metadata": {
        "colab": {
          "base_uri": "https://localhost:8080/"
        },
        "id": "1rYhyLfMO08Q",
        "outputId": "1b137335-549a-4633-9cea-4b53f686cef5"
      },
      "source": [
        "A*B"
      ],
      "execution_count": 38,
      "outputs": [
        {
          "output_type": "execute_result",
          "data": {
            "text/plain": [
              "array([[ 5, 12],\n",
              "       [21, 32]])"
            ]
          },
          "metadata": {},
          "execution_count": 38
        }
      ]
    },
    {
      "cell_type": "markdown",
      "metadata": {
        "id": "QAHdqNiuNjdr"
      },
      "source": [
        "Matrix Multiplication (Dot Product)\n"
      ]
    },
    {
      "cell_type": "code",
      "metadata": {
        "colab": {
          "base_uri": "https://localhost:8080/"
        },
        "id": "YlR7meWNNipj",
        "outputId": "006b01f6-48a0-4957-cd36-12acad54f6db"
      },
      "source": [
        "np.matmul(A,B)"
      ],
      "execution_count": 39,
      "outputs": [
        {
          "output_type": "execute_result",
          "data": {
            "text/plain": [
              "array([[19, 22],\n",
              "       [43, 50]])"
            ]
          },
          "metadata": {},
          "execution_count": 39
        }
      ]
    },
    {
      "cell_type": "markdown",
      "metadata": {
        "id": "ALdNjydlX-AM"
      },
      "source": [
        "<a name=\"div\"></a>\n",
        "Matrix Division\n"
      ]
    },
    {
      "cell_type": "code",
      "metadata": {
        "colab": {
          "base_uri": "https://localhost:8080/"
        },
        "id": "PNbzH760O002",
        "outputId": "40ea5a1f-ba8b-4de5-abae-04e801b25695"
      },
      "source": [
        "A/B"
      ],
      "execution_count": 40,
      "outputs": [
        {
          "output_type": "execute_result",
          "data": {
            "text/plain": [
              "array([[0.2       , 0.33333333],\n",
              "       [0.42857143, 0.5       ]])"
            ]
          },
          "metadata": {},
          "execution_count": 40
        }
      ]
    },
    {
      "cell_type": "markdown",
      "metadata": {
        "id": "HILiI3lhQPDV"
      },
      "source": [
        "<a name=\"tra\"></a>\n",
        "<a href=\"https://ibb.co/23t4PHD\"><img src=\"https://i.ibb.co/CK7GvDk/trans.png\" alt=\"trans\" border=\"0\"></a><br /><a target='_blank' href='https://imgbb.com/'>"
      ]
    },
    {
      "cell_type": "code",
      "metadata": {
        "colab": {
          "base_uri": "https://localhost:8080/"
        },
        "id": "NOK76577EuEk",
        "outputId": "7f73abda-8569-46b4-c7e4-4d92fd3e2ff6"
      },
      "source": [
        "M = np.array([[1, 2], \n",
        "              [3, 4],\n",
        "              [5, 6]])\n",
        "print(M)"
      ],
      "execution_count": 41,
      "outputs": [
        {
          "output_type": "stream",
          "name": "stdout",
          "text": [
            "[[1 2]\n",
            " [3 4]\n",
            " [5 6]]\n"
          ]
        }
      ]
    },
    {
      "cell_type": "code",
      "metadata": {
        "colab": {
          "base_uri": "https://localhost:8080/"
        },
        "id": "P0Ajpak43LE8",
        "outputId": "eddda535-9082-4ede-8f58-b4f53ff68e2a"
      },
      "source": [
        "M.T"
      ],
      "execution_count": 42,
      "outputs": [
        {
          "output_type": "execute_result",
          "data": {
            "text/plain": [
              "array([[1, 3, 5],\n",
              "       [2, 4, 6]])"
            ]
          },
          "metadata": {},
          "execution_count": 42
        }
      ]
    },
    {
      "cell_type": "markdown",
      "metadata": {
        "id": "mhgIJNCMJmXF"
      },
      "source": [
        "<a name=\"inv\"></a>\n",
        "<a href=\"https://ibb.co/2hFYFxk\"><img src=\"https://i.ibb.co/Gpd3dy5/inv.png\" alt=\"inv\" border=\"0\"></a><br /><a target='_blank' href='https://imgbb.com/'>"
      ]
    },
    {
      "cell_type": "code",
      "metadata": {
        "colab": {
          "base_uri": "https://localhost:8080/"
        },
        "id": "nsx3uMK6JRUB",
        "outputId": "1c66c1a5-7e09-4372-90a2-2e5829feafb7"
      },
      "source": [
        "A"
      ],
      "execution_count": 43,
      "outputs": [
        {
          "output_type": "execute_result",
          "data": {
            "text/plain": [
              "array([[1, 2],\n",
              "       [3, 4]])"
            ]
          },
          "metadata": {},
          "execution_count": 43
        }
      ]
    },
    {
      "cell_type": "code",
      "metadata": {
        "id": "_Zxxza67H01h"
      },
      "source": [
        "IN = np.linalg.inv(A)"
      ],
      "execution_count": 44,
      "outputs": []
    },
    {
      "cell_type": "code",
      "metadata": {
        "colab": {
          "base_uri": "https://localhost:8080/"
        },
        "id": "UX9NxSNJdSJM",
        "outputId": "8616b40f-b3c2-47aa-a9d6-b0660a5cd55c"
      },
      "source": [
        "IN"
      ],
      "execution_count": 45,
      "outputs": [
        {
          "output_type": "execute_result",
          "data": {
            "text/plain": [
              "array([[-2. ,  1. ],\n",
              "       [ 1.5, -0.5]])"
            ]
          },
          "metadata": {},
          "execution_count": 45
        }
      ]
    },
    {
      "cell_type": "code",
      "metadata": {
        "colab": {
          "base_uri": "https://localhost:8080/"
        },
        "id": "Qrx-IzI9H_Fj",
        "outputId": "e02f640e-9fa4-47b9-80bc-ddeed28d3cea"
      },
      "source": [
        "np.matmul(A,IN).round()"
      ],
      "execution_count": 46,
      "outputs": [
        {
          "output_type": "execute_result",
          "data": {
            "text/plain": [
              "array([[1., 0.],\n",
              "       [0., 1.]])"
            ]
          },
          "metadata": {},
          "execution_count": 46
        }
      ]
    },
    {
      "cell_type": "markdown",
      "metadata": {
        "id": "XX4otLUDJXOt"
      },
      "source": [
        "<a name=\"trac\"></a>\n",
        "<a href=\"https://imgbb.com/\"><img src=\"https://i.ibb.co/56WW0zh/trac.png\" alt=\"trac\" border=\"0\"></a>"
      ]
    },
    {
      "cell_type": "code",
      "metadata": {
        "colab": {
          "base_uri": "https://localhost:8080/"
        },
        "id": "kaMahpAWQvyA",
        "outputId": "aaba2cd8-60e9-4b7c-9842-95c2206ef407"
      },
      "source": [
        "np.matrix.trace(A)"
      ],
      "execution_count": 47,
      "outputs": [
        {
          "output_type": "execute_result",
          "data": {
            "text/plain": [
              "5"
            ]
          },
          "metadata": {},
          "execution_count": 47
        }
      ]
    },
    {
      "cell_type": "markdown",
      "metadata": {
        "id": "L8V1SPzUPZ89"
      },
      "source": [
        "<a name=\"det\"></a>\n",
        "<a href=\"https://ibb.co/Hzfn2Nn\"><img src=\"https://i.ibb.co/ncNz03z/det.png\" alt=\"det\" border=\"0\"></a>"
      ]
    },
    {
      "cell_type": "code",
      "metadata": {
        "id": "ToWrh1pm5VA9",
        "colab": {
          "base_uri": "https://localhost:8080/"
        },
        "outputId": "b628c320-17ec-42ef-b57a-a137af5281ba"
      },
      "source": [
        "np.linalg.det(A)"
      ],
      "execution_count": 48,
      "outputs": [
        {
          "output_type": "execute_result",
          "data": {
            "text/plain": [
              "-2.0000000000000004"
            ]
          },
          "metadata": {},
          "execution_count": 48
        }
      ]
    },
    {
      "cell_type": "markdown",
      "metadata": {
        "id": "44OeXpAbPhiE"
      },
      "source": [
        "<a name=\"eig\"></a>\n",
        "<a href=\"https://imgbb.com/\"><img src=\"https://i.ibb.co/7tjnLNZ/decomp.png\" alt=\"decomp\" border=\"0\"></a><br /><a target='_blank' href='https://imgbb.com/'>"
      ]
    },
    {
      "cell_type": "code",
      "metadata": {
        "colab": {
          "base_uri": "https://localhost:8080/"
        },
        "id": "p4wRgzd2HG7m",
        "outputId": "ef835417-2a61-4452-b50a-94f22bd69dc0"
      },
      "source": [
        "eigenvalue, eigenvector = np.linalg.eig(A)\n",
        "print(\"Eigenvalue :\",eigenvalue)\n",
        "print(\"Eigenvector :\",eigenvector)"
      ],
      "execution_count": 49,
      "outputs": [
        {
          "output_type": "stream",
          "name": "stdout",
          "text": [
            "Eigenvalue : [-0.37228132  5.37228132]\n",
            "Eigenvector : [[-0.82456484 -0.41597356]\n",
            " [ 0.56576746 -0.90937671]]\n"
          ]
        }
      ]
    },
    {
      "cell_type": "markdown",
      "metadata": {
        "id": "DriqMBesh-ON"
      },
      "source": [
        "<a name=\"dee\"></a>\n",
        "<a href=\"https://ibb.co/ZSrrXrX\"><img src=\"https://i.ibb.co/Scggygy/ann.png\" alt=\"ann\" border=\"0\"></a>"
      ]
    },
    {
      "cell_type": "code",
      "metadata": {
        "id": "OFR6nbulhX6a"
      },
      "source": [
        "import tensorflow as tf"
      ],
      "execution_count": 50,
      "outputs": []
    },
    {
      "cell_type": "code",
      "metadata": {
        "colab": {
          "base_uri": "https://localhost:8080/"
        },
        "id": "lNY5-_0eMY5r",
        "outputId": "a5718300-7f61-4ffe-c20e-eb38e6e3c0df"
      },
      "source": [
        "from google.colab import drive\n",
        "drive.mount('/content/drive/')"
      ],
      "execution_count": 51,
      "outputs": [
        {
          "output_type": "stream",
          "name": "stdout",
          "text": [
            "Mounted at /content/drive/\n"
          ]
        }
      ]
    },
    {
      "cell_type": "code",
      "metadata": {
        "colab": {
          "base_uri": "https://localhost:8080/",
          "height": 175
        },
        "id": "f5Ayjj7-MY2I",
        "outputId": "fe0f97d8-f02e-4776-c083-2b569116d7de"
      },
      "source": [
        "import pandas as pd\n",
        "data = pd.read_csv(\"/content/drive/My Drive/ann_used_cars.csv\", usecols=[\"mileage\", 'year'], nrows=4)\n",
        "data"
      ],
      "execution_count": 52,
      "outputs": [
        {
          "output_type": "execute_result",
          "data": {
            "text/html": [
              "<div>\n",
              "<style scoped>\n",
              "    .dataframe tbody tr th:only-of-type {\n",
              "        vertical-align: middle;\n",
              "    }\n",
              "\n",
              "    .dataframe tbody tr th {\n",
              "        vertical-align: top;\n",
              "    }\n",
              "\n",
              "    .dataframe thead th {\n",
              "        text-align: right;\n",
              "    }\n",
              "</style>\n",
              "<table border=\"1\" class=\"dataframe\">\n",
              "  <thead>\n",
              "    <tr style=\"text-align: right;\">\n",
              "      <th></th>\n",
              "      <th>mileage</th>\n",
              "      <th>year</th>\n",
              "    </tr>\n",
              "  </thead>\n",
              "  <tbody>\n",
              "    <tr>\n",
              "      <th>0</th>\n",
              "      <td>7413</td>\n",
              "      <td>2011</td>\n",
              "    </tr>\n",
              "    <tr>\n",
              "      <th>1</th>\n",
              "      <td>10926</td>\n",
              "      <td>2011</td>\n",
              "    </tr>\n",
              "    <tr>\n",
              "      <th>2</th>\n",
              "      <td>7351</td>\n",
              "      <td>2011</td>\n",
              "    </tr>\n",
              "    <tr>\n",
              "      <th>3</th>\n",
              "      <td>11613</td>\n",
              "      <td>2011</td>\n",
              "    </tr>\n",
              "  </tbody>\n",
              "</table>\n",
              "</div>"
            ],
            "text/plain": [
              "   mileage  year\n",
              "0     7413  2011\n",
              "1    10926  2011\n",
              "2     7351  2011\n",
              "3    11613  2011"
            ]
          },
          "metadata": {},
          "execution_count": 52
        }
      ]
    },
    {
      "cell_type": "markdown",
      "metadata": {
        "id": "XDu6sTiy7FMx"
      },
      "source": [
        "<a href=\"https://ibb.co/w05LTnD\"><img src=\"https://i.ibb.co/0DHXk0P/matmul.png\" alt=\"matmul\" border=\"0\"></a>"
      ]
    },
    {
      "cell_type": "code",
      "metadata": {
        "colab": {
          "base_uri": "https://localhost:8080/"
        },
        "id": "XWAhAKv7hcO9",
        "outputId": "db974b9c-74e6-4517-fd2f-32ffb83e5679"
      },
      "source": [
        "features=tf.convert_to_tensor(data, dtype= tf.float32)\n",
        "features"
      ],
      "execution_count": 53,
      "outputs": [
        {
          "output_type": "execute_result",
          "data": {
            "text/plain": [
              "<tf.Tensor: shape=(4, 2), dtype=float32, numpy=\n",
              "array([[ 7413.,  2011.],\n",
              "       [10926.,  2011.],\n",
              "       [ 7351.,  2011.],\n",
              "       [11613.,  2011.]], dtype=float32)>"
            ]
          },
          "metadata": {},
          "execution_count": 53
        }
      ]
    },
    {
      "cell_type": "code",
      "metadata": {
        "colab": {
          "base_uri": "https://localhost:8080/"
        },
        "id": "NkVjmEa2d9ly",
        "outputId": "333d33f9-75f2-4d21-fe5d-3b13f703109f"
      },
      "source": [
        "weights = tf.constant([2,.5], shape=[2,1])\n",
        "weights"
      ],
      "execution_count": 54,
      "outputs": [
        {
          "output_type": "execute_result",
          "data": {
            "text/plain": [
              "<tf.Tensor: shape=(2, 1), dtype=float32, numpy=\n",
              "array([[2. ],\n",
              "       [0.5]], dtype=float32)>"
            ]
          },
          "metadata": {},
          "execution_count": 54
        }
      ]
    },
    {
      "cell_type": "code",
      "metadata": {
        "colab": {
          "base_uri": "https://localhost:8080/"
        },
        "id": "rUY6jKFDv1uZ",
        "outputId": "8779dc39-440d-4e8e-dc97-db587ee510ed"
      },
      "source": [
        "featuresXweights = tf.matmul(features, weights)\n",
        "featuresXweights"
      ],
      "execution_count": 55,
      "outputs": [
        {
          "output_type": "execute_result",
          "data": {
            "text/plain": [
              "<tf.Tensor: shape=(4, 1), dtype=float32, numpy=\n",
              "array([[15831.5],\n",
              "       [22857.5],\n",
              "       [15707.5],\n",
              "       [24231.5]], dtype=float32)>"
            ]
          },
          "metadata": {},
          "execution_count": 55
        }
      ]
    },
    {
      "cell_type": "markdown",
      "metadata": {
        "id": "vE7moXmN6w0-"
      },
      "source": [
        "Vector + scaler"
      ]
    },
    {
      "cell_type": "markdown",
      "metadata": {
        "id": "5VhWmCP1Ohdq"
      },
      "source": [
        "<a href=\"https://ibb.co/LrGgHJq\"><img src=\"https://i.ibb.co/ScLmGd1/scaler.png\" alt=\"scaler\" border=\"0\"></a>"
      ]
    },
    {
      "cell_type": "code",
      "metadata": {
        "colab": {
          "base_uri": "https://localhost:8080/"
        },
        "id": "LoAi1OcR6yvd",
        "outputId": "07cbd80a-7854-4236-d652-a7c6ecec8567"
      },
      "source": [
        "featuresXweights + 7"
      ],
      "execution_count": 56,
      "outputs": [
        {
          "output_type": "execute_result",
          "data": {
            "text/plain": [
              "<tf.Tensor: shape=(4, 1), dtype=float32, numpy=\n",
              "array([[15838.5],\n",
              "       [22864.5],\n",
              "       [15714.5],\n",
              "       [24238.5]], dtype=float32)>"
            ]
          },
          "metadata": {},
          "execution_count": 56
        }
      ]
    },
    {
      "cell_type": "code",
      "metadata": {
        "id": "aegtRlDpd4Jg"
      },
      "source": [
        ""
      ],
      "execution_count": null,
      "outputs": []
    }
  ]
}