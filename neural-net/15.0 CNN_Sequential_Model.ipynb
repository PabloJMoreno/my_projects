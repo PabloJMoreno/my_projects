{
  "nbformat": 4,
  "nbformat_minor": 0,
  "metadata": {
    "colab": {
      "name": "3. The CNN Sequential Model.ipynb",
      "provenance": [],
      "collapsed_sections": [
        "mj3Skz2IkmfZ",
        "1kik69fBo7xp",
        "b5dNWxWPpEiv",
        "K23aF68_FHEw",
        "J0nAM75hf8KZ"
      ]
    },
    "kernelspec": {
      "name": "python3",
      "display_name": "Python 3"
    },
    "language_info": {
      "name": "python"
    },
    "accelerator": "GPU"
  },
  "cells": [
    {
      "cell_type": "markdown",
      "source": [
        "# **MNIST Handwritten Digit Classification using a CNN**"
      ],
      "metadata": {
        "id": "VsCgYsR4VG_f"
      }
    },
    {
      "cell_type": "markdown",
      "source": [
        "## **Introduction**"
      ],
      "metadata": {
        "id": "z-qT91QwV1MS"
      }
    },
    {
      "cell_type": "markdown",
      "source": [
        "**This notebook will help you understand the below points:**\n",
        "\n",
        "*   A brief introduction to the MNIST Dataset and its importance in Computer Vision\n",
        "*   Building a baseline classification model using a CNN\n",
        "*   Evaluating the CNN model\n",
        "*   Building an improved CNN\n",
        "*   Finalizing the improved model for prediction on the test dataset\n",
        "\n",
        "\n"
      ],
      "metadata": {
        "id": "VAB8cdsJV6wt"
      }
    },
    {
      "cell_type": "markdown",
      "source": [
        "## **Introduction to the MNIST Dataset**"
      ],
      "metadata": {
        "id": "EtCRRgiVXZal"
      }
    },
    {
      "cell_type": "markdown",
      "source": [
        "The **MNIST** dataset is an acronym that stands for the **Modified National Institute of Standards and Technology** dataset.\n",
        "\n",
        "*   **This dataset consists of 60,000 grayscale images**, which are small 28x28 pixel images. \n",
        "<br> **These are images of handwritten digits from 0 to 9.**\n",
        "*   **The task is to correctly classify the image of a handwritten digit into the right number**, that is - one of the 10 numbers from 0 to 9.\n",
        "*   These numbers are mutually exclusive choices and we have over two choices in number, and hence **this represents a multi-class classification** problem in supervised learning.\n",
        "*   **MNIST has been an important and widely-used dataset in machine learning and computer vision.** It is sometimes called the \"Hello World\" of computer vision, and is one of the first image datasets that all deep learning based computer vision practitioners learn to work with. A great amount of research have been carried out to outperform the existing state-of-the-art and achieve the best possible accuracy in classifying the images in MNIST. \n",
        "<br> It is hence a benchmark of sorts, to test the latest deep learning architectures in the field of computer vision.\n",
        "*   More importantly for us, **MNIST is a dataset where Convolutional Neural Network (CNN) based approaches have shown excellent performance**, and that is what we will try to implement as part of this case study.\n",
        "\n",
        "\n",
        "\n",
        "\n"
      ],
      "metadata": {
        "id": "6IZc8sO2Xmw2"
      }
    },
    {
      "cell_type": "markdown",
      "source": [
        "## **Importing the Libraries**"
      ],
      "metadata": {
        "id": "Yyn-CPLr18cl"
      }
    },
    {
      "cell_type": "code",
      "source": [
        "import numpy as np\n",
        "import matplotlib.pyplot as plt\n",
        "import seaborn as sns\n",
        "import math\n",
        "\n",
        "import tensorflow as tf\n",
        "\n",
        "# Keras Sequential Model\n",
        "from tensorflow.keras.models import Sequential\n",
        "\n",
        "# Importing all the different layers and optimizers\n",
        "from tensorflow.keras.layers import Dense, Dropout, Flatten, Conv2D, MaxPooling2D, BatchNormalization, Activation, LeakyReLU\n",
        "from tensorflow.keras.optimizers import Adam,SGD\n",
        "\n",
        "# The below code can be used to ignore the warnings that may occur due to deprecations\n",
        "import warnings\n",
        "warnings.filterwarnings(\"ignore\")"
      ],
      "metadata": {
        "id": "3c1qnD0B1_Qg"
      },
      "execution_count": null,
      "outputs": []
    },
    {
      "cell_type": "markdown",
      "source": [
        "## **Loading the Dataset**"
      ],
      "metadata": {
        "id": "rX8_AD9YyICz"
      }
    },
    {
      "cell_type": "markdown",
      "source": [
        "*   The MNIST dataset is already present in TensorFlow and Keras, in the form of an **N-dimensional Numpy array**, so we can directly import the dataset from the package and use it.\n",
        "*   The dataset can be imported as shown below: <br>\n",
        "`from tensorflow.keras.datasets import mnist`<br>\n",
        "`mnist.load_data()`\n",
        "*   **mnist.load_data()** returns both the train and test data. The train data consists of 60,000 images in the form of Numpy arrays, while the test data consists of 10,000 images as Numpy arrays.\n",
        "\n",
        "\n",
        "\n"
      ],
      "metadata": {
        "id": "gz5IIHlpyMX6"
      }
    },
    {
      "cell_type": "code",
      "execution_count": null,
      "metadata": {
        "id": "6-p5r-J3PoMQ",
        "colab": {
          "base_uri": "https://localhost:8080/"
        },
        "outputId": "0bfbde1b-52e0-4947-bdad-f884cc2a4335"
      },
      "outputs": [
        {
          "output_type": "stream",
          "name": "stdout",
          "text": [
            "Downloading data from https://storage.googleapis.com/tensorflow/tf-keras-datasets/mnist.npz\n",
            "11493376/11490434 [==============================] - 0s 0us/step\n",
            "11501568/11490434 [==============================] - 0s 0us/step\n"
          ]
        }
      ],
      "source": [
        "# Loading the data\n",
        "from tensorflow.keras.datasets import mnist\n",
        "(X_train, y_train), (X_test, y_test) = mnist.load_data()"
      ]
    },
    {
      "cell_type": "code",
      "source": [
        "X_train.shape"
      ],
      "metadata": {
        "colab": {
          "base_uri": "https://localhost:8080/"
        },
        "id": "5TuOEBZ13OlM",
        "outputId": "3739ce23-7a4b-41af-c57d-b9c0da19d85a"
      },
      "execution_count": null,
      "outputs": [
        {
          "output_type": "execute_result",
          "data": {
            "text/plain": [
              "(60000, 28, 28)"
            ]
          },
          "metadata": {},
          "execution_count": 3
        }
      ]
    },
    {
      "cell_type": "markdown",
      "source": [
        "Here the data is stored in a **3-dimensional Numpy array**. \n",
        "- The first dimension **60000** denotes **the number of images in the training data**, and each image is stacked on top of the other, making it a 3-dimensional Numpy array.\n",
        "- The second and third dimensions **28, 28** denote the number of pixels along the height and width of the 2-dimensional image."
      ],
      "metadata": {
        "id": "AT-XPKho4CGQ"
      }
    },
    {
      "cell_type": "markdown",
      "source": [
        "Below is a 2-dimensional Numpy representation (the pixelmap) of the first image in the training data. Each image is represented by 28x28 square pixel values."
      ],
      "metadata": {
        "id": "zF7ZRSFO4QBL"
      }
    },
    {
      "cell_type": "code",
      "source": [
        "X_train[0]"
      ],
      "metadata": {
        "colab": {
          "base_uri": "https://localhost:8080/"
        },
        "id": "rzhqoEI43W0c",
        "outputId": "344afbbc-43a9-4da8-c336-6cb647f4cfbd"
      },
      "execution_count": null,
      "outputs": [
        {
          "output_type": "execute_result",
          "data": {
            "text/plain": [
              "array([[  0,   0,   0,   0,   0,   0,   0,   0,   0,   0,   0,   0,   0,\n",
              "          0,   0,   0,   0,   0,   0,   0,   0,   0,   0,   0,   0,   0,\n",
              "          0,   0],\n",
              "       [  0,   0,   0,   0,   0,   0,   0,   0,   0,   0,   0,   0,   0,\n",
              "          0,   0,   0,   0,   0,   0,   0,   0,   0,   0,   0,   0,   0,\n",
              "          0,   0],\n",
              "       [  0,   0,   0,   0,   0,   0,   0,   0,   0,   0,   0,   0,   0,\n",
              "          0,   0,   0,   0,   0,   0,   0,   0,   0,   0,   0,   0,   0,\n",
              "          0,   0],\n",
              "       [  0,   0,   0,   0,   0,   0,   0,   0,   0,   0,   0,   0,   0,\n",
              "          0,   0,   0,   0,   0,   0,   0,   0,   0,   0,   0,   0,   0,\n",
              "          0,   0],\n",
              "       [  0,   0,   0,   0,   0,   0,   0,   0,   0,   0,   0,   0,   0,\n",
              "          0,   0,   0,   0,   0,   0,   0,   0,   0,   0,   0,   0,   0,\n",
              "          0,   0],\n",
              "       [  0,   0,   0,   0,   0,   0,   0,   0,   0,   0,   0,   0,   3,\n",
              "         18,  18,  18, 126, 136, 175,  26, 166, 255, 247, 127,   0,   0,\n",
              "          0,   0],\n",
              "       [  0,   0,   0,   0,   0,   0,   0,   0,  30,  36,  94, 154, 170,\n",
              "        253, 253, 253, 253, 253, 225, 172, 253, 242, 195,  64,   0,   0,\n",
              "          0,   0],\n",
              "       [  0,   0,   0,   0,   0,   0,   0,  49, 238, 253, 253, 253, 253,\n",
              "        253, 253, 253, 253, 251,  93,  82,  82,  56,  39,   0,   0,   0,\n",
              "          0,   0],\n",
              "       [  0,   0,   0,   0,   0,   0,   0,  18, 219, 253, 253, 253, 253,\n",
              "        253, 198, 182, 247, 241,   0,   0,   0,   0,   0,   0,   0,   0,\n",
              "          0,   0],\n",
              "       [  0,   0,   0,   0,   0,   0,   0,   0,  80, 156, 107, 253, 253,\n",
              "        205,  11,   0,  43, 154,   0,   0,   0,   0,   0,   0,   0,   0,\n",
              "          0,   0],\n",
              "       [  0,   0,   0,   0,   0,   0,   0,   0,   0,  14,   1, 154, 253,\n",
              "         90,   0,   0,   0,   0,   0,   0,   0,   0,   0,   0,   0,   0,\n",
              "          0,   0],\n",
              "       [  0,   0,   0,   0,   0,   0,   0,   0,   0,   0,   0, 139, 253,\n",
              "        190,   2,   0,   0,   0,   0,   0,   0,   0,   0,   0,   0,   0,\n",
              "          0,   0],\n",
              "       [  0,   0,   0,   0,   0,   0,   0,   0,   0,   0,   0,  11, 190,\n",
              "        253,  70,   0,   0,   0,   0,   0,   0,   0,   0,   0,   0,   0,\n",
              "          0,   0],\n",
              "       [  0,   0,   0,   0,   0,   0,   0,   0,   0,   0,   0,   0,  35,\n",
              "        241, 225, 160, 108,   1,   0,   0,   0,   0,   0,   0,   0,   0,\n",
              "          0,   0],\n",
              "       [  0,   0,   0,   0,   0,   0,   0,   0,   0,   0,   0,   0,   0,\n",
              "         81, 240, 253, 253, 119,  25,   0,   0,   0,   0,   0,   0,   0,\n",
              "          0,   0],\n",
              "       [  0,   0,   0,   0,   0,   0,   0,   0,   0,   0,   0,   0,   0,\n",
              "          0,  45, 186, 253, 253, 150,  27,   0,   0,   0,   0,   0,   0,\n",
              "          0,   0],\n",
              "       [  0,   0,   0,   0,   0,   0,   0,   0,   0,   0,   0,   0,   0,\n",
              "          0,   0,  16,  93, 252, 253, 187,   0,   0,   0,   0,   0,   0,\n",
              "          0,   0],\n",
              "       [  0,   0,   0,   0,   0,   0,   0,   0,   0,   0,   0,   0,   0,\n",
              "          0,   0,   0,   0, 249, 253, 249,  64,   0,   0,   0,   0,   0,\n",
              "          0,   0],\n",
              "       [  0,   0,   0,   0,   0,   0,   0,   0,   0,   0,   0,   0,   0,\n",
              "          0,  46, 130, 183, 253, 253, 207,   2,   0,   0,   0,   0,   0,\n",
              "          0,   0],\n",
              "       [  0,   0,   0,   0,   0,   0,   0,   0,   0,   0,   0,   0,  39,\n",
              "        148, 229, 253, 253, 253, 250, 182,   0,   0,   0,   0,   0,   0,\n",
              "          0,   0],\n",
              "       [  0,   0,   0,   0,   0,   0,   0,   0,   0,   0,  24, 114, 221,\n",
              "        253, 253, 253, 253, 201,  78,   0,   0,   0,   0,   0,   0,   0,\n",
              "          0,   0],\n",
              "       [  0,   0,   0,   0,   0,   0,   0,   0,  23,  66, 213, 253, 253,\n",
              "        253, 253, 198,  81,   2,   0,   0,   0,   0,   0,   0,   0,   0,\n",
              "          0,   0],\n",
              "       [  0,   0,   0,   0,   0,   0,  18, 171, 219, 253, 253, 253, 253,\n",
              "        195,  80,   9,   0,   0,   0,   0,   0,   0,   0,   0,   0,   0,\n",
              "          0,   0],\n",
              "       [  0,   0,   0,   0,  55, 172, 226, 253, 253, 253, 253, 244, 133,\n",
              "         11,   0,   0,   0,   0,   0,   0,   0,   0,   0,   0,   0,   0,\n",
              "          0,   0],\n",
              "       [  0,   0,   0,   0, 136, 253, 253, 253, 212, 135, 132,  16,   0,\n",
              "          0,   0,   0,   0,   0,   0,   0,   0,   0,   0,   0,   0,   0,\n",
              "          0,   0],\n",
              "       [  0,   0,   0,   0,   0,   0,   0,   0,   0,   0,   0,   0,   0,\n",
              "          0,   0,   0,   0,   0,   0,   0,   0,   0,   0,   0,   0,   0,\n",
              "          0,   0],\n",
              "       [  0,   0,   0,   0,   0,   0,   0,   0,   0,   0,   0,   0,   0,\n",
              "          0,   0,   0,   0,   0,   0,   0,   0,   0,   0,   0,   0,   0,\n",
              "          0,   0],\n",
              "       [  0,   0,   0,   0,   0,   0,   0,   0,   0,   0,   0,   0,   0,\n",
              "          0,   0,   0,   0,   0,   0,   0,   0,   0,   0,   0,   0,   0,\n",
              "          0,   0]], dtype=uint8)"
            ]
          },
          "metadata": {},
          "execution_count": 4
        }
      ]
    },
    {
      "cell_type": "code",
      "source": [
        "y_train[0]"
      ],
      "metadata": {
        "colab": {
          "base_uri": "https://localhost:8080/"
        },
        "id": "9bz24_eE6z0d",
        "outputId": "ed301bcf-802b-4fb4-f096-e6295ca2b0fb"
      },
      "execution_count": null,
      "outputs": [
        {
          "output_type": "execute_result",
          "data": {
            "text/plain": [
              "5"
            ]
          },
          "metadata": {},
          "execution_count": 5
        }
      ]
    },
    {
      "cell_type": "markdown",
      "source": [
        "The **target labels** are numerical digits between 0 to 9. "
      ],
      "metadata": {
        "id": "knrZcGyy7GJ9"
      }
    },
    {
      "cell_type": "code",
      "source": [
        "X_test.shape"
      ],
      "metadata": {
        "colab": {
          "base_uri": "https://localhost:8080/"
        },
        "id": "Jf61XMWF64GA",
        "outputId": "6bec8d35-d34b-4a0a-ea1e-b9001db598ff"
      },
      "execution_count": null,
      "outputs": [
        {
          "output_type": "execute_result",
          "data": {
            "text/plain": [
              "(10000, 28, 28)"
            ]
          },
          "metadata": {},
          "execution_count": 6
        }
      ]
    },
    {
      "cell_type": "markdown",
      "source": [
        "The test dataset, on the other hand, has **10,000 images**. Each image, as before, is a 28x28 square image."
      ],
      "metadata": {
        "id": "QYtWc1tA7dQr"
      }
    },
    {
      "cell_type": "markdown",
      "source": [
        "## **Data Visualization**"
      ],
      "metadata": {
        "id": "qMou6LbazmIV"
      }
    },
    {
      "cell_type": "markdown",
      "source": [
        "### **Converting the Numpy arrays to images and visualizing a few random images**"
      ],
      "metadata": {
        "id": "Hy4AFeNm77qB"
      }
    },
    {
      "cell_type": "code",
      "source": [
        "num_classes=10                                                                  # Number of Classes\n",
        "categories=np.unique(y_train)                                                   # Obtaing the unique classes from y_train\n",
        "rows = 3                                                                        # Defining number of rows=3\n",
        "cols = 4                                                                        # Defining number of columns=4\n",
        "fig = plt.figure(figsize=(10, 8))                                               # Defining the figure size to 10x8\n",
        "for i in range(cols):\n",
        "    for j in range(rows):\n",
        "        random_index = np.random.randint(0, len(y_train))                       # Generating random indices from the data and plotting the images\n",
        "        ax = fig.add_subplot(rows, cols, i * rows + j + 1)                      # Adding subplots with 3 rows and 4 columns\n",
        "        ax.imshow(X_train[random_index, :], cmap=plt.get_cmap('gray'))          # Plotting the image using cmap=gray\n",
        "        ax.set_title(categories[y_train[random_index]])\n",
        "plt.show()"
      ],
      "metadata": {
        "colab": {
          "base_uri": "https://localhost:8080/",
          "height": 492
        },
        "id": "RG5VFBKV7Yu9",
        "outputId": "4706caf2-b39a-4595-b8c3-1e3146d88a3c"
      },
      "execution_count": null,
      "outputs": [
        {
          "output_type": "display_data",
          "data": {
            "text/plain": [
              "<Figure size 720x576 with 12 Axes>"
            ],
            "image/png": "[encoded data removed]"
          },
          "metadata": {
            "needs_background": "light"
          }
        }
      ]
    },
    {
      "cell_type": "code",
      "source": [
        "# Plot distribution of each category \n",
        "count_plot = sns.countplot(y_train)"
      ],
      "metadata": {
        "colab": {
          "base_uri": "https://localhost:8080/",
          "height": 267
        },
        "id": "HO6xVsJmBaC8",
        "outputId": "7e1b5700-35e8-4647-9783-36eb09a9cf3e"
      },
      "execution_count": null,
      "outputs": [
        {
          "output_type": "display_data",
          "data": {
            "text/plain": [
              "<Figure size 432x288 with 1 Axes>"
            ],
            "image/png": "[encoded data removed]"
          },
          "metadata": {
            "needs_background": "light"
          }
        }
      ]
    },
    {
      "cell_type": "markdown",
      "source": [
        "We observe that **the dataset appears to be quite balanced**, with each category having approximately the same number of images. \n",
        "\n",
        "So **accuracy should be a good evaluation metric** for the model performance in this case study."
      ],
      "metadata": {
        "id": "64JijEDCBppW"
      }
    },
    {
      "cell_type": "markdown",
      "source": [
        "## **Data Preparation**"
      ],
      "metadata": {
        "id": "FonUtBJP9Pre"
      }
    },
    {
      "cell_type": "markdown",
      "source": [
        "In the data preparation stage, **we generally reshape the dataset to have a single channel** and **we also normalize the feature inputs.**\n",
        "\n",
        "Normalization is highly recommended as it has the following benefits when training a neural network model:\n",
        "\n",
        "1. **Normalization makes the training faster and reduces the chances of getting stuck at a local optima.**\n",
        "3. **Weight decay and estimation can be done more conveniently** with normalized inputs.\n",
        "4. In deep neural networks, **normalization helps to avoid the Vanishing/Exploding gradient problem** The Vanishing/Exploding gradient problem occurs when very small or very large error gradients accumulate, and that results in either extremely small or very large updates to neural network model weights during the training process. This makes a model unstable and unable to learn from the training data."
      ],
      "metadata": {
        "id": "1cYYxIvH9dNm"
      }
    },
    {
      "cell_type": "markdown",
      "source": [
        "As we already know, the images are in grayscale, so let us **reshape the arrays to just have a single channel**."
      ],
      "metadata": {
        "id": "6zF9PSHDEp4t"
      }
    },
    {
      "cell_type": "code",
      "source": [
        "# Reshape dataset to have a single channel\n",
        "X_train = X_train.reshape((X_train.shape[0], 28, 28, 1))\n",
        "X_test = X_test.reshape((X_test.shape[0], 28, 28, 1))"
      ],
      "metadata": {
        "id": "_IJwpIPzFhi5"
      },
      "execution_count": null,
      "outputs": []
    },
    {
      "cell_type": "markdown",
      "source": [
        "Since the **image pixel values range from 0-255**, our method of normalization here will be **scaling** - we shall **divide all the pixel values by 255 to standardize the images to have values between 0-1.**"
      ],
      "metadata": {
        "id": "4KOZB5QK-Bnp"
      }
    },
    {
      "cell_type": "code",
      "source": [
        "# Normalizing the image pixels\n",
        "X_train_normalized = X_train.astype('float32')/255.0\n",
        "X_test_normalized = X_test.astype('float32')/255.0"
      ],
      "metadata": {
        "id": "n5FMF4iy8TvJ"
      },
      "execution_count": null,
      "outputs": []
    },
    {
      "cell_type": "markdown",
      "source": [
        "Since this is a **10-class classification problem**, **the output layer should have 10 neurons** which will provide us with the probabilities of the input image belonging to each of those 10 classes. Therefore, we also need to create a **one-hot encoded representation for the target classes.**"
      ],
      "metadata": {
        "id": "29EVGIZY-R2k"
      }
    },
    {
      "cell_type": "code",
      "source": [
        "# Creating one-hot encoded representation of target labels\n",
        "# We can do this by using this utility function - https://www.tensorflow.org/api_docs/python/tf/keras/utils/to_categorical\n",
        "# to_categorical() function is also explained in the Neural Networks Module\n",
        "\n",
        "y_train_encoded = tf.keras.utils.to_categorical(y_train)\n",
        "y_test_encoded = tf.keras.utils.to_categorical(y_test)"
      ],
      "metadata": {
        "id": "VLUkl-jW8V0J"
      },
      "execution_count": null,
      "outputs": []
    },
    {
      "cell_type": "markdown",
      "source": [
        "## **Model Building - Artificial Neural Network (ANN)**"
      ],
      "metadata": {
        "id": "svJYVbVCDSYJ"
      }
    },
    {
      "cell_type": "markdown",
      "source": [
        "### **Defining an Artificial Neural Network (ANN) Model**"
      ],
      "metadata": {
        "id": "nECJlbR6dMG5"
      }
    },
    {
      "cell_type": "markdown",
      "source": [
        "Let's first create an ANN model as we have done previously. \n",
        "\n",
        "We will create this ANN sequentially, by adding the layers one after another."
      ],
      "metadata": {
        "id": "NFItswofdR1w"
      }
    },
    {
      "cell_type": "markdown",
      "source": [
        "First, let's **set the seed for the random number generators in Numpy, Python's Random package, and TensorFlow** to ensure we are able to reproduce these results every time we run the code."
      ],
      "metadata": {
        "id": "CLtJH9GJde6S"
      }
    },
    {
      "cell_type": "code",
      "source": [
        "# Fixing the seed for random number generators\n",
        "import random\n",
        "np.random.seed(42)\n",
        "random.seed(42)\n",
        "tf.random.set_seed(42)"
      ],
      "metadata": {
        "id": "Cm_6LevfdhOs"
      },
      "execution_count": null,
      "outputs": []
    },
    {
      "cell_type": "markdown",
      "source": [
        "Let's now build a **sequential ANN model.**"
      ],
      "metadata": {
        "id": "atAwhIN4dk5R"
      }
    },
    {
      "cell_type": "code",
      "source": [
        "# Intializing a sequential model\n",
        "ann_model = Sequential()\n",
        "\n",
        "# Flatten the input to add dense convolutional layers on top of it\n",
        "ann_model.add(Flatten(input_shape=(28, 28)))\n",
        "\n",
        "# Adding a sequential layer with 100 neurons\n",
        "ann_model.add(Dense(100, activation='relu'))\n",
        "\n",
        "# Adding the output layer with 10 neurons and activation functions as softmax since this is a multi-class classification problem  \n",
        "ann_model.add(Dense(10, activation='softmax'))\n",
        "\n",
        "# Using SGD Optimizer\n",
        "opt = SGD(learning_rate=0.01, momentum=0.9)\n",
        "\n",
        "# Compile model\n",
        "ann_model.compile(optimizer=opt,\n",
        "              loss='categorical_crossentropy',\n",
        "              metrics=['accuracy'])\n",
        "\n",
        "# Generating the summary of the model\n",
        "ann_model.summary()"
      ],
      "metadata": {
        "colab": {
          "base_uri": "https://localhost:8080/"
        },
        "id": "hJ0qk6Mndqk0",
        "outputId": "1676290e-498a-4016-c11c-20463921ad9d"
      },
      "execution_count": null,
      "outputs": [
        {
          "output_type": "stream",
          "name": "stdout",
          "text": [
            "Model: \"sequential\"\n",
            "_________________________________________________________________\n",
            " Layer (type)                Output Shape              Param #   \n",
            "=================================================================\n",
            " flatten (Flatten)           (None, 784)               0         \n",
            "                                                                 \n",
            " dense (Dense)               (None, 100)               78500     \n",
            "                                                                 \n",
            " dense_1 (Dense)             (None, 10)                1010      \n",
            "                                                                 \n",
            "=================================================================\n",
            "Total params: 79,510\n",
            "Trainable params: 79,510\n",
            "Non-trainable params: 0\n",
            "_________________________________________________________________\n"
          ]
        }
      ]
    },
    {
      "cell_type": "markdown",
      "source": [
        "**Let us understand the parameters in each layer:**\n",
        "> \n",
        "\n",
        "*  **Flatten Layer** <br>\n",
        "Here, the input shape to the layer is (28,28)<br>\n",
        "It does not have any parameters, so the number of parameters is 0.<br>\n",
        "\n",
        "*   **Fully Connected Dense Layer**<br>\n",
        "Number of neurons: 100<br>\n",
        "Number of parameters: (784x100)+(1x100): 78400+100: 78500<br>\n",
        "` Number of neurons in current layer x number of neurons in the previous layer + 1 x number of neurons in current layer(Bias)`<br>\n",
        "\n",
        "*   **Output Layer**<br>\n",
        "Number of neurons: 10<br>\n",
        "Number of parameters: (10x100)+(1x10) = 1010<br>\n",
        "` Number of neurons in current layer x number of neurons in the previous layer( Here in the previous dense layer: 100) + 1 x number of neurons in current layer(Bias)`\n",
        "\n",
        "\n",
        "\n",
        "\n",
        "\n",
        "\n"
      ],
      "metadata": {
        "id": "8YEbHUHmkArv"
      }
    },
    {
      "cell_type": "markdown",
      "source": [
        "<b> Fitting the model on the train data:"
      ],
      "metadata": {
        "id": "eE4IElpAj6YG"
      }
    },
    {
      "cell_type": "code",
      "source": [
        "history = ann_model.fit(\n",
        "            X_train_normalized, y_train_encoded,\n",
        "            epochs=15,\n",
        "            validation_split=0.1,\n",
        "            shuffle=True,\n",
        "            batch_size=64,\n",
        "            verbose=2\n",
        ")"
      ],
      "metadata": {
        "colab": {
          "base_uri": "https://localhost:8080/"
        },
        "id": "5AWAwzqyeh9r",
        "outputId": "172d5d80-af86-4412-8f4d-9944d4526317"
      },
      "execution_count": null,
      "outputs": [
        {
          "output_type": "stream",
          "name": "stdout",
          "text": [
            "Epoch 1/15\n",
            "844/844 - 5s - loss: 0.4176 - accuracy: 0.8819 - val_loss: 0.2073 - val_accuracy: 0.9413 - 5s/epoch - 6ms/step\n",
            "Epoch 2/15\n",
            "844/844 - 2s - loss: 0.2185 - accuracy: 0.9378 - val_loss: 0.1574 - val_accuracy: 0.9577 - 2s/epoch - 2ms/step\n",
            "Epoch 3/15\n",
            "844/844 - 2s - loss: 0.1653 - accuracy: 0.9529 - val_loss: 0.1271 - val_accuracy: 0.9653 - 2s/epoch - 2ms/step\n",
            "Epoch 4/15\n",
            "844/844 - 2s - loss: 0.1351 - accuracy: 0.9621 - val_loss: 0.1139 - val_accuracy: 0.9670 - 2s/epoch - 2ms/step\n",
            "Epoch 5/15\n",
            "844/844 - 2s - loss: 0.1147 - accuracy: 0.9671 - val_loss: 0.1030 - val_accuracy: 0.9700 - 2s/epoch - 2ms/step\n",
            "Epoch 6/15\n",
            "844/844 - 2s - loss: 0.0996 - accuracy: 0.9720 - val_loss: 0.0938 - val_accuracy: 0.9730 - 2s/epoch - 2ms/step\n",
            "Epoch 7/15\n",
            "844/844 - 2s - loss: 0.0880 - accuracy: 0.9750 - val_loss: 0.0876 - val_accuracy: 0.9762 - 2s/epoch - 2ms/step\n",
            "Epoch 8/15\n",
            "844/844 - 2s - loss: 0.0785 - accuracy: 0.9775 - val_loss: 0.0858 - val_accuracy: 0.9765 - 2s/epoch - 2ms/step\n",
            "Epoch 9/15\n",
            "844/844 - 2s - loss: 0.0706 - accuracy: 0.9801 - val_loss: 0.0836 - val_accuracy: 0.9758 - 2s/epoch - 2ms/step\n",
            "Epoch 10/15\n",
            "844/844 - 2s - loss: 0.0648 - accuracy: 0.9814 - val_loss: 0.0802 - val_accuracy: 0.9768 - 2s/epoch - 2ms/step\n",
            "Epoch 11/15\n",
            "844/844 - 2s - loss: 0.0586 - accuracy: 0.9838 - val_loss: 0.0757 - val_accuracy: 0.9783 - 2s/epoch - 2ms/step\n",
            "Epoch 12/15\n",
            "844/844 - 2s - loss: 0.0542 - accuracy: 0.9849 - val_loss: 0.0778 - val_accuracy: 0.9782 - 2s/epoch - 2ms/step\n",
            "Epoch 13/15\n",
            "844/844 - 2s - loss: 0.0498 - accuracy: 0.9866 - val_loss: 0.0748 - val_accuracy: 0.9790 - 2s/epoch - 2ms/step\n",
            "Epoch 14/15\n",
            "844/844 - 2s - loss: 0.0458 - accuracy: 0.9877 - val_loss: 0.0740 - val_accuracy: 0.9782 - 2s/epoch - 2ms/step\n",
            "Epoch 15/15\n",
            "844/844 - 2s - loss: 0.0423 - accuracy: 0.9886 - val_loss: 0.0744 - val_accuracy: 0.9785 - 2s/epoch - 2ms/step\n"
          ]
        }
      ]
    },
    {
      "cell_type": "markdown",
      "source": [
        "### **Model Evaluation**"
      ],
      "metadata": {
        "id": "mj3Skz2IkmfZ"
      }
    },
    {
      "cell_type": "code",
      "source": [
        "plt.plot(history.history['accuracy'])\n",
        "plt.plot(history.history['val_accuracy'])\n",
        "plt.title('Model Accuracy')\n",
        "plt.ylabel('Accuracy')\n",
        "plt.xlabel('Epoch')\n",
        "plt.legend(['Train', 'Validation'], loc='upper left')\n",
        "plt.show()"
      ],
      "metadata": {
        "colab": {
          "base_uri": "https://localhost:8080/",
          "height": 295
        },
        "id": "pD6WR40cj19z",
        "outputId": "0011514e-acb8-47de-f4bc-1cdad525d18d"
      },
      "execution_count": null,
      "outputs": [
        {
          "output_type": "display_data",
          "data": {
            "text/plain": [
              "<Figure size 432x288 with 1 Axes>"
            ],
            "image/png": "[encoded data removed]"
          },
          "metadata": {
            "needs_background": "light"
          }
        }
      ]
    },
    {
      "cell_type": "markdown",
      "source": [
        "**Observations:** \n",
        "\n",
        "*   We can see from the above plot that the model has perfomed well on the train and validation data, with a **validation accuracy of 97%.**\n"
      ],
      "metadata": {
        "id": "03Fan60bkxH2"
      }
    },
    {
      "cell_type": "markdown",
      "source": [
        "### **Evaluating the model on the test data**"
      ],
      "metadata": {
        "id": "1kik69fBo7xp"
      }
    },
    {
      "cell_type": "code",
      "source": [
        "accuracy = ann_model.evaluate(X_test_normalized, y_test_encoded, verbose=2)"
      ],
      "metadata": {
        "colab": {
          "base_uri": "https://localhost:8080/"
        },
        "id": "rTEu-Aprj2A3",
        "outputId": "75d67a05-6f37-4a95-f5f3-8cf2e918559d"
      },
      "execution_count": null,
      "outputs": [
        {
          "output_type": "stream",
          "name": "stdout",
          "text": [
            "313/313 - 1s - loss: 0.0771 - accuracy: 0.9765 - 587ms/epoch - 2ms/step\n"
          ]
        }
      ]
    },
    {
      "cell_type": "markdown",
      "source": [
        "### **Generating the Predictions using the test data**"
      ],
      "metadata": {
        "id": "b5dNWxWPpEiv"
      }
    },
    {
      "cell_type": "code",
      "source": [
        "# Here we would get the output as probablities for each category\n",
        "y_pred=ann_model.predict(X_test_normalized)"
      ],
      "metadata": {
        "id": "2vMod71Yj2EC"
      },
      "execution_count": null,
      "outputs": []
    },
    {
      "cell_type": "markdown",
      "source": [
        "### **Plotting the Confusion Matrix**"
      ],
      "metadata": {
        "id": "gGRaZwofpPZn"
      }
    },
    {
      "cell_type": "markdown",
      "source": [
        "*   The Confusion matrix is also defined as an inbuilt function in the TensorFlow module, so we can use that for evaluating the classification model.\n",
        "*   The Confusion matrix expects the input to be of categorical values. But the y_test_encoded is an encoded value, and y_pred has probablities. So we need to get the categorical values back from the encoded values.\n",
        "*   We will use the `argmax()` function to obtain the maximum value over each category on both y_test_encoded and y_pred and obtain their respective classes.\n",
        "\n",
        "\n",
        "\n"
      ],
      "metadata": {
        "id": "gtLY-LGopQtJ"
      }
    },
    {
      "cell_type": "code",
      "source": [
        "# Obtaining the categorical values from y_test_encoded and y_pred\n",
        "y_pred_arg=np.argmax(y_pred,axis=1)\n",
        "y_test_arg=np.argmax(y_test_encoded,axis=1)\n",
        "\n",
        "# Plotting the Confusion Matrix using confusion matrix() function which is also predefined tensorflow module\n",
        "confusion_matrix = tf.math.confusion_matrix(y_test_arg,y_pred_arg)\n",
        "f, ax = plt.subplots(figsize=(10, 8))\n",
        "sns.heatmap(\n",
        "    confusion_matrix,\n",
        "    annot=True,\n",
        "    linewidths=.4,\n",
        "    fmt=\"d\",\n",
        "    square=True,\n",
        "    ax=ax\n",
        ")\n",
        "plt.show()"
      ],
      "metadata": {
        "colab": {
          "base_uri": "https://localhost:8080/",
          "height": 483
        },
        "id": "kAmRdeS-pZk5",
        "outputId": "30b46f7d-8154-40f8-ead4-5304679d08f7"
      },
      "execution_count": null,
      "outputs": [
        {
          "output_type": "display_data",
          "data": {
            "text/plain": [
              "<Figure size 720x576 with 2 Axes>"
            ],
            "image/png": "[encoded data removed]"
          },
          "metadata": {
            "needs_background": "light"
          }
        }
      ]
    },
    {
      "cell_type": "markdown",
      "source": [
        "**We observe that most of the classes are predicted correctly**, and the misclassification occurs mostly with the digit 4 which is sometimes confused with digit 9, and digit 5 which is sometimes confused with digit 3."
      ],
      "metadata": {
        "id": "Nb5FsNLvpX7m"
      }
    },
    {
      "cell_type": "markdown",
      "source": [
        "## **Model Building - Convolutional Neural Network (CNN)**"
      ],
      "metadata": {
        "id": "0Y83Pa4ENG3H"
      }
    },
    {
      "cell_type": "markdown",
      "source": [
        "### **Defining a Convolutional Neural Network (CNN) Model**"
      ],
      "metadata": {
        "id": "nJ2Ek6CZHZm8"
      }
    },
    {
      "cell_type": "markdown",
      "source": [
        "Let's create a CNN model sequentially, where we will be adding the layers one after another."
      ],
      "metadata": {
        "id": "u-3u1necDYEY"
      }
    },
    {
      "cell_type": "markdown",
      "source": [
        "First, we need to clear the previous model's history from the session. \n",
        "\n",
        "In Keras, we need a special command to clear the model's history, otherwise the previous model history remains in the backend.\n",
        "\n",
        "Also, let's fix the seed again after clearing the backend.\n",
        "\n",
        "Let's **set the seed for random number generators in Numpy, the Random library in Python, and in TensorFlow** to be able to reproduce the same results every time we run the code."
      ],
      "metadata": {
        "id": "UCf2IXKdDgdq"
      }
    },
    {
      "cell_type": "code",
      "source": [
        "# Clearing backend\n",
        "from tensorflow.keras import backend\n",
        "backend.clear_session()"
      ],
      "metadata": {
        "id": "Q5AwVYZ2j0nx"
      },
      "execution_count": null,
      "outputs": []
    },
    {
      "cell_type": "code",
      "source": [
        "# Fixing the seed for random number generators\n",
        "import random\n",
        "np.random.seed(42)\n",
        "random.seed(42)\n",
        "tf.random.set_seed(42)"
      ],
      "metadata": {
        "id": "NcxvHDk9-qWD"
      },
      "execution_count": null,
      "outputs": []
    },
    {
      "cell_type": "markdown",
      "source": [
        "Let's build a **CNN Model**.<br>\n",
        "\n",
        "The model has 2 main parts:\n",
        "1. **The Feature Extraction layers** which are comprised of convolutional and pooling layers.\n",
        "2. **The Fully Connected classification layers for prediction.**<br><br>\n",
        "\n",
        "The flow of our model would be as shown below:\n",
        "\n",
        "*   Our model would start with a sequential Conv2D layer with 64 filters of 3x3 filter with the **ReLU** activation function. This will take as input an image of size (28x28x1).\n",
        "*    We will also use padding in order to keep the output shape the same as that of the input shape. Hence, the hyperparameter padding = 'same'. \n",
        "<br> This layer would also be followed by a **Max Pooling** layer.\n",
        "*   After this, we will have 2 more pairs of Conv2D and **Max Pooling** layers, having 32 filters with a 3x3 Kernel Size and a pooling size of (2,2).\n",
        "*   We would flatten out the output from this pooling layer, and use a dense layer over that.\n",
        "*   This will be a dense layer of 100 neurons (the same as the ANN)\n",
        "*   We would have an output layer with 10 neurons, as we have 10 output classes in this multi-class classification problem.\n",
        "\n",
        "\n",
        "\n",
        "\n",
        "\n",
        "\n",
        "\n",
        "\n",
        "\n",
        "\n"
      ],
      "metadata": {
        "id": "2dfF83spEMgr"
      }
    },
    {
      "cell_type": "code",
      "source": [
        "# Intializing a sequential model\n",
        "model = Sequential()\n",
        "\n",
        "# Adding first conv layer with 64 filters and kernel size 3x3 , padding 'same' provides the output size same as the input size\n",
        "# Input_shape denotes input image dimension of MNIST images\n",
        "model.add(Conv2D(64, (3, 3), activation='relu', padding=\"same\", input_shape=(28, 28, 1)))\n",
        "\n",
        "# Adding max pooling to reduce the size of output of first conv layer\n",
        "model.add(MaxPooling2D((2, 2), padding = 'same'))\n",
        "\n",
        "model.add(Conv2D(32, (3, 3), activation='relu', padding=\"same\"))\n",
        "model.add(MaxPooling2D((2, 2), padding = 'same'))\n",
        "model.add(Conv2D(32, (3, 3), activation='relu', padding=\"same\"))\n",
        "model.add(MaxPooling2D((2, 2), padding = 'same'))\n",
        "\n",
        "# flattening the output of the conv layer after max pooling to make it ready for creating dense connections\n",
        "model.add(Flatten())\n",
        "\n",
        "# Adding a fully connected dense layer with 100 neurons    \n",
        "model.add(Dense(100, activation='relu'))\n",
        "\n",
        "# Adding the output layer with 10 neurons and activation functions as softmax since this is a multi-class classification problem  \n",
        "model.add(Dense(10, activation='softmax'))\n",
        "\n",
        "# Using SGD Optimizer\n",
        "opt = SGD(learning_rate=0.01, momentum=0.9)\n",
        "\n",
        "# Compile model\n",
        "model.compile(optimizer=opt, loss='categorical_crossentropy', metrics=['accuracy'])\n",
        "\n",
        "# Generating the summary of the model\n",
        "model.summary()"
      ],
      "metadata": {
        "colab": {
          "base_uri": "https://localhost:8080/"
        },
        "id": "1jur1qN2EGK0",
        "outputId": "08af7878-f113-4c40-a676-219a7ba65af8"
      },
      "execution_count": null,
      "outputs": [
        {
          "output_type": "stream",
          "name": "stdout",
          "text": [
            "Model: \"sequential_1\"\n",
            "_________________________________________________________________\n",
            " Layer (type)                Output Shape              Param #   \n",
            "=================================================================\n",
            " conv2d_3 (Conv2D)           (None, 28, 28, 64)        640       \n",
            "                                                                 \n",
            " max_pooling2d_3 (MaxPooling  (None, 14, 14, 64)       0         \n",
            " 2D)                                                             \n",
            "                                                                 \n",
            " conv2d_4 (Conv2D)           (None, 14, 14, 32)        18464     \n",
            "                                                                 \n",
            " max_pooling2d_4 (MaxPooling  (None, 7, 7, 32)         0         \n",
            " 2D)                                                             \n",
            "                                                                 \n",
            " conv2d_5 (Conv2D)           (None, 7, 7, 32)          9248      \n",
            "                                                                 \n",
            " max_pooling2d_5 (MaxPooling  (None, 4, 4, 32)         0         \n",
            " 2D)                                                             \n",
            "                                                                 \n",
            " flatten_1 (Flatten)         (None, 512)               0         \n",
            "                                                                 \n",
            " dense_2 (Dense)             (None, 100)               51300     \n",
            "                                                                 \n",
            " dense_3 (Dense)             (None, 10)                1010      \n",
            "                                                                 \n",
            "=================================================================\n",
            "Total params: 80,662\n",
            "Trainable params: 80,662\n",
            "Non-trainable params: 0\n",
            "_________________________________________________________________\n"
          ]
        }
      ]
    },
    {
      "cell_type": "markdown",
      "source": [
        "**Let us try to understand the parameters in the CNN layers:**\n",
        "> \n",
        "\n",
        "*  **First Conv2D Layer** <br>\n",
        "The input shape to the Conv2D layer: (28,28,1)<br>\n",
        "The Size of the Filter: 3x3 <br>\n",
        "The Number of Filters: 64<br>\n",
        "The Number of parameters: (3x3x1+1)x64 = 640<br>\n",
        "  `(width of filter in current layer x height of filter in current layer x number of filters in previous layer + bias) x number of filters in current layer`<br>\n",
        "\n",
        "*   **Max Pooling Layer**<br>\n",
        "Pooling has no trainable parameters, so the number of parameters: 0<br>\n",
        "\n",
        "*   **Flatten**<br>\n",
        "It does not have any trainable parameters, so the number of parameters: 0<br>\n",
        "\n",
        "*   **Fully Connected Dense Layer**<br>\n",
        "Number of neurons: 100<br>\n",
        "Number of parameters: (100x512)+(1x100): 51300<br>\n",
        "` Number of neurons in current layer x number of neurons in the previous layer (Here in max pooling layer: 14x14x16) + 1 x number of neurons in current layer (Bias)`<br>\n",
        "\n",
        "*   **Output Layer**<br>\n",
        "Number of neurons: 10<br>\n",
        "Number of parameters: (10x100)+(1x10)=1010<br>\n",
        "` Number of neurons in current layer x number of neurons in the previous layer (Here in the previous dense layer: 128) + 1 x number of neurons in current layer(Bias)`\n",
        "\n",
        "\n",
        "\n",
        "\n",
        "\n",
        "\n"
      ],
      "metadata": {
        "id": "Hcr6wzFS6R-j"
      }
    },
    {
      "cell_type": "markdown",
      "source": [
        "### <b> Fitting the model on the train data"
      ],
      "metadata": {
        "id": "K23aF68_FHEw"
      }
    },
    {
      "cell_type": "code",
      "source": [
        "history_1 = model.fit(\n",
        "            X_train_normalized, y_train_encoded,\n",
        "            epochs=15,\n",
        "            validation_split=0.1,\n",
        "            shuffle=True,\n",
        "            batch_size=64,\n",
        "            verbose=2\n",
        ")"
      ],
      "metadata": {
        "colab": {
          "base_uri": "https://localhost:8080/"
        },
        "id": "Er5k1jYG7waV",
        "outputId": "ed5a2cf0-2b9b-4cfd-aa66-aba08916efa1"
      },
      "execution_count": null,
      "outputs": [
        {
          "output_type": "stream",
          "name": "stdout",
          "text": [
            "Epoch 1/15\n",
            "844/844 - 12s - loss: 0.3191 - accuracy: 0.8960 - val_loss: 0.1079 - val_accuracy: 0.9677 - 12s/epoch - 14ms/step\n",
            "Epoch 2/15\n",
            "844/844 - 3s - loss: 0.0725 - accuracy: 0.9773 - val_loss: 0.0541 - val_accuracy: 0.9840 - 3s/epoch - 4ms/step\n",
            "Epoch 3/15\n",
            "844/844 - 3s - loss: 0.0522 - accuracy: 0.9838 - val_loss: 0.0458 - val_accuracy: 0.9880 - 3s/epoch - 4ms/step\n",
            "Epoch 4/15\n",
            "844/844 - 3s - loss: 0.0416 - accuracy: 0.9870 - val_loss: 0.0537 - val_accuracy: 0.9840 - 3s/epoch - 4ms/step\n",
            "Epoch 5/15\n",
            "844/844 - 3s - loss: 0.0353 - accuracy: 0.9888 - val_loss: 0.0384 - val_accuracy: 0.9888 - 3s/epoch - 4ms/step\n",
            "Epoch 6/15\n",
            "844/844 - 3s - loss: 0.0292 - accuracy: 0.9904 - val_loss: 0.0417 - val_accuracy: 0.9890 - 3s/epoch - 4ms/step\n",
            "Epoch 7/15\n",
            "844/844 - 3s - loss: 0.0239 - accuracy: 0.9921 - val_loss: 0.0418 - val_accuracy: 0.9895 - 3s/epoch - 4ms/step\n",
            "Epoch 8/15\n",
            "844/844 - 3s - loss: 0.0213 - accuracy: 0.9930 - val_loss: 0.0378 - val_accuracy: 0.9895 - 3s/epoch - 4ms/step\n",
            "Epoch 9/15\n",
            "844/844 - 3s - loss: 0.0184 - accuracy: 0.9940 - val_loss: 0.0374 - val_accuracy: 0.9908 - 3s/epoch - 4ms/step\n",
            "Epoch 10/15\n",
            "844/844 - 3s - loss: 0.0160 - accuracy: 0.9949 - val_loss: 0.0364 - val_accuracy: 0.9907 - 3s/epoch - 4ms/step\n",
            "Epoch 11/15\n",
            "844/844 - 3s - loss: 0.0132 - accuracy: 0.9955 - val_loss: 0.0259 - val_accuracy: 0.9932 - 3s/epoch - 4ms/step\n",
            "Epoch 12/15\n",
            "844/844 - 3s - loss: 0.0122 - accuracy: 0.9962 - val_loss: 0.0380 - val_accuracy: 0.9898 - 3s/epoch - 4ms/step\n",
            "Epoch 13/15\n",
            "844/844 - 3s - loss: 0.0108 - accuracy: 0.9964 - val_loss: 0.0382 - val_accuracy: 0.9905 - 3s/epoch - 4ms/step\n",
            "Epoch 14/15\n",
            "844/844 - 3s - loss: 0.0078 - accuracy: 0.9975 - val_loss: 0.0418 - val_accuracy: 0.9898 - 3s/epoch - 4ms/step\n",
            "Epoch 15/15\n",
            "844/844 - 3s - loss: 0.0077 - accuracy: 0.9974 - val_loss: 0.0429 - val_accuracy: 0.9902 - 3s/epoch - 4ms/step\n"
          ]
        }
      ]
    },
    {
      "cell_type": "markdown",
      "source": [
        "### **Model Evaluation**"
      ],
      "metadata": {
        "id": "J0nAM75hf8KZ"
      }
    },
    {
      "cell_type": "code",
      "source": [
        "plt.plot(history_1.history['accuracy'])\n",
        "plt.plot(history_1.history['val_accuracy'])\n",
        "plt.title('Model Accuracy')\n",
        "plt.ylabel('Accuracy')\n",
        "plt.xlabel('Epoch')\n",
        "plt.legend(['Train', 'Validation'], loc='upper left')\n",
        "plt.show()"
      ],
      "metadata": {
        "colab": {
          "base_uri": "https://localhost:8080/",
          "height": 295
        },
        "id": "JWLrPdNwGWpH",
        "outputId": "ebdddcea-eeb7-432a-a99f-c6368ae77860"
      },
      "execution_count": null,
      "outputs": [
        {
          "output_type": "display_data",
          "data": {
            "text/plain": [
              "<Figure size 432x288 with 1 Axes>"
            ],
            "image/png": "[encoded data removed]"
          },
          "metadata": {
            "needs_background": "light"
          }
        }
      ]
    },
    {
      "cell_type": "markdown",
      "source": [
        "**Observations:** \n",
        "\n",
        "\n",
        "*   We can see from the above plot that **the model has perfomed well on train and validation data with a validation accuracy of 98%.**\n",
        "\n",
        "\n",
        "\n",
        "\n"
      ],
      "metadata": {
        "id": "rKJ6YR_bawrp"
      }
    },
    {
      "cell_type": "markdown",
      "source": [
        "### **Evaluating the model on test data**"
      ],
      "metadata": {
        "id": "x2sRP3ovbCJL"
      }
    },
    {
      "cell_type": "code",
      "source": [
        "accuracy = model.evaluate(X_test_normalized, y_test_encoded, verbose=2)"
      ],
      "metadata": {
        "colab": {
          "base_uri": "https://localhost:8080/"
        },
        "id": "LK3DlKQoGJMc",
        "outputId": "f27935e6-b0de-4c09-c23d-321cff504ef5"
      },
      "execution_count": null,
      "outputs": [
        {
          "output_type": "stream",
          "name": "stdout",
          "text": [
            "313/313 - 1s - loss: 0.0304 - accuracy: 0.9914 - 723ms/epoch - 2ms/step\n"
          ]
        }
      ]
    },
    {
      "cell_type": "markdown",
      "source": [
        "### **Generating the predictions using test data**"
      ],
      "metadata": {
        "id": "gighSgusgBeM"
      }
    },
    {
      "cell_type": "code",
      "source": [
        "# Here we would get the output as probablities for each category\n",
        "y_pred=model.predict(X_test_normalized)"
      ],
      "metadata": {
        "id": "sYbj9qSidOoV"
      },
      "execution_count": null,
      "outputs": []
    },
    {
      "cell_type": "code",
      "source": [
        "y_pred"
      ],
      "metadata": {
        "colab": {
          "base_uri": "https://localhost:8080/"
        },
        "id": "QL7QVdIeg6ci",
        "outputId": "fa0366b5-e08b-4469-bb06-798f63a3f6e2"
      },
      "execution_count": null,
      "outputs": [
        {
          "output_type": "execute_result",
          "data": {
            "text/plain": [
              "array([[2.66181353e-15, 3.81052042e-13, 2.14736562e-12, ...,\n",
              "        1.00000000e+00, 7.75563378e-16, 1.98781235e-11],\n",
              "       [1.08800614e-10, 5.58348916e-07, 9.99999404e-01, ...,\n",
              "        4.22445079e-14, 1.01340128e-12, 4.43997677e-16],\n",
              "       [5.49646684e-09, 9.99995112e-01, 1.81279205e-08, ...,\n",
              "        2.47621301e-06, 2.12286636e-06, 4.32171232e-09],\n",
              "       ...,\n",
              "       [3.07713835e-16, 9.46852839e-13, 3.12149746e-16, ...,\n",
              "        7.18403608e-14, 1.45556137e-10, 1.61758031e-13],\n",
              "       [9.06852201e-17, 6.07376364e-20, 2.85829655e-18, ...,\n",
              "        5.69064744e-19, 4.57885108e-06, 3.07004114e-17],\n",
              "       [2.20486918e-08, 1.87601598e-15, 1.63058111e-13, ...,\n",
              "        1.74939613e-19, 8.15508305e-13, 3.06117728e-18]], dtype=float32)"
            ]
          },
          "metadata": {},
          "execution_count": 27
        }
      ]
    },
    {
      "cell_type": "markdown",
      "source": [
        "### **Plotting the Confusion Matrix**"
      ],
      "metadata": {
        "id": "7f8u1cOufv4R"
      }
    },
    {
      "cell_type": "markdown",
      "source": [
        "*   The Confusion matrix is also defined as an inbuilt function in the TensorFlow module, so we can use that for evaluating the classification model.\n",
        "*   The Confusion matrix expects the input to be of categorical values. But the y_test_encoded is an encoded value, and y_pred has probablities. So we need to get the categorical values back from the encoded values.\n",
        "*   We will use the `argmax()` function to obtain the maximum value over each category on both y_test_encoded and y_pred and obtain their respective classes.\n",
        "\n",
        "\n",
        "\n"
      ],
      "metadata": {
        "id": "06UAILfCgOjc"
      }
    },
    {
      "cell_type": "code",
      "source": [
        "# Obtaining the categorical values from y_test_encoded and y_pred\n",
        "y_pred_arg=np.argmax(y_pred,axis=1)\n",
        "y_test_arg=np.argmax(y_test_encoded,axis=1)\n",
        "\n",
        "# Plotting the Confusion Matrix using confusion matrix() function which is also predefined tensorflow module\n",
        "confusion_matrix = tf.math.confusion_matrix(y_test_arg,y_pred_arg)\n",
        "f, ax = plt.subplots(figsize=(10, 8))\n",
        "sns.heatmap(\n",
        "    confusion_matrix,\n",
        "    annot=True,\n",
        "    linewidths=.4,\n",
        "    fmt=\"d\",\n",
        "    square=True,\n",
        "    ax=ax\n",
        ")\n",
        "plt.show()"
      ],
      "metadata": {
        "colab": {
          "base_uri": "https://localhost:8080/",
          "height": 483
        },
        "id": "IavJcIuDT0s6",
        "outputId": "7b64dce3-ac44-4be5-a362-3cc0281319de"
      },
      "execution_count": null,
      "outputs": [
        {
          "output_type": "display_data",
          "data": {
            "text/plain": [
              "<Figure size 720x576 with 2 Axes>"
            ],
            "image/png": "[encoded data removed]"
          },
          "metadata": {
            "needs_background": "light"
          }
        }
      ]
    },
    {
      "cell_type": "markdown",
      "source": [
        "We observe that most of the classes are predicted correctly. \n",
        "\n",
        "The misclassification mostly with the the digits 4 and 8, which are confused with digit 9."
      ],
      "metadata": {
        "id": "L3rR9A-hk86M"
      }
    },
    {
      "cell_type": "markdown",
      "source": [
        "## **Comparing the number of parameters in ANNs and CNNs**\n",
        "\n",
        "- The total number of trainable parameters in the ANN were: 79,510.\n",
        "- The total number of trainable parameters in the CNN are: 80,662.\n",
        "- For the ANN model, we had to flatten our input image of size (28,28,1) to (784,1). This was followed by two dense layers with the same number of nodes that we used while building the CNN Model.\n",
        "- **Using just 2 dense layers after Flatten() in the ANN model, resulted in nearly the same number of parameters as the whole CNN model, despite the CNN having the added advantage of multiple convolution layers for feature extraction.**\n",
        "\n",
        "**This should give a sense for why it makes much more sense to use CNNs for image prediction tasks**, not only because they have added advantages to make use of the spatial nature of information in images, but because they are so much more computationally efficient."
      ],
      "metadata": {
        "id": "SkcMjc34AW_7"
      }
    },
    {
      "cell_type": "markdown",
      "source": [
        "# **Happy Learning!**"
      ],
      "metadata": {
        "id": "cVl-Pka8zNBc"
      }
    }
  ]
}