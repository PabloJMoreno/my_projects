{
  "nbformat": 4,
  "nbformat_minor": 0,
  "metadata": {
    "colab": {
      "provenance": []
    },
    "kernelspec": {
      "name": "python3",
      "display_name": "Python 3"
    },
    "language_info": {
      "name": "python"
    }
  },
  "cells": [
    {
      "cell_type": "code",
      "execution_count": 1,
      "metadata": {
        "colab": {
          "base_uri": "https://localhost:8080/"
        },
        "id": "UJfkFJ5TYh1D",
        "outputId": "74e1126a-63e2-4dc4-f605-aab906ea5047"
      },
      "outputs": [
        {
          "output_type": "stream",
          "name": "stdout",
          "text": [
            "\u001b[2K     \u001b[90m━━━━━━━━━━━━━━━━━━━━━━━━━━━━━━━━━━━━━━━\u001b[0m \u001b[32m281.3/281.3 MB\u001b[0m \u001b[31m3.7 MB/s\u001b[0m eta \u001b[36m0:00:00\u001b[0m\n",
            "\u001b[?25h  Preparing metadata (setup.py) ... \u001b[?25l\u001b[?25hdone\n",
            "\u001b[2K     \u001b[90m━━━━━━━━━━━━━━━━━━━━━━━━━━━━━━━━━━━━━━\u001b[0m \u001b[32m453.8/453.8 kB\u001b[0m \u001b[31m10.0 MB/s\u001b[0m eta \u001b[36m0:00:00\u001b[0m\n",
            "\u001b[2K     \u001b[90m━━━━━━━━━━━━━━━━━━━━━━━━━━━━━━━━━━━━━━\u001b[0m \u001b[32m199.7/199.7 kB\u001b[0m \u001b[31m10.7 MB/s\u001b[0m eta \u001b[36m0:00:00\u001b[0m\n",
            "\u001b[?25h  Building wheel for pyspark (setup.py) ... \u001b[?25l\u001b[?25hdone\n",
            "\u001b[2K     \u001b[90m━━━━━━━━━━━━━━━━━━━━━━━━━━━━━━━━━━━━━━━━\u001b[0m \u001b[32m95.6/95.6 kB\u001b[0m \u001b[31m3.7 MB/s\u001b[0m eta \u001b[36m0:00:00\u001b[0m\n",
            "\u001b[2K     \u001b[90m━━━━━━━━━━━━━━━━━━━━━━━━━━━━━━━━━━━━━━━━\u001b[0m \u001b[32m66.9/66.9 kB\u001b[0m \u001b[31m5.3 MB/s\u001b[0m eta \u001b[36m0:00:00\u001b[0m\n",
            "\u001b[2K     \u001b[90m━━━━━━━━━━━━━━━━━━━━━━━━━━━━━━━━━━━━━━━━\u001b[0m \u001b[32m1.6/1.6 MB\u001b[0m \u001b[31m31.3 MB/s\u001b[0m eta \u001b[36m0:00:00\u001b[0m\n",
            "\u001b[?25h"
          ]
        }
      ],
      "source": [
        "# Instalar PySpark y Spark NLP\n",
        "! pip install -q pyspark==3.3.0 spark-nlp==4.2.8\n",
        "\n",
        "# Instalar visualizador de Spark NLP Display\n",
        "! pip install --upgrade -q spark-nlp-display"
      ]
    },
    {
      "cell_type": "code",
      "source": [
        "import json\n",
        "import pandas as pd\n",
        "import numpy as np\n",
        "\n",
        "import sparknlp\n",
        "import pyspark.sql.functions as F\n",
        "\n",
        "from pyspark.ml import Pipeline\n",
        "from pyspark.sql import SparkSession\n",
        "from sparknlp.annotator import *\n",
        "from sparknlp.base import *\n",
        "from sparknlp.pretrained import PretrainedPipeline\n",
        "from pyspark.sql.types import StringType, IntegerType"
      ],
      "metadata": {
        "id": "u5WxFOnjYkwC"
      },
      "execution_count": 2,
      "outputs": []
    },
    {
      "cell_type": "code",
      "source": [
        "# verificacion de versiones\n",
        "\n",
        "spark = sparknlp.start()\n",
        "\n",
        "print(\"Spark NLP version\", sparknlp.version())\n",
        "print(\"Apache Spark version:\", spark.version)\n",
        "\n",
        "spark"
      ],
      "metadata": {
        "colab": {
          "base_uri": "https://localhost:8080/",
          "height": 254
        },
        "id": "h-R-v08_Yky3",
        "outputId": "e50708e8-80af-4fc3-f61e-78f9f316276c"
      },
      "execution_count": 3,
      "outputs": [
        {
          "output_type": "stream",
          "name": "stdout",
          "text": [
            "Spark NLP version 4.2.8\n",
            "Apache Spark version: 3.3.0\n"
          ]
        },
        {
          "output_type": "execute_result",
          "data": {
            "text/plain": [
              "<pyspark.sql.session.SparkSession at 0x7fbb74738d60>"
            ],
            "text/html": [
              "\n",
              "            <div>\n",
              "                <p><b>SparkSession - in-memory</b></p>\n",
              "                \n",
              "        <div>\n",
              "            <p><b>SparkContext</b></p>\n",
              "\n",
              "            <p><a href=\"http://6648a86ece41:4040\">Spark UI</a></p>\n",
              "\n",
              "            <dl>\n",
              "              <dt>Version</dt>\n",
              "                <dd><code>v3.3.0</code></dd>\n",
              "              <dt>Master</dt>\n",
              "                <dd><code>local[*]</code></dd>\n",
              "              <dt>AppName</dt>\n",
              "                <dd><code>Spark NLP</code></dd>\n",
              "            </dl>\n",
              "        </div>\n",
              "        \n",
              "            </div>\n",
              "        "
            ]
          },
          "metadata": {},
          "execution_count": 3
        }
      ]
    },
    {
      "cell_type": "code",
      "source": [
        "# Modelos disponibles: wikiner_6B_100, wikiner_6B_300, wikiner_840B_300\n",
        "\n",
        "MODEL_NAME = \"wikiner_840B_300\""
      ],
      "metadata": {
        "id": "WF0OOOPPYk18"
      },
      "execution_count": 4,
      "outputs": []
    },
    {
      "cell_type": "code",
      "source": [
        "# Primer texto a transformar\n",
        "text_list = [\"\"\"William Henry Gates III (nacido el 28 de octubre de 1955) es un magnate de los negocios, desarrollador de software, inversor y filántropo estadounidense. Es mejor conocido como el cofundador de Microsoft Corporation. Durante su carrera en Microsoft, Gates ocupó los cargos de presidente, director ejecutivo (CEO), presidente y arquitecto de software en jefe, y también fue el mayor accionista individual hasta mayo de 2014. Es uno de los empresarios y pioneros más conocidos de revolución de la microcomputadora de los años setenta y ochenta. Nacido y criado en Seattle, Washington, Gates cofundó Microsoft con su amigo de la infancia Paul Allen en 1975, en Albuquerque, Nuevo México; se convirtió en la compañía de software de computadora personal más grande del mundo. Gates dirigió la compañía como presidente y CEO hasta que dejó el cargo de CEO en enero de 2000, pero siguió siendo presidente y se convirtió en el arquitecto jefe de software. A fines de la década de 1990, Gates había sido criticado por sus tácticas comerciales, que se han considerado anticompetitivas. Esta opinión ha sido confirmada por numerosas sentencias judiciales. En junio de 2006, Gates anunció que haría la transición a un puesto de medio tiempo en Microsoft y trabajaría a tiempo completo en la Fundación Bill y Melinda Gates, la fundación caritativa privada que él y su esposa, Melinda Gates, establecieron en 2000. [ 9] Poco a poco transfirió sus deberes a Ray Ozzie y Craig Mundie. Renunció como presidente de Microsoft en febrero de 2014 y asumió un nuevo cargo como asesor tecnológico para apoyar al recién nombrado CEO Satya Nadella.\"\"\",\n",
        "             \"\"\"La Mona Lisa es una pintura al óleo del siglo XVI creada por Leonardo. Se celebra en el Louvre de París.\"\"\"]"
      ],
      "metadata": {
        "id": "itmNdg0EYk4l"
      },
      "execution_count": 6,
      "outputs": []
    },
    {
      "cell_type": "code",
      "source": [
        "text_list"
      ],
      "metadata": {
        "colab": {
          "base_uri": "https://localhost:8080/"
        },
        "id": "GuQkwQM2Yk6x",
        "outputId": "25d2a06c-d77a-49d3-ba0a-8a10e1448d00"
      },
      "execution_count": 7,
      "outputs": [
        {
          "output_type": "execute_result",
          "data": {
            "text/plain": [
              "['William Henry Gates III (nacido el 28 de octubre de 1955) es un magnate de los negocios, desarrollador de software, inversor y filántropo estadounidense. Es mejor conocido como el cofundador de Microsoft Corporation. Durante su carrera en Microsoft, Gates ocupó los cargos de presidente, director ejecutivo (CEO), presidente y arquitecto de software en jefe, y también fue el mayor accionista individual hasta mayo de 2014. Es uno de los empresarios y pioneros más conocidos de revolución de la microcomputadora de los años setenta y ochenta. Nacido y criado en Seattle, Washington, Gates cofundó Microsoft con su amigo de la infancia Paul Allen en 1975, en Albuquerque, Nuevo México; se convirtió en la compañía de software de computadora personal más grande del mundo. Gates dirigió la compañía como presidente y CEO hasta que dejó el cargo de CEO en enero de 2000, pero siguió siendo presidente y se convirtió en el arquitecto jefe de software. A fines de la década de 1990, Gates había sido criticado por sus tácticas comerciales, que se han considerado anticompetitivas. Esta opinión ha sido confirmada por numerosas sentencias judiciales. En junio de 2006, Gates anunció que haría la transición a un puesto de medio tiempo en Microsoft y trabajaría a tiempo completo en la Fundación Bill y Melinda Gates, la fundación caritativa privada que él y su esposa, Melinda Gates, establecieron en 2000. [ 9] Poco a poco transfirió sus deberes a Ray Ozzie y Craig Mundie. Renunció como presidente de Microsoft en febrero de 2014 y asumió un nuevo cargo como asesor tecnológico para apoyar al recién nombrado CEO Satya Nadella.',\n",
              " 'La Mona Lisa es una pintura al óleo del siglo XVI creada por Leonardo. Se celebra en el Louvre de París.']"
            ]
          },
          "metadata": {},
          "execution_count": 7
        }
      ]
    },
    {
      "cell_type": "code",
      "source": [
        "text_list1 = ['''Una juez de garantías aplicó este domingo la medida cautelar de reporte los días lunes y jueves e imputó cargos por posesión de drogas a un español, un colombiano, un venezolano y a un panameño, quienes fueron aprehendidos con 28 ampolletas de fentanilo. Tras un operativo realizado por la Policía el viernes, se informó de la detención de estas personas con el fentanilo y cierta cantidad de marihuana en el corregimiento de Pueblo Nuevo. La juez de garantías, Jazmín Jaén, legalizó la aprehensión y acogió la imputación presentada por la fiscal de drogas, Delia Burgos, por posesión de fentanilo y marihuana.\n",
        "La detención de los sospechosos se produjo durante una operativo policial realizado en calle sexta Pueblo Nuevo, a raíz de una disputa entre pandillas que obligó a la intervención de la Policía. Durante una diligencia de allanamiento, realizada a una de las residencias, se ubicó un maletín con varias cajas de medicamentos, entre ellos 28 viales de fentanilo. Se informó que el las viales de fentanilo fueron enviadas al Instituto de Medicinal Legal y Ciencias Forenses para su análisis y determinar si corresponden a lote que fue sustraído de la Caja de Seguro Social (CSS) en diciembre pasado.Se informó que la fiscal Burgos apeló las medidas cautelares dispuestas por la juez de garantías, por lo que se fijó como fecha de la audiencia de apelación el próximo 2 de junio a las 8.30 a.m. ante el Tribunal Superior de Apelaciones.\n",
        "Se trata de uno de los primeros decomisos de esta droga realizado por las autoridades. El Ministerio Público sigue con las investigaciones tras la desaparición de cerca de 20 mil ampolletas de fentanilo, de los depósitos de la Caja de Seguro Social.''']"
      ],
      "metadata": {
        "id": "ChDNBCXbiydW"
      },
      "execution_count": 13,
      "outputs": []
    },
    {
      "cell_type": "markdown",
      "source": [
        "Creación del Pipeline de NLP con Spark"
      ],
      "metadata": {
        "id": "cKBZPL1Abq3D"
      }
    },
    {
      "cell_type": "code",
      "source": [
        "document_assembler = DocumentAssembler() \\\n",
        "    .setInputCol('text') \\\n",
        "    .setOutputCol('document')\n",
        "\n",
        "tokenizer = Tokenizer() \\\n",
        "    .setInputCols(['document']) \\\n",
        "    .setOutputCol('token')\n",
        "\n",
        "# The wikiner_840B_300 is trained with glove_840B_300, so the embeddings in the\n",
        "# pipeline should match\n",
        "if MODEL_NAME == \"wikiner_840B_300\":\n",
        "    embeddings = WordEmbeddingsModel.pretrained('glove_840B_300', lang='xx') \\\n",
        "        .setInputCols([\"document\", 'token']) \\\n",
        "        .setOutputCol(\"embeddings\")\n",
        "\n",
        "ner_model = NerDLModel.pretrained(MODEL_NAME, 'es') \\\n",
        "    .setInputCols(['document', 'token', 'embeddings']) \\\n",
        "    .setOutputCol('ner')\n",
        "\n",
        "ner_converter = NerConverter() \\\n",
        "    .setInputCols(['document', 'token', 'ner']) \\\n",
        "    .setOutputCol('ner_chunk')\n",
        "\n",
        "nlp_pipeline = Pipeline(\n",
        "    stages=[\n",
        "        document_assembler, \n",
        "        tokenizer,\n",
        "        embeddings,\n",
        "        ner_model,\n",
        "        ner_converter])"
      ],
      "metadata": {
        "colab": {
          "base_uri": "https://localhost:8080/"
        },
        "id": "SNim2n_TbpnE",
        "outputId": "c1ca1ef7-77ed-4b88-f2bc-f52cb49a61c2"
      },
      "execution_count": 8,
      "outputs": [
        {
          "output_type": "stream",
          "name": "stdout",
          "text": [
            "glove_840B_300 download started this may take some time.\n",
            "Approximate size to download 2.3 GB\n",
            "[OK!]\n",
            "wikiner_840B_300 download started this may take some time.\n",
            "Approximate size to download 14.2 MB\n",
            "[OK!]\n"
          ]
        }
      ]
    },
    {
      "cell_type": "markdown",
      "source": [
        "Ejecución del pipeline"
      ],
      "metadata": {
        "id": "NMfOz3kvcXr5"
      }
    },
    {
      "cell_type": "code",
      "source": [
        "df = spark.createDataFrame(text_list, StringType()).toDF(\"text\")\n"
      ],
      "metadata": {
        "id": "oWGPa2XjYk9c"
      },
      "execution_count": 9,
      "outputs": []
    },
    {
      "cell_type": "code",
      "source": [
        "df"
      ],
      "metadata": {
        "colab": {
          "base_uri": "https://localhost:8080/"
        },
        "id": "Xz-L3n6TciCa",
        "outputId": "8b552592-aab8-42c2-cb29-0cd531020213"
      },
      "execution_count": 10,
      "outputs": [
        {
          "output_type": "execute_result",
          "data": {
            "text/plain": [
              "DataFrame[text: string]"
            ]
          },
          "metadata": {},
          "execution_count": 10
        }
      ]
    },
    {
      "cell_type": "code",
      "source": [
        "result = nlp_pipeline.fit(df).transform(df)"
      ],
      "metadata": {
        "id": "p7pNL8M-YlAD"
      },
      "execution_count": 11,
      "outputs": []
    },
    {
      "cell_type": "markdown",
      "source": [
        "Visualizar resultados de las entidades principales (Key Entities)"
      ],
      "metadata": {
        "id": "JKzbGP5UcqLD"
      }
    },
    {
      "cell_type": "code",
      "source": [
        "from sparknlp_display import NerVisualizer\n",
        "\n",
        "NerVisualizer().display(\n",
        "    result = result.collect()[0],\n",
        "    label_col = 'ner_chunk',\n",
        "    document_col = 'document'\n",
        ")"
      ],
      "metadata": {
        "colab": {
          "base_uri": "https://localhost:8080/",
          "height": 656
        },
        "id": "LMAz7pW3YlDg",
        "outputId": "ff884f26-3af0-455c-d204-55ad58d35854"
      },
      "execution_count": 12,
      "outputs": [
        {
          "output_type": "display_data",
          "data": {
            "text/plain": [
              "<IPython.core.display.HTML object>"
            ],
            "text/html": [
              "\n",
              "<style>\n",
              "    @import url('https://fonts.googleapis.com/css2?family=Montserrat:wght@300;400;500;600;700&display=swap');\n",
              "    @import url('https://fonts.googleapis.com/css2?family=Vistol Regular:wght@300;400;500;600;700&display=swap');\n",
              "    \n",
              "    .spark-nlp-display-scroll-entities {\n",
              "        border: 1px solid #E7EDF0;\n",
              "        border-radius: 3px;\n",
              "        text-align: justify;\n",
              "        \n",
              "    }\n",
              "    .spark-nlp-display-scroll-entities span {  \n",
              "        font-size: 14px;\n",
              "        line-height: 24px;\n",
              "        color: #536B76;\n",
              "        font-family: 'Montserrat', sans-serif !important;\n",
              "    }\n",
              "    \n",
              "    .spark-nlp-display-entity-wrapper{\n",
              "    \n",
              "        display: inline-grid;\n",
              "        text-align: center;\n",
              "        border-radius: 4px;\n",
              "        margin: 0 2px 5px 2px;\n",
              "        padding: 1px\n",
              "    }\n",
              "    .spark-nlp-display-entity-name{\n",
              "        font-size: 14px;\n",
              "        line-height: 24px;\n",
              "        font-family: 'Montserrat', sans-serif !important;\n",
              "        \n",
              "        background: #f1f2f3;\n",
              "        border-width: medium;\n",
              "        text-align: center;\n",
              "        \n",
              "        font-weight: 400;\n",
              "        \n",
              "        border-radius: 5px;\n",
              "        padding: 2px 5px;\n",
              "        display: block;\n",
              "        margin: 3px 2px;\n",
              "    \n",
              "    }\n",
              "    .spark-nlp-display-entity-type{\n",
              "        font-size: 14px;\n",
              "        line-height: 24px;\n",
              "        color: #ffffff;\n",
              "        font-family: 'Montserrat', sans-serif !important;\n",
              "        \n",
              "        text-transform: uppercase;\n",
              "        \n",
              "        font-weight: 500;\n",
              "\n",
              "        display: block;\n",
              "        padding: 3px 5px;\n",
              "    }\n",
              "    \n",
              "    .spark-nlp-display-entity-resolution{\n",
              "        font-size: 14px;\n",
              "        line-height: 24px;\n",
              "        color: #ffffff;\n",
              "        font-family: 'Vistol Regular', sans-serif !important;\n",
              "        \n",
              "        text-transform: uppercase;\n",
              "        \n",
              "        font-weight: 500;\n",
              "\n",
              "        display: block;\n",
              "        padding: 3px 5px;\n",
              "    }\n",
              "    \n",
              "    .spark-nlp-display-others{\n",
              "        font-size: 14px;\n",
              "        line-height: 24px;\n",
              "        font-family: 'Montserrat', sans-serif !important;\n",
              "        \n",
              "        font-weight: 400;\n",
              "    }\n",
              "\n",
              "</style>\n",
              " <span class=\"spark-nlp-display-entity-wrapper\" style=\"background-color: #813E49\"><span class=\"spark-nlp-display-entity-name\">William Henry Gates III </span><span class=\"spark-nlp-display-entity-type\">PER</span></span><span class=\"spark-nlp-display-others\" style=\"background-color: white\"> (nacido el 28 de octubre de 1955) es un magnate de los negocios, desarrollador de software, inversor y filántropo estadounidense. Es mejor conocido como el cofundador de </span><span class=\"spark-nlp-display-entity-wrapper\" style=\"background-color: #98C548\"><span class=\"spark-nlp-display-entity-name\">Microsoft Corporation </span><span class=\"spark-nlp-display-entity-type\">ORG</span></span><span class=\"spark-nlp-display-others\" style=\"background-color: white\">. </span><span class=\"spark-nlp-display-entity-wrapper\" style=\"background-color: #34235E\"><span class=\"spark-nlp-display-entity-name\">Durante su carrera </span><span class=\"spark-nlp-display-entity-type\">MISC</span></span><span class=\"spark-nlp-display-others\" style=\"background-color: white\"> en </span><span class=\"spark-nlp-display-entity-wrapper\" style=\"background-color: #98C548\"><span class=\"spark-nlp-display-entity-name\">Microsoft </span><span class=\"spark-nlp-display-entity-type\">ORG</span></span><span class=\"spark-nlp-display-others\" style=\"background-color: white\">, </span><span class=\"spark-nlp-display-entity-wrapper\" style=\"background-color: #813E49\"><span class=\"spark-nlp-display-entity-name\">Gates </span><span class=\"spark-nlp-display-entity-type\">PER</span></span><span class=\"spark-nlp-display-others\" style=\"background-color: white\"> ocupó los cargos de presidente, director ejecutivo (CEO), presidente y arquitecto de software en jefe, y también fue el mayor accionista individual hasta mayo de 2014. Es uno de los empresarios y pioneros más conocidos de revolución de la microcomputadora de los años setenta y ochenta. </span><span class=\"spark-nlp-display-entity-wrapper\" style=\"background-color: #34235E\"><span class=\"spark-nlp-display-entity-name\">Nacido </span><span class=\"spark-nlp-display-entity-type\">MISC</span></span><span class=\"spark-nlp-display-others\" style=\"background-color: white\"> y criado en </span><span class=\"spark-nlp-display-entity-wrapper\" style=\"background-color: #7B6E04\"><span class=\"spark-nlp-display-entity-name\">Seattle </span><span class=\"spark-nlp-display-entity-type\">LOC</span></span><span class=\"spark-nlp-display-others\" style=\"background-color: white\">, </span><span class=\"spark-nlp-display-entity-wrapper\" style=\"background-color: #7B6E04\"><span class=\"spark-nlp-display-entity-name\">Washington </span><span class=\"spark-nlp-display-entity-type\">LOC</span></span><span class=\"spark-nlp-display-others\" style=\"background-color: white\">, </span><span class=\"spark-nlp-display-entity-wrapper\" style=\"background-color: #813E49\"><span class=\"spark-nlp-display-entity-name\">Gates </span><span class=\"spark-nlp-display-entity-type\">PER</span></span><span class=\"spark-nlp-display-others\" style=\"background-color: white\"> cofundó </span><span class=\"spark-nlp-display-entity-wrapper\" style=\"background-color: #98C548\"><span class=\"spark-nlp-display-entity-name\">Microsoft </span><span class=\"spark-nlp-display-entity-type\">ORG</span></span><span class=\"spark-nlp-display-others\" style=\"background-color: white\"> con su amigo de la infancia </span><span class=\"spark-nlp-display-entity-wrapper\" style=\"background-color: #813E49\"><span class=\"spark-nlp-display-entity-name\">Paul Allen </span><span class=\"spark-nlp-display-entity-type\">PER</span></span><span class=\"spark-nlp-display-others\" style=\"background-color: white\"> en 1975, en </span><span class=\"spark-nlp-display-entity-wrapper\" style=\"background-color: #7B6E04\"><span class=\"spark-nlp-display-entity-name\">Albuquerque </span><span class=\"spark-nlp-display-entity-type\">LOC</span></span><span class=\"spark-nlp-display-others\" style=\"background-color: white\">, </span><span class=\"spark-nlp-display-entity-wrapper\" style=\"background-color: #7B6E04\"><span class=\"spark-nlp-display-entity-name\">Nuevo México </span><span class=\"spark-nlp-display-entity-type\">LOC</span></span><span class=\"spark-nlp-display-others\" style=\"background-color: white\">; se convirtió en la compañía de software de computadora personal más grande del mundo. </span><span class=\"spark-nlp-display-entity-wrapper\" style=\"background-color: #813E49\"><span class=\"spark-nlp-display-entity-name\">Gates </span><span class=\"spark-nlp-display-entity-type\">PER</span></span><span class=\"spark-nlp-display-others\" style=\"background-color: white\"> dirigió la compañía como presidente y CEO hasta que dejó el cargo de </span><span class=\"spark-nlp-display-entity-wrapper\" style=\"background-color: #98C548\"><span class=\"spark-nlp-display-entity-name\">CEO </span><span class=\"spark-nlp-display-entity-type\">ORG</span></span><span class=\"spark-nlp-display-others\" style=\"background-color: white\"> en enero de 2000, pero siguió siendo presidente y se convirtió en el arquitecto jefe de software. </span><span class=\"spark-nlp-display-entity-wrapper\" style=\"background-color: #34235E\"><span class=\"spark-nlp-display-entity-name\">A fines de la década de 1990 </span><span class=\"spark-nlp-display-entity-type\">MISC</span></span><span class=\"spark-nlp-display-others\" style=\"background-color: white\">, </span><span class=\"spark-nlp-display-entity-wrapper\" style=\"background-color: #813E49\"><span class=\"spark-nlp-display-entity-name\">Gates </span><span class=\"spark-nlp-display-entity-type\">PER</span></span><span class=\"spark-nlp-display-others\" style=\"background-color: white\"> había sido criticado por sus tácticas comerciales, que se han considerado anticompetitivas. </span><span class=\"spark-nlp-display-entity-wrapper\" style=\"background-color: #34235E\"><span class=\"spark-nlp-display-entity-name\">Esta opinión ha sido confirmada por numerosas sentencias judiciales </span><span class=\"spark-nlp-display-entity-type\">MISC</span></span><span class=\"spark-nlp-display-others\" style=\"background-color: white\">. En junio de 2006, </span><span class=\"spark-nlp-display-entity-wrapper\" style=\"background-color: #813E49\"><span class=\"spark-nlp-display-entity-name\">Gates </span><span class=\"spark-nlp-display-entity-type\">PER</span></span><span class=\"spark-nlp-display-others\" style=\"background-color: white\"> anunció que haría la transición a un puesto de medio tiempo en </span><span class=\"spark-nlp-display-entity-wrapper\" style=\"background-color: #98C548\"><span class=\"spark-nlp-display-entity-name\">Microsoft </span><span class=\"spark-nlp-display-entity-type\">ORG</span></span><span class=\"spark-nlp-display-others\" style=\"background-color: white\"> y trabajaría a tiempo completo en la </span><span class=\"spark-nlp-display-entity-wrapper\" style=\"background-color: #34235E\"><span class=\"spark-nlp-display-entity-name\">Fundación Bill y Melinda Gates </span><span class=\"spark-nlp-display-entity-type\">MISC</span></span><span class=\"spark-nlp-display-others\" style=\"background-color: white\">, la fundación caritativa privada que él y su esposa, </span><span class=\"spark-nlp-display-entity-wrapper\" style=\"background-color: #813E49\"><span class=\"spark-nlp-display-entity-name\">Melinda Gates </span><span class=\"spark-nlp-display-entity-type\">PER</span></span><span class=\"spark-nlp-display-others\" style=\"background-color: white\">, establecieron en 2000. [ 9] </span><span class=\"spark-nlp-display-entity-wrapper\" style=\"background-color: #34235E\"><span class=\"spark-nlp-display-entity-name\">Poco a poco transfirió </span><span class=\"spark-nlp-display-entity-type\">MISC</span></span><span class=\"spark-nlp-display-others\" style=\"background-color: white\"> sus deberes a </span><span class=\"spark-nlp-display-entity-wrapper\" style=\"background-color: #813E49\"><span class=\"spark-nlp-display-entity-name\">Ray Ozzie </span><span class=\"spark-nlp-display-entity-type\">PER</span></span><span class=\"spark-nlp-display-others\" style=\"background-color: white\"> y </span><span class=\"spark-nlp-display-entity-wrapper\" style=\"background-color: #813E49\"><span class=\"spark-nlp-display-entity-name\">Craig Mundie </span><span class=\"spark-nlp-display-entity-type\">PER</span></span><span class=\"spark-nlp-display-others\" style=\"background-color: white\">. Renunció como presidente de </span><span class=\"spark-nlp-display-entity-wrapper\" style=\"background-color: #98C548\"><span class=\"spark-nlp-display-entity-name\">Microsoft </span><span class=\"spark-nlp-display-entity-type\">ORG</span></span><span class=\"spark-nlp-display-others\" style=\"background-color: white\"> en febrero de 2014 y asumió un nuevo cargo como asesor tecnológico para apoyar al recién nombrado </span><span class=\"spark-nlp-display-entity-wrapper\" style=\"background-color: #813E49\"><span class=\"spark-nlp-display-entity-name\">CEO Satya Nadella </span><span class=\"spark-nlp-display-entity-type\">PER</span></span><span class=\"spark-nlp-display-others\" style=\"background-color: white\">.</span></div>"
            ]
          },
          "metadata": {}
        }
      ]
    },
    {
      "cell_type": "code",
      "source": [
        "df1 = spark.createDataFrame(text_list1, StringType()).toDF(\"text\")"
      ],
      "metadata": {
        "id": "uZYjOT3JYlFd"
      },
      "execution_count": 14,
      "outputs": []
    },
    {
      "cell_type": "code",
      "source": [
        "result1 = nlp_pipeline.fit(df1).transform(df1)"
      ],
      "metadata": {
        "id": "QVscTXyUYlIV"
      },
      "execution_count": 16,
      "outputs": []
    },
    {
      "cell_type": "code",
      "source": [
        "NerVisualizer().display(\n",
        "    result = result1.collect()[0],\n",
        "    label_col = 'ner_chunk',\n",
        "    document_col = 'document'\n",
        ")"
      ],
      "metadata": {
        "colab": {
          "base_uri": "https://localhost:8080/",
          "height": 657
        },
        "id": "8WfLds7VYlLn",
        "outputId": "dbe5097c-d174-4695-a519-5bc9acb7e2de"
      },
      "execution_count": 18,
      "outputs": [
        {
          "output_type": "display_data",
          "data": {
            "text/plain": [
              "<IPython.core.display.HTML object>"
            ],
            "text/html": [
              "\n",
              "<style>\n",
              "    @import url('https://fonts.googleapis.com/css2?family=Montserrat:wght@300;400;500;600;700&display=swap');\n",
              "    @import url('https://fonts.googleapis.com/css2?family=Vistol Regular:wght@300;400;500;600;700&display=swap');\n",
              "    \n",
              "    .spark-nlp-display-scroll-entities {\n",
              "        border: 1px solid #E7EDF0;\n",
              "        border-radius: 3px;\n",
              "        text-align: justify;\n",
              "        \n",
              "    }\n",
              "    .spark-nlp-display-scroll-entities span {  \n",
              "        font-size: 14px;\n",
              "        line-height: 24px;\n",
              "        color: #536B76;\n",
              "        font-family: 'Montserrat', sans-serif !important;\n",
              "    }\n",
              "    \n",
              "    .spark-nlp-display-entity-wrapper{\n",
              "    \n",
              "        display: inline-grid;\n",
              "        text-align: center;\n",
              "        border-radius: 4px;\n",
              "        margin: 0 2px 5px 2px;\n",
              "        padding: 1px\n",
              "    }\n",
              "    .spark-nlp-display-entity-name{\n",
              "        font-size: 14px;\n",
              "        line-height: 24px;\n",
              "        font-family: 'Montserrat', sans-serif !important;\n",
              "        \n",
              "        background: #f1f2f3;\n",
              "        border-width: medium;\n",
              "        text-align: center;\n",
              "        \n",
              "        font-weight: 400;\n",
              "        \n",
              "        border-radius: 5px;\n",
              "        padding: 2px 5px;\n",
              "        display: block;\n",
              "        margin: 3px 2px;\n",
              "    \n",
              "    }\n",
              "    .spark-nlp-display-entity-type{\n",
              "        font-size: 14px;\n",
              "        line-height: 24px;\n",
              "        color: #ffffff;\n",
              "        font-family: 'Montserrat', sans-serif !important;\n",
              "        \n",
              "        text-transform: uppercase;\n",
              "        \n",
              "        font-weight: 500;\n",
              "\n",
              "        display: block;\n",
              "        padding: 3px 5px;\n",
              "    }\n",
              "    \n",
              "    .spark-nlp-display-entity-resolution{\n",
              "        font-size: 14px;\n",
              "        line-height: 24px;\n",
              "        color: #ffffff;\n",
              "        font-family: 'Vistol Regular', sans-serif !important;\n",
              "        \n",
              "        text-transform: uppercase;\n",
              "        \n",
              "        font-weight: 500;\n",
              "\n",
              "        display: block;\n",
              "        padding: 3px 5px;\n",
              "    }\n",
              "    \n",
              "    .spark-nlp-display-others{\n",
              "        font-size: 14px;\n",
              "        line-height: 24px;\n",
              "        font-family: 'Montserrat', sans-serif !important;\n",
              "        \n",
              "        font-weight: 400;\n",
              "    }\n",
              "\n",
              "</style>\n",
              " <span class=\"spark-nlp-display-others\" style=\"background-color: white\">Una juez de garantías aplicó este domingo la medida cautelar de reporte los días lunes y jueves e imputó cargos por posesión de drogas a un español, un colombiano, un venezolano y a un panameño, quienes fueron aprehendidos con 28 ampolletas de fentanilo. </span><span class=\"spark-nlp-display-entity-wrapper\" style=\"background-color: #C2244A\"><span class=\"spark-nlp-display-entity-name\">Tras un operativo realizado por la Policía </span><span class=\"spark-nlp-display-entity-type\">MISC</span></span><span class=\"spark-nlp-display-others\" style=\"background-color: white\"> el viernes, se informó de la detención de estas personas con el fentanilo y cierta cantidad de marihuana en el corregimiento de </span><span class=\"spark-nlp-display-entity-wrapper\" style=\"background-color: #46B4A5\"><span class=\"spark-nlp-display-entity-name\">Pueblo Nuevo </span><span class=\"spark-nlp-display-entity-type\">LOC</span></span><span class=\"spark-nlp-display-others\" style=\"background-color: white\">. </span><span class=\"spark-nlp-display-entity-wrapper\" style=\"background-color: #C2244A\"><span class=\"spark-nlp-display-entity-name\">La juez de garantías </span><span class=\"spark-nlp-display-entity-type\">MISC</span></span><span class=\"spark-nlp-display-others\" style=\"background-color: white\">, </span><span class=\"spark-nlp-display-entity-wrapper\" style=\"background-color: #5C6D2C\"><span class=\"spark-nlp-display-entity-name\">Jazmín Jaén </span><span class=\"spark-nlp-display-entity-type\">PER</span></span><span class=\"spark-nlp-display-others\" style=\"background-color: white\">, legalizó la aprehensión y acogió la imputación presentada por la fiscal de drogas, </span><span class=\"spark-nlp-display-entity-wrapper\" style=\"background-color: #5C6D2C\"><span class=\"spark-nlp-display-entity-name\">Delia Burgos </span><span class=\"spark-nlp-display-entity-type\">PER</span></span><span class=\"spark-nlp-display-others\" style=\"background-color: white\">, por posesión de fentanilo y marihuana.<br></span><span class=\"spark-nlp-display-entity-wrapper\" style=\"background-color: #C2244A\"><span class=\"spark-nlp-display-entity-name\">La detención de los sospechosos </span><span class=\"spark-nlp-display-entity-type\">MISC</span></span><span class=\"spark-nlp-display-others\" style=\"background-color: white\"> se produjo durante una operativo policial realizado en calle sexta </span><span class=\"spark-nlp-display-entity-wrapper\" style=\"background-color: #C2244A\"><span class=\"spark-nlp-display-entity-name\">Pueblo Nuevo </span><span class=\"spark-nlp-display-entity-type\">MISC</span></span><span class=\"spark-nlp-display-others\" style=\"background-color: white\">, a raíz de una disputa entre pandillas que obligó a la intervención de la </span><span class=\"spark-nlp-display-entity-wrapper\" style=\"background-color: #415DAF\"><span class=\"spark-nlp-display-entity-name\">Policía </span><span class=\"spark-nlp-display-entity-type\">ORG</span></span><span class=\"spark-nlp-display-others\" style=\"background-color: white\">. Durante una diligencia de allanamiento, realizada a una de las residencias, se ubicó un maletín con varias cajas de medicamentos, entre ellos 28 viales de fentanilo. Se informó que el las viales de fentanilo fueron enviadas al </span><span class=\"spark-nlp-display-entity-wrapper\" style=\"background-color: #415DAF\"><span class=\"spark-nlp-display-entity-name\">Instituto de Medicinal Legal y Ciencias Forenses </span><span class=\"spark-nlp-display-entity-type\">ORG</span></span><span class=\"spark-nlp-display-others\" style=\"background-color: white\"> para su análisis y determinar si corresponden a lote que fue sustraído de la </span><span class=\"spark-nlp-display-entity-wrapper\" style=\"background-color: #415DAF\"><span class=\"spark-nlp-display-entity-name\">Caja de Seguro Social </span><span class=\"spark-nlp-display-entity-type\">ORG</span></span><span class=\"spark-nlp-display-others\" style=\"background-color: white\"> (</span><span class=\"spark-nlp-display-entity-wrapper\" style=\"background-color: #C2244A\"><span class=\"spark-nlp-display-entity-name\">CSS </span><span class=\"spark-nlp-display-entity-type\">MISC</span></span><span class=\"spark-nlp-display-others\" style=\"background-color: white\">) en diciembre pasado.Se informó que la fiscal </span><span class=\"spark-nlp-display-entity-wrapper\" style=\"background-color: #46B4A5\"><span class=\"spark-nlp-display-entity-name\">Burgos </span><span class=\"spark-nlp-display-entity-type\">LOC</span></span><span class=\"spark-nlp-display-others\" style=\"background-color: white\"> apeló las medidas cautelares dispuestas por la juez de garantías, por lo que se fijó como fecha de la audiencia de apelación el próximo 2 de junio a las 8.30 a.m. ante el </span><span class=\"spark-nlp-display-entity-wrapper\" style=\"background-color: #C2244A\"><span class=\"spark-nlp-display-entity-name\">Tribunal Superior de Apelaciones </span><span class=\"spark-nlp-display-entity-type\">MISC</span></span><span class=\"spark-nlp-display-others\" style=\"background-color: white\">.<br>Se trata de uno de los primeros decomisos de esta droga realizado por las autoridades. </span><span class=\"spark-nlp-display-entity-wrapper\" style=\"background-color: #415DAF\"><span class=\"spark-nlp-display-entity-name\">El Ministerio Público </span><span class=\"spark-nlp-display-entity-type\">ORG</span></span><span class=\"spark-nlp-display-others\" style=\"background-color: white\"> sigue con las investigaciones tras la desaparición de cerca de 20 mil ampolletas de fentanilo, de los depósitos de la </span><span class=\"spark-nlp-display-entity-wrapper\" style=\"background-color: #415DAF\"><span class=\"spark-nlp-display-entity-name\">Caja de Seguro Social </span><span class=\"spark-nlp-display-entity-type\">ORG</span></span><span class=\"spark-nlp-display-others\" style=\"background-color: white\">.</span></div>"
            ]
          },
          "metadata": {}
        }
      ]
    },
    {
      "cell_type": "code",
      "source": [],
      "metadata": {
        "id": "LrvC_CRfYlOH"
      },
      "execution_count": null,
      "outputs": []
    }
  ]
}