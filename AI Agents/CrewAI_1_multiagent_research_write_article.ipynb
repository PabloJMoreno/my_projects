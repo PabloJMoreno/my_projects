{
 "cells": [
  {
   "cell_type": "markdown",
   "metadata": {},
   "source": [
    "You can download the `requirements.txt` for this course from the workspace of this lab. `File --> Open...`"
   ]
  },
  {
   "cell_type": "markdown",
   "metadata": {},
   "source": [
    "# L2: Create Agents to Research and Write an Article\n",
    "\n",
    "In this lesson, you will be introduced to the foundational concepts of multi-agent systems and get an overview of the crewAI framework."
   ]
  },
  {
   "cell_type": "markdown",
   "metadata": {},
   "source": [
    "The libraries are already installed in the classroom. If you're running this notebook on your own machine, you can install the following:\n",
    "```Python\n",
    "!pip install crewai==0.28.8 crewai_tools==0.1.6 langchain_community==0.0.29\n",
    "```"
   ]
  },
  {
   "cell_type": "code",
   "execution_count": 1,
   "metadata": {
    "height": 64
   },
   "outputs": [],
   "source": [
    "# Warning control\n",
    "import warnings\n",
    "warnings.filterwarnings('ignore')"
   ]
  },
  {
   "cell_type": "markdown",
   "metadata": {},
   "source": [
    "- Import from the crewAI libray."
   ]
  },
  {
   "cell_type": "code",
   "execution_count": 2,
   "metadata": {
    "height": 30
   },
   "outputs": [],
   "source": [
    "from crewai import Agent, Task, Crew"
   ]
  },
  {
   "cell_type": "markdown",
   "metadata": {},
   "source": [
    "- As a LLM for your agents, you'll be using OpenAI's `gpt-3.5-turbo`.\n",
    "\n",
    "**Optional Note:** crewAI also allow other popular models to be used as a LLM for your Agents. You can see some of the examples at the [bottom of the notebook](#1)."
   ]
  },
  {
   "cell_type": "code",
   "execution_count": 3,
   "metadata": {
    "height": 98
   },
   "outputs": [],
   "source": [
    "import os\n",
    "from utils import get_openai_api_key\n",
    "\n",
    "openai_api_key = get_openai_api_key()\n",
    "os.environ[\"OPENAI_MODEL_NAME\"] = 'gpt-3.5-turbo'"
   ]
  },
  {
   "cell_type": "markdown",
   "metadata": {},
   "source": [
    "## Creating Agents\n",
    "\n",
    "- Define your Agents, and provide them a `role`, `goal` and `backstory`.\n",
    "- It has been seen that LLMs perform better when they are role playing."
   ]
  },
  {
   "cell_type": "markdown",
   "metadata": {},
   "source": [
    "### Agent: Planner\n",
    "\n",
    "**Note**: The benefit of using _multiple strings_ :\n",
    "```Python\n",
    "varname = \"line 1 of text\"\n",
    "          \"line 2 of text\"\n",
    "```\n",
    "\n",
    "versus the _triple quote docstring_:\n",
    "```Python\n",
    "varname = \"\"\"line 1 of text\n",
    "             line 2 of text\n",
    "          \"\"\"\n",
    "```\n",
    "is that it can avoid adding those whitespaces and newline characters, making it better formatted to be passed to the LLM."
   ]
  },
  {
   "cell_type": "code",
   "execution_count": 4,
   "metadata": {
    "height": 249
   },
   "outputs": [],
   "source": [
    "planner = Agent(\n",
    "    role=\"Content Planner\",\n",
    "    goal=\"Plan engaging and factually accurate content on {topic}\",\n",
    "    backstory=\"You're working on planning a blog article \"\n",
    "              \"about the topic: {topic}.\"\n",
    "              \"You collect information that helps the \"\n",
    "              \"audience learn something \"\n",
    "              \"and make informed decisions. \"\n",
    "              \"Your work is the basis for \"\n",
    "              \"the Content Writer to write an article on this topic.\",\n",
    "    allow_delegation=False,\n",
    "\tverbose=True\n",
    ")"
   ]
  },
  {
   "cell_type": "markdown",
   "metadata": {},
   "source": [
    "### Agent: Writer"
   ]
  },
  {
   "cell_type": "code",
   "execution_count": 5,
   "metadata": {
    "height": 385
   },
   "outputs": [],
   "source": [
    "writer = Agent(\n",
    "    role=\"Content Writer\",\n",
    "    goal=\"Write insightful and factually accurate \"\n",
    "         \"opinion piece about the topic: {topic}\",\n",
    "    backstory=\"You're working on a writing \"\n",
    "              \"a new opinion piece about the topic: {topic}. \"\n",
    "              \"You base your writing on the work of \"\n",
    "              \"the Content Planner, who provides an outline \"\n",
    "              \"and relevant context about the topic. \"\n",
    "              \"You follow the main objectives and \"\n",
    "              \"direction of the outline, \"\n",
    "              \"as provide by the Content Planner. \"\n",
    "              \"You also provide objective and impartial insights \"\n",
    "              \"and back them up with information \"\n",
    "              \"provide by the Content Planner. \"\n",
    "              \"You acknowledge in your opinion piece \"\n",
    "              \"when your statements are opinions \"\n",
    "              \"as opposed to objective statements.\",\n",
    "    allow_delegation=False,\n",
    "    verbose=True\n",
    ")"
   ]
  },
  {
   "cell_type": "markdown",
   "metadata": {},
   "source": [
    "### Agent: Editor"
   ]
  },
  {
   "cell_type": "code",
   "execution_count": 6,
   "metadata": {
    "height": 283
   },
   "outputs": [],
   "source": [
    "editor = Agent(\n",
    "    role=\"Editor\",\n",
    "    goal=\"Edit a given blog post to align with \"\n",
    "         \"the writing style of the organization. \",\n",
    "    backstory=\"You are an editor who receives a blog post \"\n",
    "              \"from the Content Writer. \"\n",
    "              \"Your goal is to review the blog post \"\n",
    "              \"to ensure that it follows journalistic best practices,\"\n",
    "              \"provides balanced viewpoints \"\n",
    "              \"when providing opinions or assertions, \"\n",
    "              \"and also avoids major controversial topics \"\n",
    "              \"or opinions when possible.\",\n",
    "    allow_delegation=False,\n",
    "    verbose=True\n",
    ")"
   ]
  },
  {
   "cell_type": "markdown",
   "metadata": {},
   "source": [
    "## Creating Tasks\n",
    "\n",
    "- Define your Tasks, and provide them a `description`, `expected_output` and `agent`."
   ]
  },
  {
   "cell_type": "markdown",
   "metadata": {},
   "source": [
    "### Task: Plan"
   ]
  },
  {
   "cell_type": "code",
   "execution_count": 7,
   "metadata": {
    "height": 283
   },
   "outputs": [],
   "source": [
    "plan = Task(\n",
    "    description=(\n",
    "        \"1. Prioritize the latest trends, key players, \"\n",
    "            \"and noteworthy news on {topic}.\\n\"\n",
    "        \"2. Identify the target audience, considering \"\n",
    "            \"their interests and pain points.\\n\"\n",
    "        \"3. Develop a detailed content outline including \"\n",
    "            \"an introduction, key points, and a call to action.\\n\"\n",
    "        \"4. Include SEO keywords and relevant data or sources.\"\n",
    "    ),\n",
    "    expected_output=\"A comprehensive content plan document \"\n",
    "        \"with an outline, audience analysis, \"\n",
    "        \"SEO keywords, and resources.\",\n",
    "    agent=planner,\n",
    ")"
   ]
  },
  {
   "cell_type": "markdown",
   "metadata": {},
   "source": [
    "### Task: Write"
   ]
  },
  {
   "cell_type": "code",
   "execution_count": 8,
   "metadata": {
    "height": 319
   },
   "outputs": [],
   "source": [
    "write = Task(\n",
    "    description=(\n",
    "        \"1. Use the content plan to craft a compelling \"\n",
    "            \"blog post on {topic}.\\n\"\n",
    "        \"2. Incorporate SEO keywords naturally.\\n\"\n",
    "\t\t\"3. Sections/Subtitles are properly named \"\n",
    "            \"in an engaging manner.\\n\"\n",
    "        \"4. Ensure the post is structured with an \"\n",
    "            \"engaging introduction, insightful body, \"\n",
    "            \"and a summarizing conclusion.\\n\"\n",
    "        \"5. Proofread for grammatical errors and \"\n",
    "            \"alignment with the brand's voice.\\n\"\n",
    "    ),\n",
    "    expected_output=\"A well-written blog post \"\n",
    "        \"in markdown format, ready for publication, \"\n",
    "        \"each section should have 2 or 3 paragraphs.\",\n",
    "    agent=writer,\n",
    ")"
   ]
  },
  {
   "cell_type": "markdown",
   "metadata": {},
   "source": [
    "### Task: Edit"
   ]
  },
  {
   "cell_type": "code",
   "execution_count": 9,
   "metadata": {
    "height": 181
   },
   "outputs": [],
   "source": [
    "edit = Task(\n",
    "    description=(\"Proofread the given blog post for \"\n",
    "                 \"grammatical errors and \"\n",
    "                 \"alignment with the brand's voice.\"),\n",
    "    expected_output=\"A well-written blog post in markdown format, \"\n",
    "                    \"ready for publication, \"\n",
    "                    \"each section should have 2 or 3 paragraphs.\",\n",
    "    agent=editor\n",
    ")"
   ]
  },
  {
   "cell_type": "markdown",
   "metadata": {},
   "source": [
    "## Creating the Crew\n",
    "\n",
    "- Create your crew of Agents\n",
    "- Pass the tasks to be performed by those agents.\n",
    "    - **Note**: *For this simple example*, the tasks will be performed sequentially (i.e they are dependent on each other), so the _order_ of the task in the list _matters_.\n",
    "- `verbose=2` allows you to see all the logs of the execution. "
   ]
  },
  {
   "cell_type": "code",
   "execution_count": 10,
   "metadata": {
    "height": 98
   },
   "outputs": [],
   "source": [
    "crew = Crew(\n",
    "    agents=[planner, writer, editor],\n",
    "    tasks=[plan, write, edit],\n",
    "    verbose=2\n",
    ")"
   ]
  },
  {
   "cell_type": "markdown",
   "metadata": {},
   "source": [
    "## Running the Crew"
   ]
  },
  {
   "cell_type": "markdown",
   "metadata": {},
   "source": [
    "**Note**: LLMs can provide different outputs for they same input, so what you get might be different than what you see in the video."
   ]
  },
  {
   "cell_type": "code",
   "execution_count": 11,
   "metadata": {
    "height": 45
   },
   "outputs": [
    {
     "name": "stdout",
     "output_type": "stream",
     "text": [
      "\u001b[1m\u001b[95m [DEBUG]: == Working Agent: Content Planner\u001b[00m\n",
      "\u001b[1m\u001b[95m [INFO]: == Starting Task: 1. Prioritize the latest trends, key players, and noteworthy news on Artificial Intelligence.\n",
      "2. Identify the target audience, considering their interests and pain points.\n",
      "3. Develop a detailed content outline including an introduction, key points, and a call to action.\n",
      "4. Include SEO keywords and relevant data or sources.\u001b[00m\n",
      "\n",
      "\n",
      "\u001b[1m> Entering new CrewAgentExecutor chain...\u001b[0m\n",
      "\u001b[32;1m\u001b[1;3mI now can give a great answer\n",
      "\n",
      "Final Answer: \n",
      "\n",
      "Content Plan Document\n",
      "\n",
      "Title: The Evolution of Artificial Intelligence: Trends, Players, and News\n",
      "\n",
      "Introduction:\n",
      "- Brief overview of the history of artificial intelligence\n",
      "- Importance of staying updated on the latest trends and news in AI\n",
      "\n",
      "Key Points:\n",
      "1. Latest Trends in Artificial Intelligence:\n",
      "- Machine Learning and Deep Learning advancements\n",
      "- Natural Language Processing developments\n",
      "- Automation and robotics integration\n",
      "- AI ethics and regulations\n",
      "\n",
      "2. Key Players in the AI Industry:\n",
      "- Google (Google Brain, DeepMind)\n",
      "- Amazon (Alexa, AWS AI)\n",
      "- Microsoft (Cortana, Azure AI)\n",
      "- IBM (Watson)\n",
      "- OpenAI\n",
      "\n",
      "3. Noteworthy News in Artificial Intelligence:\n",
      "- Recent breakthroughs in AI research\n",
      "- Impact of AI on different industries\n",
      "- Ethical concerns and debates in the AI community\n",
      "\n",
      "Audience Analysis:\n",
      "- Target Audience: Tech enthusiasts, professionals in AI-related fields, business owners looking to implement AI technologies\n",
      "- Interests: Latest advancements in technology, practical applications of AI, ethical considerations in AI development\n",
      "- Pain Points: Keeping up with rapidly changing AI landscape, understanding complex AI concepts, choosing the right AI solutions for their needs\n",
      "\n",
      "Content Outline:\n",
      "1. Introduction to Artificial Intelligence\n",
      "2. Latest Trends in AI\n",
      "3. Key Players in the AI Industry\n",
      "4. Noteworthy News in AI\n",
      "5. Ethical Considerations in AI Development\n",
      "6. Practical Applications of AI\n",
      "7. Call to Action: Stay informed and continue learning about AI advancements\n",
      "\n",
      "SEO Keywords:\n",
      "- Artificial Intelligence trends\n",
      "- Key players in AI\n",
      "- Latest news in artificial intelligence\n",
      "- AI advancements\n",
      "- Ethical AI development\n",
      "\n",
      "Resources:\n",
      "- MIT Technology Review\n",
      "- Forbes AI articles\n",
      "- AI conferences and events\n",
      "- Industry reports on AI advancements\n",
      "\n",
      "By following this comprehensive content plan, the blog article on Artificial Intelligence will provide valuable information to the target audience while incorporating SEO keywords and relevant resources to enhance the overall quality and engagement of the content.\u001b[0m\n",
      "\n",
      "\u001b[1m> Finished chain.\u001b[0m\n",
      "\u001b[1m\u001b[92m [DEBUG]: == [Content Planner] Task output: Content Plan Document\n",
      "\n",
      "Title: The Evolution of Artificial Intelligence: Trends, Players, and News\n",
      "\n",
      "Introduction:\n",
      "- Brief overview of the history of artificial intelligence\n",
      "- Importance of staying updated on the latest trends and news in AI\n",
      "\n",
      "Key Points:\n",
      "1. Latest Trends in Artificial Intelligence:\n",
      "- Machine Learning and Deep Learning advancements\n",
      "- Natural Language Processing developments\n",
      "- Automation and robotics integration\n",
      "- AI ethics and regulations\n",
      "\n",
      "2. Key Players in the AI Industry:\n",
      "- Google (Google Brain, DeepMind)\n",
      "- Amazon (Alexa, AWS AI)\n",
      "- Microsoft (Cortana, Azure AI)\n",
      "- IBM (Watson)\n",
      "- OpenAI\n",
      "\n",
      "3. Noteworthy News in Artificial Intelligence:\n",
      "- Recent breakthroughs in AI research\n",
      "- Impact of AI on different industries\n",
      "- Ethical concerns and debates in the AI community\n",
      "\n",
      "Audience Analysis:\n",
      "- Target Audience: Tech enthusiasts, professionals in AI-related fields, business owners looking to implement AI technologies\n",
      "- Interests: Latest advancements in technology, practical applications of AI, ethical considerations in AI development\n",
      "- Pain Points: Keeping up with rapidly changing AI landscape, understanding complex AI concepts, choosing the right AI solutions for their needs\n",
      "\n",
      "Content Outline:\n",
      "1. Introduction to Artificial Intelligence\n",
      "2. Latest Trends in AI\n",
      "3. Key Players in the AI Industry\n",
      "4. Noteworthy News in AI\n",
      "5. Ethical Considerations in AI Development\n",
      "6. Practical Applications of AI\n",
      "7. Call to Action: Stay informed and continue learning about AI advancements\n",
      "\n",
      "SEO Keywords:\n",
      "- Artificial Intelligence trends\n",
      "- Key players in AI\n",
      "- Latest news in artificial intelligence\n",
      "- AI advancements\n",
      "- Ethical AI development\n",
      "\n",
      "Resources:\n",
      "- MIT Technology Review\n",
      "- Forbes AI articles\n",
      "- AI conferences and events\n",
      "- Industry reports on AI advancements\n",
      "\n",
      "By following this comprehensive content plan, the blog article on Artificial Intelligence will provide valuable information to the target audience while incorporating SEO keywords and relevant resources to enhance the overall quality and engagement of the content.\n",
      "\n",
      "\u001b[00m\n",
      "\u001b[1m\u001b[95m [DEBUG]: == Working Agent: Content Writer\u001b[00m\n",
      "\u001b[1m\u001b[95m [INFO]: == Starting Task: 1. Use the content plan to craft a compelling blog post on Artificial Intelligence.\n",
      "2. Incorporate SEO keywords naturally.\n",
      "3. Sections/Subtitles are properly named in an engaging manner.\n",
      "4. Ensure the post is structured with an engaging introduction, insightful body, and a summarizing conclusion.\n",
      "5. Proofread for grammatical errors and alignment with the brand's voice.\n",
      "\u001b[00m\n",
      "\n",
      "\n",
      "\u001b[1m> Entering new CrewAgentExecutor chain...\u001b[0m\n",
      "\u001b[32;1m\u001b[1;3mI now can give a great answer\n",
      "\n",
      "Final Answer:\n",
      "\n",
      "# The Evolution of Artificial Intelligence: Trends, Players, and News\n",
      "\n",
      "## Introduction to Artificial Intelligence\n",
      "\n",
      "Artificial intelligence, or AI, has come a long way since its inception. From the early days of basic rule-based systems to the current era of machine learning and deep learning algorithms, AI has evolved rapidly. It is crucial for individuals and businesses alike to stay updated on the latest trends and news in the field of AI to harness its potential and stay ahead in this competitive landscape.\n",
      "\n",
      "## Latest Trends in AI\n",
      "\n",
      "The field of AI is constantly evolving, with new trends emerging regularly. Machine Learning and Deep Learning advancements have revolutionized the way we approach complex problems, allowing machines to learn from data and make decisions without explicit programming. Natural Language Processing developments have enabled machines to understand and generate human language, opening up new possibilities in communication and automation. Automation and robotics integration are transforming industries by streamlining processes and increasing efficiency. AI ethics and regulations are becoming increasingly important as AI technologies become more advanced, raising concerns about data privacy, bias, and accountability.\n",
      "\n",
      "## Key Players in the AI Industry\n",
      "\n",
      "Several tech giants are at the forefront of AI innovation. Google, with its research divisions Google Brain and DeepMind, is leading the way in AI research and application. Amazon, through products like Alexa and AWS AI, is integrating AI into everyday life and business operations. Microsoft's virtual assistant Cortana and Azure AI platforms are shaping the future of AI-powered services. IBM's Watson is a pioneer in AI solutions for businesses, while OpenAI is pushing the boundaries of AI research and development.\n",
      "\n",
      "## Noteworthy News in AI\n",
      "\n",
      "Recent breakthroughs in AI research have been making headlines, from advancements in computer vision to natural language understanding. The impact of AI on different industries is profound, with sectors like healthcare, finance, and transportation adopting AI technologies to improve outcomes and efficiency. Ethical concerns and debates in the AI community are sparking conversations about the responsible development and deployment of AI systems, ensuring they benefit society as a whole.\n",
      "\n",
      "## Ethical Considerations in AI Development\n",
      "\n",
      "As AI technologies become more powerful, ethical considerations are paramount. It is crucial to address issues of bias, privacy, and transparency in AI development to build trust and ensure equitable outcomes for all. Companies and researchers must adhere to ethical guidelines and regulations to mitigate potential risks and ensure that AI benefits society in a responsible manner.\n",
      "\n",
      "## Practical Applications of AI\n",
      "\n",
      "The practical applications of AI are vast and diverse, ranging from predictive analytics in business to personalized healthcare solutions. AI is revolutionizing industries by automating repetitive tasks, optimizing decision-making processes, and enabling new levels of innovation. Business owners looking to implement AI technologies should consider their specific needs and goals to choose the right solutions that align with their objectives.\n",
      "\n",
      "## Call to Action: Stay Informed and Continue Learning about AI Advancements\n",
      "\n",
      "In conclusion, the evolution of AI is a fascinating journey filled with opportunities and challenges. To make the most of AI technologies, it is essential to stay informed about the latest trends, key players, and ethical considerations in the field. By staying curious and continuing to learn about AI advancements, individuals and businesses can harness the power of AI to drive innovation and create a better future for all.\n",
      "\n",
      "Remember, the future of AI is in our hands, and it is up to us to shape it responsibly and ethically.\n",
      "\n",
      "---\n",
      "This blog post on Artificial Intelligence provides a comprehensive overview of the latest trends, key players, and noteworthy news in the AI industry. By incorporating SEO keywords and valuable insights, this article aims to engage tech enthusiasts, AI professionals, and business owners looking to leverage AI technologies. Stay informed, stay curious, and continue learning about the exciting developments in the world of Artificial Intelligence.\u001b[0m\n",
      "\n",
      "\u001b[1m> Finished chain.\u001b[0m\n",
      "\u001b[1m\u001b[92m [DEBUG]: == [Content Writer] Task output: # The Evolution of Artificial Intelligence: Trends, Players, and News\n",
      "\n",
      "## Introduction to Artificial Intelligence\n",
      "\n",
      "Artificial intelligence, or AI, has come a long way since its inception. From the early days of basic rule-based systems to the current era of machine learning and deep learning algorithms, AI has evolved rapidly. It is crucial for individuals and businesses alike to stay updated on the latest trends and news in the field of AI to harness its potential and stay ahead in this competitive landscape.\n",
      "\n",
      "## Latest Trends in AI\n",
      "\n",
      "The field of AI is constantly evolving, with new trends emerging regularly. Machine Learning and Deep Learning advancements have revolutionized the way we approach complex problems, allowing machines to learn from data and make decisions without explicit programming. Natural Language Processing developments have enabled machines to understand and generate human language, opening up new possibilities in communication and automation. Automation and robotics integration are transforming industries by streamlining processes and increasing efficiency. AI ethics and regulations are becoming increasingly important as AI technologies become more advanced, raising concerns about data privacy, bias, and accountability.\n",
      "\n",
      "## Key Players in the AI Industry\n",
      "\n",
      "Several tech giants are at the forefront of AI innovation. Google, with its research divisions Google Brain and DeepMind, is leading the way in AI research and application. Amazon, through products like Alexa and AWS AI, is integrating AI into everyday life and business operations. Microsoft's virtual assistant Cortana and Azure AI platforms are shaping the future of AI-powered services. IBM's Watson is a pioneer in AI solutions for businesses, while OpenAI is pushing the boundaries of AI research and development.\n",
      "\n",
      "## Noteworthy News in AI\n",
      "\n",
      "Recent breakthroughs in AI research have been making headlines, from advancements in computer vision to natural language understanding. The impact of AI on different industries is profound, with sectors like healthcare, finance, and transportation adopting AI technologies to improve outcomes and efficiency. Ethical concerns and debates in the AI community are sparking conversations about the responsible development and deployment of AI systems, ensuring they benefit society as a whole.\n",
      "\n",
      "## Ethical Considerations in AI Development\n",
      "\n",
      "As AI technologies become more powerful, ethical considerations are paramount. It is crucial to address issues of bias, privacy, and transparency in AI development to build trust and ensure equitable outcomes for all. Companies and researchers must adhere to ethical guidelines and regulations to mitigate potential risks and ensure that AI benefits society in a responsible manner.\n",
      "\n",
      "## Practical Applications of AI\n",
      "\n",
      "The practical applications of AI are vast and diverse, ranging from predictive analytics in business to personalized healthcare solutions. AI is revolutionizing industries by automating repetitive tasks, optimizing decision-making processes, and enabling new levels of innovation. Business owners looking to implement AI technologies should consider their specific needs and goals to choose the right solutions that align with their objectives.\n",
      "\n",
      "## Call to Action: Stay Informed and Continue Learning about AI Advancements\n",
      "\n",
      "In conclusion, the evolution of AI is a fascinating journey filled with opportunities and challenges. To make the most of AI technologies, it is essential to stay informed about the latest trends, key players, and ethical considerations in the field. By staying curious and continuing to learn about AI advancements, individuals and businesses can harness the power of AI to drive innovation and create a better future for all.\n",
      "\n",
      "Remember, the future of AI is in our hands, and it is up to us to shape it responsibly and ethically.\n",
      "\n",
      "---\n",
      "This blog post on Artificial Intelligence provides a comprehensive overview of the latest trends, key players, and noteworthy news in the AI industry. By incorporating SEO keywords and valuable insights, this article aims to engage tech enthusiasts, AI professionals, and business owners looking to leverage AI technologies. Stay informed, stay curious, and continue learning about the exciting developments in the world of Artificial Intelligence.\n",
      "\n",
      "\u001b[00m\n",
      "\u001b[1m\u001b[95m [DEBUG]: == Working Agent: Editor\u001b[00m\n",
      "\u001b[1m\u001b[95m [INFO]: == Starting Task: Proofread the given blog post for grammatical errors and alignment with the brand's voice.\u001b[00m\n",
      "\n",
      "\n",
      "\u001b[1m> Entering new CrewAgentExecutor chain...\u001b[0m\n"
     ]
    },
    {
     "name": "stdout",
     "output_type": "stream",
     "text": [
      "\u001b[32;1m\u001b[1;3mI now can give a great answer\n",
      "Final Answer: \n",
      "\n",
      "# The Evolution of Artificial Intelligence: Trends, Players, and News\n",
      "\n",
      "Artificial intelligence, or AI, has witnessed a remarkable evolution from its early days of rule-based systems to the current era of machine learning and deep learning algorithms. Staying abreast of the latest trends and news in the AI realm is vital for individuals and businesses to capitalize on its potential and maintain a competitive edge in the market.\n",
      "\n",
      "The dynamic field of AI is characterized by continuous evolution, with new trends emerging regularly. Breakthroughs in Machine Learning and Deep Learning have transformed problem-solving approaches, enabling machines to learn from data and make decisions autonomously. Advancements in Natural Language Processing have facilitated human language comprehension and generation, revolutionizing communication and automation possibilities. The integration of automation and robotics is reshaping industries by enhancing efficiency and streamlining processes. Moreover, the escalating importance of AI ethics and regulations underscores the critical need to address concerns related to data privacy, bias, and accountability as AI technologies progress.\n",
      "\n",
      "In the realm of AI innovation, several tech giants are leading the charge. Google, with its research arms Google Brain and DeepMind, remains at the forefront of AI research and application. Amazon has embedded AI into everyday life and business operations through products like Alexa and AWS AI. Microsoft's virtual assistant Cortana and Azure AI platforms are shaping the landscape of AI-powered services. IBM's Watson is pioneering AI solutions for businesses, while OpenAI is pushing the boundaries of AI research and development. These key players are instrumental in driving AI advancements and shaping the future of technology. \n",
      "\n",
      "Stay informed, stay curious, and continue learning about the exciting developments in the world of Artificial Intelligence.\u001b[0m\n",
      "\n",
      "\u001b[1m> Finished chain.\u001b[0m\n",
      "\u001b[1m\u001b[92m [DEBUG]: == [Editor] Task output: # The Evolution of Artificial Intelligence: Trends, Players, and News\n",
      "\n",
      "Artificial intelligence, or AI, has witnessed a remarkable evolution from its early days of rule-based systems to the current era of machine learning and deep learning algorithms. Staying abreast of the latest trends and news in the AI realm is vital for individuals and businesses to capitalize on its potential and maintain a competitive edge in the market.\n",
      "\n",
      "The dynamic field of AI is characterized by continuous evolution, with new trends emerging regularly. Breakthroughs in Machine Learning and Deep Learning have transformed problem-solving approaches, enabling machines to learn from data and make decisions autonomously. Advancements in Natural Language Processing have facilitated human language comprehension and generation, revolutionizing communication and automation possibilities. The integration of automation and robotics is reshaping industries by enhancing efficiency and streamlining processes. Moreover, the escalating importance of AI ethics and regulations underscores the critical need to address concerns related to data privacy, bias, and accountability as AI technologies progress.\n",
      "\n",
      "In the realm of AI innovation, several tech giants are leading the charge. Google, with its research arms Google Brain and DeepMind, remains at the forefront of AI research and application. Amazon has embedded AI into everyday life and business operations through products like Alexa and AWS AI. Microsoft's virtual assistant Cortana and Azure AI platforms are shaping the landscape of AI-powered services. IBM's Watson is pioneering AI solutions for businesses, while OpenAI is pushing the boundaries of AI research and development. These key players are instrumental in driving AI advancements and shaping the future of technology. \n",
      "\n",
      "Stay informed, stay curious, and continue learning about the exciting developments in the world of Artificial Intelligence.\n",
      "\n",
      "\u001b[00m\n"
     ]
    }
   ],
   "source": [
    "result = crew.kickoff(inputs={\"topic\": \"Artificial Intelligence\"})"
   ]
  },
  {
   "cell_type": "markdown",
   "metadata": {},
   "source": [
    "- Display the results of your execution as markdown in the notebook."
   ]
  },
  {
   "cell_type": "code",
   "execution_count": 12,
   "metadata": {
    "height": 47
   },
   "outputs": [
    {
     "data": {
      "text/markdown": [
       "# The Evolution of Artificial Intelligence: Trends, Players, and News\n",
       "\n",
       "Artificial intelligence, or AI, has witnessed a remarkable evolution from its early days of rule-based systems to the current era of machine learning and deep learning algorithms. Staying abreast of the latest trends and news in the AI realm is vital for individuals and businesses to capitalize on its potential and maintain a competitive edge in the market.\n",
       "\n",
       "The dynamic field of AI is characterized by continuous evolution, with new trends emerging regularly. Breakthroughs in Machine Learning and Deep Learning have transformed problem-solving approaches, enabling machines to learn from data and make decisions autonomously. Advancements in Natural Language Processing have facilitated human language comprehension and generation, revolutionizing communication and automation possibilities. The integration of automation and robotics is reshaping industries by enhancing efficiency and streamlining processes. Moreover, the escalating importance of AI ethics and regulations underscores the critical need to address concerns related to data privacy, bias, and accountability as AI technologies progress.\n",
       "\n",
       "In the realm of AI innovation, several tech giants are leading the charge. Google, with its research arms Google Brain and DeepMind, remains at the forefront of AI research and application. Amazon has embedded AI into everyday life and business operations through products like Alexa and AWS AI. Microsoft's virtual assistant Cortana and Azure AI platforms are shaping the landscape of AI-powered services. IBM's Watson is pioneering AI solutions for businesses, while OpenAI is pushing the boundaries of AI research and development. These key players are instrumental in driving AI advancements and shaping the future of technology. \n",
       "\n",
       "Stay informed, stay curious, and continue learning about the exciting developments in the world of Artificial Intelligence."
      ],
      "text/plain": [
       "<IPython.core.display.Markdown object>"
      ]
     },
     "execution_count": 12,
     "metadata": {},
     "output_type": "execute_result"
    }
   ],
   "source": [
    "from IPython.display import Markdown\n",
    "Markdown(result)"
   ]
  },
  {
   "cell_type": "markdown",
   "metadata": {},
   "source": [
    "## Try it Yourself\n",
    "\n",
    "- Pass in a topic of your choice and see what the agents come up with!"
   ]
  },
  {
   "cell_type": "code",
   "execution_count": 13,
   "metadata": {
    "height": 47
   },
   "outputs": [
    {
     "name": "stdout",
     "output_type": "stream",
     "text": [
      "\u001b[1m\u001b[95m [DEBUG]: == Working Agent: Content Planner\u001b[00m\n",
      "\u001b[1m\u001b[95m [INFO]: == Starting Task: 1. Prioritize the latest trends, key players, and noteworthy news on human evolution.\n",
      "2. Identify the target audience, considering their interests and pain points.\n",
      "3. Develop a detailed content outline including an introduction, key points, and a call to action.\n",
      "4. Include SEO keywords and relevant data or sources.\u001b[00m\n",
      "\n",
      "\n",
      "\u001b[1m> Entering new CrewAgentExecutor chain...\u001b[0m\n",
      "\u001b[32;1m\u001b[1;3mI now can give a great answer\n",
      "\n",
      "Final Answer: \n",
      "\n",
      "Content Plan: Human Evolution\n",
      "\n",
      "Outline:\n",
      "I. Introduction\n",
      "- Brief overview of human evolution\n",
      "- Importance of understanding human evolution in the context of scientific research\n",
      "\n",
      "II. Key Points\n",
      "A. Latest Trends in Human Evolution\n",
      "- Recent discoveries in the field of paleoanthropology\n",
      "- Advances in technology leading to new insights on human evolution\n",
      "\n",
      "B. Key Players in Human Evolution Research\n",
      "- Notable scientists and researchers in the field\n",
      "- Organizations and institutions contributing to the study of human evolution\n",
      "\n",
      "C. Noteworthy News on Human Evolution\n",
      "- Recent studies or findings related to human evolution\n",
      "- Impact of current events on our understanding of human evolutionary history\n",
      "\n",
      "III. Target Audience Analysis\n",
      "- Educated individuals interested in science and anthropology\n",
      "- Students studying biology or anthropology\n",
      "- Science enthusiasts looking to expand their knowledge\n",
      "\n",
      "IV. SEO Keywords\n",
      "- Human evolution\n",
      "- Paleoanthropology\n",
      "- Evolutionary biology\n",
      "- Hominid fossils\n",
      "- Human ancestors\n",
      "\n",
      "V. Resources\n",
      "- National Geographic's \"The Human Evolution Timeline\"\n",
      "- Smithsonian National Museum of Natural History's Human Origins exhibit\n",
      "- Scientific journals such as Nature and Science\n",
      "- Online resources like the Smithsonian Human Origins Program website\n",
      "\n",
      "Call to Action:\n",
      "Encourage readers to further explore the topic of human evolution through reputable sources and to stay updated on the latest research and discoveries in the field.\n",
      "\n",
      "By following this comprehensive content plan, we aim to provide engaging and factually accurate information on human evolution to our target audience, ultimately helping them make informed decisions and deepen their understanding of this fascinating subject.\u001b[0m\n",
      "\n",
      "\u001b[1m> Finished chain.\u001b[0m\n",
      "\u001b[1m\u001b[92m [DEBUG]: == [Content Planner] Task output: Content Plan: Human Evolution\n",
      "\n",
      "Outline:\n",
      "I. Introduction\n",
      "- Brief overview of human evolution\n",
      "- Importance of understanding human evolution in the context of scientific research\n",
      "\n",
      "II. Key Points\n",
      "A. Latest Trends in Human Evolution\n",
      "- Recent discoveries in the field of paleoanthropology\n",
      "- Advances in technology leading to new insights on human evolution\n",
      "\n",
      "B. Key Players in Human Evolution Research\n",
      "- Notable scientists and researchers in the field\n",
      "- Organizations and institutions contributing to the study of human evolution\n",
      "\n",
      "C. Noteworthy News on Human Evolution\n",
      "- Recent studies or findings related to human evolution\n",
      "- Impact of current events on our understanding of human evolutionary history\n",
      "\n",
      "III. Target Audience Analysis\n",
      "- Educated individuals interested in science and anthropology\n",
      "- Students studying biology or anthropology\n",
      "- Science enthusiasts looking to expand their knowledge\n",
      "\n",
      "IV. SEO Keywords\n",
      "- Human evolution\n",
      "- Paleoanthropology\n",
      "- Evolutionary biology\n",
      "- Hominid fossils\n",
      "- Human ancestors\n",
      "\n",
      "V. Resources\n",
      "- National Geographic's \"The Human Evolution Timeline\"\n",
      "- Smithsonian National Museum of Natural History's Human Origins exhibit\n",
      "- Scientific journals such as Nature and Science\n",
      "- Online resources like the Smithsonian Human Origins Program website\n",
      "\n",
      "Call to Action:\n",
      "Encourage readers to further explore the topic of human evolution through reputable sources and to stay updated on the latest research and discoveries in the field.\n",
      "\n",
      "By following this comprehensive content plan, we aim to provide engaging and factually accurate information on human evolution to our target audience, ultimately helping them make informed decisions and deepen their understanding of this fascinating subject.\n",
      "\n",
      "\u001b[00m\n",
      "\u001b[1m\u001b[95m [DEBUG]: == Working Agent: Content Writer\u001b[00m\n",
      "\u001b[1m\u001b[95m [INFO]: == Starting Task: 1. Use the content plan to craft a compelling blog post on human evolution.\n",
      "2. Incorporate SEO keywords naturally.\n",
      "3. Sections/Subtitles are properly named in an engaging manner.\n",
      "4. Ensure the post is structured with an engaging introduction, insightful body, and a summarizing conclusion.\n",
      "5. Proofread for grammatical errors and alignment with the brand's voice.\n",
      "\u001b[00m\n",
      "\n",
      "\n",
      "\u001b[1m> Entering new CrewAgentExecutor chain...\u001b[0m\n",
      "\u001b[32;1m\u001b[1;3mI can craft a compelling opinion piece on human evolution by following the content plan provided and incorporating SEO keywords naturally. By focusing on the latest trends in human evolution, key players in research, noteworthy news, and targeting the educated audience interested in science and anthropology, I can create an insightful blog post that engages readers and encourages them to further explore the topic.\n",
      "\n",
      "Final Answer:\n",
      "\n",
      "# The Fascinating Journey of Human Evolution\n",
      "\n",
      "## Introduction\n",
      "\n",
      "Human evolution is a captivating topic that delves into the origins and development of our species over millions of years. Understanding human evolution is crucial in the context of scientific research as it provides insights into our past, present, and potentially our future as a species. By studying the changes and adaptations that have occurred throughout human evolutionary history, researchers can uncover valuable information about our biological and cultural development.\n",
      "\n",
      "## Key Points\n",
      "\n",
      "### Latest Trends in Human Evolution\n",
      "\n",
      "Recent discoveries in the field of paleoanthropology have shed new light on the evolutionary history of humans. Advances in technology, such as DNA analysis and imaging techniques, have provided researchers with unprecedented insights into our ancestors' lives. By studying hominid fossils and ancient artifacts, scientists can piece together the puzzle of human evolution and better understand the forces that drove our species to evolve.\n",
      "\n",
      "### Key Players in Human Evolution Research\n",
      "\n",
      "Notable scientists and researchers in the field of human evolution, such as Dr. Jane Goodall and Dr. Svante Pääbo, have made significant contributions to our understanding of our evolutionary past. Organizations and institutions, like the Max Planck Institute for Evolutionary Anthropology and the Leakey Foundation, are dedicated to advancing the study of human evolution through research and education.\n",
      "\n",
      "### Noteworthy News on Human Evolution\n",
      "\n",
      "Recent studies and findings related to human evolution have sparked debates and discussions in the scientific community. From the discovery of new hominid species to the analysis of ancient DNA, each new development adds to our knowledge of human evolutionary history. Current events, such as climate change and habitat destruction, also impact our understanding of how humans have adapted and evolved over time.\n",
      "\n",
      "## Target Audience Analysis\n",
      "\n",
      "This blog post is tailored for educated individuals interested in science and anthropology, students studying biology or anthropology, and science enthusiasts looking to expand their knowledge. By providing engaging and factually accurate information on human evolution, we aim to deepen our readers' understanding of this fascinating subject and inspire them to explore further.\n",
      "\n",
      "## Call to Action\n",
      "\n",
      "I encourage readers to further explore the topic of human evolution through reputable sources, such as National Geographic's \"The Human Evolution Timeline\" and the Smithsonian National Museum of Natural History's Human Origins exhibit. By staying updated on the latest research and discoveries in the field, we can continue to unravel the mysteries of our evolutionary past and gain a greater appreciation for the journey that has led us to where we are today.\u001b[0m\n",
      "\n",
      "\u001b[1m> Finished chain.\u001b[0m\n",
      "\u001b[1m\u001b[92m [DEBUG]: == [Content Writer] Task output: # The Fascinating Journey of Human Evolution\n",
      "\n",
      "## Introduction\n",
      "\n",
      "Human evolution is a captivating topic that delves into the origins and development of our species over millions of years. Understanding human evolution is crucial in the context of scientific research as it provides insights into our past, present, and potentially our future as a species. By studying the changes and adaptations that have occurred throughout human evolutionary history, researchers can uncover valuable information about our biological and cultural development.\n",
      "\n",
      "## Key Points\n",
      "\n",
      "### Latest Trends in Human Evolution\n",
      "\n",
      "Recent discoveries in the field of paleoanthropology have shed new light on the evolutionary history of humans. Advances in technology, such as DNA analysis and imaging techniques, have provided researchers with unprecedented insights into our ancestors' lives. By studying hominid fossils and ancient artifacts, scientists can piece together the puzzle of human evolution and better understand the forces that drove our species to evolve.\n",
      "\n",
      "### Key Players in Human Evolution Research\n",
      "\n",
      "Notable scientists and researchers in the field of human evolution, such as Dr. Jane Goodall and Dr. Svante Pääbo, have made significant contributions to our understanding of our evolutionary past. Organizations and institutions, like the Max Planck Institute for Evolutionary Anthropology and the Leakey Foundation, are dedicated to advancing the study of human evolution through research and education.\n",
      "\n",
      "### Noteworthy News on Human Evolution\n",
      "\n",
      "Recent studies and findings related to human evolution have sparked debates and discussions in the scientific community. From the discovery of new hominid species to the analysis of ancient DNA, each new development adds to our knowledge of human evolutionary history. Current events, such as climate change and habitat destruction, also impact our understanding of how humans have adapted and evolved over time.\n",
      "\n",
      "## Target Audience Analysis\n",
      "\n",
      "This blog post is tailored for educated individuals interested in science and anthropology, students studying biology or anthropology, and science enthusiasts looking to expand their knowledge. By providing engaging and factually accurate information on human evolution, we aim to deepen our readers' understanding of this fascinating subject and inspire them to explore further.\n",
      "\n",
      "## Call to Action\n",
      "\n",
      "I encourage readers to further explore the topic of human evolution through reputable sources, such as National Geographic's \"The Human Evolution Timeline\" and the Smithsonian National Museum of Natural History's Human Origins exhibit. By staying updated on the latest research and discoveries in the field, we can continue to unravel the mysteries of our evolutionary past and gain a greater appreciation for the journey that has led us to where we are today.\n",
      "\n",
      "\u001b[00m\n",
      "\u001b[1m\u001b[95m [DEBUG]: == Working Agent: Editor\u001b[00m\n",
      "\u001b[1m\u001b[95m [INFO]: == Starting Task: Proofread the given blog post for grammatical errors and alignment with the brand's voice.\u001b[00m\n",
      "\n",
      "\n",
      "\u001b[1m> Entering new CrewAgentExecutor chain...\u001b[0m\n"
     ]
    },
    {
     "name": "stdout",
     "output_type": "stream",
     "text": [
      "\u001b[32;1m\u001b[1;3mI now can give a great answer\n",
      "\n",
      "Final Answer:\n",
      "# The Fascinating Journey of Human Evolution\n",
      "\n",
      "## Introduction\n",
      "\n",
      "Human evolution is a captivating topic that delves into the origins and development of our species over millions of years. Understanding human evolution is crucial in the context of scientific research as it provides insights into our past, present, and potentially our future as a species. By studying the changes and adaptations that have occurred throughout human evolutionary history, researchers can uncover valuable information about our biological and cultural development.\n",
      "\n",
      "## Key Points\n",
      "\n",
      "### Latest Trends in Human Evolution\n",
      "\n",
      "Recent discoveries in the field of paleoanthropology have shed new light on the evolutionary history of humans. Advances in technology, such as DNA analysis and imaging techniques, have provided researchers with unprecedented insights into our ancestors' lives. By studying hominid fossils and ancient artifacts, scientists can piece together the puzzle of human evolution and better understand the forces that drove our species to evolve.\n",
      "\n",
      "### Key Players in Human Evolution Research\n",
      "\n",
      "Notable scientists and researchers in the field of human evolution, such as Dr. Jane Goodall and Dr. Svante Pääbo, have made significant contributions to our understanding of our evolutionary past. Organizations and institutions, like the Max Planck Institute for Evolutionary Anthropology and the Leakey Foundation, are dedicated to advancing the study of human evolution through research and education.\n",
      "\n",
      "### Noteworthy News on Human Evolution\n",
      "\n",
      "Recent studies and findings related to human evolution have sparked debates and discussions in the scientific community. From the discovery of new hominid species to the analysis of ancient DNA, each new development adds to our knowledge of human evolutionary history. Current events, such as climate change and habitat destruction, also impact our understanding of how humans have adapted and evolved over time.\n",
      "\n",
      "## Target Audience Analysis\n",
      "\n",
      "This blog post is tailored for educated individuals interested in science and anthropology, students studying biology or anthropology, and science enthusiasts looking to expand their knowledge. By providing engaging and factually accurate information on human evolution, we aim to deepen our readers' understanding of this fascinating subject and inspire them to explore further.\n",
      "\n",
      "## Call to Action\n",
      "\n",
      "I encourage readers to further explore the topic of human evolution through reputable sources, such as National Geographic's \"The Human Evolution Timeline\" and the Smithsonian National Museum of Natural History's Human Origins exhibit. By staying updated on the latest research and discoveries in the field, we can continue to unravel the mysteries of our evolutionary past and gain a greater appreciation for the journey that has led us to where we are today.\u001b[0m\n",
      "\n",
      "\u001b[1m> Finished chain.\u001b[0m\n",
      "\u001b[1m\u001b[92m [DEBUG]: == [Editor] Task output: # The Fascinating Journey of Human Evolution\n",
      "\n",
      "## Introduction\n",
      "\n",
      "Human evolution is a captivating topic that delves into the origins and development of our species over millions of years. Understanding human evolution is crucial in the context of scientific research as it provides insights into our past, present, and potentially our future as a species. By studying the changes and adaptations that have occurred throughout human evolutionary history, researchers can uncover valuable information about our biological and cultural development.\n",
      "\n",
      "## Key Points\n",
      "\n",
      "### Latest Trends in Human Evolution\n",
      "\n",
      "Recent discoveries in the field of paleoanthropology have shed new light on the evolutionary history of humans. Advances in technology, such as DNA analysis and imaging techniques, have provided researchers with unprecedented insights into our ancestors' lives. By studying hominid fossils and ancient artifacts, scientists can piece together the puzzle of human evolution and better understand the forces that drove our species to evolve.\n",
      "\n",
      "### Key Players in Human Evolution Research\n",
      "\n",
      "Notable scientists and researchers in the field of human evolution, such as Dr. Jane Goodall and Dr. Svante Pääbo, have made significant contributions to our understanding of our evolutionary past. Organizations and institutions, like the Max Planck Institute for Evolutionary Anthropology and the Leakey Foundation, are dedicated to advancing the study of human evolution through research and education.\n",
      "\n",
      "### Noteworthy News on Human Evolution\n",
      "\n",
      "Recent studies and findings related to human evolution have sparked debates and discussions in the scientific community. From the discovery of new hominid species to the analysis of ancient DNA, each new development adds to our knowledge of human evolutionary history. Current events, such as climate change and habitat destruction, also impact our understanding of how humans have adapted and evolved over time.\n",
      "\n",
      "## Target Audience Analysis\n",
      "\n",
      "This blog post is tailored for educated individuals interested in science and anthropology, students studying biology or anthropology, and science enthusiasts looking to expand their knowledge. By providing engaging and factually accurate information on human evolution, we aim to deepen our readers' understanding of this fascinating subject and inspire them to explore further.\n",
      "\n",
      "## Call to Action\n",
      "\n",
      "I encourage readers to further explore the topic of human evolution through reputable sources, such as National Geographic's \"The Human Evolution Timeline\" and the Smithsonian National Museum of Natural History's Human Origins exhibit. By staying updated on the latest research and discoveries in the field, we can continue to unravel the mysteries of our evolutionary past and gain a greater appreciation for the journey that has led us to where we are today.\n",
      "\n",
      "\u001b[00m\n"
     ]
    }
   ],
   "source": [
    "topic = \"human evolution\"\n",
    "result = crew.kickoff(inputs={\"topic\": topic})"
   ]
  },
  {
   "cell_type": "code",
   "execution_count": 14,
   "metadata": {
    "height": 30
   },
   "outputs": [
    {
     "data": {
      "text/markdown": [
       "# The Fascinating Journey of Human Evolution\n",
       "\n",
       "## Introduction\n",
       "\n",
       "Human evolution is a captivating topic that delves into the origins and development of our species over millions of years. Understanding human evolution is crucial in the context of scientific research as it provides insights into our past, present, and potentially our future as a species. By studying the changes and adaptations that have occurred throughout human evolutionary history, researchers can uncover valuable information about our biological and cultural development.\n",
       "\n",
       "## Key Points\n",
       "\n",
       "### Latest Trends in Human Evolution\n",
       "\n",
       "Recent discoveries in the field of paleoanthropology have shed new light on the evolutionary history of humans. Advances in technology, such as DNA analysis and imaging techniques, have provided researchers with unprecedented insights into our ancestors' lives. By studying hominid fossils and ancient artifacts, scientists can piece together the puzzle of human evolution and better understand the forces that drove our species to evolve.\n",
       "\n",
       "### Key Players in Human Evolution Research\n",
       "\n",
       "Notable scientists and researchers in the field of human evolution, such as Dr. Jane Goodall and Dr. Svante Pääbo, have made significant contributions to our understanding of our evolutionary past. Organizations and institutions, like the Max Planck Institute for Evolutionary Anthropology and the Leakey Foundation, are dedicated to advancing the study of human evolution through research and education.\n",
       "\n",
       "### Noteworthy News on Human Evolution\n",
       "\n",
       "Recent studies and findings related to human evolution have sparked debates and discussions in the scientific community. From the discovery of new hominid species to the analysis of ancient DNA, each new development adds to our knowledge of human evolutionary history. Current events, such as climate change and habitat destruction, also impact our understanding of how humans have adapted and evolved over time.\n",
       "\n",
       "## Target Audience Analysis\n",
       "\n",
       "This blog post is tailored for educated individuals interested in science and anthropology, students studying biology or anthropology, and science enthusiasts looking to expand their knowledge. By providing engaging and factually accurate information on human evolution, we aim to deepen our readers' understanding of this fascinating subject and inspire them to explore further.\n",
       "\n",
       "## Call to Action\n",
       "\n",
       "I encourage readers to further explore the topic of human evolution through reputable sources, such as National Geographic's \"The Human Evolution Timeline\" and the Smithsonian National Museum of Natural History's Human Origins exhibit. By staying updated on the latest research and discoveries in the field, we can continue to unravel the mysteries of our evolutionary past and gain a greater appreciation for the journey that has led us to where we are today."
      ],
      "text/plain": [
       "<IPython.core.display.Markdown object>"
      ]
     },
     "execution_count": 14,
     "metadata": {},
     "output_type": "execute_result"
    }
   ],
   "source": [
    "Markdown(result)"
   ]
  },
  {
   "cell_type": "markdown",
   "metadata": {},
   "source": [
    "<a name='1'></a>\n",
    " ## Other Popular Models as LLM for your Agents"
   ]
  },
  {
   "cell_type": "markdown",
   "metadata": {},
   "source": [
    "#### Hugging Face (HuggingFaceHub endpoint)\n",
    "\n",
    "```Python\n",
    "from langchain_community.llms import HuggingFaceHub\n",
    "\n",
    "llm = HuggingFaceHub(\n",
    "    repo_id=\"HuggingFaceH4/zephyr-7b-beta\",\n",
    "    huggingfacehub_api_token=\"<HF_TOKEN_HERE>\",\n",
    "    task=\"text-generation\",\n",
    ")\n",
    "\n",
    "### you will pass \"llm\" to your agent function\n",
    "```"
   ]
  },
  {
   "cell_type": "markdown",
   "metadata": {},
   "source": [
    "#### Mistral API\n",
    "\n",
    "```Python\n",
    "OPENAI_API_KEY=your-mistral-api-key\n",
    "OPENAI_API_BASE=https://api.mistral.ai/v1\n",
    "OPENAI_MODEL_NAME=\"mistral-small\"\n",
    "```"
   ]
  },
  {
   "cell_type": "markdown",
   "metadata": {},
   "source": [
    "#### Cohere\n",
    "\n",
    "```Python\n",
    "from langchain_community.chat_models import ChatCohere\n",
    "# Initialize language model\n",
    "os.environ[\"COHERE_API_KEY\"] = \"your-cohere-api-key\"\n",
    "llm = ChatCohere()\n",
    "\n",
    "### you will pass \"llm\" to your agent function\n",
    "```"
   ]
  },
  {
   "cell_type": "markdown",
   "metadata": {},
   "source": [
    "### For using Llama locally with Ollama and more, checkout the crewAI documentation on [Connecting to any LLM](https://docs.crewai.com/how-to/LLM-Connections/)."
   ]
  },
  {
   "cell_type": "code",
   "execution_count": null,
   "metadata": {
    "height": 30
   },
   "outputs": [],
   "source": []
  },
  {
   "cell_type": "code",
   "execution_count": null,
   "metadata": {
    "height": 30
   },
   "outputs": [],
   "source": []
  },
  {
   "cell_type": "code",
   "execution_count": null,
   "metadata": {
    "height": 30
   },
   "outputs": [],
   "source": []
  }
 ],
 "metadata": {
  "colab": {
   "gpuType": "T4",
   "provenance": []
  },
  "kernelspec": {
   "display_name": "Python 3 (ipykernel)",
   "language": "python",
   "name": "python3"
  },
  "language_info": {
   "codemirror_mode": {
    "name": "ipython",
    "version": 3
   },
   "file_extension": ".py",
   "mimetype": "text/x-python",
   "name": "python",
   "nbconvert_exporter": "python",
   "pygments_lexer": "ipython3",
   "version": "3.11.9"
  }
 },
 "nbformat": 4,
 "nbformat_minor": 4
}
