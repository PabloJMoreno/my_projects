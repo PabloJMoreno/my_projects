{
  "nbformat": 4,
  "nbformat_minor": 0,
  "metadata": {
    "colab": {
      "provenance": []
    },
    "kernelspec": {
      "name": "python3",
      "display_name": "Python 3"
    },
    "language_info": {
      "name": "python"
    }
  },
  "cells": [
    {
      "cell_type": "code",
      "execution_count": 2,
      "metadata": {
        "colab": {
          "base_uri": "https://localhost:8080/"
        },
        "id": "5Xb8oQJnfzwh",
        "outputId": "b9d1bd13-f74e-4df5-e12e-6d2c7ec38f7e"
      },
      "outputs": [
        {
          "output_type": "stream",
          "name": "stdout",
          "text": [
            "Requirement already satisfied: yfinance in /usr/local/lib/python3.10/dist-packages (0.2.41)\n",
            "Requirement already satisfied: pandas>=1.3.0 in /usr/local/lib/python3.10/dist-packages (from yfinance) (2.1.4)\n",
            "Requirement already satisfied: numpy>=1.16.5 in /usr/local/lib/python3.10/dist-packages (from yfinance) (1.26.4)\n",
            "Requirement already satisfied: requests>=2.31 in /usr/local/lib/python3.10/dist-packages (from yfinance) (2.32.3)\n",
            "Requirement already satisfied: multitasking>=0.0.7 in /usr/local/lib/python3.10/dist-packages (from yfinance) (0.0.11)\n",
            "Requirement already satisfied: lxml>=4.9.1 in /usr/local/lib/python3.10/dist-packages (from yfinance) (4.9.4)\n",
            "Requirement already satisfied: platformdirs>=2.0.0 in /usr/local/lib/python3.10/dist-packages (from yfinance) (4.2.2)\n",
            "Requirement already satisfied: pytz>=2022.5 in /usr/local/lib/python3.10/dist-packages (from yfinance) (2024.1)\n",
            "Requirement already satisfied: frozendict>=2.3.4 in /usr/local/lib/python3.10/dist-packages (from yfinance) (2.4.4)\n",
            "Requirement already satisfied: peewee>=3.16.2 in /usr/local/lib/python3.10/dist-packages (from yfinance) (3.17.6)\n",
            "Requirement already satisfied: beautifulsoup4>=4.11.1 in /usr/local/lib/python3.10/dist-packages (from yfinance) (4.12.3)\n",
            "Requirement already satisfied: html5lib>=1.1 in /usr/local/lib/python3.10/dist-packages (from yfinance) (1.1)\n",
            "Requirement already satisfied: soupsieve>1.2 in /usr/local/lib/python3.10/dist-packages (from beautifulsoup4>=4.11.1->yfinance) (2.5)\n",
            "Requirement already satisfied: six>=1.9 in /usr/local/lib/python3.10/dist-packages (from html5lib>=1.1->yfinance) (1.16.0)\n",
            "Requirement already satisfied: webencodings in /usr/local/lib/python3.10/dist-packages (from html5lib>=1.1->yfinance) (0.5.1)\n",
            "Requirement already satisfied: python-dateutil>=2.8.2 in /usr/local/lib/python3.10/dist-packages (from pandas>=1.3.0->yfinance) (2.8.2)\n",
            "Requirement already satisfied: tzdata>=2022.1 in /usr/local/lib/python3.10/dist-packages (from pandas>=1.3.0->yfinance) (2024.1)\n",
            "Requirement already satisfied: charset-normalizer<4,>=2 in /usr/local/lib/python3.10/dist-packages (from requests>=2.31->yfinance) (3.3.2)\n",
            "Requirement already satisfied: idna<4,>=2.5 in /usr/local/lib/python3.10/dist-packages (from requests>=2.31->yfinance) (3.7)\n",
            "Requirement already satisfied: urllib3<3,>=1.21.1 in /usr/local/lib/python3.10/dist-packages (from requests>=2.31->yfinance) (2.0.7)\n",
            "Requirement already satisfied: certifi>=2017.4.17 in /usr/local/lib/python3.10/dist-packages (from requests>=2.31->yfinance) (2024.7.4)\n"
          ]
        }
      ],
      "source": [
        "pip install yfinance"
      ]
    },
    {
      "cell_type": "code",
      "source": [
        "import numpy as np\n",
        "import pandas as pd\n",
        "import yfinance as yf\n",
        "import matplotlib.pyplot as plt"
      ],
      "metadata": {
        "id": "PKSomR0LgFHl"
      },
      "execution_count": 3,
      "outputs": []
    },
    {
      "cell_type": "code",
      "source": [
        "oex = ['MMM','T','ABBV','ABT','ACN','ALL','GOOGL','GOOG','MO','AMZN','AXP','AIG','AMGN','AAPL','BAC',\n",
        "       'BRK-B','BIIB','BLK','BA','BMY','CVS','COF','CAT','CVX','CSCO','C','KO','CL','CMCSA',\n",
        "       'COP','DHR','DUK','DD','EMC','EMR','EXC','XOM','META','FDX','F','GD','GE','GM','GILD',\n",
        "       'GS','HAL','HD','HON','INTC','IBM','JPM','JNJ','KMI','LLY','LMT','LOW','MA','MCD','MDT','MRK',\n",
        "       'MET','MSFT','MS','NKE','NEE','OXY','ORCL','PYPL','PEP','PFE','PM','PG','QCOM',\n",
        "       'SLB','SPG','SO','SBUX','TGT','TXN','BK','USB','UNP','UPS','UNH','VZ','V','WMT',\n",
        "       'WBA','DIS','WFC']"
      ],
      "metadata": {
        "id": "uL0ER9k9gFKR"
      },
      "execution_count": 4,
      "outputs": []
    },
    {
      "cell_type": "code",
      "source": [
        "num_stocks = len(oex)"
      ],
      "metadata": {
        "id": "ZPuvkf7MgFNG"
      },
      "execution_count": 5,
      "outputs": []
    },
    {
      "cell_type": "code",
      "source": [
        "data = yf.download(oex, start='2022-01-01', end='2024-07-31')"
      ],
      "metadata": {
        "colab": {
          "base_uri": "https://localhost:8080/"
        },
        "id": "3hoBaI4PgFPl",
        "outputId": "fa14c9e9-387b-4092-953d-cbc81a7cfbeb"
      },
      "execution_count": 6,
      "outputs": [
        {
          "output_type": "stream",
          "name": "stderr",
          "text": [
            "[*********************100%%**********************]  90 of 90 completed\n"
          ]
        }
      ]
    },
    {
      "cell_type": "code",
      "source": [
        "data.head().T"
      ],
      "metadata": {
        "colab": {
          "base_uri": "https://localhost:8080/",
          "height": 455
        },
        "id": "_TC4hpJVgFSG",
        "outputId": "59b12b90-b871-4815-acee-10cadfa05cac"
      },
      "execution_count": 8,
      "outputs": [
        {
          "output_type": "execute_result",
          "data": {
            "text/plain": [
              "Date                2022-01-03    2022-01-04    2022-01-05    2022-01-06  \\\n",
              "Price     Ticker                                                           \n",
              "Adj Close AAPL    1.792736e+02  1.769984e+02  1.722902e+02  1.694141e+02   \n",
              "          ABBV    1.218277e+02  1.215938e+02  1.222326e+02  1.216568e+02   \n",
              "          ABT     1.320599e+02  1.289540e+02  1.283746e+02  1.283557e+02   \n",
              "          ACN     3.907744e+02  3.879818e+02  3.811493e+02  3.627434e+02   \n",
              "          AIG     5.419430e+01  5.571465e+01  5.494976e+01  5.589407e+01   \n",
              "...                        ...           ...           ...           ...   \n",
              "Volume    VZ      1.824010e+07  2.637680e+07  2.869730e+07  2.156380e+07   \n",
              "          WBA     7.643300e+06  6.744300e+06  8.330900e+06  1.207670e+07   \n",
              "          WFC     3.897810e+07  4.385510e+07  3.507260e+07  2.972080e+07   \n",
              "          WMT     2.070660e+07  3.393000e+07  3.541800e+07  2.182890e+07   \n",
              "          XOM     2.428240e+07  3.858400e+07  3.403330e+07  3.066850e+07   \n",
              "\n",
              "Date                2022-01-07  \n",
              "Price     Ticker                \n",
              "Adj Close AAPL    1.695816e+02  \n",
              "          ABBV    1.213419e+02  \n",
              "          ABT     1.287546e+02  \n",
              "          ACN     3.557860e+02  \n",
              "          AIG     5.735777e+01  \n",
              "...                        ...  \n",
              "Volume    VZ      2.651250e+07  \n",
              "          WBA     7.642000e+06  \n",
              "          WFC     3.514930e+07  \n",
              "          WMT     1.972350e+07  \n",
              "          XOM     2.398540e+07  \n",
              "\n",
              "[540 rows x 5 columns]"
            ],
            "text/html": [
              "\n",
              "  <div id=\"df-5ff1e07b-8b62-4b73-a31d-5fe51b7379f6\" class=\"colab-df-container\">\n",
              "    <div>\n",
              "<style scoped>\n",
              "    .dataframe tbody tr th:only-of-type {\n",
              "        vertical-align: middle;\n",
              "    }\n",
              "\n",
              "    .dataframe tbody tr th {\n",
              "        vertical-align: top;\n",
              "    }\n",
              "\n",
              "    .dataframe thead th {\n",
              "        text-align: right;\n",
              "    }\n",
              "</style>\n",
              "<table border=\"1\" class=\"dataframe\">\n",
              "  <thead>\n",
              "    <tr style=\"text-align: right;\">\n",
              "      <th></th>\n",
              "      <th>Date</th>\n",
              "      <th>2022-01-03</th>\n",
              "      <th>2022-01-04</th>\n",
              "      <th>2022-01-05</th>\n",
              "      <th>2022-01-06</th>\n",
              "      <th>2022-01-07</th>\n",
              "    </tr>\n",
              "    <tr>\n",
              "      <th>Price</th>\n",
              "      <th>Ticker</th>\n",
              "      <th></th>\n",
              "      <th></th>\n",
              "      <th></th>\n",
              "      <th></th>\n",
              "      <th></th>\n",
              "    </tr>\n",
              "  </thead>\n",
              "  <tbody>\n",
              "    <tr>\n",
              "      <th rowspan=\"5\" valign=\"top\">Adj Close</th>\n",
              "      <th>AAPL</th>\n",
              "      <td>1.792736e+02</td>\n",
              "      <td>1.769984e+02</td>\n",
              "      <td>1.722902e+02</td>\n",
              "      <td>1.694141e+02</td>\n",
              "      <td>1.695816e+02</td>\n",
              "    </tr>\n",
              "    <tr>\n",
              "      <th>ABBV</th>\n",
              "      <td>1.218277e+02</td>\n",
              "      <td>1.215938e+02</td>\n",
              "      <td>1.222326e+02</td>\n",
              "      <td>1.216568e+02</td>\n",
              "      <td>1.213419e+02</td>\n",
              "    </tr>\n",
              "    <tr>\n",
              "      <th>ABT</th>\n",
              "      <td>1.320599e+02</td>\n",
              "      <td>1.289540e+02</td>\n",
              "      <td>1.283746e+02</td>\n",
              "      <td>1.283557e+02</td>\n",
              "      <td>1.287546e+02</td>\n",
              "    </tr>\n",
              "    <tr>\n",
              "      <th>ACN</th>\n",
              "      <td>3.907744e+02</td>\n",
              "      <td>3.879818e+02</td>\n",
              "      <td>3.811493e+02</td>\n",
              "      <td>3.627434e+02</td>\n",
              "      <td>3.557860e+02</td>\n",
              "    </tr>\n",
              "    <tr>\n",
              "      <th>AIG</th>\n",
              "      <td>5.419430e+01</td>\n",
              "      <td>5.571465e+01</td>\n",
              "      <td>5.494976e+01</td>\n",
              "      <td>5.589407e+01</td>\n",
              "      <td>5.735777e+01</td>\n",
              "    </tr>\n",
              "    <tr>\n",
              "      <th>...</th>\n",
              "      <th>...</th>\n",
              "      <td>...</td>\n",
              "      <td>...</td>\n",
              "      <td>...</td>\n",
              "      <td>...</td>\n",
              "      <td>...</td>\n",
              "    </tr>\n",
              "    <tr>\n",
              "      <th rowspan=\"5\" valign=\"top\">Volume</th>\n",
              "      <th>VZ</th>\n",
              "      <td>1.824010e+07</td>\n",
              "      <td>2.637680e+07</td>\n",
              "      <td>2.869730e+07</td>\n",
              "      <td>2.156380e+07</td>\n",
              "      <td>2.651250e+07</td>\n",
              "    </tr>\n",
              "    <tr>\n",
              "      <th>WBA</th>\n",
              "      <td>7.643300e+06</td>\n",
              "      <td>6.744300e+06</td>\n",
              "      <td>8.330900e+06</td>\n",
              "      <td>1.207670e+07</td>\n",
              "      <td>7.642000e+06</td>\n",
              "    </tr>\n",
              "    <tr>\n",
              "      <th>WFC</th>\n",
              "      <td>3.897810e+07</td>\n",
              "      <td>4.385510e+07</td>\n",
              "      <td>3.507260e+07</td>\n",
              "      <td>2.972080e+07</td>\n",
              "      <td>3.514930e+07</td>\n",
              "    </tr>\n",
              "    <tr>\n",
              "      <th>WMT</th>\n",
              "      <td>2.070660e+07</td>\n",
              "      <td>3.393000e+07</td>\n",
              "      <td>3.541800e+07</td>\n",
              "      <td>2.182890e+07</td>\n",
              "      <td>1.972350e+07</td>\n",
              "    </tr>\n",
              "    <tr>\n",
              "      <th>XOM</th>\n",
              "      <td>2.428240e+07</td>\n",
              "      <td>3.858400e+07</td>\n",
              "      <td>3.403330e+07</td>\n",
              "      <td>3.066850e+07</td>\n",
              "      <td>2.398540e+07</td>\n",
              "    </tr>\n",
              "  </tbody>\n",
              "</table>\n",
              "<p>540 rows × 5 columns</p>\n",
              "</div>\n",
              "    <div class=\"colab-df-buttons\">\n",
              "\n",
              "  <div class=\"colab-df-container\">\n",
              "    <button class=\"colab-df-convert\" onclick=\"convertToInteractive('df-5ff1e07b-8b62-4b73-a31d-5fe51b7379f6')\"\n",
              "            title=\"Convert this dataframe to an interactive table.\"\n",
              "            style=\"display:none;\">\n",
              "\n",
              "  <svg xmlns=\"http://www.w3.org/2000/svg\" height=\"24px\" viewBox=\"0 -960 960 960\">\n",
              "    <path d=\"M120-120v-720h720v720H120Zm60-500h600v-160H180v160Zm220 220h160v-160H400v160Zm0 220h160v-160H400v160ZM180-400h160v-160H180v160Zm440 0h160v-160H620v160ZM180-180h160v-160H180v160Zm440 0h160v-160H620v160Z\"/>\n",
              "  </svg>\n",
              "    </button>\n",
              "\n",
              "  <style>\n",
              "    .colab-df-container {\n",
              "      display:flex;\n",
              "      gap: 12px;\n",
              "    }\n",
              "\n",
              "    .colab-df-convert {\n",
              "      background-color: #E8F0FE;\n",
              "      border: none;\n",
              "      border-radius: 50%;\n",
              "      cursor: pointer;\n",
              "      display: none;\n",
              "      fill: #1967D2;\n",
              "      height: 32px;\n",
              "      padding: 0 0 0 0;\n",
              "      width: 32px;\n",
              "    }\n",
              "\n",
              "    .colab-df-convert:hover {\n",
              "      background-color: #E2EBFA;\n",
              "      box-shadow: 0px 1px 2px rgba(60, 64, 67, 0.3), 0px 1px 3px 1px rgba(60, 64, 67, 0.15);\n",
              "      fill: #174EA6;\n",
              "    }\n",
              "\n",
              "    .colab-df-buttons div {\n",
              "      margin-bottom: 4px;\n",
              "    }\n",
              "\n",
              "    [theme=dark] .colab-df-convert {\n",
              "      background-color: #3B4455;\n",
              "      fill: #D2E3FC;\n",
              "    }\n",
              "\n",
              "    [theme=dark] .colab-df-convert:hover {\n",
              "      background-color: #434B5C;\n",
              "      box-shadow: 0px 1px 3px 1px rgba(0, 0, 0, 0.15);\n",
              "      filter: drop-shadow(0px 1px 2px rgba(0, 0, 0, 0.3));\n",
              "      fill: #FFFFFF;\n",
              "    }\n",
              "  </style>\n",
              "\n",
              "    <script>\n",
              "      const buttonEl =\n",
              "        document.querySelector('#df-5ff1e07b-8b62-4b73-a31d-5fe51b7379f6 button.colab-df-convert');\n",
              "      buttonEl.style.display =\n",
              "        google.colab.kernel.accessAllowed ? 'block' : 'none';\n",
              "\n",
              "      async function convertToInteractive(key) {\n",
              "        const element = document.querySelector('#df-5ff1e07b-8b62-4b73-a31d-5fe51b7379f6');\n",
              "        const dataTable =\n",
              "          await google.colab.kernel.invokeFunction('convertToInteractive',\n",
              "                                                    [key], {});\n",
              "        if (!dataTable) return;\n",
              "\n",
              "        const docLinkHtml = 'Like what you see? Visit the ' +\n",
              "          '<a target=\"_blank\" href=https://colab.research.google.com/notebooks/data_table.ipynb>data table notebook</a>'\n",
              "          + ' to learn more about interactive tables.';\n",
              "        element.innerHTML = '';\n",
              "        dataTable['output_type'] = 'display_data';\n",
              "        await google.colab.output.renderOutput(dataTable, element);\n",
              "        const docLink = document.createElement('div');\n",
              "        docLink.innerHTML = docLinkHtml;\n",
              "        element.appendChild(docLink);\n",
              "      }\n",
              "    </script>\n",
              "  </div>\n",
              "\n",
              "\n",
              "<div id=\"df-28ff0713-2beb-40f8-bb46-b0dcdd3452e6\">\n",
              "  <button class=\"colab-df-quickchart\" onclick=\"quickchart('df-28ff0713-2beb-40f8-bb46-b0dcdd3452e6')\"\n",
              "            title=\"Suggest charts\"\n",
              "            style=\"display:none;\">\n",
              "\n",
              "<svg xmlns=\"http://www.w3.org/2000/svg\" height=\"24px\"viewBox=\"0 0 24 24\"\n",
              "     width=\"24px\">\n",
              "    <g>\n",
              "        <path d=\"M19 3H5c-1.1 0-2 .9-2 2v14c0 1.1.9 2 2 2h14c1.1 0 2-.9 2-2V5c0-1.1-.9-2-2-2zM9 17H7v-7h2v7zm4 0h-2V7h2v10zm4 0h-2v-4h2v4z\"/>\n",
              "    </g>\n",
              "</svg>\n",
              "  </button>\n",
              "\n",
              "<style>\n",
              "  .colab-df-quickchart {\n",
              "      --bg-color: #E8F0FE;\n",
              "      --fill-color: #1967D2;\n",
              "      --hover-bg-color: #E2EBFA;\n",
              "      --hover-fill-color: #174EA6;\n",
              "      --disabled-fill-color: #AAA;\n",
              "      --disabled-bg-color: #DDD;\n",
              "  }\n",
              "\n",
              "  [theme=dark] .colab-df-quickchart {\n",
              "      --bg-color: #3B4455;\n",
              "      --fill-color: #D2E3FC;\n",
              "      --hover-bg-color: #434B5C;\n",
              "      --hover-fill-color: #FFFFFF;\n",
              "      --disabled-bg-color: #3B4455;\n",
              "      --disabled-fill-color: #666;\n",
              "  }\n",
              "\n",
              "  .colab-df-quickchart {\n",
              "    background-color: var(--bg-color);\n",
              "    border: none;\n",
              "    border-radius: 50%;\n",
              "    cursor: pointer;\n",
              "    display: none;\n",
              "    fill: var(--fill-color);\n",
              "    height: 32px;\n",
              "    padding: 0;\n",
              "    width: 32px;\n",
              "  }\n",
              "\n",
              "  .colab-df-quickchart:hover {\n",
              "    background-color: var(--hover-bg-color);\n",
              "    box-shadow: 0 1px 2px rgba(60, 64, 67, 0.3), 0 1px 3px 1px rgba(60, 64, 67, 0.15);\n",
              "    fill: var(--button-hover-fill-color);\n",
              "  }\n",
              "\n",
              "  .colab-df-quickchart-complete:disabled,\n",
              "  .colab-df-quickchart-complete:disabled:hover {\n",
              "    background-color: var(--disabled-bg-color);\n",
              "    fill: var(--disabled-fill-color);\n",
              "    box-shadow: none;\n",
              "  }\n",
              "\n",
              "  .colab-df-spinner {\n",
              "    border: 2px solid var(--fill-color);\n",
              "    border-color: transparent;\n",
              "    border-bottom-color: var(--fill-color);\n",
              "    animation:\n",
              "      spin 1s steps(1) infinite;\n",
              "  }\n",
              "\n",
              "  @keyframes spin {\n",
              "    0% {\n",
              "      border-color: transparent;\n",
              "      border-bottom-color: var(--fill-color);\n",
              "      border-left-color: var(--fill-color);\n",
              "    }\n",
              "    20% {\n",
              "      border-color: transparent;\n",
              "      border-left-color: var(--fill-color);\n",
              "      border-top-color: var(--fill-color);\n",
              "    }\n",
              "    30% {\n",
              "      border-color: transparent;\n",
              "      border-left-color: var(--fill-color);\n",
              "      border-top-color: var(--fill-color);\n",
              "      border-right-color: var(--fill-color);\n",
              "    }\n",
              "    40% {\n",
              "      border-color: transparent;\n",
              "      border-right-color: var(--fill-color);\n",
              "      border-top-color: var(--fill-color);\n",
              "    }\n",
              "    60% {\n",
              "      border-color: transparent;\n",
              "      border-right-color: var(--fill-color);\n",
              "    }\n",
              "    80% {\n",
              "      border-color: transparent;\n",
              "      border-right-color: var(--fill-color);\n",
              "      border-bottom-color: var(--fill-color);\n",
              "    }\n",
              "    90% {\n",
              "      border-color: transparent;\n",
              "      border-bottom-color: var(--fill-color);\n",
              "    }\n",
              "  }\n",
              "</style>\n",
              "\n",
              "  <script>\n",
              "    async function quickchart(key) {\n",
              "      const quickchartButtonEl =\n",
              "        document.querySelector('#' + key + ' button');\n",
              "      quickchartButtonEl.disabled = true;  // To prevent multiple clicks.\n",
              "      quickchartButtonEl.classList.add('colab-df-spinner');\n",
              "      try {\n",
              "        const charts = await google.colab.kernel.invokeFunction(\n",
              "            'suggestCharts', [key], {});\n",
              "      } catch (error) {\n",
              "        console.error('Error during call to suggestCharts:', error);\n",
              "      }\n",
              "      quickchartButtonEl.classList.remove('colab-df-spinner');\n",
              "      quickchartButtonEl.classList.add('colab-df-quickchart-complete');\n",
              "    }\n",
              "    (() => {\n",
              "      let quickchartButtonEl =\n",
              "        document.querySelector('#df-28ff0713-2beb-40f8-bb46-b0dcdd3452e6 button');\n",
              "      quickchartButtonEl.style.display =\n",
              "        google.colab.kernel.accessAllowed ? 'block' : 'none';\n",
              "    })();\n",
              "  </script>\n",
              "</div>\n",
              "\n",
              "    </div>\n",
              "  </div>\n"
            ],
            "application/vnd.google.colaboratory.intrinsic+json": {
              "type": "dataframe",
              "variable_name": "data"
            }
          },
          "metadata": {},
          "execution_count": 8
        }
      ]
    },
    {
      "cell_type": "code",
      "source": [
        "returns = data['Adj Close'].pct_change()\n",
        "returns = returns - returns.mean(skipna=True)"
      ],
      "metadata": {
        "id": "VburvP3GnEKt"
      },
      "execution_count": 10,
      "outputs": []
    },
    {
      "cell_type": "code",
      "source": [
        "def scale(x):\n",
        "  return x / np.sum(np.abs(x))"
      ],
      "metadata": {
        "id": "7yzb6PhTnENZ"
      },
      "execution_count": 11,
      "outputs": []
    },
    {
      "cell_type": "code",
      "source": [
        "weights = scale(np.random.random(num_stocks))\n",
        "plt.bar(np.arange(num_stocks), weights)"
      ],
      "metadata": {
        "colab": {
          "base_uri": "https://localhost:8080/",
          "height": 447
        },
        "id": "CJYYcFivnEP8",
        "outputId": "ed3c64bc-9fa4-436f-e81a-a7ae484bbd34"
      },
      "execution_count": 12,
      "outputs": [
        {
          "output_type": "execute_result",
          "data": {
            "text/plain": [
              "<BarContainer object of 90 artists>"
            ]
          },
          "metadata": {},
          "execution_count": 12
        },
        {
          "output_type": "display_data",
          "data": {
            "text/plain": [
              "<Figure size 640x480 with 1 Axes>"
            ],
            "image/png": "[encoded data removed]"
          },
          "metadata": {}
        }
      ]
    },
    {
      "cell_type": "code",
      "source": [
        "# value at risk\n",
        "def value_at_risk(value_invested, returns, weights, alpha=0.95, lookback_days=500):\n",
        "  returns = returns.fillna(0.0)\n",
        "  portfolio_returns = returns.iloc[-lookback_days:].dot(weights)\n",
        "  return np.percentile(portfolio_returns, 100 * (1-alpha)) * value_invested"
      ],
      "metadata": {
        "id": "P_IAu4m_nES0"
      },
      "execution_count": 13,
      "outputs": []
    },
    {
      "cell_type": "code",
      "source": [
        "# conditional value at risk\n",
        "def cvar(value_invested, returns, weights, alpha=0.95, lookback_days=500):\n",
        "  var = value_at_risk(value_invested, returns, weights, alpha, lookback_days=lookback_days)\n",
        "  returns = returns.fillna(0.0)\n",
        "  portfolio_returns = returns.iloc[-lookback_days].dot(weights)\n",
        "  var_pct_loss = var / value_invested\n",
        "  return np.nanmean(portfolio_returns[portfolio_returns < var_pct_loss]) * value_invested"
      ],
      "metadata": {
        "id": "QYG8pGZwnEVI"
      },
      "execution_count": 14,
      "outputs": []
    },
    {
      "cell_type": "code",
      "source": [
        "lookback_days = 500\n",
        "value_invested=100000\n",
        "\n",
        "portfolio_returns = returns.fillna(0.0).iloc[-lookback_days:].dot(weights)\n",
        "\n",
        "portfolio_VaR = value_at_risk(value_invested, returns, weights)\n",
        "portfolio_VaR_return = portfolio_VaR / value_invested\n",
        "\n",
        "portfolio_CVaR = cvar(value_invested, returns, weights)\n",
        "portfolio_CVaR_return = portfolio_CVaR / value_invested\n",
        "\n",
        "plt.hist(portfolio_returns[portfolio_returns > portfolio_VaR_return], bins=20)\n",
        "plt.hist(portfolio_returns[portfolio_returns < portfolio_VaR_return], bins=10)\n",
        "plt.axvline(portfolio_VaR_return, color='red', linestyle='solid')\n",
        "plt.axvline(portfolio_CVaR_return, color='red', linestyle='dashed')\n",
        "plt.legend(['VaR', 'CVaR', 'Returns', 'Returns < VaR'])\n",
        "plt.title('Historical VaR and CVaR')\n",
        "plt.xlabel('Return')\n",
        "plt.ylabel('Observation Frequency')"
      ],
      "metadata": {
        "colab": {
          "base_uri": "https://localhost:8080/",
          "height": 524
        },
        "id": "yNPg4gKLy6t0",
        "outputId": "6ed27124-fde5-4d32-bf29-77aaa2a51390"
      },
      "execution_count": 20,
      "outputs": [
        {
          "output_type": "stream",
          "name": "stderr",
          "text": [
            "<ipython-input-14-e25a09864cd0>:7: RuntimeWarning: Mean of empty slice\n",
            "  return np.nanmean(portfolio_returns[portfolio_returns < var_pct_loss]) * value_invested\n"
          ]
        },
        {
          "output_type": "execute_result",
          "data": {
            "text/plain": [
              "Text(0, 0.5, 'Observation Frequency')"
            ]
          },
          "metadata": {},
          "execution_count": 20
        },
        {
          "output_type": "display_data",
          "data": {
            "text/plain": [
              "<Figure size 640x480 with 1 Axes>"
            ],
            "image/png": "[encoded data removed]"
          },
          "metadata": {}
        }
      ]
    },
    {
      "cell_type": "code",
      "source": [],
      "metadata": {
        "id": "ehkQ89R7y6wR"
      },
      "execution_count": null,
      "outputs": []
    },
    {
      "cell_type": "code",
      "source": [],
      "metadata": {
        "id": "U6f2_E27y6yq"
      },
      "execution_count": null,
      "outputs": []
    }
  ]
}